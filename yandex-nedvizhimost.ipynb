{
 "cells": [
  {
   "cell_type": "markdown",
   "metadata": {},
   "source": [
    "__Описание проекта__  \n",
    "\n",
    "__В вашем распоряжении данные сервиса Яндекс Недвижимость — архив объявлений за несколько лет о продаже квартир в Санкт-Петербурге и соседних населённых пунктах.__  \n",
    "__Ваша задача — выполнить предобработку данных и изучить их, чтобы найти интересные особенности и зависимости, которые существуют на рынке недвижимости.__  \n",
    "__О каждой квартире в базе содержится два типа данных: добавленные пользователем и картографические. Например, к первому типу относятся площадь квартиры, её этаж и количество балконов, ко второму — расстояния до центра города, аэропорта и ближайшего парка.__  "
   ]
  },
  {
   "cell_type": "markdown",
   "metadata": {},
   "source": [
    "### Откройте файл с данными и изучите общую информацию. "
   ]
  },
  {
   "cell_type": "code",
   "execution_count": 392,
   "metadata": {},
   "outputs": [
    {
     "name": "stdout",
     "output_type": "stream",
     "text": [
      "<class 'pandas.core.frame.DataFrame'>\n",
      "RangeIndex: 23699 entries, 0 to 23698\n",
      "Data columns (total 22 columns):\n",
      " #   Column                Non-Null Count  Dtype  \n",
      "---  ------                --------------  -----  \n",
      " 0   total_images          23699 non-null  int64  \n",
      " 1   last_price            23699 non-null  float64\n",
      " 2   total_area            23699 non-null  float64\n",
      " 3   first_day_exposition  23699 non-null  object \n",
      " 4   rooms                 23699 non-null  int64  \n",
      " 5   ceiling_height        14504 non-null  float64\n",
      " 6   floors_total          23613 non-null  float64\n",
      " 7   living_area           21796 non-null  float64\n",
      " 8   floor                 23699 non-null  int64  \n",
      " 9   is_apartment          2775 non-null   object \n",
      " 10  studio                23699 non-null  bool   \n",
      " 11  open_plan             23699 non-null  bool   \n",
      " 12  kitchen_area          21421 non-null  float64\n",
      " 13  balcony               12180 non-null  float64\n",
      " 14  locality_name         23650 non-null  object \n",
      " 15  airports_nearest      18157 non-null  float64\n",
      " 16  cityCenters_nearest   18180 non-null  float64\n",
      " 17  parks_around3000      18181 non-null  float64\n",
      " 18  parks_nearest         8079 non-null   float64\n",
      " 19  ponds_around3000      18181 non-null  float64\n",
      " 20  ponds_nearest         9110 non-null   float64\n",
      " 21  days_exposition       20518 non-null  float64\n",
      "dtypes: bool(2), float64(14), int64(3), object(3)\n",
      "memory usage: 3.7+ MB\n"
     ]
    },
    {
     "data": {
      "text/html": [
       "<div>\n",
       "<style scoped>\n",
       "    .dataframe tbody tr th:only-of-type {\n",
       "        vertical-align: middle;\n",
       "    }\n",
       "\n",
       "    .dataframe tbody tr th {\n",
       "        vertical-align: top;\n",
       "    }\n",
       "\n",
       "    .dataframe thead th {\n",
       "        text-align: right;\n",
       "    }\n",
       "</style>\n",
       "<table border=\"1\" class=\"dataframe\">\n",
       "  <thead>\n",
       "    <tr style=\"text-align: right;\">\n",
       "      <th></th>\n",
       "      <th>total_images</th>\n",
       "      <th>last_price</th>\n",
       "      <th>total_area</th>\n",
       "      <th>first_day_exposition</th>\n",
       "      <th>rooms</th>\n",
       "      <th>ceiling_height</th>\n",
       "      <th>floors_total</th>\n",
       "      <th>living_area</th>\n",
       "      <th>floor</th>\n",
       "      <th>is_apartment</th>\n",
       "      <th>...</th>\n",
       "      <th>kitchen_area</th>\n",
       "      <th>balcony</th>\n",
       "      <th>locality_name</th>\n",
       "      <th>airports_nearest</th>\n",
       "      <th>cityCenters_nearest</th>\n",
       "      <th>parks_around3000</th>\n",
       "      <th>parks_nearest</th>\n",
       "      <th>ponds_around3000</th>\n",
       "      <th>ponds_nearest</th>\n",
       "      <th>days_exposition</th>\n",
       "    </tr>\n",
       "  </thead>\n",
       "  <tbody>\n",
       "    <tr>\n",
       "      <th>0</th>\n",
       "      <td>20</td>\n",
       "      <td>13000000.0</td>\n",
       "      <td>108.0</td>\n",
       "      <td>2019-03-07T00:00:00</td>\n",
       "      <td>3</td>\n",
       "      <td>2.70</td>\n",
       "      <td>16.0</td>\n",
       "      <td>51.0</td>\n",
       "      <td>8</td>\n",
       "      <td>NaN</td>\n",
       "      <td>...</td>\n",
       "      <td>25.0</td>\n",
       "      <td>NaN</td>\n",
       "      <td>Санкт-Петербург</td>\n",
       "      <td>18863.0</td>\n",
       "      <td>16028.0</td>\n",
       "      <td>1.0</td>\n",
       "      <td>482.0</td>\n",
       "      <td>2.0</td>\n",
       "      <td>755.0</td>\n",
       "      <td>NaN</td>\n",
       "    </tr>\n",
       "    <tr>\n",
       "      <th>1</th>\n",
       "      <td>7</td>\n",
       "      <td>3350000.0</td>\n",
       "      <td>40.4</td>\n",
       "      <td>2018-12-04T00:00:00</td>\n",
       "      <td>1</td>\n",
       "      <td>NaN</td>\n",
       "      <td>11.0</td>\n",
       "      <td>18.6</td>\n",
       "      <td>1</td>\n",
       "      <td>NaN</td>\n",
       "      <td>...</td>\n",
       "      <td>11.0</td>\n",
       "      <td>2.0</td>\n",
       "      <td>посёлок Шушары</td>\n",
       "      <td>12817.0</td>\n",
       "      <td>18603.0</td>\n",
       "      <td>0.0</td>\n",
       "      <td>NaN</td>\n",
       "      <td>0.0</td>\n",
       "      <td>NaN</td>\n",
       "      <td>81.0</td>\n",
       "    </tr>\n",
       "    <tr>\n",
       "      <th>2</th>\n",
       "      <td>10</td>\n",
       "      <td>5196000.0</td>\n",
       "      <td>56.0</td>\n",
       "      <td>2015-08-20T00:00:00</td>\n",
       "      <td>2</td>\n",
       "      <td>NaN</td>\n",
       "      <td>5.0</td>\n",
       "      <td>34.3</td>\n",
       "      <td>4</td>\n",
       "      <td>NaN</td>\n",
       "      <td>...</td>\n",
       "      <td>8.3</td>\n",
       "      <td>0.0</td>\n",
       "      <td>Санкт-Петербург</td>\n",
       "      <td>21741.0</td>\n",
       "      <td>13933.0</td>\n",
       "      <td>1.0</td>\n",
       "      <td>90.0</td>\n",
       "      <td>2.0</td>\n",
       "      <td>574.0</td>\n",
       "      <td>558.0</td>\n",
       "    </tr>\n",
       "    <tr>\n",
       "      <th>3</th>\n",
       "      <td>0</td>\n",
       "      <td>64900000.0</td>\n",
       "      <td>159.0</td>\n",
       "      <td>2015-07-24T00:00:00</td>\n",
       "      <td>3</td>\n",
       "      <td>NaN</td>\n",
       "      <td>14.0</td>\n",
       "      <td>NaN</td>\n",
       "      <td>9</td>\n",
       "      <td>NaN</td>\n",
       "      <td>...</td>\n",
       "      <td>NaN</td>\n",
       "      <td>0.0</td>\n",
       "      <td>Санкт-Петербург</td>\n",
       "      <td>28098.0</td>\n",
       "      <td>6800.0</td>\n",
       "      <td>2.0</td>\n",
       "      <td>84.0</td>\n",
       "      <td>3.0</td>\n",
       "      <td>234.0</td>\n",
       "      <td>424.0</td>\n",
       "    </tr>\n",
       "    <tr>\n",
       "      <th>4</th>\n",
       "      <td>2</td>\n",
       "      <td>10000000.0</td>\n",
       "      <td>100.0</td>\n",
       "      <td>2018-06-19T00:00:00</td>\n",
       "      <td>2</td>\n",
       "      <td>3.03</td>\n",
       "      <td>14.0</td>\n",
       "      <td>32.0</td>\n",
       "      <td>13</td>\n",
       "      <td>NaN</td>\n",
       "      <td>...</td>\n",
       "      <td>41.0</td>\n",
       "      <td>NaN</td>\n",
       "      <td>Санкт-Петербург</td>\n",
       "      <td>31856.0</td>\n",
       "      <td>8098.0</td>\n",
       "      <td>2.0</td>\n",
       "      <td>112.0</td>\n",
       "      <td>1.0</td>\n",
       "      <td>48.0</td>\n",
       "      <td>121.0</td>\n",
       "    </tr>\n",
       "  </tbody>\n",
       "</table>\n",
       "<p>5 rows × 22 columns</p>\n",
       "</div>"
      ],
      "text/plain": [
       "   total_images  last_price  total_area first_day_exposition  rooms  \\\n",
       "0            20  13000000.0       108.0  2019-03-07T00:00:00      3   \n",
       "1             7   3350000.0        40.4  2018-12-04T00:00:00      1   \n",
       "2            10   5196000.0        56.0  2015-08-20T00:00:00      2   \n",
       "3             0  64900000.0       159.0  2015-07-24T00:00:00      3   \n",
       "4             2  10000000.0       100.0  2018-06-19T00:00:00      2   \n",
       "\n",
       "   ceiling_height  floors_total  living_area  floor is_apartment  ...  \\\n",
       "0            2.70          16.0         51.0      8          NaN  ...   \n",
       "1             NaN          11.0         18.6      1          NaN  ...   \n",
       "2             NaN           5.0         34.3      4          NaN  ...   \n",
       "3             NaN          14.0          NaN      9          NaN  ...   \n",
       "4            3.03          14.0         32.0     13          NaN  ...   \n",
       "\n",
       "   kitchen_area  balcony    locality_name  airports_nearest  \\\n",
       "0          25.0      NaN  Санкт-Петербург           18863.0   \n",
       "1          11.0      2.0   посёлок Шушары           12817.0   \n",
       "2           8.3      0.0  Санкт-Петербург           21741.0   \n",
       "3           NaN      0.0  Санкт-Петербург           28098.0   \n",
       "4          41.0      NaN  Санкт-Петербург           31856.0   \n",
       "\n",
       "  cityCenters_nearest  parks_around3000  parks_nearest  ponds_around3000  \\\n",
       "0             16028.0               1.0          482.0               2.0   \n",
       "1             18603.0               0.0            NaN               0.0   \n",
       "2             13933.0               1.0           90.0               2.0   \n",
       "3              6800.0               2.0           84.0               3.0   \n",
       "4              8098.0               2.0          112.0               1.0   \n",
       "\n",
       "   ponds_nearest  days_exposition  \n",
       "0          755.0              NaN  \n",
       "1            NaN             81.0  \n",
       "2          574.0            558.0  \n",
       "3          234.0            424.0  \n",
       "4           48.0            121.0  \n",
       "\n",
       "[5 rows x 22 columns]"
      ]
     },
     "execution_count": 392,
     "metadata": {},
     "output_type": "execute_result"
    },
    {
     "data": {
      "image/png": "[encoded data removed]",
      "text/plain": [
       "<Figure size 1080x1440 with 20 Axes>"
      ]
     },
     "metadata": {
      "needs_background": "light"
     },
     "output_type": "display_data"
    }
   ],
   "source": [
    "import pandas as pd\n",
    "data=pd.read_csv('/datasets/real_estate_data.csv',sep='\\t')\n",
    "data.info()\n",
    "data.hist(figsize=(15,20))\n",
    "data.head()"
   ]
  },
  {
   "cell_type": "markdown",
   "metadata": {},
   "source": [
    "__Вывод:__  \n",
    "\n",
    "_На первый взгляд данные кажутся нормальными. в глаза бросается дата в __first_day_exposition__ ,которую следует привести к типу datetame.И конечно наличие пропусков. Гистограммы на первый взгляд отображают нормальное распределение_"
   ]
  },
  {
   "cell_type": "markdown",
   "metadata": {},
   "source": [
    "### Предобработка данных"
   ]
  },
  {
   "cell_type": "code",
   "execution_count": 347,
   "metadata": {},
   "outputs": [],
   "source": [
    "data['balcony']=data['balcony'].fillna(0)"
   ]
  },
  {
   "cell_type": "code",
   "execution_count": 348,
   "metadata": {},
   "outputs": [
    {
     "name": "stdout",
     "output_type": "stream",
     "text": [
      "<class 'pandas.core.frame.DataFrame'>\n",
      "RangeIndex: 23699 entries, 0 to 23698\n",
      "Data columns (total 22 columns):\n",
      " #   Column                Non-Null Count  Dtype  \n",
      "---  ------                --------------  -----  \n",
      " 0   total_images          23699 non-null  int64  \n",
      " 1   last_price            23699 non-null  float64\n",
      " 2   total_area            23699 non-null  float64\n",
      " 3   first_day_exposition  23699 non-null  object \n",
      " 4   rooms                 23699 non-null  int64  \n",
      " 5   ceiling_height        14504 non-null  float64\n",
      " 6   floors_total          23613 non-null  float64\n",
      " 7   living_area           21796 non-null  float64\n",
      " 8   floor                 23699 non-null  int64  \n",
      " 9   is_apartment          2775 non-null   object \n",
      " 10  studio                23699 non-null  bool   \n",
      " 11  open_plan             23699 non-null  bool   \n",
      " 12  kitchen_area          21585 non-null  float64\n",
      " 13  balcony               23699 non-null  float64\n",
      " 14  locality_name         23650 non-null  object \n",
      " 15  airports_nearest      18157 non-null  float64\n",
      " 16  cityCenters_nearest   18180 non-null  float64\n",
      " 17  parks_around3000      18181 non-null  float64\n",
      " 18  parks_nearest         8079 non-null   float64\n",
      " 19  ponds_around3000      18181 non-null  float64\n",
      " 20  ponds_nearest         9110 non-null   float64\n",
      " 21  days_exposition       20518 non-null  float64\n",
      "dtypes: bool(2), float64(14), int64(3), object(3)\n",
      "memory usage: 3.7+ MB\n"
     ]
    }
   ],
   "source": [
    "data.loc[(data['kitchen_area'].isna())&((data['studio']==1)|(data['is_apartment']==True)),'kitchen_area']=data.loc[(data['kitchen_area'].isna())&((data['studio']==1)|(data['is_apartment']==True)),'kitchen_area'].fillna(0)\n",
    "data['kitchen_area'].isna().sum()\n",
    "data.info()"
   ]
  },
  {
   "cell_type": "markdown",
   "metadata": {},
   "source": [
    "__Заполнили нулем пропуски в площади кухни , если она-студия или апартаменты__"
   ]
  },
  {
   "cell_type": "code",
   "execution_count": 349,
   "metadata": {},
   "outputs": [
    {
     "data": {
      "text/plain": [
       "5519"
      ]
     },
     "execution_count": 349,
     "metadata": {},
     "output_type": "execute_result"
    }
   ],
   "source": [
    "data['cityCenters_nearest'].isna().sum()"
   ]
  },
  {
   "cell_type": "code",
   "execution_count": 350,
   "metadata": {},
   "outputs": [
    {
     "data": {
      "text/html": [
       "<div>\n",
       "<style scoped>\n",
       "    .dataframe tbody tr th:only-of-type {\n",
       "        vertical-align: middle;\n",
       "    }\n",
       "\n",
       "    .dataframe tbody tr th {\n",
       "        vertical-align: top;\n",
       "    }\n",
       "\n",
       "    .dataframe thead th {\n",
       "        text-align: right;\n",
       "    }\n",
       "</style>\n",
       "<table border=\"1\" class=\"dataframe\">\n",
       "  <thead>\n",
       "    <tr style=\"text-align: right;\">\n",
       "      <th></th>\n",
       "      <th>total_images</th>\n",
       "      <th>last_price</th>\n",
       "      <th>total_area</th>\n",
       "      <th>first_day_exposition</th>\n",
       "      <th>rooms</th>\n",
       "      <th>ceiling_height</th>\n",
       "      <th>floors_total</th>\n",
       "      <th>living_area</th>\n",
       "      <th>floor</th>\n",
       "      <th>is_apartment</th>\n",
       "      <th>...</th>\n",
       "      <th>balcony</th>\n",
       "      <th>locality_name</th>\n",
       "      <th>airports_nearest</th>\n",
       "      <th>cityCenters_nearest</th>\n",
       "      <th>parks_around3000</th>\n",
       "      <th>parks_nearest</th>\n",
       "      <th>ponds_around3000</th>\n",
       "      <th>ponds_nearest</th>\n",
       "      <th>days_exposition</th>\n",
       "      <th>center_median</th>\n",
       "    </tr>\n",
       "  </thead>\n",
       "  <tbody>\n",
       "    <tr>\n",
       "      <th>0</th>\n",
       "      <td>20</td>\n",
       "      <td>13000000.0</td>\n",
       "      <td>108.00</td>\n",
       "      <td>2019-03-07T00:00:00</td>\n",
       "      <td>3</td>\n",
       "      <td>2.70</td>\n",
       "      <td>16.0</td>\n",
       "      <td>51.00</td>\n",
       "      <td>8</td>\n",
       "      <td>NaN</td>\n",
       "      <td>...</td>\n",
       "      <td>0.0</td>\n",
       "      <td>Санкт-Петербург</td>\n",
       "      <td>18863.0</td>\n",
       "      <td>16028.0</td>\n",
       "      <td>1.0</td>\n",
       "      <td>482.0</td>\n",
       "      <td>2.0</td>\n",
       "      <td>755.0</td>\n",
       "      <td>NaN</td>\n",
       "      <td>12244.5</td>\n",
       "    </tr>\n",
       "    <tr>\n",
       "      <th>1</th>\n",
       "      <td>7</td>\n",
       "      <td>3350000.0</td>\n",
       "      <td>40.40</td>\n",
       "      <td>2018-12-04T00:00:00</td>\n",
       "      <td>1</td>\n",
       "      <td>NaN</td>\n",
       "      <td>11.0</td>\n",
       "      <td>18.60</td>\n",
       "      <td>1</td>\n",
       "      <td>NaN</td>\n",
       "      <td>...</td>\n",
       "      <td>2.0</td>\n",
       "      <td>посёлок Шушары</td>\n",
       "      <td>12817.0</td>\n",
       "      <td>18603.0</td>\n",
       "      <td>0.0</td>\n",
       "      <td>NaN</td>\n",
       "      <td>0.0</td>\n",
       "      <td>NaN</td>\n",
       "      <td>81.0</td>\n",
       "      <td>24212.0</td>\n",
       "    </tr>\n",
       "    <tr>\n",
       "      <th>2</th>\n",
       "      <td>10</td>\n",
       "      <td>5196000.0</td>\n",
       "      <td>56.00</td>\n",
       "      <td>2015-08-20T00:00:00</td>\n",
       "      <td>2</td>\n",
       "      <td>NaN</td>\n",
       "      <td>5.0</td>\n",
       "      <td>34.30</td>\n",
       "      <td>4</td>\n",
       "      <td>NaN</td>\n",
       "      <td>...</td>\n",
       "      <td>0.0</td>\n",
       "      <td>Санкт-Петербург</td>\n",
       "      <td>21741.0</td>\n",
       "      <td>13933.0</td>\n",
       "      <td>1.0</td>\n",
       "      <td>90.0</td>\n",
       "      <td>2.0</td>\n",
       "      <td>574.0</td>\n",
       "      <td>558.0</td>\n",
       "      <td>12244.5</td>\n",
       "    </tr>\n",
       "    <tr>\n",
       "      <th>3</th>\n",
       "      <td>0</td>\n",
       "      <td>64900000.0</td>\n",
       "      <td>159.00</td>\n",
       "      <td>2015-07-24T00:00:00</td>\n",
       "      <td>3</td>\n",
       "      <td>NaN</td>\n",
       "      <td>14.0</td>\n",
       "      <td>NaN</td>\n",
       "      <td>9</td>\n",
       "      <td>NaN</td>\n",
       "      <td>...</td>\n",
       "      <td>0.0</td>\n",
       "      <td>Санкт-Петербург</td>\n",
       "      <td>28098.0</td>\n",
       "      <td>6800.0</td>\n",
       "      <td>2.0</td>\n",
       "      <td>84.0</td>\n",
       "      <td>3.0</td>\n",
       "      <td>234.0</td>\n",
       "      <td>424.0</td>\n",
       "      <td>12244.5</td>\n",
       "    </tr>\n",
       "    <tr>\n",
       "      <th>4</th>\n",
       "      <td>2</td>\n",
       "      <td>10000000.0</td>\n",
       "      <td>100.00</td>\n",
       "      <td>2018-06-19T00:00:00</td>\n",
       "      <td>2</td>\n",
       "      <td>3.03</td>\n",
       "      <td>14.0</td>\n",
       "      <td>32.00</td>\n",
       "      <td>13</td>\n",
       "      <td>NaN</td>\n",
       "      <td>...</td>\n",
       "      <td>0.0</td>\n",
       "      <td>Санкт-Петербург</td>\n",
       "      <td>31856.0</td>\n",
       "      <td>8098.0</td>\n",
       "      <td>2.0</td>\n",
       "      <td>112.0</td>\n",
       "      <td>1.0</td>\n",
       "      <td>48.0</td>\n",
       "      <td>121.0</td>\n",
       "      <td>12244.5</td>\n",
       "    </tr>\n",
       "    <tr>\n",
       "      <th>5</th>\n",
       "      <td>10</td>\n",
       "      <td>2890000.0</td>\n",
       "      <td>30.40</td>\n",
       "      <td>2018-09-10T00:00:00</td>\n",
       "      <td>1</td>\n",
       "      <td>NaN</td>\n",
       "      <td>12.0</td>\n",
       "      <td>14.40</td>\n",
       "      <td>5</td>\n",
       "      <td>NaN</td>\n",
       "      <td>...</td>\n",
       "      <td>0.0</td>\n",
       "      <td>городской посёлок Янино-1</td>\n",
       "      <td>NaN</td>\n",
       "      <td>NaN</td>\n",
       "      <td>NaN</td>\n",
       "      <td>NaN</td>\n",
       "      <td>NaN</td>\n",
       "      <td>NaN</td>\n",
       "      <td>55.0</td>\n",
       "      <td>NaN</td>\n",
       "    </tr>\n",
       "    <tr>\n",
       "      <th>6</th>\n",
       "      <td>6</td>\n",
       "      <td>3700000.0</td>\n",
       "      <td>37.30</td>\n",
       "      <td>2017-11-02T00:00:00</td>\n",
       "      <td>1</td>\n",
       "      <td>NaN</td>\n",
       "      <td>26.0</td>\n",
       "      <td>10.60</td>\n",
       "      <td>6</td>\n",
       "      <td>NaN</td>\n",
       "      <td>...</td>\n",
       "      <td>1.0</td>\n",
       "      <td>посёлок Парголово</td>\n",
       "      <td>52996.0</td>\n",
       "      <td>19143.0</td>\n",
       "      <td>0.0</td>\n",
       "      <td>NaN</td>\n",
       "      <td>0.0</td>\n",
       "      <td>NaN</td>\n",
       "      <td>155.0</td>\n",
       "      <td>19311.0</td>\n",
       "    </tr>\n",
       "    <tr>\n",
       "      <th>7</th>\n",
       "      <td>5</td>\n",
       "      <td>7915000.0</td>\n",
       "      <td>71.60</td>\n",
       "      <td>2019-04-18T00:00:00</td>\n",
       "      <td>2</td>\n",
       "      <td>NaN</td>\n",
       "      <td>24.0</td>\n",
       "      <td>NaN</td>\n",
       "      <td>22</td>\n",
       "      <td>NaN</td>\n",
       "      <td>...</td>\n",
       "      <td>2.0</td>\n",
       "      <td>Санкт-Петербург</td>\n",
       "      <td>23982.0</td>\n",
       "      <td>11634.0</td>\n",
       "      <td>0.0</td>\n",
       "      <td>NaN</td>\n",
       "      <td>0.0</td>\n",
       "      <td>NaN</td>\n",
       "      <td>NaN</td>\n",
       "      <td>12244.5</td>\n",
       "    </tr>\n",
       "    <tr>\n",
       "      <th>8</th>\n",
       "      <td>20</td>\n",
       "      <td>2900000.0</td>\n",
       "      <td>33.16</td>\n",
       "      <td>2018-05-23T00:00:00</td>\n",
       "      <td>1</td>\n",
       "      <td>NaN</td>\n",
       "      <td>27.0</td>\n",
       "      <td>15.43</td>\n",
       "      <td>26</td>\n",
       "      <td>NaN</td>\n",
       "      <td>...</td>\n",
       "      <td>0.0</td>\n",
       "      <td>посёлок Мурино</td>\n",
       "      <td>NaN</td>\n",
       "      <td>NaN</td>\n",
       "      <td>NaN</td>\n",
       "      <td>NaN</td>\n",
       "      <td>NaN</td>\n",
       "      <td>NaN</td>\n",
       "      <td>189.0</td>\n",
       "      <td>NaN</td>\n",
       "    </tr>\n",
       "    <tr>\n",
       "      <th>9</th>\n",
       "      <td>18</td>\n",
       "      <td>5400000.0</td>\n",
       "      <td>61.00</td>\n",
       "      <td>2017-02-26T00:00:00</td>\n",
       "      <td>3</td>\n",
       "      <td>2.50</td>\n",
       "      <td>9.0</td>\n",
       "      <td>43.60</td>\n",
       "      <td>7</td>\n",
       "      <td>NaN</td>\n",
       "      <td>...</td>\n",
       "      <td>2.0</td>\n",
       "      <td>Санкт-Петербург</td>\n",
       "      <td>50898.0</td>\n",
       "      <td>15008.0</td>\n",
       "      <td>0.0</td>\n",
       "      <td>NaN</td>\n",
       "      <td>0.0</td>\n",
       "      <td>NaN</td>\n",
       "      <td>289.0</td>\n",
       "      <td>12244.5</td>\n",
       "    </tr>\n",
       "    <tr>\n",
       "      <th>10</th>\n",
       "      <td>5</td>\n",
       "      <td>5050000.0</td>\n",
       "      <td>39.60</td>\n",
       "      <td>2017-11-16T00:00:00</td>\n",
       "      <td>1</td>\n",
       "      <td>2.67</td>\n",
       "      <td>12.0</td>\n",
       "      <td>20.30</td>\n",
       "      <td>3</td>\n",
       "      <td>NaN</td>\n",
       "      <td>...</td>\n",
       "      <td>0.0</td>\n",
       "      <td>Санкт-Петербург</td>\n",
       "      <td>38357.0</td>\n",
       "      <td>13878.0</td>\n",
       "      <td>1.0</td>\n",
       "      <td>310.0</td>\n",
       "      <td>2.0</td>\n",
       "      <td>553.0</td>\n",
       "      <td>137.0</td>\n",
       "      <td>12244.5</td>\n",
       "    </tr>\n",
       "    <tr>\n",
       "      <th>11</th>\n",
       "      <td>9</td>\n",
       "      <td>3300000.0</td>\n",
       "      <td>44.00</td>\n",
       "      <td>2018-08-27T00:00:00</td>\n",
       "      <td>2</td>\n",
       "      <td>NaN</td>\n",
       "      <td>5.0</td>\n",
       "      <td>31.00</td>\n",
       "      <td>4</td>\n",
       "      <td>False</td>\n",
       "      <td>...</td>\n",
       "      <td>1.0</td>\n",
       "      <td>Ломоносов</td>\n",
       "      <td>48252.0</td>\n",
       "      <td>51677.0</td>\n",
       "      <td>0.0</td>\n",
       "      <td>NaN</td>\n",
       "      <td>0.0</td>\n",
       "      <td>NaN</td>\n",
       "      <td>7.0</td>\n",
       "      <td>51677.0</td>\n",
       "    </tr>\n",
       "    <tr>\n",
       "      <th>12</th>\n",
       "      <td>10</td>\n",
       "      <td>3890000.0</td>\n",
       "      <td>54.00</td>\n",
       "      <td>2016-06-30T00:00:00</td>\n",
       "      <td>2</td>\n",
       "      <td>NaN</td>\n",
       "      <td>5.0</td>\n",
       "      <td>30.00</td>\n",
       "      <td>5</td>\n",
       "      <td>NaN</td>\n",
       "      <td>...</td>\n",
       "      <td>0.0</td>\n",
       "      <td>Сертолово</td>\n",
       "      <td>NaN</td>\n",
       "      <td>NaN</td>\n",
       "      <td>NaN</td>\n",
       "      <td>NaN</td>\n",
       "      <td>NaN</td>\n",
       "      <td>NaN</td>\n",
       "      <td>90.0</td>\n",
       "      <td>NaN</td>\n",
       "    </tr>\n",
       "    <tr>\n",
       "      <th>13</th>\n",
       "      <td>20</td>\n",
       "      <td>3550000.0</td>\n",
       "      <td>42.80</td>\n",
       "      <td>2017-07-01T00:00:00</td>\n",
       "      <td>2</td>\n",
       "      <td>2.56</td>\n",
       "      <td>5.0</td>\n",
       "      <td>27.00</td>\n",
       "      <td>5</td>\n",
       "      <td>NaN</td>\n",
       "      <td>...</td>\n",
       "      <td>1.0</td>\n",
       "      <td>Петергоф</td>\n",
       "      <td>37868.0</td>\n",
       "      <td>33058.0</td>\n",
       "      <td>1.0</td>\n",
       "      <td>294.0</td>\n",
       "      <td>3.0</td>\n",
       "      <td>298.0</td>\n",
       "      <td>366.0</td>\n",
       "      <td>33771.0</td>\n",
       "    </tr>\n",
       "    <tr>\n",
       "      <th>14</th>\n",
       "      <td>1</td>\n",
       "      <td>4400000.0</td>\n",
       "      <td>36.00</td>\n",
       "      <td>2016-06-23T00:00:00</td>\n",
       "      <td>1</td>\n",
       "      <td>NaN</td>\n",
       "      <td>6.0</td>\n",
       "      <td>17.00</td>\n",
       "      <td>1</td>\n",
       "      <td>NaN</td>\n",
       "      <td>...</td>\n",
       "      <td>0.0</td>\n",
       "      <td>Пушкин</td>\n",
       "      <td>20782.0</td>\n",
       "      <td>30759.0</td>\n",
       "      <td>0.0</td>\n",
       "      <td>NaN</td>\n",
       "      <td>1.0</td>\n",
       "      <td>96.0</td>\n",
       "      <td>203.0</td>\n",
       "      <td>27930.5</td>\n",
       "    </tr>\n",
       "    <tr>\n",
       "      <th>15</th>\n",
       "      <td>16</td>\n",
       "      <td>4650000.0</td>\n",
       "      <td>39.00</td>\n",
       "      <td>2017-11-18T00:00:00</td>\n",
       "      <td>1</td>\n",
       "      <td>NaN</td>\n",
       "      <td>14.0</td>\n",
       "      <td>20.50</td>\n",
       "      <td>5</td>\n",
       "      <td>NaN</td>\n",
       "      <td>...</td>\n",
       "      <td>1.0</td>\n",
       "      <td>Санкт-Петербург</td>\n",
       "      <td>12900.0</td>\n",
       "      <td>14259.0</td>\n",
       "      <td>1.0</td>\n",
       "      <td>590.0</td>\n",
       "      <td>1.0</td>\n",
       "      <td>296.0</td>\n",
       "      <td>19.0</td>\n",
       "      <td>12244.5</td>\n",
       "    </tr>\n",
       "    <tr>\n",
       "      <th>16</th>\n",
       "      <td>11</td>\n",
       "      <td>6700000.0</td>\n",
       "      <td>82.00</td>\n",
       "      <td>2017-11-23T00:00:00</td>\n",
       "      <td>3</td>\n",
       "      <td>3.05</td>\n",
       "      <td>5.0</td>\n",
       "      <td>55.60</td>\n",
       "      <td>1</td>\n",
       "      <td>NaN</td>\n",
       "      <td>...</td>\n",
       "      <td>0.0</td>\n",
       "      <td>Санкт-Петербург</td>\n",
       "      <td>22108.0</td>\n",
       "      <td>10698.0</td>\n",
       "      <td>3.0</td>\n",
       "      <td>420.0</td>\n",
       "      <td>0.0</td>\n",
       "      <td>NaN</td>\n",
       "      <td>397.0</td>\n",
       "      <td>12244.5</td>\n",
       "    </tr>\n",
       "    <tr>\n",
       "      <th>17</th>\n",
       "      <td>6</td>\n",
       "      <td>4180000.0</td>\n",
       "      <td>36.00</td>\n",
       "      <td>2016-09-09T00:00:00</td>\n",
       "      <td>1</td>\n",
       "      <td>NaN</td>\n",
       "      <td>17.0</td>\n",
       "      <td>16.50</td>\n",
       "      <td>7</td>\n",
       "      <td>NaN</td>\n",
       "      <td>...</td>\n",
       "      <td>1.0</td>\n",
       "      <td>Санкт-Петербург</td>\n",
       "      <td>33564.0</td>\n",
       "      <td>14616.0</td>\n",
       "      <td>0.0</td>\n",
       "      <td>NaN</td>\n",
       "      <td>1.0</td>\n",
       "      <td>859.0</td>\n",
       "      <td>571.0</td>\n",
       "      <td>12244.5</td>\n",
       "    </tr>\n",
       "    <tr>\n",
       "      <th>18</th>\n",
       "      <td>8</td>\n",
       "      <td>3250000.0</td>\n",
       "      <td>31.00</td>\n",
       "      <td>2017-01-27T00:00:00</td>\n",
       "      <td>1</td>\n",
       "      <td>2.50</td>\n",
       "      <td>5.0</td>\n",
       "      <td>19.40</td>\n",
       "      <td>2</td>\n",
       "      <td>NaN</td>\n",
       "      <td>...</td>\n",
       "      <td>1.0</td>\n",
       "      <td>Санкт-Петербург</td>\n",
       "      <td>44060.0</td>\n",
       "      <td>10842.0</td>\n",
       "      <td>1.0</td>\n",
       "      <td>759.0</td>\n",
       "      <td>0.0</td>\n",
       "      <td>NaN</td>\n",
       "      <td>168.0</td>\n",
       "      <td>12244.5</td>\n",
       "    </tr>\n",
       "    <tr>\n",
       "      <th>19</th>\n",
       "      <td>16</td>\n",
       "      <td>14200000.0</td>\n",
       "      <td>121.00</td>\n",
       "      <td>2019-01-09T00:00:00</td>\n",
       "      <td>3</td>\n",
       "      <td>2.75</td>\n",
       "      <td>16.0</td>\n",
       "      <td>76.00</td>\n",
       "      <td>8</td>\n",
       "      <td>NaN</td>\n",
       "      <td>...</td>\n",
       "      <td>0.0</td>\n",
       "      <td>Санкт-Петербург</td>\n",
       "      <td>38900.0</td>\n",
       "      <td>12843.0</td>\n",
       "      <td>0.0</td>\n",
       "      <td>NaN</td>\n",
       "      <td>0.0</td>\n",
       "      <td>NaN</td>\n",
       "      <td>97.0</td>\n",
       "      <td>12244.5</td>\n",
       "    </tr>\n",
       "  </tbody>\n",
       "</table>\n",
       "<p>20 rows × 23 columns</p>\n",
       "</div>"
      ],
      "text/plain": [
       "    total_images  last_price  total_area first_day_exposition  rooms  \\\n",
       "0             20  13000000.0      108.00  2019-03-07T00:00:00      3   \n",
       "1              7   3350000.0       40.40  2018-12-04T00:00:00      1   \n",
       "2             10   5196000.0       56.00  2015-08-20T00:00:00      2   \n",
       "3              0  64900000.0      159.00  2015-07-24T00:00:00      3   \n",
       "4              2  10000000.0      100.00  2018-06-19T00:00:00      2   \n",
       "5             10   2890000.0       30.40  2018-09-10T00:00:00      1   \n",
       "6              6   3700000.0       37.30  2017-11-02T00:00:00      1   \n",
       "7              5   7915000.0       71.60  2019-04-18T00:00:00      2   \n",
       "8             20   2900000.0       33.16  2018-05-23T00:00:00      1   \n",
       "9             18   5400000.0       61.00  2017-02-26T00:00:00      3   \n",
       "10             5   5050000.0       39.60  2017-11-16T00:00:00      1   \n",
       "11             9   3300000.0       44.00  2018-08-27T00:00:00      2   \n",
       "12            10   3890000.0       54.00  2016-06-30T00:00:00      2   \n",
       "13            20   3550000.0       42.80  2017-07-01T00:00:00      2   \n",
       "14             1   4400000.0       36.00  2016-06-23T00:00:00      1   \n",
       "15            16   4650000.0       39.00  2017-11-18T00:00:00      1   \n",
       "16            11   6700000.0       82.00  2017-11-23T00:00:00      3   \n",
       "17             6   4180000.0       36.00  2016-09-09T00:00:00      1   \n",
       "18             8   3250000.0       31.00  2017-01-27T00:00:00      1   \n",
       "19            16  14200000.0      121.00  2019-01-09T00:00:00      3   \n",
       "\n",
       "    ceiling_height  floors_total  living_area  floor is_apartment  ...  \\\n",
       "0             2.70          16.0        51.00      8          NaN  ...   \n",
       "1              NaN          11.0        18.60      1          NaN  ...   \n",
       "2              NaN           5.0        34.30      4          NaN  ...   \n",
       "3              NaN          14.0          NaN      9          NaN  ...   \n",
       "4             3.03          14.0        32.00     13          NaN  ...   \n",
       "5              NaN          12.0        14.40      5          NaN  ...   \n",
       "6              NaN          26.0        10.60      6          NaN  ...   \n",
       "7              NaN          24.0          NaN     22          NaN  ...   \n",
       "8              NaN          27.0        15.43     26          NaN  ...   \n",
       "9             2.50           9.0        43.60      7          NaN  ...   \n",
       "10            2.67          12.0        20.30      3          NaN  ...   \n",
       "11             NaN           5.0        31.00      4        False  ...   \n",
       "12             NaN           5.0        30.00      5          NaN  ...   \n",
       "13            2.56           5.0        27.00      5          NaN  ...   \n",
       "14             NaN           6.0        17.00      1          NaN  ...   \n",
       "15             NaN          14.0        20.50      5          NaN  ...   \n",
       "16            3.05           5.0        55.60      1          NaN  ...   \n",
       "17             NaN          17.0        16.50      7          NaN  ...   \n",
       "18            2.50           5.0        19.40      2          NaN  ...   \n",
       "19            2.75          16.0        76.00      8          NaN  ...   \n",
       "\n",
       "    balcony              locality_name  airports_nearest  cityCenters_nearest  \\\n",
       "0       0.0            Санкт-Петербург           18863.0              16028.0   \n",
       "1       2.0             посёлок Шушары           12817.0              18603.0   \n",
       "2       0.0            Санкт-Петербург           21741.0              13933.0   \n",
       "3       0.0            Санкт-Петербург           28098.0               6800.0   \n",
       "4       0.0            Санкт-Петербург           31856.0               8098.0   \n",
       "5       0.0  городской посёлок Янино-1               NaN                  NaN   \n",
       "6       1.0          посёлок Парголово           52996.0              19143.0   \n",
       "7       2.0            Санкт-Петербург           23982.0              11634.0   \n",
       "8       0.0             посёлок Мурино               NaN                  NaN   \n",
       "9       2.0            Санкт-Петербург           50898.0              15008.0   \n",
       "10      0.0            Санкт-Петербург           38357.0              13878.0   \n",
       "11      1.0                  Ломоносов           48252.0              51677.0   \n",
       "12      0.0                  Сертолово               NaN                  NaN   \n",
       "13      1.0                   Петергоф           37868.0              33058.0   \n",
       "14      0.0                     Пушкин           20782.0              30759.0   \n",
       "15      1.0            Санкт-Петербург           12900.0              14259.0   \n",
       "16      0.0            Санкт-Петербург           22108.0              10698.0   \n",
       "17      1.0            Санкт-Петербург           33564.0              14616.0   \n",
       "18      1.0            Санкт-Петербург           44060.0              10842.0   \n",
       "19      0.0            Санкт-Петербург           38900.0              12843.0   \n",
       "\n",
       "   parks_around3000  parks_nearest  ponds_around3000  ponds_nearest  \\\n",
       "0               1.0          482.0               2.0          755.0   \n",
       "1               0.0            NaN               0.0            NaN   \n",
       "2               1.0           90.0               2.0          574.0   \n",
       "3               2.0           84.0               3.0          234.0   \n",
       "4               2.0          112.0               1.0           48.0   \n",
       "5               NaN            NaN               NaN            NaN   \n",
       "6               0.0            NaN               0.0            NaN   \n",
       "7               0.0            NaN               0.0            NaN   \n",
       "8               NaN            NaN               NaN            NaN   \n",
       "9               0.0            NaN               0.0            NaN   \n",
       "10              1.0          310.0               2.0          553.0   \n",
       "11              0.0            NaN               0.0            NaN   \n",
       "12              NaN            NaN               NaN            NaN   \n",
       "13              1.0          294.0               3.0          298.0   \n",
       "14              0.0            NaN               1.0           96.0   \n",
       "15              1.0          590.0               1.0          296.0   \n",
       "16              3.0          420.0               0.0            NaN   \n",
       "17              0.0            NaN               1.0          859.0   \n",
       "18              1.0          759.0               0.0            NaN   \n",
       "19              0.0            NaN               0.0            NaN   \n",
       "\n",
       "    days_exposition  center_median  \n",
       "0               NaN        12244.5  \n",
       "1              81.0        24212.0  \n",
       "2             558.0        12244.5  \n",
       "3             424.0        12244.5  \n",
       "4             121.0        12244.5  \n",
       "5              55.0            NaN  \n",
       "6             155.0        19311.0  \n",
       "7               NaN        12244.5  \n",
       "8             189.0            NaN  \n",
       "9             289.0        12244.5  \n",
       "10            137.0        12244.5  \n",
       "11              7.0        51677.0  \n",
       "12             90.0            NaN  \n",
       "13            366.0        33771.0  \n",
       "14            203.0        27930.5  \n",
       "15             19.0        12244.5  \n",
       "16            397.0        12244.5  \n",
       "17            571.0        12244.5  \n",
       "18            168.0        12244.5  \n",
       "19             97.0        12244.5  \n",
       "\n",
       "[20 rows x 23 columns]"
      ]
     },
     "execution_count": 350,
     "metadata": {},
     "output_type": "execute_result"
    }
   ],
   "source": [
    "data_pivot_center=data.pivot_table(index='locality_name',values='cityCenters_nearest',aggfunc='median')\n",
    "data_pivot_center.columns=['center_median']\n",
    "data_pivot_center\n",
    "data_join=data.join(data_pivot_center, on='locality_name',rsuffix='_y')\n",
    "data['center_median']=data_join['center_median']\n",
    "try:\n",
    "    data['cityCenters_nearest']=data['cityCenters_nearest'].fillna(data['center_median'])\n",
    "except:\n",
    "    pass\n",
    "\n",
    "data.head(20)\n",
    "\n",
    "#data['cityCenters_nearest'].isna().sum()\n"
   ]
  },
  {
   "cell_type": "markdown",
   "metadata": {},
   "source": [
    "__заполнили пропуски в расстоянии до центра медианным расстоянием до центра соответствующего нас. пункта__"
   ]
  },
  {
   "cell_type": "code",
   "execution_count": 351,
   "metadata": {},
   "outputs": [
    {
     "data": {
      "text/plain": [
       "5542"
      ]
     },
     "execution_count": 351,
     "metadata": {},
     "output_type": "execute_result"
    }
   ],
   "source": [
    "data['airports_nearest'].isna().sum()"
   ]
  },
  {
   "cell_type": "code",
   "execution_count": 352,
   "metadata": {},
   "outputs": [
    {
     "data": {
      "text/plain": [
       "5394"
      ]
     },
     "execution_count": 352,
     "metadata": {},
     "output_type": "execute_result"
    }
   ],
   "source": [
    "data_pivot_airport=data.pivot_table(index='locality_name',values='airports_nearest',aggfunc='median')\n",
    "data_pivot_airport.columns=['airport_median']\n",
    "data_join1=data.join(data_pivot_airport, on='locality_name',rsuffix='_y')\n",
    "data['airport_median']=data_join1['airport_median']\n",
    "try:\n",
    "    data['airports_nearest']=data['airports_nearest'].fillna(data['airport_median'])\n",
    "except:\n",
    "    pass\n",
    "\n",
    "data['airports_nearest'].isna().sum()"
   ]
  },
  {
   "cell_type": "markdown",
   "metadata": {},
   "source": [
    "__заполнили прпуски в расстоянии до аэропорта медианными значениями соответствующего нас. пункта__"
   ]
  },
  {
   "cell_type": "code",
   "execution_count": 353,
   "metadata": {},
   "outputs": [],
   "source": [
    "data['balcony']=data['balcony'].astype('int')\n",
    "\n",
    "try:\n",
    "    data['last_price']=data['last_price'].astype('int')\n",
    "    data['first_day_exposition']=pd.to_datetime(data['first_day_exposition'],format='%Y-%m-%dT%H:%M:%S')\n",
    "    data['floors_total']=data['floors_total'].astype('int')\n",
    "    data['parks_around3000']=data['parks_around3000'].astype('int')\n",
    "    data['ponds_around3000']=data['ponds_around3000'].astype('int')\n",
    "    data['days_exposition']=data['days_exposition'].astype('int')\n",
    "except:\n",
    "    pass\n",
    "\n",
    "\n",
    "\n",
    "\n",
    "\n"
   ]
  },
  {
   "cell_type": "code",
   "execution_count": 354,
   "metadata": {},
   "outputs": [
    {
     "data": {
      "text/plain": [
       "321"
      ]
     },
     "execution_count": 354,
     "metadata": {},
     "output_type": "execute_result"
    }
   ],
   "source": [
    "duplicates = ['посёлок', 'поселок городского типа', 'посёлок городского типа','городской поселок','городской посёлок']\n",
    "name = 'поселок'\n",
    "def change_name(duplicates, name):\n",
    "    for wrong_name in duplicates:\n",
    "        data['locality_name'] = data['locality_name'].str.replace(wrong_name, name)\n",
    "change_name(duplicates, name)\n",
    "\n",
    "data=data.replace('Мурино','поселок Мурино')\n",
    "data=data.replace('село Павлово','поселок Павлово')\n",
    "\n",
    "\n",
    "\n",
    "    \n",
    "len(data['locality_name'].unique())\n",
    "\n",
    "\n"
   ]
  },
  {
   "cell_type": "code",
   "execution_count": 355,
   "metadata": {},
   "outputs": [
    {
     "data": {
      "text/plain": [
       "count    14481.000000\n",
       "mean         2.727000\n",
       "std          0.276707\n",
       "min          2.200000\n",
       "25%          2.520000\n",
       "50%          2.650000\n",
       "75%          2.800000\n",
       "max          5.800000\n",
       "Name: ceiling_height, dtype: float64"
      ]
     },
     "execution_count": 355,
     "metadata": {},
     "output_type": "execute_result"
    }
   ],
   "source": [
    "data.loc[data['ceiling_height']>=10, 'ceiling_height']=data['ceiling_height']/10\n",
    "\n",
    "len(data['ceiling_height'].unique())\n",
    "data['ceiling_height'].describe()\n",
    "\n",
    "data=data.loc[((data['ceiling_height']>2)&(data['ceiling_height']<6))|(data['ceiling_height'].isna())]\n",
    "data['ceiling_height'].describe()\n",
    "\n"
   ]
  },
  {
   "cell_type": "markdown",
   "metadata": {},
   "source": [
    "__значения потолков больше 10 метров ,разделили на 10 И оставили только те строки ,где значения высоты потолков от 2 до 6 метров__  \n"
   ]
  },
  {
   "cell_type": "code",
   "execution_count": 356,
   "metadata": {},
   "outputs": [
    {
     "name": "stdout",
     "output_type": "stream",
     "text": [
      "<class 'pandas.core.frame.DataFrame'>\n",
      "Int64Index: 23676 entries, 0 to 23698\n",
      "Data columns (total 24 columns):\n",
      " #   Column                Non-Null Count  Dtype         \n",
      "---  ------                --------------  -----         \n",
      " 0   total_images          23676 non-null  int64         \n",
      " 1   last_price            23676 non-null  int64         \n",
      " 2   total_area            23676 non-null  float64       \n",
      " 3   first_day_exposition  23676 non-null  datetime64[ns]\n",
      " 4   rooms                 23676 non-null  int64         \n",
      " 5   ceiling_height        14481 non-null  float64       \n",
      " 6   floors_total          23590 non-null  float64       \n",
      " 7   living_area           21775 non-null  float64       \n",
      " 8   floor                 23676 non-null  int64         \n",
      " 9   is_apartment          2772 non-null   object        \n",
      " 10  studio                23676 non-null  bool          \n",
      " 11  open_plan             23676 non-null  bool          \n",
      " 12  kitchen_area          21566 non-null  float64       \n",
      " 13  balcony               23676 non-null  int64         \n",
      " 14  locality_name         23627 non-null  object        \n",
      " 15  airports_nearest      18292 non-null  float64       \n",
      " 16  cityCenters_nearest   18292 non-null  float64       \n",
      " 17  parks_around3000      18168 non-null  float64       \n",
      " 18  parks_nearest         8071 non-null   float64       \n",
      " 19  ponds_around3000      18168 non-null  float64       \n",
      " 20  ponds_nearest         9102 non-null   float64       \n",
      " 21  days_exposition       20499 non-null  float64       \n",
      " 22  center_median         18251 non-null  float64       \n",
      " 23  airport_median        18251 non-null  float64       \n",
      "dtypes: bool(2), datetime64[ns](1), float64(14), int64(5), object(2)\n",
      "memory usage: 4.2+ MB\n"
     ]
    }
   ],
   "source": [
    "data['last_price'].describe()\n",
    "data.query('last_price<1000000')\n",
    "data.loc[data['last_price']<1000000,'last_price']=data.loc[data['last_price']<1000000,'last_price']*10\n",
    "data.query('last_price<1000000')\n",
    "data.info()"
   ]
  },
  {
   "cell_type": "markdown",
   "metadata": {},
   "source": [
    "__Объекты стоимостью меньше 1000000 решила умножить на 10__"
   ]
  },
  {
   "cell_type": "code",
   "execution_count": 357,
   "metadata": {},
   "outputs": [
    {
     "data": {
      "text/plain": [
       "array([16., 11.,  5., 14., 12., 26., 24., 27.,  9.,  6., 17., 25.,  3.,\n",
       "       23., 19., 18.,  4., 22.,  8.,  2., 10.,  7., 13., 15., nan, 20.,\n",
       "       28., 36., 21., 35., 34., 60.,  1., 29., 33., 52.])"
      ]
     },
     "execution_count": 357,
     "metadata": {},
     "output_type": "execute_result"
    }
   ],
   "source": [
    "data['floors_total'].unique()"
   ]
  },
  {
   "cell_type": "code",
   "execution_count": 358,
   "metadata": {},
   "outputs": [
    {
     "data": {
      "text/plain": [
       "count    21775.000000\n",
       "mean        34.459066\n",
       "std         22.022673\n",
       "min          2.000000\n",
       "25%         18.600000\n",
       "50%         30.000000\n",
       "75%         42.300000\n",
       "max        409.700000\n",
       "Name: living_area, dtype: float64"
      ]
     },
     "execution_count": 358,
     "metadata": {},
     "output_type": "execute_result"
    }
   ],
   "source": [
    "data['living_area'].describe()\n",
    "#data.query('living_area<=6')"
   ]
  },
  {
   "cell_type": "code",
   "execution_count": 393,
   "metadata": {},
   "outputs": [
    {
     "data": {
      "text/plain": [
       "count    23699.000000\n",
       "mean        60.348651\n",
       "std         35.654083\n",
       "min         12.000000\n",
       "25%         40.000000\n",
       "50%         52.000000\n",
       "75%         69.900000\n",
       "max        900.000000\n",
       "Name: total_area, dtype: float64"
      ]
     },
     "execution_count": 393,
     "metadata": {},
     "output_type": "execute_result"
    }
   ],
   "source": [
    "data['total_area'].describe()\n"
   ]
  },
  {
   "cell_type": "markdown",
   "metadata": {},
   "source": [
    "### Посчитайте и добавьте в таблицу новые столбцы"
   ]
  },
  {
   "cell_type": "code",
   "execution_count": 360,
   "metadata": {},
   "outputs": [
    {
     "data": {
      "text/html": [
       "<div>\n",
       "<style scoped>\n",
       "    .dataframe tbody tr th:only-of-type {\n",
       "        vertical-align: middle;\n",
       "    }\n",
       "\n",
       "    .dataframe tbody tr th {\n",
       "        vertical-align: top;\n",
       "    }\n",
       "\n",
       "    .dataframe thead th {\n",
       "        text-align: right;\n",
       "    }\n",
       "</style>\n",
       "<table border=\"1\" class=\"dataframe\">\n",
       "  <thead>\n",
       "    <tr style=\"text-align: right;\">\n",
       "      <th></th>\n",
       "      <th>total_images</th>\n",
       "      <th>last_price</th>\n",
       "      <th>total_area</th>\n",
       "      <th>first_day_exposition</th>\n",
       "      <th>rooms</th>\n",
       "      <th>ceiling_height</th>\n",
       "      <th>floors_total</th>\n",
       "      <th>living_area</th>\n",
       "      <th>floor</th>\n",
       "      <th>is_apartment</th>\n",
       "      <th>...</th>\n",
       "      <th>ponds_nearest</th>\n",
       "      <th>days_exposition</th>\n",
       "      <th>center_median</th>\n",
       "      <th>airport_median</th>\n",
       "      <th>metr_price</th>\n",
       "      <th>weekday</th>\n",
       "      <th>month</th>\n",
       "      <th>year</th>\n",
       "      <th>floor_type</th>\n",
       "      <th>cityCenters_nearest_km</th>\n",
       "    </tr>\n",
       "  </thead>\n",
       "  <tbody>\n",
       "    <tr>\n",
       "      <th>0</th>\n",
       "      <td>20</td>\n",
       "      <td>13000000</td>\n",
       "      <td>108.0</td>\n",
       "      <td>2019-03-07</td>\n",
       "      <td>3</td>\n",
       "      <td>2.70</td>\n",
       "      <td>16.0</td>\n",
       "      <td>51.0</td>\n",
       "      <td>8</td>\n",
       "      <td>NaN</td>\n",
       "      <td>...</td>\n",
       "      <td>755.0</td>\n",
       "      <td>NaN</td>\n",
       "      <td>12244.5</td>\n",
       "      <td>26757.5</td>\n",
       "      <td>120370.370370</td>\n",
       "      <td>четверг</td>\n",
       "      <td>март</td>\n",
       "      <td>2019</td>\n",
       "      <td>другой</td>\n",
       "      <td>16.0</td>\n",
       "    </tr>\n",
       "    <tr>\n",
       "      <th>1</th>\n",
       "      <td>7</td>\n",
       "      <td>3350000</td>\n",
       "      <td>40.4</td>\n",
       "      <td>2018-12-04</td>\n",
       "      <td>1</td>\n",
       "      <td>NaN</td>\n",
       "      <td>11.0</td>\n",
       "      <td>18.6</td>\n",
       "      <td>1</td>\n",
       "      <td>NaN</td>\n",
       "      <td>...</td>\n",
       "      <td>NaN</td>\n",
       "      <td>81.0</td>\n",
       "      <td>24212.0</td>\n",
       "      <td>17427.0</td>\n",
       "      <td>82920.792079</td>\n",
       "      <td>вторник</td>\n",
       "      <td>декабрь</td>\n",
       "      <td>2018</td>\n",
       "      <td>первый</td>\n",
       "      <td>19.0</td>\n",
       "    </tr>\n",
       "    <tr>\n",
       "      <th>2</th>\n",
       "      <td>10</td>\n",
       "      <td>5196000</td>\n",
       "      <td>56.0</td>\n",
       "      <td>2015-08-20</td>\n",
       "      <td>2</td>\n",
       "      <td>NaN</td>\n",
       "      <td>5.0</td>\n",
       "      <td>34.3</td>\n",
       "      <td>4</td>\n",
       "      <td>NaN</td>\n",
       "      <td>...</td>\n",
       "      <td>574.0</td>\n",
       "      <td>558.0</td>\n",
       "      <td>12244.5</td>\n",
       "      <td>26757.5</td>\n",
       "      <td>92785.714286</td>\n",
       "      <td>четверг</td>\n",
       "      <td>август</td>\n",
       "      <td>2015</td>\n",
       "      <td>другой</td>\n",
       "      <td>14.0</td>\n",
       "    </tr>\n",
       "    <tr>\n",
       "      <th>3</th>\n",
       "      <td>0</td>\n",
       "      <td>64900000</td>\n",
       "      <td>159.0</td>\n",
       "      <td>2015-07-24</td>\n",
       "      <td>3</td>\n",
       "      <td>NaN</td>\n",
       "      <td>14.0</td>\n",
       "      <td>NaN</td>\n",
       "      <td>9</td>\n",
       "      <td>NaN</td>\n",
       "      <td>...</td>\n",
       "      <td>234.0</td>\n",
       "      <td>424.0</td>\n",
       "      <td>12244.5</td>\n",
       "      <td>26757.5</td>\n",
       "      <td>408176.100629</td>\n",
       "      <td>пятница</td>\n",
       "      <td>июль</td>\n",
       "      <td>2015</td>\n",
       "      <td>другой</td>\n",
       "      <td>7.0</td>\n",
       "    </tr>\n",
       "    <tr>\n",
       "      <th>4</th>\n",
       "      <td>2</td>\n",
       "      <td>10000000</td>\n",
       "      <td>100.0</td>\n",
       "      <td>2018-06-19</td>\n",
       "      <td>2</td>\n",
       "      <td>3.03</td>\n",
       "      <td>14.0</td>\n",
       "      <td>32.0</td>\n",
       "      <td>13</td>\n",
       "      <td>NaN</td>\n",
       "      <td>...</td>\n",
       "      <td>48.0</td>\n",
       "      <td>121.0</td>\n",
       "      <td>12244.5</td>\n",
       "      <td>26757.5</td>\n",
       "      <td>100000.000000</td>\n",
       "      <td>вторник</td>\n",
       "      <td>июнь</td>\n",
       "      <td>2018</td>\n",
       "      <td>другой</td>\n",
       "      <td>8.0</td>\n",
       "    </tr>\n",
       "  </tbody>\n",
       "</table>\n",
       "<p>5 rows × 30 columns</p>\n",
       "</div>"
      ],
      "text/plain": [
       "   total_images  last_price  total_area first_day_exposition  rooms  \\\n",
       "0            20    13000000       108.0           2019-03-07      3   \n",
       "1             7     3350000        40.4           2018-12-04      1   \n",
       "2            10     5196000        56.0           2015-08-20      2   \n",
       "3             0    64900000       159.0           2015-07-24      3   \n",
       "4             2    10000000       100.0           2018-06-19      2   \n",
       "\n",
       "   ceiling_height  floors_total  living_area  floor is_apartment  ...  \\\n",
       "0            2.70          16.0         51.0      8          NaN  ...   \n",
       "1             NaN          11.0         18.6      1          NaN  ...   \n",
       "2             NaN           5.0         34.3      4          NaN  ...   \n",
       "3             NaN          14.0          NaN      9          NaN  ...   \n",
       "4            3.03          14.0         32.0     13          NaN  ...   \n",
       "\n",
       "   ponds_nearest  days_exposition  center_median  airport_median  \\\n",
       "0          755.0              NaN        12244.5         26757.5   \n",
       "1            NaN             81.0        24212.0         17427.0   \n",
       "2          574.0            558.0        12244.5         26757.5   \n",
       "3          234.0            424.0        12244.5         26757.5   \n",
       "4           48.0            121.0        12244.5         26757.5   \n",
       "\n",
       "      metr_price  weekday    month  year  floor_type  cityCenters_nearest_km  \n",
       "0  120370.370370  четверг     март  2019      другой                    16.0  \n",
       "1   82920.792079  вторник  декабрь  2018      первый                    19.0  \n",
       "2   92785.714286  четверг   август  2015      другой                    14.0  \n",
       "3  408176.100629  пятница     июль  2015      другой                     7.0  \n",
       "4  100000.000000  вторник     июнь  2018      другой                     8.0  \n",
       "\n",
       "[5 rows x 30 columns]"
      ]
     },
     "execution_count": 360,
     "metadata": {},
     "output_type": "execute_result"
    }
   ],
   "source": [
    "def metr_price(row):  \n",
    "    result=row['last_price']/row['total_area']\n",
    "    return result\n",
    "data['metr_price']=data.apply(metr_price,axis=1)\n",
    "data.head(10)\n",
    "\n",
    "data['weekday']=data['first_day_exposition'].dt.weekday\n",
    "data.head(10)\n",
    "\n",
    "data['month']=data['first_day_exposition'].dt.month\n",
    "data.head()\n",
    "\n",
    "data['year']=data['first_day_exposition'].dt.year\n",
    "data.head()\n",
    "\n",
    "def floor_type(row):\n",
    "    if row['floor']==1:\n",
    "        return 'первый'\n",
    "    if row['floor']==row['floors_total']:\n",
    "        return 'последний'\n",
    "    else:\n",
    "        return 'другой'\n",
    "    \n",
    "data['floor_type']=data.apply(floor_type,axis=1)\n",
    "data.head()\n",
    "\n",
    "\n",
    "\n",
    "\n",
    "\n",
    "def weekday(day):\n",
    "    if day==0:\n",
    "        return 'понедельник'\n",
    "    if day==1:\n",
    "        return 'вторник'\n",
    "    if day==2:\n",
    "        return 'среда'\n",
    "    if day==3:\n",
    "        return 'четверг'\n",
    "    if day==4:\n",
    "        return 'пятница'\n",
    "    if day==5:\n",
    "        return 'суббота'\n",
    "    if day==6:\n",
    "        return 'воскресенье'\n",
    "    \n",
    "data['weekday']=data['weekday'].apply(weekday)\n",
    "data.head()\n",
    "\n",
    "\n",
    "def month_name(month):\n",
    "    if month==1:\n",
    "        return 'январь'\n",
    "    if month==2:\n",
    "        return 'февраль'\n",
    "    if month==3:\n",
    "        return 'март'\n",
    "    if month==4:\n",
    "        return 'апрель'\n",
    "    if month==5:\n",
    "        return 'май'\n",
    "    if month==6:\n",
    "        return 'июнь'\n",
    "    if month==7:\n",
    "        return 'июль'\n",
    "    if month==8:\n",
    "        return 'август'\n",
    "    if month==9:\n",
    "        return 'сентябрь'\n",
    "    if month==10:\n",
    "        return 'октябрь'\n",
    "    if month==11:\n",
    "        return 'ноябрь'\n",
    "    if month==12:\n",
    "        return 'декабрь'\n",
    "    \n",
    "data['month']=data['month'].apply(month_name)\n",
    "data.head()\n",
    "\n",
    "data['cityCenters_nearest_km']=data['cityCenters_nearest']/1000\n",
    "data['cityCenters_nearest_km']=round(data['cityCenters_nearest_km'])\n",
    "\n",
    "\n",
    "data.head() "
   ]
  },
  {
   "cell_type": "code",
   "execution_count": 361,
   "metadata": {},
   "outputs": [
    {
     "data": {
      "text/html": [
       "<div>\n",
       "<style scoped>\n",
       "    .dataframe tbody tr th:only-of-type {\n",
       "        vertical-align: middle;\n",
       "    }\n",
       "\n",
       "    .dataframe tbody tr th {\n",
       "        vertical-align: top;\n",
       "    }\n",
       "\n",
       "    .dataframe thead th {\n",
       "        text-align: right;\n",
       "    }\n",
       "</style>\n",
       "<table border=\"1\" class=\"dataframe\">\n",
       "  <thead>\n",
       "    <tr style=\"text-align: right;\">\n",
       "      <th></th>\n",
       "      <th>days_exposition</th>\n",
       "    </tr>\n",
       "    <tr>\n",
       "      <th>year</th>\n",
       "      <th></th>\n",
       "    </tr>\n",
       "  </thead>\n",
       "  <tbody>\n",
       "    <tr>\n",
       "      <th>2014</th>\n",
       "      <td>119</td>\n",
       "    </tr>\n",
       "    <tr>\n",
       "      <th>2015</th>\n",
       "      <td>1120</td>\n",
       "    </tr>\n",
       "    <tr>\n",
       "      <th>2016</th>\n",
       "      <td>2715</td>\n",
       "    </tr>\n",
       "    <tr>\n",
       "      <th>2017</th>\n",
       "      <td>7912</td>\n",
       "    </tr>\n",
       "    <tr>\n",
       "      <th>2018</th>\n",
       "      <td>7550</td>\n",
       "    </tr>\n",
       "    <tr>\n",
       "      <th>2019</th>\n",
       "      <td>1083</td>\n",
       "    </tr>\n",
       "  </tbody>\n",
       "</table>\n",
       "</div>"
      ],
      "text/plain": [
       "      days_exposition\n",
       "year                 \n",
       "2014              119\n",
       "2015             1120\n",
       "2016             2715\n",
       "2017             7912\n",
       "2018             7550\n",
       "2019             1083"
      ]
     },
     "execution_count": 361,
     "metadata": {},
     "output_type": "execute_result"
    }
   ],
   "source": [
    "data_pivot_year=data.pivot_table(index='year',values='days_exposition',aggfunc='count')\n",
    "data_pivot_year\n"
   ]
  },
  {
   "cell_type": "code",
   "execution_count": 362,
   "metadata": {},
   "outputs": [
    {
     "data": {
      "text/html": [
       "<div>\n",
       "<style scoped>\n",
       "    .dataframe tbody tr th:only-of-type {\n",
       "        vertical-align: middle;\n",
       "    }\n",
       "\n",
       "    .dataframe tbody tr th {\n",
       "        vertical-align: top;\n",
       "    }\n",
       "\n",
       "    .dataframe thead th {\n",
       "        text-align: right;\n",
       "    }\n",
       "</style>\n",
       "<table border=\"1\" class=\"dataframe\">\n",
       "  <thead>\n",
       "    <tr style=\"text-align: right;\">\n",
       "      <th></th>\n",
       "      <th>total_images</th>\n",
       "      <th>last_price</th>\n",
       "      <th>total_area</th>\n",
       "      <th>first_day_exposition</th>\n",
       "      <th>rooms</th>\n",
       "      <th>ceiling_height</th>\n",
       "      <th>floors_total</th>\n",
       "      <th>living_area</th>\n",
       "      <th>floor</th>\n",
       "      <th>is_apartment</th>\n",
       "      <th>...</th>\n",
       "      <th>ponds_nearest</th>\n",
       "      <th>days_exposition</th>\n",
       "      <th>center_median</th>\n",
       "      <th>airport_median</th>\n",
       "      <th>metr_price</th>\n",
       "      <th>weekday</th>\n",
       "      <th>month</th>\n",
       "      <th>year</th>\n",
       "      <th>floor_type</th>\n",
       "      <th>cityCenters_nearest_km</th>\n",
       "    </tr>\n",
       "  </thead>\n",
       "  <tbody>\n",
       "    <tr>\n",
       "      <th>12</th>\n",
       "      <td>10</td>\n",
       "      <td>3890000</td>\n",
       "      <td>54.0</td>\n",
       "      <td>2016-06-30</td>\n",
       "      <td>2</td>\n",
       "      <td>NaN</td>\n",
       "      <td>5.0</td>\n",
       "      <td>30.0</td>\n",
       "      <td>5</td>\n",
       "      <td>NaN</td>\n",
       "      <td>...</td>\n",
       "      <td>NaN</td>\n",
       "      <td>90.0</td>\n",
       "      <td>NaN</td>\n",
       "      <td>NaN</td>\n",
       "      <td>72037.037037</td>\n",
       "      <td>четверг</td>\n",
       "      <td>июнь</td>\n",
       "      <td>2016</td>\n",
       "      <td>последний</td>\n",
       "      <td>NaN</td>\n",
       "    </tr>\n",
       "    <tr>\n",
       "      <th>14</th>\n",
       "      <td>1</td>\n",
       "      <td>4400000</td>\n",
       "      <td>36.0</td>\n",
       "      <td>2016-06-23</td>\n",
       "      <td>1</td>\n",
       "      <td>NaN</td>\n",
       "      <td>6.0</td>\n",
       "      <td>17.0</td>\n",
       "      <td>1</td>\n",
       "      <td>NaN</td>\n",
       "      <td>...</td>\n",
       "      <td>96.0</td>\n",
       "      <td>203.0</td>\n",
       "      <td>27930.5</td>\n",
       "      <td>15766.0</td>\n",
       "      <td>122222.222222</td>\n",
       "      <td>четверг</td>\n",
       "      <td>июнь</td>\n",
       "      <td>2016</td>\n",
       "      <td>первый</td>\n",
       "      <td>31.0</td>\n",
       "    </tr>\n",
       "    <tr>\n",
       "      <th>17</th>\n",
       "      <td>6</td>\n",
       "      <td>4180000</td>\n",
       "      <td>36.0</td>\n",
       "      <td>2016-09-09</td>\n",
       "      <td>1</td>\n",
       "      <td>NaN</td>\n",
       "      <td>17.0</td>\n",
       "      <td>16.5</td>\n",
       "      <td>7</td>\n",
       "      <td>NaN</td>\n",
       "      <td>...</td>\n",
       "      <td>859.0</td>\n",
       "      <td>571.0</td>\n",
       "      <td>12244.5</td>\n",
       "      <td>26757.5</td>\n",
       "      <td>116111.111111</td>\n",
       "      <td>пятница</td>\n",
       "      <td>сентябрь</td>\n",
       "      <td>2016</td>\n",
       "      <td>другой</td>\n",
       "      <td>15.0</td>\n",
       "    </tr>\n",
       "    <tr>\n",
       "      <th>23</th>\n",
       "      <td>11</td>\n",
       "      <td>2950000</td>\n",
       "      <td>32.0</td>\n",
       "      <td>2016-10-29</td>\n",
       "      <td>1</td>\n",
       "      <td>2.60</td>\n",
       "      <td>9.0</td>\n",
       "      <td>17.7</td>\n",
       "      <td>9</td>\n",
       "      <td>NaN</td>\n",
       "      <td>...</td>\n",
       "      <td>190.0</td>\n",
       "      <td>615.0</td>\n",
       "      <td>12244.5</td>\n",
       "      <td>26757.5</td>\n",
       "      <td>92187.500000</td>\n",
       "      <td>суббота</td>\n",
       "      <td>октябрь</td>\n",
       "      <td>2016</td>\n",
       "      <td>последний</td>\n",
       "      <td>14.0</td>\n",
       "    </tr>\n",
       "    <tr>\n",
       "      <th>29</th>\n",
       "      <td>9</td>\n",
       "      <td>8600000</td>\n",
       "      <td>100.0</td>\n",
       "      <td>2016-04-09</td>\n",
       "      <td>3</td>\n",
       "      <td>NaN</td>\n",
       "      <td>19.0</td>\n",
       "      <td>52.0</td>\n",
       "      <td>15</td>\n",
       "      <td>False</td>\n",
       "      <td>...</td>\n",
       "      <td>896.0</td>\n",
       "      <td>125.0</td>\n",
       "      <td>12244.5</td>\n",
       "      <td>26757.5</td>\n",
       "      <td>86000.000000</td>\n",
       "      <td>суббота</td>\n",
       "      <td>апрель</td>\n",
       "      <td>2016</td>\n",
       "      <td>другой</td>\n",
       "      <td>12.0</td>\n",
       "    </tr>\n",
       "    <tr>\n",
       "      <th>...</th>\n",
       "      <td>...</td>\n",
       "      <td>...</td>\n",
       "      <td>...</td>\n",
       "      <td>...</td>\n",
       "      <td>...</td>\n",
       "      <td>...</td>\n",
       "      <td>...</td>\n",
       "      <td>...</td>\n",
       "      <td>...</td>\n",
       "      <td>...</td>\n",
       "      <td>...</td>\n",
       "      <td>...</td>\n",
       "      <td>...</td>\n",
       "      <td>...</td>\n",
       "      <td>...</td>\n",
       "      <td>...</td>\n",
       "      <td>...</td>\n",
       "      <td>...</td>\n",
       "      <td>...</td>\n",
       "      <td>...</td>\n",
       "      <td>...</td>\n",
       "    </tr>\n",
       "    <tr>\n",
       "      <th>23676</th>\n",
       "      <td>19</td>\n",
       "      <td>3550000</td>\n",
       "      <td>36.4</td>\n",
       "      <td>2016-06-08</td>\n",
       "      <td>1</td>\n",
       "      <td>NaN</td>\n",
       "      <td>16.0</td>\n",
       "      <td>14.9</td>\n",
       "      <td>13</td>\n",
       "      <td>NaN</td>\n",
       "      <td>...</td>\n",
       "      <td>NaN</td>\n",
       "      <td>70.0</td>\n",
       "      <td>12244.5</td>\n",
       "      <td>26757.5</td>\n",
       "      <td>97527.472527</td>\n",
       "      <td>среда</td>\n",
       "      <td>июнь</td>\n",
       "      <td>2016</td>\n",
       "      <td>другой</td>\n",
       "      <td>12.0</td>\n",
       "    </tr>\n",
       "    <tr>\n",
       "      <th>23678</th>\n",
       "      <td>10</td>\n",
       "      <td>3500000</td>\n",
       "      <td>43.0</td>\n",
       "      <td>2016-05-19</td>\n",
       "      <td>2</td>\n",
       "      <td>2.50</td>\n",
       "      <td>3.0</td>\n",
       "      <td>26.1</td>\n",
       "      <td>2</td>\n",
       "      <td>False</td>\n",
       "      <td>...</td>\n",
       "      <td>1134.0</td>\n",
       "      <td>252.0</td>\n",
       "      <td>27930.5</td>\n",
       "      <td>15766.0</td>\n",
       "      <td>81395.348837</td>\n",
       "      <td>четверг</td>\n",
       "      <td>май</td>\n",
       "      <td>2016</td>\n",
       "      <td>другой</td>\n",
       "      <td>28.0</td>\n",
       "    </tr>\n",
       "    <tr>\n",
       "      <th>23682</th>\n",
       "      <td>11</td>\n",
       "      <td>2350000</td>\n",
       "      <td>35.6</td>\n",
       "      <td>2016-06-23</td>\n",
       "      <td>1</td>\n",
       "      <td>2.50</td>\n",
       "      <td>5.0</td>\n",
       "      <td>17.0</td>\n",
       "      <td>4</td>\n",
       "      <td>False</td>\n",
       "      <td>...</td>\n",
       "      <td>NaN</td>\n",
       "      <td>40.0</td>\n",
       "      <td>NaN</td>\n",
       "      <td>NaN</td>\n",
       "      <td>66011.235955</td>\n",
       "      <td>четверг</td>\n",
       "      <td>июнь</td>\n",
       "      <td>2016</td>\n",
       "      <td>другой</td>\n",
       "      <td>NaN</td>\n",
       "    </tr>\n",
       "    <tr>\n",
       "      <th>23691</th>\n",
       "      <td>11</td>\n",
       "      <td>9470000</td>\n",
       "      <td>72.9</td>\n",
       "      <td>2016-10-13</td>\n",
       "      <td>2</td>\n",
       "      <td>2.75</td>\n",
       "      <td>25.0</td>\n",
       "      <td>40.3</td>\n",
       "      <td>7</td>\n",
       "      <td>NaN</td>\n",
       "      <td>...</td>\n",
       "      <td>806.0</td>\n",
       "      <td>519.0</td>\n",
       "      <td>12244.5</td>\n",
       "      <td>26757.5</td>\n",
       "      <td>129903.978052</td>\n",
       "      <td>четверг</td>\n",
       "      <td>октябрь</td>\n",
       "      <td>2016</td>\n",
       "      <td>другой</td>\n",
       "      <td>4.0</td>\n",
       "    </tr>\n",
       "    <tr>\n",
       "      <th>23693</th>\n",
       "      <td>9</td>\n",
       "      <td>4600000</td>\n",
       "      <td>62.4</td>\n",
       "      <td>2016-08-05</td>\n",
       "      <td>3</td>\n",
       "      <td>2.60</td>\n",
       "      <td>9.0</td>\n",
       "      <td>40.0</td>\n",
       "      <td>8</td>\n",
       "      <td>NaN</td>\n",
       "      <td>...</td>\n",
       "      <td>675.0</td>\n",
       "      <td>239.0</td>\n",
       "      <td>33771.0</td>\n",
       "      <td>39231.0</td>\n",
       "      <td>73717.948718</td>\n",
       "      <td>пятница</td>\n",
       "      <td>август</td>\n",
       "      <td>2016</td>\n",
       "      <td>другой</td>\n",
       "      <td>34.0</td>\n",
       "    </tr>\n",
       "  </tbody>\n",
       "</table>\n",
       "<p>2782 rows × 30 columns</p>\n",
       "</div>"
      ],
      "text/plain": [
       "       total_images  last_price  total_area first_day_exposition  rooms  \\\n",
       "12               10     3890000        54.0           2016-06-30      2   \n",
       "14                1     4400000        36.0           2016-06-23      1   \n",
       "17                6     4180000        36.0           2016-09-09      1   \n",
       "23               11     2950000        32.0           2016-10-29      1   \n",
       "29                9     8600000       100.0           2016-04-09      3   \n",
       "...             ...         ...         ...                  ...    ...   \n",
       "23676            19     3550000        36.4           2016-06-08      1   \n",
       "23678            10     3500000        43.0           2016-05-19      2   \n",
       "23682            11     2350000        35.6           2016-06-23      1   \n",
       "23691            11     9470000        72.9           2016-10-13      2   \n",
       "23693             9     4600000        62.4           2016-08-05      3   \n",
       "\n",
       "       ceiling_height  floors_total  living_area  floor is_apartment  ...  \\\n",
       "12                NaN           5.0         30.0      5          NaN  ...   \n",
       "14                NaN           6.0         17.0      1          NaN  ...   \n",
       "17                NaN          17.0         16.5      7          NaN  ...   \n",
       "23               2.60           9.0         17.7      9          NaN  ...   \n",
       "29                NaN          19.0         52.0     15        False  ...   \n",
       "...               ...           ...          ...    ...          ...  ...   \n",
       "23676             NaN          16.0         14.9     13          NaN  ...   \n",
       "23678            2.50           3.0         26.1      2        False  ...   \n",
       "23682            2.50           5.0         17.0      4        False  ...   \n",
       "23691            2.75          25.0         40.3      7          NaN  ...   \n",
       "23693            2.60           9.0         40.0      8          NaN  ...   \n",
       "\n",
       "       ponds_nearest  days_exposition  center_median  airport_median  \\\n",
       "12               NaN             90.0            NaN             NaN   \n",
       "14              96.0            203.0        27930.5         15766.0   \n",
       "17             859.0            571.0        12244.5         26757.5   \n",
       "23             190.0            615.0        12244.5         26757.5   \n",
       "29             896.0            125.0        12244.5         26757.5   \n",
       "...              ...              ...            ...             ...   \n",
       "23676            NaN             70.0        12244.5         26757.5   \n",
       "23678         1134.0            252.0        27930.5         15766.0   \n",
       "23682            NaN             40.0            NaN             NaN   \n",
       "23691          806.0            519.0        12244.5         26757.5   \n",
       "23693          675.0            239.0        33771.0         39231.0   \n",
       "\n",
       "          metr_price  weekday     month  year  floor_type  \\\n",
       "12      72037.037037  четверг      июнь  2016   последний   \n",
       "14     122222.222222  четверг      июнь  2016      первый   \n",
       "17     116111.111111  пятница  сентябрь  2016      другой   \n",
       "23      92187.500000  суббота   октябрь  2016   последний   \n",
       "29      86000.000000  суббота    апрель  2016      другой   \n",
       "...              ...      ...       ...   ...         ...   \n",
       "23676   97527.472527    среда      июнь  2016      другой   \n",
       "23678   81395.348837  четверг       май  2016      другой   \n",
       "23682   66011.235955  четверг      июнь  2016      другой   \n",
       "23691  129903.978052  четверг   октябрь  2016      другой   \n",
       "23693   73717.948718  пятница    август  2016      другой   \n",
       "\n",
       "       cityCenters_nearest_km  \n",
       "12                        NaN  \n",
       "14                       31.0  \n",
       "17                       15.0  \n",
       "23                       14.0  \n",
       "29                       12.0  \n",
       "...                       ...  \n",
       "23676                    12.0  \n",
       "23678                    28.0  \n",
       "23682                     NaN  \n",
       "23691                     4.0  \n",
       "23693                    34.0  \n",
       "\n",
       "[2782 rows x 30 columns]"
      ]
     },
     "execution_count": 362,
     "metadata": {},
     "output_type": "execute_result"
    }
   ],
   "source": [
    "data.query('year==2019')\n",
    "data.query('year==2018')\n",
    "data.query('year==2017')\n",
    "data.query('year==2016')"
   ]
  },
  {
   "cell_type": "code",
   "execution_count": 363,
   "metadata": {},
   "outputs": [
    {
     "data": {
      "text/plain": [
       "110.0"
      ]
     },
     "execution_count": 363,
     "metadata": {},
     "output_type": "execute_result"
    }
   ],
   "source": [
    "data.query('year==2019')['days_exposition'].max()"
   ]
  },
  {
   "cell_type": "code",
   "execution_count": 364,
   "metadata": {},
   "outputs": [
    {
     "data": {
      "text/plain": [
       "3177"
      ]
     },
     "execution_count": 364,
     "metadata": {},
     "output_type": "execute_result"
    }
   ],
   "source": [
    "data['days_exposition'].isna().sum()"
   ]
  },
  {
   "cell_type": "code",
   "execution_count": 365,
   "metadata": {},
   "outputs": [
    {
     "data": {
      "text/plain": [
       "0"
      ]
     },
     "execution_count": 365,
     "metadata": {},
     "output_type": "execute_result"
    }
   ],
   "source": [
    "data['days_exposition']=data['days_exposition'].fillna(110)\n",
    "data['days_exposition'].isna().sum()"
   ]
  },
  {
   "cell_type": "markdown",
   "metadata": {},
   "source": [
    "__Посчитав количество пропущенных значений в столбце _days_exposition_ по годам -увидела,что самое большое количество пропусков в 2019 году(половина значений),далее в 2018 году и в 2017 году.Пришла к выводу ,что это  может быть связано с тем ,что при выгрузке данных объявления еще не были сняты и поэтому можно их заполнить максимальным значением _days_exposition_ 2019 года__"
   ]
  },
  {
   "cell_type": "code",
   "execution_count": 366,
   "metadata": {},
   "outputs": [
    {
     "name": "stdout",
     "output_type": "stream",
     "text": [
      "<class 'pandas.core.frame.DataFrame'>\n",
      "Int64Index: 23676 entries, 0 to 23698\n",
      "Data columns (total 30 columns):\n",
      " #   Column                  Non-Null Count  Dtype         \n",
      "---  ------                  --------------  -----         \n",
      " 0   total_images            23676 non-null  int64         \n",
      " 1   last_price              23676 non-null  int64         \n",
      " 2   total_area              23676 non-null  float64       \n",
      " 3   first_day_exposition    23676 non-null  datetime64[ns]\n",
      " 4   rooms                   23676 non-null  int64         \n",
      " 5   ceiling_height          14481 non-null  float64       \n",
      " 6   floors_total            23590 non-null  float64       \n",
      " 7   living_area             21775 non-null  float64       \n",
      " 8   floor                   23676 non-null  int64         \n",
      " 9   is_apartment            2772 non-null   object        \n",
      " 10  studio                  23676 non-null  bool          \n",
      " 11  open_plan               23676 non-null  bool          \n",
      " 12  kitchen_area            21566 non-null  float64       \n",
      " 13  balcony                 23676 non-null  int64         \n",
      " 14  locality_name           23627 non-null  object        \n",
      " 15  airports_nearest        18292 non-null  float64       \n",
      " 16  cityCenters_nearest     18292 non-null  float64       \n",
      " 17  parks_around3000        18168 non-null  float64       \n",
      " 18  parks_nearest           8071 non-null   float64       \n",
      " 19  ponds_around3000        18168 non-null  float64       \n",
      " 20  ponds_nearest           9102 non-null   float64       \n",
      " 21  days_exposition         23676 non-null  float64       \n",
      " 22  center_median           18251 non-null  float64       \n",
      " 23  airport_median          18251 non-null  float64       \n",
      " 24  metr_price              23676 non-null  float64       \n",
      " 25  weekday                 23676 non-null  object        \n",
      " 26  month                   23676 non-null  object        \n",
      " 27  year                    23676 non-null  int64         \n",
      " 28  floor_type              23676 non-null  object        \n",
      " 29  cityCenters_nearest_km  18292 non-null  float64       \n",
      "dtypes: bool(2), datetime64[ns](1), float64(16), int64(6), object(5)\n",
      "memory usage: 5.3+ MB\n"
     ]
    }
   ],
   "source": [
    "data.info()"
   ]
  },
  {
   "cell_type": "markdown",
   "metadata": {},
   "source": [
    "__Вывод_1:__  \n",
    "_Возможно, наличие пропусков связано с тем ,что пользователь не знал как заполнить некоторые параметры_  \n",
    "\n",
    "  \n",
    "\n",
    "__Вывод_2:__  \n",
    "\n",
    "_Привели значения столбца __first_day_exposition__ к datetime, что бы визуально было красивее и понятнее, а так же в дальнейшем ,что бы можно было проводить с датой операции и подсчеты_  \n",
    "\n",
    "_Привели значения столбцов ,содержащие целые значения и не содержащие пропуски  к типу int_  \n",
    "\n",
    "__Вывод_3:__  \n",
    "\n",
    "_В столбце __ceiling_hight__ заменили  числа больше 10  , на соответствующие  вещественные(разделили на 10). А так же удалили строки с необычно низкими значениями высоты потолков и необычно высокими (оставили значения от 2 до 6 метров)_  \n",
    "\n",
    "_В столбце __last_price__ умножили значения меньше 1000000 на 10_\n",
    "\n"
   ]
  },
  {
   "cell_type": "markdown",
   "metadata": {},
   "source": [
    "### Проведите исследовательский анализ данных"
   ]
  },
  {
   "cell_type": "code",
   "execution_count": 367,
   "metadata": {},
   "outputs": [
    {
     "data": {
      "text/plain": [
       "count    23676.000000\n",
       "mean        60.354395\n",
       "std         35.656115\n",
       "min         12.000000\n",
       "25%         40.000000\n",
       "50%         52.000000\n",
       "75%         69.900000\n",
       "max        900.000000\n",
       "Name: total_area, dtype: float64"
      ]
     },
     "execution_count": 367,
     "metadata": {},
     "output_type": "execute_result"
    },
    {
     "data": {
      "image/png": "[encoded data removed]",
      "text/plain": [
       "<Figure size 432x288 with 1 Axes>"
      ]
     },
     "metadata": {
      "needs_background": "light"
     },
     "output_type": "display_data"
    }
   ],
   "source": [
    "import matplotlib.pyplot as plt\n",
    "data['total_area'].hist(bins=100)\n",
    "\n",
    "data['total_area'].describe()"
   ]
  },
  {
   "cell_type": "code",
   "execution_count": 368,
   "metadata": {},
   "outputs": [
    {
     "data": {
      "text/plain": [
       "count    21775.000000\n",
       "mean        34.459066\n",
       "std         22.022673\n",
       "min          2.000000\n",
       "25%         18.600000\n",
       "50%         30.000000\n",
       "75%         42.300000\n",
       "max        409.700000\n",
       "Name: living_area, dtype: float64"
      ]
     },
     "execution_count": 368,
     "metadata": {},
     "output_type": "execute_result"
    },
    {
     "data": {
      "image/png": "[encoded data removed]",
      "text/plain": [
       "<Figure size 432x288 with 1 Axes>"
      ]
     },
     "metadata": {
      "needs_background": "light"
     },
     "output_type": "display_data"
    }
   ],
   "source": [
    "data['living_area'].hist(bins=100)\n",
    "\n",
    "data['living_area'].describe()\n"
   ]
  },
  {
   "cell_type": "code",
   "execution_count": 369,
   "metadata": {},
   "outputs": [
    {
     "data": {
      "text/plain": [
       "count    21566.000000\n",
       "mean        10.490763\n",
       "std          5.956096\n",
       "min          0.000000\n",
       "25%          7.000000\n",
       "50%          9.000000\n",
       "75%         12.000000\n",
       "max        112.000000\n",
       "Name: kitchen_area, dtype: float64"
      ]
     },
     "execution_count": 369,
     "metadata": {},
     "output_type": "execute_result"
    },
    {
     "data": {
      "image/png": "[encoded data removed]",
      "text/plain": [
       "<Figure size 432x288 with 1 Axes>"
      ]
     },
     "metadata": {
      "needs_background": "light"
     },
     "output_type": "display_data"
    }
   ],
   "source": [
    "data['kitchen_area'].hist(bins=100)\n",
    "data['kitchen_area'].describe()\n"
   ]
  },
  {
   "cell_type": "code",
   "execution_count": 370,
   "metadata": {},
   "outputs": [
    {
     "data": {
      "text/plain": [
       "count    2.367600e+04\n",
       "mean     6.604409e+06\n",
       "std      1.085403e+07\n",
       "min      1.219000e+05\n",
       "25%      3.490000e+06\n",
       "50%      4.700000e+06\n",
       "75%      6.890000e+06\n",
       "max      7.630000e+08\n",
       "Name: last_price, dtype: float64"
      ]
     },
     "execution_count": 370,
     "metadata": {},
     "output_type": "execute_result"
    },
    {
     "data": {
      "image/png": "[encoded data removed]",
      "text/plain": [
       "<Figure size 432x288 with 1 Axes>"
      ]
     },
     "metadata": {
      "needs_background": "light"
     },
     "output_type": "display_data"
    }
   ],
   "source": [
    "data['last_price'].hist(bins=100,range=(0,100000000))\n",
    "\n",
    "data['last_price'].describe()\n"
   ]
  },
  {
   "cell_type": "code",
   "execution_count": 371,
   "metadata": {},
   "outputs": [
    {
     "data": {
      "text/plain": [
       "array([ 3,  1,  2,  4,  5,  6,  0,  7, 11,  8, 14, 10, 15,  9, 19, 16, 12])"
      ]
     },
     "execution_count": 371,
     "metadata": {},
     "output_type": "execute_result"
    },
    {
     "data": {
      "image/png": "[encoded data removed]",
      "text/plain": [
       "<Figure size 432x288 with 1 Axes>"
      ]
     },
     "metadata": {
      "needs_background": "light"
     },
     "output_type": "display_data"
    }
   ],
   "source": [
    "data['rooms'].hist(bins=100)\n",
    "data['rooms'].describe()\n",
    "data['rooms'].unique()\n",
    "#data.query('rooms==0')\n",
    "#data1=data.pivot_table(index='rooms',values='studio',aggfunc='sum')\n",
    "#data1"
   ]
  },
  {
   "cell_type": "code",
   "execution_count": 372,
   "metadata": {},
   "outputs": [
    {
     "data": {
      "text/plain": [
       "count    14481.000000\n",
       "mean         2.727000\n",
       "std          0.276707\n",
       "min          2.200000\n",
       "25%          2.520000\n",
       "50%          2.650000\n",
       "75%          2.800000\n",
       "max          5.800000\n",
       "Name: ceiling_height, dtype: float64"
      ]
     },
     "execution_count": 372,
     "metadata": {},
     "output_type": "execute_result"
    },
    {
     "data": {
      "image/png": "[encoded data removed]",
      "text/plain": [
       "<Figure size 432x288 with 1 Axes>"
      ]
     },
     "metadata": {
      "needs_background": "light"
     },
     "output_type": "display_data"
    }
   ],
   "source": [
    "data['ceiling_height'].hist(bins=100)\n",
    "data['ceiling_height'].describe()"
   ]
  },
  {
   "cell_type": "code",
   "execution_count": 373,
   "metadata": {},
   "outputs": [
    {
     "data": {
      "text/plain": [
       "count    23676.000000\n",
       "mean         5.892169\n",
       "std          4.885778\n",
       "min          1.000000\n",
       "25%          2.000000\n",
       "50%          4.000000\n",
       "75%          8.000000\n",
       "max         33.000000\n",
       "Name: floor, dtype: float64"
      ]
     },
     "execution_count": 373,
     "metadata": {},
     "output_type": "execute_result"
    },
    {
     "data": {
      "image/png": "[encoded data removed]",
      "text/plain": [
       "<Figure size 432x288 with 1 Axes>"
      ]
     },
     "metadata": {
      "needs_background": "light"
     },
     "output_type": "display_data"
    }
   ],
   "source": [
    "data['floor'].hist(bins=100)\n",
    "data['floor'].describe()"
   ]
  },
  {
   "cell_type": "code",
   "execution_count": 374,
   "metadata": {},
   "outputs": [
    {
     "data": {
      "text/plain": [
       "<AxesSubplot:ylabel='floor_type'>"
      ]
     },
     "execution_count": 374,
     "metadata": {},
     "output_type": "execute_result"
    },
    {
     "data": {
      "image/png": "[encoded data removed]",
      "text/plain": [
       "<Figure size 432x288 with 1 Axes>"
      ]
     },
     "metadata": {},
     "output_type": "display_data"
    }
   ],
   "source": [
    "data_1=data.groupby('floor_type')['floor_type'].count()\n",
    "data_1.plot(y='count',kind='pie')"
   ]
  },
  {
   "cell_type": "code",
   "execution_count": 375,
   "metadata": {},
   "outputs": [
    {
     "data": {
      "text/plain": [
       "count    23590.000000\n",
       "mean        10.673633\n",
       "std          6.595989\n",
       "min          1.000000\n",
       "25%          5.000000\n",
       "50%          9.000000\n",
       "75%         16.000000\n",
       "max         60.000000\n",
       "Name: floors_total, dtype: float64"
      ]
     },
     "execution_count": 375,
     "metadata": {},
     "output_type": "execute_result"
    },
    {
     "data": {
      "image/png": "[encoded data removed]",
      "text/plain": [
       "<Figure size 432x288 with 1 Axes>"
      ]
     },
     "metadata": {
      "needs_background": "light"
     },
     "output_type": "display_data"
    }
   ],
   "source": [
    "data['floors_total'].hist(bins=100)\n",
    "data['floors_total'].describe()\n"
   ]
  },
  {
   "cell_type": "code",
   "execution_count": 376,
   "metadata": {},
   "outputs": [
    {
     "data": {
      "text/plain": [
       "count    18292.000000\n",
       "mean     14231.659359\n",
       "std       8627.216464\n",
       "min        181.000000\n",
       "25%       9273.250000\n",
       "50%      13101.000000\n",
       "75%      16327.500000\n",
       "max      65968.000000\n",
       "Name: cityCenters_nearest, dtype: float64"
      ]
     },
     "execution_count": 376,
     "metadata": {},
     "output_type": "execute_result"
    },
    {
     "data": {
      "image/png": "[encoded data removed]",
      "text/plain": [
       "<Figure size 432x288 with 1 Axes>"
      ]
     },
     "metadata": {
      "needs_background": "light"
     },
     "output_type": "display_data"
    }
   ],
   "source": [
    "data['cityCenters_nearest'].hist(bins=100)\n",
    "data['cityCenters_nearest'].describe()\n"
   ]
  },
  {
   "cell_type": "code",
   "execution_count": 377,
   "metadata": {},
   "outputs": [
    {
     "data": {
      "text/plain": [
       "count    18292.000000\n",
       "mean     28865.473267\n",
       "std      12676.013702\n",
       "min          0.000000\n",
       "25%      18641.000000\n",
       "50%      26757.500000\n",
       "75%      37322.750000\n",
       "max      84869.000000\n",
       "Name: airports_nearest, dtype: float64"
      ]
     },
     "execution_count": 377,
     "metadata": {},
     "output_type": "execute_result"
    },
    {
     "data": {
      "image/png": "[encoded data removed]",
      "text/plain": [
       "<Figure size 432x288 with 1 Axes>"
      ]
     },
     "metadata": {
      "needs_background": "light"
     },
     "output_type": "display_data"
    }
   ],
   "source": [
    "data['airports_nearest'].hist(bins=100)\n",
    "data['airports_nearest'].describe()\n",
    "#data.query('airports_nearest==0')"
   ]
  },
  {
   "cell_type": "code",
   "execution_count": 378,
   "metadata": {},
   "outputs": [
    {
     "data": {
      "text/plain": [
       "count    8071.000000\n",
       "mean      490.768430\n",
       "std       342.415081\n",
       "min         1.000000\n",
       "25%       288.000000\n",
       "50%       455.000000\n",
       "75%       612.000000\n",
       "max      3190.000000\n",
       "Name: parks_nearest, dtype: float64"
      ]
     },
     "execution_count": 378,
     "metadata": {},
     "output_type": "execute_result"
    },
    {
     "data": {
      "image/png": "[encoded data removed]",
      "text/plain": [
       "<Figure size 432x288 with 1 Axes>"
      ]
     },
     "metadata": {
      "needs_background": "light"
     },
     "output_type": "display_data"
    }
   ],
   "source": [
    "data['parks_nearest'].hist(bins=100) \n",
    "data['parks_nearest'].describe()"
   ]
  },
  {
   "cell_type": "code",
   "execution_count": 379,
   "metadata": {},
   "outputs": [
    {
     "data": {
      "text/plain": [
       "<AxesSubplot:>"
      ]
     },
     "execution_count": 379,
     "metadata": {},
     "output_type": "execute_result"
    },
    {
     "data": {
      "image/png": "[encoded data removed]",
      "text/plain": [
       "<Figure size 432x288 with 1 Axes>"
      ]
     },
     "metadata": {
      "needs_background": "light"
     },
     "output_type": "display_data"
    }
   ],
   "source": [
    "data['weekday'].value_counts().plot(kind='bar')"
   ]
  },
  {
   "cell_type": "code",
   "execution_count": 380,
   "metadata": {},
   "outputs": [
    {
     "data": {
      "text/plain": [
       "<AxesSubplot:>"
      ]
     },
     "execution_count": 380,
     "metadata": {},
     "output_type": "execute_result"
    },
    {
     "data": {
      "image/png": "[encoded data removed]",
      "text/plain": [
       "<Figure size 432x288 with 1 Axes>"
      ]
     },
     "metadata": {
      "needs_background": "light"
     },
     "output_type": "display_data"
    }
   ],
   "source": [
    "data['month'].value_counts().plot(kind='bar')"
   ]
  },
  {
   "cell_type": "code",
   "execution_count": 401,
   "metadata": {},
   "outputs": [
    {
     "data": {
      "text/html": [
       "<div>\n",
       "<style scoped>\n",
       "    .dataframe tbody tr th:only-of-type {\n",
       "        vertical-align: middle;\n",
       "    }\n",
       "\n",
       "    .dataframe tbody tr th {\n",
       "        vertical-align: top;\n",
       "    }\n",
       "\n",
       "    .dataframe thead th {\n",
       "        text-align: right;\n",
       "    }\n",
       "</style>\n",
       "<table border=\"1\" class=\"dataframe\">\n",
       "  <thead>\n",
       "    <tr style=\"text-align: right;\">\n",
       "      <th></th>\n",
       "      <th>total_images</th>\n",
       "      <th>last_price</th>\n",
       "      <th>total_area</th>\n",
       "      <th>first_day_exposition</th>\n",
       "      <th>rooms</th>\n",
       "      <th>ceiling_height</th>\n",
       "      <th>floors_total</th>\n",
       "      <th>living_area</th>\n",
       "      <th>floor</th>\n",
       "      <th>is_apartment</th>\n",
       "      <th>...</th>\n",
       "      <th>kitchen_area</th>\n",
       "      <th>balcony</th>\n",
       "      <th>locality_name</th>\n",
       "      <th>airports_nearest</th>\n",
       "      <th>cityCenters_nearest</th>\n",
       "      <th>parks_around3000</th>\n",
       "      <th>parks_nearest</th>\n",
       "      <th>ponds_around3000</th>\n",
       "      <th>ponds_nearest</th>\n",
       "      <th>days_exposition</th>\n",
       "    </tr>\n",
       "  </thead>\n",
       "  <tbody>\n",
       "    <tr>\n",
       "      <th>11</th>\n",
       "      <td>9</td>\n",
       "      <td>3300000.0</td>\n",
       "      <td>44.0</td>\n",
       "      <td>2018-08-27T00:00:00</td>\n",
       "      <td>2</td>\n",
       "      <td>NaN</td>\n",
       "      <td>5.0</td>\n",
       "      <td>31.0</td>\n",
       "      <td>4</td>\n",
       "      <td>False</td>\n",
       "      <td>...</td>\n",
       "      <td>6.0</td>\n",
       "      <td>1.0</td>\n",
       "      <td>Ломоносов</td>\n",
       "      <td>48252.0</td>\n",
       "      <td>51677.0</td>\n",
       "      <td>0.0</td>\n",
       "      <td>NaN</td>\n",
       "      <td>0.0</td>\n",
       "      <td>NaN</td>\n",
       "      <td>7.0</td>\n",
       "    </tr>\n",
       "    <tr>\n",
       "      <th>53</th>\n",
       "      <td>7</td>\n",
       "      <td>4300000.0</td>\n",
       "      <td>39.1</td>\n",
       "      <td>2017-11-10T00:00:00</td>\n",
       "      <td>1</td>\n",
       "      <td>NaN</td>\n",
       "      <td>25.0</td>\n",
       "      <td>15.4</td>\n",
       "      <td>13</td>\n",
       "      <td>NaN</td>\n",
       "      <td>...</td>\n",
       "      <td>15.5</td>\n",
       "      <td>2.0</td>\n",
       "      <td>посёлок Парголово</td>\n",
       "      <td>52611.0</td>\n",
       "      <td>18783.0</td>\n",
       "      <td>0.0</td>\n",
       "      <td>NaN</td>\n",
       "      <td>0.0</td>\n",
       "      <td>NaN</td>\n",
       "      <td>6.0</td>\n",
       "    </tr>\n",
       "    <tr>\n",
       "      <th>62</th>\n",
       "      <td>0</td>\n",
       "      <td>4800000.0</td>\n",
       "      <td>78.6</td>\n",
       "      <td>2017-09-17T00:00:00</td>\n",
       "      <td>3</td>\n",
       "      <td>2.80</td>\n",
       "      <td>9.0</td>\n",
       "      <td>48.8</td>\n",
       "      <td>5</td>\n",
       "      <td>NaN</td>\n",
       "      <td>...</td>\n",
       "      <td>11.9</td>\n",
       "      <td>2.0</td>\n",
       "      <td>Сертолово</td>\n",
       "      <td>NaN</td>\n",
       "      <td>NaN</td>\n",
       "      <td>NaN</td>\n",
       "      <td>NaN</td>\n",
       "      <td>NaN</td>\n",
       "      <td>NaN</td>\n",
       "      <td>5.0</td>\n",
       "    </tr>\n",
       "    <tr>\n",
       "      <th>94</th>\n",
       "      <td>3</td>\n",
       "      <td>3500000.0</td>\n",
       "      <td>29.5</td>\n",
       "      <td>2019-04-26T00:00:00</td>\n",
       "      <td>1</td>\n",
       "      <td>2.50</td>\n",
       "      <td>5.0</td>\n",
       "      <td>15.6</td>\n",
       "      <td>2</td>\n",
       "      <td>NaN</td>\n",
       "      <td>...</td>\n",
       "      <td>5.5</td>\n",
       "      <td>1.0</td>\n",
       "      <td>Санкт-Петербург</td>\n",
       "      <td>12921.0</td>\n",
       "      <td>7303.0</td>\n",
       "      <td>0.0</td>\n",
       "      <td>NaN</td>\n",
       "      <td>0.0</td>\n",
       "      <td>NaN</td>\n",
       "      <td>4.0</td>\n",
       "    </tr>\n",
       "    <tr>\n",
       "      <th>100</th>\n",
       "      <td>16</td>\n",
       "      <td>3800000.0</td>\n",
       "      <td>38.6</td>\n",
       "      <td>2018-02-22T00:00:00</td>\n",
       "      <td>1</td>\n",
       "      <td>NaN</td>\n",
       "      <td>9.0</td>\n",
       "      <td>18.0</td>\n",
       "      <td>6</td>\n",
       "      <td>NaN</td>\n",
       "      <td>...</td>\n",
       "      <td>8.4</td>\n",
       "      <td>2.0</td>\n",
       "      <td>Санкт-Петербург</td>\n",
       "      <td>36450.0</td>\n",
       "      <td>13364.0</td>\n",
       "      <td>0.0</td>\n",
       "      <td>NaN</td>\n",
       "      <td>0.0</td>\n",
       "      <td>NaN</td>\n",
       "      <td>8.0</td>\n",
       "    </tr>\n",
       "    <tr>\n",
       "      <th>...</th>\n",
       "      <td>...</td>\n",
       "      <td>...</td>\n",
       "      <td>...</td>\n",
       "      <td>...</td>\n",
       "      <td>...</td>\n",
       "      <td>...</td>\n",
       "      <td>...</td>\n",
       "      <td>...</td>\n",
       "      <td>...</td>\n",
       "      <td>...</td>\n",
       "      <td>...</td>\n",
       "      <td>...</td>\n",
       "      <td>...</td>\n",
       "      <td>...</td>\n",
       "      <td>...</td>\n",
       "      <td>...</td>\n",
       "      <td>...</td>\n",
       "      <td>...</td>\n",
       "      <td>...</td>\n",
       "      <td>...</td>\n",
       "      <td>...</td>\n",
       "    </tr>\n",
       "    <tr>\n",
       "      <th>23513</th>\n",
       "      <td>12</td>\n",
       "      <td>8300000.0</td>\n",
       "      <td>62.6</td>\n",
       "      <td>2017-02-15T00:00:00</td>\n",
       "      <td>2</td>\n",
       "      <td>2.70</td>\n",
       "      <td>16.0</td>\n",
       "      <td>32.9</td>\n",
       "      <td>8</td>\n",
       "      <td>False</td>\n",
       "      <td>...</td>\n",
       "      <td>11.3</td>\n",
       "      <td>2.0</td>\n",
       "      <td>Санкт-Петербург</td>\n",
       "      <td>29077.0</td>\n",
       "      <td>10858.0</td>\n",
       "      <td>0.0</td>\n",
       "      <td>NaN</td>\n",
       "      <td>0.0</td>\n",
       "      <td>NaN</td>\n",
       "      <td>7.0</td>\n",
       "    </tr>\n",
       "    <tr>\n",
       "      <th>23596</th>\n",
       "      <td>10</td>\n",
       "      <td>3500000.0</td>\n",
       "      <td>43.5</td>\n",
       "      <td>2017-12-05T00:00:00</td>\n",
       "      <td>2</td>\n",
       "      <td>2.50</td>\n",
       "      <td>9.0</td>\n",
       "      <td>27.0</td>\n",
       "      <td>6</td>\n",
       "      <td>NaN</td>\n",
       "      <td>...</td>\n",
       "      <td>6.2</td>\n",
       "      <td>NaN</td>\n",
       "      <td>Санкт-Петербург</td>\n",
       "      <td>49094.0</td>\n",
       "      <td>16671.0</td>\n",
       "      <td>0.0</td>\n",
       "      <td>NaN</td>\n",
       "      <td>0.0</td>\n",
       "      <td>NaN</td>\n",
       "      <td>6.0</td>\n",
       "    </tr>\n",
       "    <tr>\n",
       "      <th>23606</th>\n",
       "      <td>0</td>\n",
       "      <td>2850000.0</td>\n",
       "      <td>68.0</td>\n",
       "      <td>2018-07-29T00:00:00</td>\n",
       "      <td>1</td>\n",
       "      <td>3.00</td>\n",
       "      <td>5.0</td>\n",
       "      <td>41.0</td>\n",
       "      <td>3</td>\n",
       "      <td>NaN</td>\n",
       "      <td>...</td>\n",
       "      <td>10.0</td>\n",
       "      <td>NaN</td>\n",
       "      <td>Санкт-Петербург</td>\n",
       "      <td>38473.0</td>\n",
       "      <td>7740.0</td>\n",
       "      <td>2.0</td>\n",
       "      <td>560.0</td>\n",
       "      <td>3.0</td>\n",
       "      <td>327.0</td>\n",
       "      <td>4.0</td>\n",
       "    </tr>\n",
       "    <tr>\n",
       "      <th>23647</th>\n",
       "      <td>9</td>\n",
       "      <td>5700000.0</td>\n",
       "      <td>45.6</td>\n",
       "      <td>2019-01-09T00:00:00</td>\n",
       "      <td>1</td>\n",
       "      <td>2.75</td>\n",
       "      <td>16.0</td>\n",
       "      <td>18.7</td>\n",
       "      <td>6</td>\n",
       "      <td>NaN</td>\n",
       "      <td>...</td>\n",
       "      <td>17.6</td>\n",
       "      <td>NaN</td>\n",
       "      <td>Санкт-Петербург</td>\n",
       "      <td>10934.0</td>\n",
       "      <td>12551.0</td>\n",
       "      <td>0.0</td>\n",
       "      <td>NaN</td>\n",
       "      <td>0.0</td>\n",
       "      <td>NaN</td>\n",
       "      <td>8.0</td>\n",
       "    </tr>\n",
       "    <tr>\n",
       "      <th>23661</th>\n",
       "      <td>19</td>\n",
       "      <td>8100000.0</td>\n",
       "      <td>75.4</td>\n",
       "      <td>2018-09-19T00:00:00</td>\n",
       "      <td>3</td>\n",
       "      <td>2.75</td>\n",
       "      <td>12.0</td>\n",
       "      <td>47.9</td>\n",
       "      <td>11</td>\n",
       "      <td>NaN</td>\n",
       "      <td>...</td>\n",
       "      <td>9.4</td>\n",
       "      <td>NaN</td>\n",
       "      <td>Санкт-Петербург</td>\n",
       "      <td>14727.0</td>\n",
       "      <td>16771.0</td>\n",
       "      <td>0.0</td>\n",
       "      <td>NaN</td>\n",
       "      <td>0.0</td>\n",
       "      <td>NaN</td>\n",
       "      <td>6.0</td>\n",
       "    </tr>\n",
       "  </tbody>\n",
       "</table>\n",
       "<p>1130 rows × 22 columns</p>\n",
       "</div>"
      ],
      "text/plain": [
       "       total_images  last_price  total_area first_day_exposition  rooms  \\\n",
       "11                9   3300000.0        44.0  2018-08-27T00:00:00      2   \n",
       "53                7   4300000.0        39.1  2017-11-10T00:00:00      1   \n",
       "62                0   4800000.0        78.6  2017-09-17T00:00:00      3   \n",
       "94                3   3500000.0        29.5  2019-04-26T00:00:00      1   \n",
       "100              16   3800000.0        38.6  2018-02-22T00:00:00      1   \n",
       "...             ...         ...         ...                  ...    ...   \n",
       "23513            12   8300000.0        62.6  2017-02-15T00:00:00      2   \n",
       "23596            10   3500000.0        43.5  2017-12-05T00:00:00      2   \n",
       "23606             0   2850000.0        68.0  2018-07-29T00:00:00      1   \n",
       "23647             9   5700000.0        45.6  2019-01-09T00:00:00      1   \n",
       "23661            19   8100000.0        75.4  2018-09-19T00:00:00      3   \n",
       "\n",
       "       ceiling_height  floors_total  living_area  floor is_apartment  ...  \\\n",
       "11                NaN           5.0         31.0      4        False  ...   \n",
       "53                NaN          25.0         15.4     13          NaN  ...   \n",
       "62               2.80           9.0         48.8      5          NaN  ...   \n",
       "94               2.50           5.0         15.6      2          NaN  ...   \n",
       "100               NaN           9.0         18.0      6          NaN  ...   \n",
       "...               ...           ...          ...    ...          ...  ...   \n",
       "23513            2.70          16.0         32.9      8        False  ...   \n",
       "23596            2.50           9.0         27.0      6          NaN  ...   \n",
       "23606            3.00           5.0         41.0      3          NaN  ...   \n",
       "23647            2.75          16.0         18.7      6          NaN  ...   \n",
       "23661            2.75          12.0         47.9     11          NaN  ...   \n",
       "\n",
       "       kitchen_area  balcony      locality_name  airports_nearest  \\\n",
       "11              6.0      1.0          Ломоносов           48252.0   \n",
       "53             15.5      2.0  посёлок Парголово           52611.0   \n",
       "62             11.9      2.0          Сертолово               NaN   \n",
       "94              5.5      1.0    Санкт-Петербург           12921.0   \n",
       "100             8.4      2.0    Санкт-Петербург           36450.0   \n",
       "...             ...      ...                ...               ...   \n",
       "23513          11.3      2.0    Санкт-Петербург           29077.0   \n",
       "23596           6.2      NaN    Санкт-Петербург           49094.0   \n",
       "23606          10.0      NaN    Санкт-Петербург           38473.0   \n",
       "23647          17.6      NaN    Санкт-Петербург           10934.0   \n",
       "23661           9.4      NaN    Санкт-Петербург           14727.0   \n",
       "\n",
       "      cityCenters_nearest  parks_around3000  parks_nearest  ponds_around3000  \\\n",
       "11                51677.0               0.0            NaN               0.0   \n",
       "53                18783.0               0.0            NaN               0.0   \n",
       "62                    NaN               NaN            NaN               NaN   \n",
       "94                 7303.0               0.0            NaN               0.0   \n",
       "100               13364.0               0.0            NaN               0.0   \n",
       "...                   ...               ...            ...               ...   \n",
       "23513             10858.0               0.0            NaN               0.0   \n",
       "23596             16671.0               0.0            NaN               0.0   \n",
       "23606              7740.0               2.0          560.0               3.0   \n",
       "23647             12551.0               0.0            NaN               0.0   \n",
       "23661             16771.0               0.0            NaN               0.0   \n",
       "\n",
       "       ponds_nearest  days_exposition  \n",
       "11               NaN              7.0  \n",
       "53               NaN              6.0  \n",
       "62               NaN              5.0  \n",
       "94               NaN              4.0  \n",
       "100              NaN              8.0  \n",
       "...              ...              ...  \n",
       "23513            NaN              7.0  \n",
       "23596            NaN              6.0  \n",
       "23606          327.0              4.0  \n",
       "23647            NaN              8.0  \n",
       "23661            NaN              6.0  \n",
       "\n",
       "[1130 rows x 22 columns]"
      ]
     },
     "execution_count": 401,
     "metadata": {},
     "output_type": "execute_result"
    },
    {
     "data": {
      "image/png": "[encoded data removed]",
      "text/plain": [
       "<Figure size 432x288 with 1 Axes>"
      ]
     },
     "metadata": {
      "needs_background": "light"
     },
     "output_type": "display_data"
    }
   ],
   "source": [
    "data['days_exposition'].hist(bins=100)\n",
    "data['days_exposition'].describe()\n",
    "data2=data.query('days_exposition<10')\n",
    "data2"
   ]
  },
  {
   "cell_type": "markdown",
   "metadata": {},
   "source": [
    "__Вывод_2:__  \n",
    "_При взгляде на гистограмму __days_exposition__ заметно , что наибольшее количество объектов продавалось за примерно 110 дней . Там же находится и медиана. К необычайно долгим -я бы отнесла продажи более 600 дней , к необычайно быстрым -до 10 дней (таких всего 5 %) "
   ]
  },
  {
   "cell_type": "markdown",
   "metadata": {},
   "source": [
    "__Вывод 1:__  \n",
    "_Гистограмма столбца __total_area__ напоминает нормальное распределение. Среднее и медиана не сильно отличаются.Больше всего значений на отметке примерно 55 кв.м. ,что похоже на правду_  \n",
    "\n",
    "_Гистограмма столбца __living_area__ имеет 2 пика.(в районе 20 и 30 кв. метров)Что говорит о большом количестве объктов с такой жилой площадью на рынке.С помощью метода decribe было выявлено, что минимальный размер жилой площади составляет 2 кв.м. ,что очень мало,однако таких объектов всего 5 (с жилой площадью <=5 кв.м.) ,поэтому решила их оставить._  \n",
    "\n",
    "_Гистограмма столбца __kitchen_area__ похоже на нормальное распределение. небольшой пик в районе 0 связан с тем ,что мы заполнили пропущенные значения 0-ем(при условии , что объект-студия или апартаменты)_\n",
    "\n",
    "_Гистограмма столбца __last_price__ (при построении с параметром range=(0,100млн),т.к. максимальное значение в этой колонке 763 млн,а медиана-4млн 700тыс ) показывает ,что большинство значений -в районе 5-6 млн, более 20 млн -уже мало значений, более 40 млн -еще меньше. Что похоже на правду_  \n",
    "\n",
    "_Гистограмма столбца __rooms__ отображает правдоподобную картину. Есть небольшое количество объектов с количеством комнат =0, и  -это студии (построив сводную таблицу методом pivot_table мы это увидели)_  \n",
    "\n",
    "_Гистограмма столбца __ceiling_height__ выглядит правдоподобно. Минимальная высота потолков-2,2 метра,максимальная-5,8 метров. Медианное значение -2,6 метров_  \n",
    "\n",
    "_Гистограмма столбца __floor__ -так же правдоподобна. Минимальное значение этажа-1,максимальное-33. Медианное значение -4_  \n",
    "\n",
    "_Для анализа значений столбца __floor_type__ ,сначала применила к датафрейму  группировку по этому столбцу и с подсчетом значений в нем же и затем построила круговую диаграмму. Больше всего значений \"другой\"-это и было ожидаемо_  \n",
    "\n",
    "_Гистограмма значений столбца __floors_total__ выглядит правдоподобно.Самые выдающиеся значения на отметке 5 и 9 (пятиэтажные и девятиэтажные дома)_  \n",
    "\n",
    "_Гистограмма значений столбца __cityCenters_nearest__ выглядит правдоподбно. Самые выдающиеся значения на отметке примерно 13000 метров и 15000. Примерно там же  медиана и среднее_  \n",
    "\n",
    "_Гистограмма значений столбца __airports_nearest__ выглядит правдоподобно_\n",
    "\n",
    "_Гистограмму значений столбца __parks_nearest__  достаточно реалистична. Наибольшее количество значений в промежутке 300-500 метров_  \n",
    "\n",
    "_Для анализа значений столбца __weekday__ построили столбчатую диаграмму. Глядя на нее,заметно , что в четверг и вторник размещают чуть больше объявлений чем в остальные будние дни. В субботу и воскресенье размещают значительно меньше объявлений_  \n",
    "\n",
    "_Для анализа значений столбца __month__ так же построили столбчатую диаграмму,из которой видно , что наибольшее количество объявлений размещаются в феврале и марте , меньше всего объявлений-в мае_  \n",
    "\n"
   ]
  },
  {
   "cell_type": "code",
   "execution_count": 382,
   "metadata": {},
   "outputs": [
    {
     "data": {
      "text/plain": [
       "0.6514735774436485"
      ]
     },
     "execution_count": 382,
     "metadata": {},
     "output_type": "execute_result"
    },
    {
     "data": {
      "image/png": "[encoded data removed]",
      "text/plain": [
       "<Figure size 432x288 with 1 Axes>"
      ]
     },
     "metadata": {
      "needs_background": "light"
     },
     "output_type": "display_data"
    }
   ],
   "source": [
    "data.plot(x='total_area',y='last_price',kind='scatter',alpha=0.3)\n",
    "data['total_area'].corr(data['last_price'])\n"
   ]
  },
  {
   "cell_type": "markdown",
   "metadata": {},
   "source": [
    "__Вывод 3:__\n",
    "\n",
    "_Построив диаграмму рассеяния для определяния зависимости между величинами last_price и total_area , можно увидеть ,что для объектов с площадью примерно до 250 кв.м есть прямая зависимость (с ростом площади растет и цена). Так же об этом говорит и значение коэффицента корреляции Пирсона(0.6514735774436485).Так же есть небольшое количество объектов (с площадью больше 240 кв.м,у которых цена имеет большой размах,т.е. мало зависит от площади)_"
   ]
  },
  {
   "cell_type": "code",
   "execution_count": 383,
   "metadata": {},
   "outputs": [
    {
     "data": {
      "text/plain": [
       "0.5643942251248595"
      ]
     },
     "execution_count": 383,
     "metadata": {},
     "output_type": "execute_result"
    },
    {
     "data": {
      "image/png": "[encoded data removed]",
      "text/plain": [
       "<Figure size 432x288 with 1 Axes>"
      ]
     },
     "metadata": {
      "needs_background": "light"
     },
     "output_type": "display_data"
    }
   ],
   "source": [
    "data.plot(x='living_area',y='last_price',kind='scatter',alpha=0.3)\n",
    "data['living_area'].corr(data['last_price'])"
   ]
  },
  {
   "cell_type": "markdown",
   "metadata": {},
   "source": [
    "_По диаграмме рассеяния для величин __living_area__ и __last_price__ ,можно увидеть ,что для объектов с жилой площадью примерно до 165 кв.м. есть прямая зависимость с ценой. Коэфиицент Пирсона составляет 0.5643942251248595_  "
   ]
  },
  {
   "cell_type": "code",
   "execution_count": 384,
   "metadata": {},
   "outputs": [
    {
     "data": {
      "text/plain": [
       "0.5157786747877862"
      ]
     },
     "execution_count": 384,
     "metadata": {},
     "output_type": "execute_result"
    },
    {
     "data": {
      "image/png": "[encoded data removed]",
      "text/plain": [
       "<Figure size 432x288 with 1 Axes>"
      ]
     },
     "metadata": {
      "needs_background": "light"
     },
     "output_type": "display_data"
    }
   ],
   "source": [
    "data.plot(x='kitchen_area',y='last_price',kind='scatter',alpha=0.3)\n",
    "data['kitchen_area'].corr(data['last_price'])\n"
   ]
  },
  {
   "cell_type": "markdown",
   "metadata": {},
   "source": [
    "_По диаграмме рассеяния для величин __kitchen_area__ и __last_price__, можно увидеть , что для объектов с площадью кухни примерно до 47 кв.м. есть прямая зависимость с ценой (коэффицент Пирсона составляет 0.5157786747877862). Так же есть выдающиеся совпадения в райрне 20 метров (рост цены )-что говорит о некоторой востребованности объектов размером кухни около 20 метров_"
   ]
  },
  {
   "cell_type": "code",
   "execution_count": 385,
   "metadata": {},
   "outputs": [
    {
     "data": {
      "text/plain": [
       "<AxesSubplot:xlabel='rooms'>"
      ]
     },
     "execution_count": 385,
     "metadata": {},
     "output_type": "execute_result"
    },
    {
     "data": {
      "image/png": "[encoded data removed]",
      "text/plain": [
       "<Figure size 432x288 with 1 Axes>"
      ]
     },
     "metadata": {
      "needs_background": "light"
     },
     "output_type": "display_data"
    }
   ],
   "source": [
    "data_pivot_rooms=data.pivot_table(index='rooms',values='last_price',aggfunc='median')\n",
    "data_pivot_rooms\n",
    "data_pivot_rooms.plot(kind='bar')\n",
    "#data.query('rooms==12')"
   ]
  },
  {
   "cell_type": "markdown",
   "metadata": {},
   "source": [
    "_Для нахождения зависимости между количеством комнат __rooms__ и __last_price__ ,сначала я вывела сводную таблицу ,которая для каждого значения количества комнат посчитает медианное значение цены.И затем построила по сводной таблице столбчатую диаграмму.На диаграмме видно ,что объекты с количеством комнат до 7 -имеют прямую зависимость с ценой. Если комнат больше-уже прямой  зависимости скорее нет .Есть выдающееся значение цены на объекте с 12 комнатами (он всего один)_ "
   ]
  },
  {
   "cell_type": "code",
   "execution_count": 386,
   "metadata": {},
   "outputs": [
    {
     "data": {
      "text/plain": [
       "<AxesSubplot:xlabel='floor_type'>"
      ]
     },
     "execution_count": 386,
     "metadata": {},
     "output_type": "execute_result"
    },
    {
     "data": {
      "image/png": "[encoded data removed]",
      "text/plain": [
       "<Figure size 432x288 with 1 Axes>"
      ]
     },
     "metadata": {
      "needs_background": "light"
     },
     "output_type": "display_data"
    }
   ],
   "source": [
    "data_pivot_floor_type=data.pivot_table(index='floor_type',values='last_price',aggfunc='median')\n",
    "data_pivot_floor_type.plot(kind='bar')"
   ]
  },
  {
   "cell_type": "markdown",
   "metadata": {},
   "source": [
    "_Для нахождения зависимости между типом этажа __floor_type__ и __last_price__ ,я так же построила столбчатую диаграмму по сводной таблице с медианными значениями цены. По ней видно ,что объекты с типом этажа \"другой\" немного дороже остальных, с типом этажа \"первый\" -немного дешевле остальных, а \"последний\"-между ними_   "
   ]
  },
  {
   "cell_type": "code",
   "execution_count": 387,
   "metadata": {},
   "outputs": [
    {
     "data": {
      "text/plain": [
       "<AxesSubplot:xlabel='weekday'>"
      ]
     },
     "execution_count": 387,
     "metadata": {},
     "output_type": "execute_result"
    },
    {
     "data": {
      "image/png": "[encoded data removed]",
      "text/plain": [
       "<Figure size 432x288 with 1 Axes>"
      ]
     },
     "metadata": {
      "needs_background": "light"
     },
     "output_type": "display_data"
    }
   ],
   "source": [
    "\n",
    "data_pivot_weekday=data.pivot_table(index='weekday',values='last_price',aggfunc='median')\n",
    "data_pivot_weekday.plot(kind='bar')"
   ]
  },
  {
   "cell_type": "markdown",
   "metadata": {},
   "source": [
    "\n",
    "_Для нахождения зависимости между днем недели публикации объявления __weekday__ и __last_price__ ,я так же построила столбчатую диаграмму по сводной таблице с медианными значениями цены. По ней видно ,что зависимости между этими параметрами нет-медианное значение цены везде примерно одинаковая_ "
   ]
  },
  {
   "cell_type": "code",
   "execution_count": 388,
   "metadata": {},
   "outputs": [
    {
     "data": {
      "text/plain": [
       "<AxesSubplot:xlabel='month'>"
      ]
     },
     "execution_count": 388,
     "metadata": {},
     "output_type": "execute_result"
    },
    {
     "data": {
      "image/png": "[encoded data removed]",
      "text/plain": [
       "<Figure size 432x288 with 1 Axes>"
      ]
     },
     "metadata": {
      "needs_background": "light"
     },
     "output_type": "display_data"
    }
   ],
   "source": [
    "data_pivot_month=data.pivot_table(index='month',values='last_price',aggfunc='median')\n",
    "data_pivot_month.plot(kind='bar')"
   ]
  },
  {
   "cell_type": "markdown",
   "metadata": {},
   "source": [
    "_По столбчатой диаграмме ,построенной по сводной таблице со значениями месяца публикации объявления __month__ и медианными значениями цены, видно , что сильных отличий цены по месяцам публикации объявления нет . Можно заметить только ,что цена объявлений опубликованных в апреле немного выше остальных, а в июне-немного ниже остальных_  \n"
   ]
  },
  {
   "cell_type": "code",
   "execution_count": 389,
   "metadata": {},
   "outputs": [
    {
     "data": {
      "text/plain": [
       "<AxesSubplot:xlabel='year'>"
      ]
     },
     "execution_count": 389,
     "metadata": {},
     "output_type": "execute_result"
    },
    {
     "data": {
      "image/png": "[encoded data removed]",
      "text/plain": [
       "<Figure size 432x288 with 1 Axes>"
      ]
     },
     "metadata": {
      "needs_background": "light"
     },
     "output_type": "display_data"
    }
   ],
   "source": [
    "data['year'].unique()\n",
    "data_pivot_year=data.pivot_table(index='year',values='last_price',aggfunc='median')\n",
    "data_pivot_year.plot(kind='bar')"
   ]
  },
  {
   "cell_type": "markdown",
   "metadata": {},
   "source": [
    "_По столбчатой диаграмме ,построенной по сводной таблице со значениями года публикации объявления __year__ и медианными значениями цены, видно , что самые высокие цены на недвижимость были в 2014 году, самые низкие -в 2016, 2017 и в 2018 годах_ \n"
   ]
  },
  {
   "cell_type": "code",
   "execution_count": 390,
   "metadata": {},
   "outputs": [
    {
     "data": {
      "text/html": [
       "<div>\n",
       "<style scoped>\n",
       "    .dataframe tbody tr th:only-of-type {\n",
       "        vertical-align: middle;\n",
       "    }\n",
       "\n",
       "    .dataframe tbody tr th {\n",
       "        vertical-align: top;\n",
       "    }\n",
       "\n",
       "    .dataframe thead th {\n",
       "        text-align: right;\n",
       "    }\n",
       "</style>\n",
       "<table border=\"1\" class=\"dataframe\">\n",
       "  <thead>\n",
       "    <tr style=\"text-align: right;\">\n",
       "      <th></th>\n",
       "      <th>count</th>\n",
       "      <th>price_median</th>\n",
       "    </tr>\n",
       "    <tr>\n",
       "      <th>locality_name</th>\n",
       "      <th></th>\n",
       "      <th></th>\n",
       "    </tr>\n",
       "  </thead>\n",
       "  <tbody>\n",
       "    <tr>\n",
       "      <th>Санкт-Петербург</th>\n",
       "      <td>15710</td>\n",
       "      <td>104761.904762</td>\n",
       "    </tr>\n",
       "    <tr>\n",
       "      <th>поселок Мурино</th>\n",
       "      <td>590</td>\n",
       "      <td>86175.643522</td>\n",
       "    </tr>\n",
       "    <tr>\n",
       "      <th>поселок Шушары</th>\n",
       "      <td>440</td>\n",
       "      <td>76876.172608</td>\n",
       "    </tr>\n",
       "    <tr>\n",
       "      <th>Всеволожск</th>\n",
       "      <td>397</td>\n",
       "      <td>65789.473684</td>\n",
       "    </tr>\n",
       "    <tr>\n",
       "      <th>Пушкин</th>\n",
       "      <td>369</td>\n",
       "      <td>100000.000000</td>\n",
       "    </tr>\n",
       "    <tr>\n",
       "      <th>Колпино</th>\n",
       "      <td>338</td>\n",
       "      <td>74723.748474</td>\n",
       "    </tr>\n",
       "    <tr>\n",
       "      <th>поселок Парголово</th>\n",
       "      <td>327</td>\n",
       "      <td>91642.857143</td>\n",
       "    </tr>\n",
       "    <tr>\n",
       "      <th>Гатчина</th>\n",
       "      <td>307</td>\n",
       "      <td>67924.528302</td>\n",
       "    </tr>\n",
       "    <tr>\n",
       "      <th>деревня Кудрово</th>\n",
       "      <td>299</td>\n",
       "      <td>91860.465116</td>\n",
       "    </tr>\n",
       "    <tr>\n",
       "      <th>Выборг</th>\n",
       "      <td>235</td>\n",
       "      <td>58888.888889</td>\n",
       "    </tr>\n",
       "  </tbody>\n",
       "</table>\n",
       "</div>"
      ],
      "text/plain": [
       "                   count   price_median\n",
       "locality_name                          \n",
       "Санкт-Петербург    15710  104761.904762\n",
       "поселок Мурино       590   86175.643522\n",
       "поселок Шушары       440   76876.172608\n",
       "Всеволожск           397   65789.473684\n",
       "Пушкин               369  100000.000000\n",
       "Колпино              338   74723.748474\n",
       "поселок Парголово    327   91642.857143\n",
       "Гатчина              307   67924.528302\n",
       "деревня Кудрово      299   91860.465116\n",
       "Выборг               235   58888.888889"
      ]
     },
     "execution_count": 390,
     "metadata": {},
     "output_type": "execute_result"
    }
   ],
   "source": [
    "data_pivot_locality=data.pivot_table(index='locality_name',values='metr_price',aggfunc=['count','median'])\n",
    "data_pivot_locality.columns=['count','price_median']\n",
    "data_pivot_locality.sort_values(by='count',ascending=False).head(10)"
   ]
  },
  {
   "cell_type": "markdown",
   "metadata": {},
   "source": [
    "__Вывод_4__  \n",
    "\n",
    "_Построив сводную таблицу из названий населенного пункта , медианного значения цены квадратного метра __metr_price__ для каждого населенного пункта и количества объявлений для каждого населенного пункта, я отсортировала ее по убыванию значений количества объявлений и вывела первые 10-населенные пункты с наибольшим количеством объявлений_  \n",
    "_Из этой таблицы видно, что самая высокая цена за метр-в Санкт-Петербурге и Пушкино( 104 и 100 тыс.), а самая низкая -в Выборге(около 58 тыс )_"
   ]
  },
  {
   "cell_type": "code",
   "execution_count": 391,
   "metadata": {},
   "outputs": [
    {
     "data": {
      "text/plain": [
       "116003.24586716175"
      ]
     },
     "execution_count": 391,
     "metadata": {},
     "output_type": "execute_result"
    },
    {
     "data": {
      "image/png": "[encoded data removed]",
      "text/plain": [
       "<Figure size 432x288 with 1 Axes>"
      ]
     },
     "metadata": {
      "needs_background": "light"
     },
     "output_type": "display_data"
    }
   ],
   "source": [
    "data['price_km_center']=data['last_price']/data['cityCenters_nearest_km']\n",
    "data_st_petersburg=data.loc[data['locality_name']=='Санкт-Петербург']\n",
    "data_st_petersburg.plot(x='cityCenters_nearest_km',y='last_price',kind='scatter',alpha=0.3)\n",
    "data_st_petersburg['cityCenters_nearest_km'].corr(data_st_petersburg['last_price'])\n",
    "data_st_petersburg['price_km_center'].median()*0.257784990815915\n"
   ]
  },
  {
   "cell_type": "markdown",
   "metadata": {},
   "source": [
    "__Вывод_5__  \n",
    "\n",
    "_Из гистограммы рассеяния для величин __cityCenters_nearest_km__ и __last_price__ видно что у этих величин обратная зависимость,хоть и небольшая  (при росте расстояния от центра ,стоимость уменьшается),коэффицент корреляции Пирсона так же об этом говорит (-0,25)_  \n",
    "_Для нахождения примерной стоимости 1 километра до центра , я создала новый столбец __price_km_center__ ,значения которого-отношение цены к расстоянию до центра в километрах , и нашла медианное значение этого столбца.Затем умножила его на коэффицент корелляции и получила примерно 116003-примерная стоимость 1 км до центра_"
   ]
  },
  {
   "cell_type": "markdown",
   "metadata": {},
   "source": [
    "### Общий вывод  \n",
    "\n",
    "_В ходе исследовательского анализа данных :объявлений о прадаже квартир в Санкт Петербурге и соседних районах,я выявила ,что :_  \n",
    "\n",
    "_-Общая,жилая и площадь кухни достаточно сильно влияют на стоимость объекта(коэф. корреляции около 0,5)_\n",
    "\n",
    "\n",
    " _-Количество комнат в объекте -при их количестве :до 7 имеют прямую зависимость с ценой (если их больше-прямой зависимости нет)_  \n",
    "\n",
    "_-Объекты ,расположенные на 1 и последнем этажах немного дешевле остальных_  \n",
    "\n",
    "_-День недели публикации не влияет на стоимость объявления_  \n",
    "\n",
    "_-Объявления опубликованные в апреле немного дороже остальных, а опубликованные в июне -немного дешевле_ \n",
    "\n",
    "_-В 2014 году были самые высокие цены на недвижимость , в 2016,2017 и в 2018 годах-самые низкие_  \n",
    "\n",
    "_-Наибольшее количество объявление продается за 110 дней_  \n",
    "\n",
    "_-Проанализировав 10 населенных пунктов с наибольшим количеством объявлений , я выявила ,что самая высокая цена за кв. метр в Санкт-Петербурге и и Пушкино( 104 и 100 тыс.), а самая низкая -в Выборге(около 58 тыс )_  \n",
    "\n",
    "_-Удаленность от центра так же влияет на стоимость объекта , в Санкт петербурге примерная стоимость 1 км до центра 116003_  \n"
   ]
  }
 ],
 "metadata": {
  "ExecuteTimeLog": [
   {
    "duration": 780,
    "start_time": "2022-11-01T07:15:19.314Z"
   },
   {
    "duration": 139,
    "start_time": "2022-11-01T07:20:05.656Z"
   },
   {
    "duration": 129,
    "start_time": "2022-11-01T07:20:52.436Z"
   },
   {
    "duration": 94,
    "start_time": "2022-11-01T07:34:51.302Z"
   },
   {
    "duration": 2244,
    "start_time": "2022-11-01T07:37:43.503Z"
   },
   {
    "duration": 24,
    "start_time": "2022-11-01T07:44:04.904Z"
   },
   {
    "duration": 9,
    "start_time": "2022-11-01T07:44:32.433Z"
   },
   {
    "duration": 16,
    "start_time": "2022-11-01T07:52:36.996Z"
   },
   {
    "duration": 154,
    "start_time": "2022-11-01T08:03:45.988Z"
   },
   {
    "duration": 64,
    "start_time": "2022-11-01T08:04:57.822Z"
   },
   {
    "duration": 39,
    "start_time": "2022-11-01T08:14:04.226Z"
   },
   {
    "duration": 51,
    "start_time": "2022-11-01T08:15:01.418Z"
   },
   {
    "duration": 47,
    "start_time": "2022-11-01T08:18:11.085Z"
   },
   {
    "duration": 25,
    "start_time": "2022-11-01T08:25:03.479Z"
   },
   {
    "duration": 80,
    "start_time": "2022-11-01T08:27:37.305Z"
   },
   {
    "duration": 2135,
    "start_time": "2022-11-01T09:32:49.481Z"
   },
   {
    "duration": 70,
    "start_time": "2022-11-01T09:32:51.620Z"
   },
   {
    "duration": 0,
    "start_time": "2022-11-01T09:32:51.692Z"
   },
   {
    "duration": 2162,
    "start_time": "2022-11-01T09:34:06.898Z"
   },
   {
    "duration": 332,
    "start_time": "2022-11-01T09:34:09.063Z"
   },
   {
    "duration": 0,
    "start_time": "2022-11-01T09:34:09.397Z"
   },
   {
    "duration": 2139,
    "start_time": "2022-11-01T09:34:32.414Z"
   },
   {
    "duration": 259,
    "start_time": "2022-11-01T09:34:34.555Z"
   },
   {
    "duration": 84,
    "start_time": "2022-11-01T09:34:34.816Z"
   },
   {
    "duration": 2066,
    "start_time": "2022-11-01T09:36:01.122Z"
   },
   {
    "duration": 257,
    "start_time": "2022-11-01T09:36:03.190Z"
   },
   {
    "duration": 233,
    "start_time": "2022-11-01T09:36:03.449Z"
   },
   {
    "duration": 69,
    "start_time": "2022-11-01T09:37:04.043Z"
   },
   {
    "duration": 474,
    "start_time": "2022-11-01T12:14:30.900Z"
   },
   {
    "duration": 0,
    "start_time": "2022-11-01T12:14:31.376Z"
   },
   {
    "duration": 2513,
    "start_time": "2022-11-01T12:15:12.431Z"
   },
   {
    "duration": 314,
    "start_time": "2022-11-01T12:15:14.946Z"
   },
   {
    "duration": 65,
    "start_time": "2022-11-01T12:37:27.449Z"
   },
   {
    "duration": 1930,
    "start_time": "2022-11-01T12:38:02.081Z"
   },
   {
    "duration": 231,
    "start_time": "2022-11-01T12:38:04.012Z"
   },
   {
    "duration": 794,
    "start_time": "2022-11-01T12:39:25.450Z"
   },
   {
    "duration": 111,
    "start_time": "2022-11-01T12:42:13.070Z"
   },
   {
    "duration": 820,
    "start_time": "2022-11-01T12:44:17.690Z"
   },
   {
    "duration": 122,
    "start_time": "2022-11-01T12:44:48.989Z"
   },
   {
    "duration": 123,
    "start_time": "2022-11-01T12:45:53.723Z"
   },
   {
    "duration": 48,
    "start_time": "2022-11-01T12:47:15.050Z"
   },
   {
    "duration": 36,
    "start_time": "2022-11-01T12:48:21.222Z"
   },
   {
    "duration": 40,
    "start_time": "2022-11-01T12:49:32.230Z"
   },
   {
    "duration": 39,
    "start_time": "2022-11-01T12:51:33.990Z"
   },
   {
    "duration": 1974,
    "start_time": "2022-11-01T12:51:39.526Z"
   },
   {
    "duration": 249,
    "start_time": "2022-11-01T12:51:41.503Z"
   },
   {
    "duration": 3206,
    "start_time": "2022-11-02T10:22:34.642Z"
   },
   {
    "duration": 307,
    "start_time": "2022-11-02T10:22:37.850Z"
   },
   {
    "duration": 106,
    "start_time": "2022-11-02T10:26:09.524Z"
   },
   {
    "duration": 240,
    "start_time": "2022-11-02T10:37:41.208Z"
   },
   {
    "duration": 528,
    "start_time": "2022-11-03T08:15:03.005Z"
   },
   {
    "duration": 438,
    "start_time": "2022-11-03T08:15:03.535Z"
   },
   {
    "duration": 211,
    "start_time": "2022-11-03T08:15:23.125Z"
   },
   {
    "duration": 205,
    "start_time": "2022-11-03T08:15:55.945Z"
   },
   {
    "duration": 2139,
    "start_time": "2022-11-03T08:18:33.425Z"
   },
   {
    "duration": 383,
    "start_time": "2022-11-03T08:21:28.906Z"
   },
   {
    "duration": 187,
    "start_time": "2022-11-03T08:25:34.425Z"
   },
   {
    "duration": 163,
    "start_time": "2022-11-03T08:28:23.565Z"
   },
   {
    "duration": 275,
    "start_time": "2022-11-03T08:38:52.807Z"
   },
   {
    "duration": 164,
    "start_time": "2022-11-03T08:39:19.946Z"
   },
   {
    "duration": 170,
    "start_time": "2022-11-03T08:39:38.267Z"
   },
   {
    "duration": 162,
    "start_time": "2022-11-03T08:40:51.888Z"
   },
   {
    "duration": 543,
    "start_time": "2022-11-03T08:41:37.028Z"
   },
   {
    "duration": 177,
    "start_time": "2022-11-03T08:43:00.607Z"
   },
   {
    "duration": 451,
    "start_time": "2022-11-03T08:44:09.006Z"
   },
   {
    "duration": 166,
    "start_time": "2022-11-03T08:44:39.187Z"
   },
   {
    "duration": 1823,
    "start_time": "2022-11-03T08:49:07.707Z"
   },
   {
    "duration": 368,
    "start_time": "2022-11-03T08:49:09.532Z"
   },
   {
    "duration": 19,
    "start_time": "2022-11-03T08:49:56.495Z"
   },
   {
    "duration": 175,
    "start_time": "2022-11-03T08:52:09.219Z"
   },
   {
    "duration": 164,
    "start_time": "2022-11-03T08:53:58.790Z"
   },
   {
    "duration": 170,
    "start_time": "2022-11-03T08:55:51.230Z"
   },
   {
    "duration": 252,
    "start_time": "2022-11-03T08:56:25.030Z"
   },
   {
    "duration": 147,
    "start_time": "2022-11-03T08:57:15.370Z"
   },
   {
    "duration": 1682,
    "start_time": "2022-11-03T08:57:32.830Z"
   },
   {
    "duration": 180,
    "start_time": "2022-11-03T08:57:34.514Z"
   },
   {
    "duration": 297,
    "start_time": "2022-11-03T08:58:03.291Z"
   },
   {
    "duration": 179,
    "start_time": "2022-11-03T08:58:29.670Z"
   },
   {
    "duration": 162,
    "start_time": "2022-11-03T08:59:46.751Z"
   },
   {
    "duration": 1837,
    "start_time": "2022-11-03T08:59:53.752Z"
   },
   {
    "duration": 354,
    "start_time": "2022-11-03T08:59:55.591Z"
   },
   {
    "duration": 246,
    "start_time": "2022-11-03T09:03:21.011Z"
   },
   {
    "duration": 260,
    "start_time": "2022-11-03T09:22:35.450Z"
   },
   {
    "duration": 95,
    "start_time": "2022-11-03T09:26:58.014Z"
   },
   {
    "duration": 1891,
    "start_time": "2022-11-03T09:27:39.311Z"
   },
   {
    "duration": 87,
    "start_time": "2022-11-03T09:27:41.206Z"
   },
   {
    "duration": 103,
    "start_time": "2022-11-03T09:29:12.631Z"
   },
   {
    "duration": 1923,
    "start_time": "2022-11-03T09:29:45.550Z"
   },
   {
    "duration": 90,
    "start_time": "2022-11-03T09:29:47.475Z"
   },
   {
    "duration": 84,
    "start_time": "2022-11-03T09:31:38.571Z"
   },
   {
    "duration": 1707,
    "start_time": "2022-11-03T09:50:55.058Z"
   },
   {
    "duration": 84,
    "start_time": "2022-11-03T09:50:56.767Z"
   },
   {
    "duration": 98,
    "start_time": "2022-11-03T09:53:01.678Z"
   },
   {
    "duration": 90,
    "start_time": "2022-11-03T09:53:47.439Z"
   },
   {
    "duration": 1918,
    "start_time": "2022-11-03T09:54:14.338Z"
   },
   {
    "duration": 85,
    "start_time": "2022-11-03T09:54:16.258Z"
   },
   {
    "duration": 1723,
    "start_time": "2022-11-03T09:55:31.639Z"
   },
   {
    "duration": 439,
    "start_time": "2022-11-03T09:58:33.938Z"
   },
   {
    "duration": 278,
    "start_time": "2022-11-03T09:59:54.858Z"
   },
   {
    "duration": 390,
    "start_time": "2022-11-03T10:01:50.358Z"
   },
   {
    "duration": 83,
    "start_time": "2022-11-03T10:04:36.159Z"
   },
   {
    "duration": 84,
    "start_time": "2022-11-03T10:05:41.366Z"
   },
   {
    "duration": 1804,
    "start_time": "2022-11-03T10:08:47.139Z"
   },
   {
    "duration": 85,
    "start_time": "2022-11-03T10:09:11.998Z"
   },
   {
    "duration": 367,
    "start_time": "2022-11-03T10:11:24.160Z"
   },
   {
    "duration": 190,
    "start_time": "2022-11-03T10:11:50.738Z"
   },
   {
    "duration": 194,
    "start_time": "2022-11-03T10:12:51.359Z"
   },
   {
    "duration": 90,
    "start_time": "2022-11-03T10:13:20.999Z"
   },
   {
    "duration": 382,
    "start_time": "2022-11-03T10:23:31.229Z"
   },
   {
    "duration": 1905,
    "start_time": "2022-11-03T10:37:43.618Z"
   },
   {
    "duration": 428,
    "start_time": "2022-11-03T10:37:45.525Z"
   },
   {
    "duration": 182,
    "start_time": "2022-11-03T10:55:21.257Z"
   },
   {
    "duration": 471,
    "start_time": "2022-11-03T10:56:31.889Z"
   },
   {
    "duration": 82,
    "start_time": "2022-11-03T10:59:06.417Z"
   },
   {
    "duration": 452,
    "start_time": "2022-11-03T10:59:27.689Z"
   },
   {
    "duration": 182,
    "start_time": "2022-11-03T11:03:57.708Z"
   },
   {
    "duration": 1400,
    "start_time": "2022-11-03T11:05:17.408Z"
   },
   {
    "duration": 187,
    "start_time": "2022-11-03T11:05:32.288Z"
   },
   {
    "duration": 186,
    "start_time": "2022-11-03T11:06:00.291Z"
   },
   {
    "duration": 177,
    "start_time": "2022-11-03T11:08:02.048Z"
   },
   {
    "duration": 187,
    "start_time": "2022-11-03T11:09:26.388Z"
   },
   {
    "duration": 195,
    "start_time": "2022-11-03T11:11:12.728Z"
   },
   {
    "duration": 1809,
    "start_time": "2022-11-03T11:14:10.648Z"
   },
   {
    "duration": 449,
    "start_time": "2022-11-03T11:14:12.459Z"
   },
   {
    "duration": 177,
    "start_time": "2022-11-03T11:14:54.688Z"
   },
   {
    "duration": 188,
    "start_time": "2022-11-03T11:16:16.409Z"
   },
   {
    "duration": 180,
    "start_time": "2022-11-03T11:17:54.528Z"
   },
   {
    "duration": 193,
    "start_time": "2022-11-03T11:34:27.128Z"
   },
   {
    "duration": 2174,
    "start_time": "2022-11-03T11:35:49.268Z"
   },
   {
    "duration": 380,
    "start_time": "2022-11-03T11:35:51.444Z"
   },
   {
    "duration": 188,
    "start_time": "2022-11-03T11:36:17.668Z"
   },
   {
    "duration": 217,
    "start_time": "2022-11-03T11:37:51.108Z"
   },
   {
    "duration": 182,
    "start_time": "2022-11-03T11:40:54.668Z"
   },
   {
    "duration": 1839,
    "start_time": "2022-11-03T11:46:56.107Z"
   },
   {
    "duration": 371,
    "start_time": "2022-11-03T11:46:57.948Z"
   },
   {
    "duration": 176,
    "start_time": "2022-11-03T11:47:44.966Z"
   },
   {
    "duration": 183,
    "start_time": "2022-11-03T11:48:40.487Z"
   },
   {
    "duration": 176,
    "start_time": "2022-11-03T11:49:09.927Z"
   },
   {
    "duration": 183,
    "start_time": "2022-11-03T11:50:14.226Z"
   },
   {
    "duration": 171,
    "start_time": "2022-11-03T11:57:49.866Z"
   },
   {
    "duration": 183,
    "start_time": "2022-11-03T12:02:24.487Z"
   },
   {
    "duration": 177,
    "start_time": "2022-11-03T12:02:49.627Z"
   },
   {
    "duration": 2044,
    "start_time": "2022-11-03T12:03:13.047Z"
   },
   {
    "duration": 347,
    "start_time": "2022-11-03T12:03:15.093Z"
   },
   {
    "duration": 159,
    "start_time": "2022-11-03T12:03:43.155Z"
   },
   {
    "duration": 156,
    "start_time": "2022-11-03T12:08:20.307Z"
   },
   {
    "duration": 147,
    "start_time": "2022-11-03T12:09:16.448Z"
   },
   {
    "duration": 158,
    "start_time": "2022-11-03T12:10:45.947Z"
   },
   {
    "duration": 1728,
    "start_time": "2022-11-03T12:18:58.587Z"
   },
   {
    "duration": 466,
    "start_time": "2022-11-03T12:19:00.317Z"
   },
   {
    "duration": 202,
    "start_time": "2022-11-03T12:23:25.858Z"
   },
   {
    "duration": 1858,
    "start_time": "2022-11-03T12:23:37.406Z"
   },
   {
    "duration": 414,
    "start_time": "2022-11-03T12:23:39.266Z"
   },
   {
    "duration": 661,
    "start_time": "2022-11-03T12:48:56.588Z"
   },
   {
    "duration": 2924,
    "start_time": "2022-11-03T15:18:48.161Z"
   },
   {
    "duration": 439,
    "start_time": "2022-11-03T15:18:51.087Z"
   },
   {
    "duration": 443,
    "start_time": "2022-11-03T15:18:51.527Z"
   },
   {
    "duration": 1922,
    "start_time": "2022-11-03T15:21:16.513Z"
   },
   {
    "duration": 591,
    "start_time": "2022-11-03T15:21:18.437Z"
   },
   {
    "duration": 385,
    "start_time": "2022-11-03T15:21:19.030Z"
   },
   {
    "duration": 272,
    "start_time": "2022-11-03T15:27:56.173Z"
   },
   {
    "duration": 409,
    "start_time": "2022-11-03T15:32:41.374Z"
   },
   {
    "duration": 274,
    "start_time": "2022-11-03T15:35:35.654Z"
   },
   {
    "duration": 600,
    "start_time": "2022-11-03T15:46:45.615Z"
   },
   {
    "duration": 684,
    "start_time": "2022-11-03T15:49:53.976Z"
   },
   {
    "duration": 2024,
    "start_time": "2022-11-03T15:50:44.876Z"
   },
   {
    "duration": 479,
    "start_time": "2022-11-03T15:50:46.902Z"
   },
   {
    "duration": 607,
    "start_time": "2022-11-03T15:50:47.382Z"
   },
   {
    "duration": 2808,
    "start_time": "2022-11-04T15:40:26.381Z"
   },
   {
    "duration": 411,
    "start_time": "2022-11-04T15:40:29.191Z"
   },
   {
    "duration": 619,
    "start_time": "2022-11-04T15:40:29.603Z"
   },
   {
    "duration": 206,
    "start_time": "2022-11-04T15:41:07.573Z"
   },
   {
    "duration": 193,
    "start_time": "2022-11-04T15:41:54.017Z"
   },
   {
    "duration": 201,
    "start_time": "2022-11-04T15:43:44.181Z"
   },
   {
    "duration": 641,
    "start_time": "2022-11-04T15:46:30.601Z"
   },
   {
    "duration": 563,
    "start_time": "2022-11-04T15:48:33.005Z"
   },
   {
    "duration": 2767,
    "start_time": "2022-11-05T07:51:18.213Z"
   },
   {
    "duration": 434,
    "start_time": "2022-11-05T07:51:20.983Z"
   },
   {
    "duration": 671,
    "start_time": "2022-11-05T07:51:21.418Z"
   },
   {
    "duration": 226,
    "start_time": "2022-11-05T07:51:22.091Z"
   },
   {
    "duration": 211,
    "start_time": "2022-11-05T07:52:35.453Z"
   },
   {
    "duration": 105,
    "start_time": "2022-11-05T07:52:45.333Z"
   },
   {
    "duration": 1286,
    "start_time": "2022-11-05T07:52:54.894Z"
   },
   {
    "duration": 205,
    "start_time": "2022-11-05T07:53:23.213Z"
   },
   {
    "duration": 214,
    "start_time": "2022-11-05T07:54:20.001Z"
   },
   {
    "duration": 414,
    "start_time": "2022-11-05T08:27:20.301Z"
   },
   {
    "duration": 252,
    "start_time": "2022-11-05T08:28:15.753Z"
   },
   {
    "duration": 1937,
    "start_time": "2022-11-05T08:29:23.174Z"
   },
   {
    "duration": 427,
    "start_time": "2022-11-05T08:29:25.114Z"
   },
   {
    "duration": 594,
    "start_time": "2022-11-05T08:29:25.543Z"
   },
   {
    "duration": 246,
    "start_time": "2022-11-05T08:29:26.139Z"
   },
   {
    "duration": 1966,
    "start_time": "2022-11-05T08:47:30.794Z"
   },
   {
    "duration": 381,
    "start_time": "2022-11-05T08:47:32.762Z"
   },
   {
    "duration": 742,
    "start_time": "2022-11-05T08:47:33.144Z"
   },
   {
    "duration": 235,
    "start_time": "2022-11-05T08:47:33.890Z"
   },
   {
    "duration": 200,
    "start_time": "2022-11-05T08:48:02.521Z"
   },
   {
    "duration": 1945,
    "start_time": "2022-11-05T08:49:21.441Z"
   },
   {
    "duration": 392,
    "start_time": "2022-11-05T08:49:23.390Z"
   },
   {
    "duration": 608,
    "start_time": "2022-11-05T08:49:23.784Z"
   },
   {
    "duration": 247,
    "start_time": "2022-11-05T08:49:24.393Z"
   },
   {
    "duration": 199,
    "start_time": "2022-11-05T08:50:21.853Z"
   },
   {
    "duration": 315,
    "start_time": "2022-11-05T08:52:24.013Z"
   },
   {
    "duration": 2071,
    "start_time": "2022-11-05T08:54:00.153Z"
   },
   {
    "duration": 243,
    "start_time": "2022-11-05T09:08:46.972Z"
   },
   {
    "duration": 239,
    "start_time": "2022-11-05T09:11:24.373Z"
   },
   {
    "duration": 396,
    "start_time": "2022-11-05T09:12:33.812Z"
   },
   {
    "duration": 385,
    "start_time": "2022-11-05T09:36:32.294Z"
   },
   {
    "duration": 185,
    "start_time": "2022-11-05T09:37:44.003Z"
   },
   {
    "duration": 462,
    "start_time": "2022-11-05T09:40:00.073Z"
   },
   {
    "duration": 252,
    "start_time": "2022-11-05T09:40:31.513Z"
   },
   {
    "duration": 267,
    "start_time": "2022-11-05T09:41:46.232Z"
   },
   {
    "duration": 263,
    "start_time": "2022-11-05T09:43:36.234Z"
   },
   {
    "duration": 261,
    "start_time": "2022-11-05T09:50:48.293Z"
   },
   {
    "duration": 2179,
    "start_time": "2022-11-05T09:51:16.782Z"
   },
   {
    "duration": 405,
    "start_time": "2022-11-05T09:51:18.963Z"
   },
   {
    "duration": 648,
    "start_time": "2022-11-05T09:51:19.370Z"
   },
   {
    "duration": 454,
    "start_time": "2022-11-05T09:51:20.020Z"
   },
   {
    "duration": 258,
    "start_time": "2022-11-05T10:08:15.893Z"
   },
   {
    "duration": 246,
    "start_time": "2022-11-05T10:11:16.184Z"
   },
   {
    "duration": 224,
    "start_time": "2022-11-05T10:12:07.275Z"
   },
   {
    "duration": 277,
    "start_time": "2022-11-05T10:12:42.074Z"
   },
   {
    "duration": 226,
    "start_time": "2022-11-05T10:13:20.473Z"
   },
   {
    "duration": 256,
    "start_time": "2022-11-05T10:14:15.525Z"
   },
   {
    "duration": 254,
    "start_time": "2022-11-05T10:16:37.013Z"
   },
   {
    "duration": 250,
    "start_time": "2022-11-05T10:16:59.313Z"
   },
   {
    "duration": 251,
    "start_time": "2022-11-05T10:18:42.553Z"
   },
   {
    "duration": 1544,
    "start_time": "2022-11-05T10:19:44.773Z"
   },
   {
    "duration": 141,
    "start_time": "2022-11-05T10:21:53.053Z"
   },
   {
    "duration": 250,
    "start_time": "2022-11-05T10:23:02.873Z"
   },
   {
    "duration": 489,
    "start_time": "2022-11-05T10:25:39.761Z"
   },
   {
    "duration": 256,
    "start_time": "2022-11-05T10:30:44.909Z"
   },
   {
    "duration": 238,
    "start_time": "2022-11-05T10:32:33.533Z"
   },
   {
    "duration": 241,
    "start_time": "2022-11-05T10:33:33.572Z"
   },
   {
    "duration": 246,
    "start_time": "2022-11-05T10:33:42.813Z"
   },
   {
    "duration": 152,
    "start_time": "2022-11-05T10:41:18.113Z"
   },
   {
    "duration": 270,
    "start_time": "2022-11-05T10:41:40.833Z"
   },
   {
    "duration": 260,
    "start_time": "2022-11-05T10:42:31.133Z"
   },
   {
    "duration": 306,
    "start_time": "2022-11-05T10:43:42.313Z"
   },
   {
    "duration": 269,
    "start_time": "2022-11-05T10:54:56.313Z"
   },
   {
    "duration": 700,
    "start_time": "2022-11-05T13:46:41.307Z"
   },
   {
    "duration": 2968,
    "start_time": "2022-11-05T13:46:55.385Z"
   },
   {
    "duration": 459,
    "start_time": "2022-11-05T13:46:58.356Z"
   },
   {
    "duration": 702,
    "start_time": "2022-11-05T13:46:58.817Z"
   },
   {
    "duration": 448,
    "start_time": "2022-11-05T13:46:59.521Z"
   },
   {
    "duration": 259,
    "start_time": "2022-11-05T13:47:22.472Z"
   },
   {
    "duration": 277,
    "start_time": "2022-11-05T13:48:29.465Z"
   },
   {
    "duration": 164,
    "start_time": "2022-11-05T13:55:03.985Z"
   },
   {
    "duration": 282,
    "start_time": "2022-11-05T13:55:29.425Z"
   },
   {
    "duration": 362,
    "start_time": "2022-11-05T13:56:12.066Z"
   },
   {
    "duration": 269,
    "start_time": "2022-11-05T14:00:20.505Z"
   },
   {
    "duration": 276,
    "start_time": "2022-11-05T14:00:58.487Z"
   },
   {
    "duration": 391,
    "start_time": "2022-11-05T14:06:08.265Z"
   },
   {
    "duration": 281,
    "start_time": "2022-11-05T14:08:10.325Z"
   },
   {
    "duration": 423,
    "start_time": "2022-11-05T14:08:54.445Z"
   },
   {
    "duration": 569,
    "start_time": "2022-11-05T14:11:33.385Z"
   },
   {
    "duration": 272,
    "start_time": "2022-11-05T14:15:42.545Z"
   },
   {
    "duration": 55,
    "start_time": "2022-11-05T14:16:19.465Z"
   },
   {
    "duration": 42,
    "start_time": "2022-11-05T14:17:24.197Z"
   },
   {
    "duration": 177,
    "start_time": "2022-11-05T14:19:19.105Z"
   },
   {
    "duration": 100,
    "start_time": "2022-11-05T14:20:32.505Z"
   },
   {
    "duration": 254,
    "start_time": "2022-11-05T14:30:33.265Z"
   },
   {
    "duration": 2073,
    "start_time": "2022-11-05T14:32:44.225Z"
   },
   {
    "duration": 491,
    "start_time": "2022-11-05T14:32:46.301Z"
   },
   {
    "duration": 733,
    "start_time": "2022-11-05T14:32:46.793Z"
   },
   {
    "duration": 281,
    "start_time": "2022-11-05T14:32:47.533Z"
   },
   {
    "duration": 263,
    "start_time": "2022-11-05T14:36:13.565Z"
   },
   {
    "duration": 2125,
    "start_time": "2022-11-05T14:42:40.348Z"
   },
   {
    "duration": 414,
    "start_time": "2022-11-05T14:42:42.475Z"
   },
   {
    "duration": 601,
    "start_time": "2022-11-05T14:42:42.891Z"
   },
   {
    "duration": 292,
    "start_time": "2022-11-05T14:42:43.494Z"
   },
   {
    "duration": 277,
    "start_time": "2022-11-05T14:48:27.365Z"
   },
   {
    "duration": 412,
    "start_time": "2022-11-05T14:49:37.426Z"
   },
   {
    "duration": 2026,
    "start_time": "2022-11-05T14:56:01.685Z"
   },
   {
    "duration": 392,
    "start_time": "2022-11-05T14:56:03.713Z"
   },
   {
    "duration": 830,
    "start_time": "2022-11-05T14:56:04.108Z"
   },
   {
    "duration": 292,
    "start_time": "2022-11-05T14:56:04.941Z"
   },
   {
    "duration": 266,
    "start_time": "2022-11-05T14:58:32.570Z"
   },
   {
    "duration": 289,
    "start_time": "2022-11-05T14:59:16.386Z"
   },
   {
    "duration": 2236,
    "start_time": "2022-11-05T14:59:51.413Z"
   },
   {
    "duration": 430,
    "start_time": "2022-11-05T14:59:53.651Z"
   },
   {
    "duration": 629,
    "start_time": "2022-11-05T14:59:54.083Z"
   },
   {
    "duration": 289,
    "start_time": "2022-11-05T14:59:54.714Z"
   },
   {
    "duration": 271,
    "start_time": "2022-11-05T15:00:56.726Z"
   },
   {
    "duration": 277,
    "start_time": "2022-11-05T15:01:21.766Z"
   },
   {
    "duration": 262,
    "start_time": "2022-11-05T15:02:49.326Z"
   },
   {
    "duration": 2222,
    "start_time": "2022-11-05T15:13:19.367Z"
   },
   {
    "duration": 317,
    "start_time": "2022-11-05T15:13:44.906Z"
   },
   {
    "duration": 1993,
    "start_time": "2022-11-05T15:15:46.151Z"
   },
   {
    "duration": 408,
    "start_time": "2022-11-05T15:15:48.146Z"
   },
   {
    "duration": 874,
    "start_time": "2022-11-05T15:15:48.556Z"
   },
   {
    "duration": 287,
    "start_time": "2022-11-05T15:15:49.433Z"
   },
   {
    "duration": 2028,
    "start_time": "2022-11-05T15:21:14.381Z"
   },
   {
    "duration": 399,
    "start_time": "2022-11-05T15:21:16.412Z"
   },
   {
    "duration": 645,
    "start_time": "2022-11-05T15:21:16.813Z"
   },
   {
    "duration": 292,
    "start_time": "2022-11-05T15:21:17.461Z"
   },
   {
    "duration": 682,
    "start_time": "2022-11-05T15:24:38.758Z"
   },
   {
    "duration": 318,
    "start_time": "2022-11-05T15:24:54.253Z"
   },
   {
    "duration": 3996,
    "start_time": "2022-11-05T15:26:39.556Z"
   },
   {
    "duration": 291,
    "start_time": "2022-11-05T15:27:23.109Z"
   },
   {
    "duration": 117,
    "start_time": "2022-11-05T15:28:53.440Z"
   },
   {
    "duration": 2388,
    "start_time": "2022-11-05T15:29:31.990Z"
   },
   {
    "duration": 395,
    "start_time": "2022-11-05T15:29:34.380Z"
   },
   {
    "duration": 630,
    "start_time": "2022-11-05T15:29:34.777Z"
   },
   {
    "duration": 295,
    "start_time": "2022-11-05T15:29:35.410Z"
   },
   {
    "duration": 50,
    "start_time": "2022-11-05T16:11:40.674Z"
   },
   {
    "duration": 2068,
    "start_time": "2022-11-05T16:13:21.431Z"
   },
   {
    "duration": 427,
    "start_time": "2022-11-05T16:13:23.501Z"
   },
   {
    "duration": 305,
    "start_time": "2022-11-05T16:13:23.929Z"
   },
   {
    "duration": 0,
    "start_time": "2022-11-05T16:13:24.236Z"
   },
   {
    "duration": 291,
    "start_time": "2022-11-05T16:14:33.845Z"
   },
   {
    "duration": 289,
    "start_time": "2022-11-05T16:15:35.341Z"
   },
   {
    "duration": 2637,
    "start_time": "2022-11-05T16:15:52.337Z"
   },
   {
    "duration": 442,
    "start_time": "2022-11-05T16:15:54.977Z"
   },
   {
    "duration": 301,
    "start_time": "2022-11-05T16:15:55.421Z"
   },
   {
    "duration": 0,
    "start_time": "2022-11-05T16:15:55.724Z"
   },
   {
    "duration": 642,
    "start_time": "2022-11-05T16:16:58.478Z"
   },
   {
    "duration": 649,
    "start_time": "2022-11-05T16:17:23.037Z"
   },
   {
    "duration": 630,
    "start_time": "2022-11-05T16:18:30.866Z"
   },
   {
    "duration": 2182,
    "start_time": "2022-11-05T16:18:42.648Z"
   },
   {
    "duration": 447,
    "start_time": "2022-11-05T16:18:44.832Z"
   },
   {
    "duration": 1363,
    "start_time": "2022-11-05T16:18:45.281Z"
   },
   {
    "duration": 66,
    "start_time": "2022-11-05T16:18:46.646Z"
   },
   {
    "duration": 662,
    "start_time": "2022-11-05T16:29:30.336Z"
   },
   {
    "duration": 2403,
    "start_time": "2022-11-05T16:33:25.485Z"
   },
   {
    "duration": 470,
    "start_time": "2022-11-05T16:33:27.891Z"
   },
   {
    "duration": 701,
    "start_time": "2022-11-05T16:33:28.363Z"
   },
   {
    "duration": 200,
    "start_time": "2022-11-05T16:33:29.067Z"
   },
   {
    "duration": 249,
    "start_time": "2022-11-05T16:34:11.694Z"
   },
   {
    "duration": 207,
    "start_time": "2022-11-05T16:42:29.374Z"
   },
   {
    "duration": 2957,
    "start_time": "2022-11-06T07:46:03.895Z"
   },
   {
    "duration": 352,
    "start_time": "2022-11-06T07:46:06.855Z"
   },
   {
    "duration": 716,
    "start_time": "2022-11-06T07:46:07.209Z"
   },
   {
    "duration": 284,
    "start_time": "2022-11-06T07:46:07.927Z"
   },
   {
    "duration": 1925,
    "start_time": "2022-11-06T07:48:14.215Z"
   },
   {
    "duration": 353,
    "start_time": "2022-11-06T07:48:16.143Z"
   },
   {
    "duration": 672,
    "start_time": "2022-11-06T07:48:16.498Z"
   },
   {
    "duration": 307,
    "start_time": "2022-11-06T07:48:17.172Z"
   },
   {
    "duration": 1901,
    "start_time": "2022-11-06T07:50:18.038Z"
   },
   {
    "duration": 331,
    "start_time": "2022-11-06T07:50:19.941Z"
   },
   {
    "duration": 736,
    "start_time": "2022-11-06T07:50:20.273Z"
   },
   {
    "duration": 300,
    "start_time": "2022-11-06T07:50:21.012Z"
   },
   {
    "duration": 260,
    "start_time": "2022-11-06T07:51:26.538Z"
   },
   {
    "duration": 278,
    "start_time": "2022-11-06T07:52:04.077Z"
   },
   {
    "duration": 279,
    "start_time": "2022-11-06T08:00:51.658Z"
   },
   {
    "duration": 847,
    "start_time": "2022-11-06T08:01:26.757Z"
   },
   {
    "duration": 461,
    "start_time": "2022-11-06T08:01:54.298Z"
   },
   {
    "duration": 49,
    "start_time": "2022-11-06T08:05:50.137Z"
   },
   {
    "duration": 277,
    "start_time": "2022-11-06T08:06:05.725Z"
   },
   {
    "duration": 299,
    "start_time": "2022-11-06T08:06:42.818Z"
   },
   {
    "duration": 299,
    "start_time": "2022-11-06T08:08:07.997Z"
   },
   {
    "duration": 402,
    "start_time": "2022-11-06T08:08:38.379Z"
   },
   {
    "duration": 289,
    "start_time": "2022-11-06T08:11:23.158Z"
   },
   {
    "duration": 271,
    "start_time": "2022-11-06T08:11:40.361Z"
   },
   {
    "duration": 264,
    "start_time": "2022-11-06T08:12:40.898Z"
   },
   {
    "duration": 1985,
    "start_time": "2022-11-06T08:13:00.838Z"
   },
   {
    "duration": 341,
    "start_time": "2022-11-06T08:13:02.826Z"
   },
   {
    "duration": 709,
    "start_time": "2022-11-06T08:13:03.168Z"
   },
   {
    "duration": 284,
    "start_time": "2022-11-06T08:13:03.878Z"
   },
   {
    "duration": 298,
    "start_time": "2022-11-06T08:14:22.337Z"
   },
   {
    "duration": 460,
    "start_time": "2022-11-06T08:15:37.276Z"
   },
   {
    "duration": 279,
    "start_time": "2022-11-06T08:16:27.755Z"
   },
   {
    "duration": 278,
    "start_time": "2022-11-06T08:23:14.616Z"
   },
   {
    "duration": 312,
    "start_time": "2022-11-06T08:24:55.875Z"
   },
   {
    "duration": 288,
    "start_time": "2022-11-06T08:25:20.914Z"
   },
   {
    "duration": 300,
    "start_time": "2022-11-06T08:25:41.543Z"
   },
   {
    "duration": 289,
    "start_time": "2022-11-06T08:26:06.757Z"
   },
   {
    "duration": 296,
    "start_time": "2022-11-06T08:26:22.337Z"
   },
   {
    "duration": 450,
    "start_time": "2022-11-06T08:27:05.637Z"
   },
   {
    "duration": 294,
    "start_time": "2022-11-06T08:33:53.503Z"
   },
   {
    "duration": 332,
    "start_time": "2022-11-06T08:34:35.870Z"
   },
   {
    "duration": 287,
    "start_time": "2022-11-06T08:34:54.971Z"
   },
   {
    "duration": 294,
    "start_time": "2022-11-06T08:35:25.345Z"
   },
   {
    "duration": 358,
    "start_time": "2022-11-06T08:36:39.922Z"
   },
   {
    "duration": 306,
    "start_time": "2022-11-06T08:36:59.715Z"
   },
   {
    "duration": 288,
    "start_time": "2022-11-06T08:43:28.298Z"
   },
   {
    "duration": 454,
    "start_time": "2022-11-06T08:43:45.739Z"
   },
   {
    "duration": 219,
    "start_time": "2022-11-06T08:58:52.842Z"
   },
   {
    "duration": 292,
    "start_time": "2022-11-06T09:06:26.818Z"
   },
   {
    "duration": 255,
    "start_time": "2022-11-06T09:07:04.921Z"
   },
   {
    "duration": 296,
    "start_time": "2022-11-06T09:07:35.278Z"
   },
   {
    "duration": 229,
    "start_time": "2022-11-06T09:08:32.657Z"
   },
   {
    "duration": 50,
    "start_time": "2022-11-06T09:13:20.458Z"
   },
   {
    "duration": 85,
    "start_time": "2022-11-06T09:13:40.878Z"
   },
   {
    "duration": 236,
    "start_time": "2022-11-06T09:14:21.777Z"
   },
   {
    "duration": 233,
    "start_time": "2022-11-06T09:30:12.575Z"
   },
   {
    "duration": 286,
    "start_time": "2022-11-06T09:50:14.404Z"
   },
   {
    "duration": 253,
    "start_time": "2022-11-06T09:52:30.221Z"
   },
   {
    "duration": 235,
    "start_time": "2022-11-06T10:06:02.046Z"
   },
   {
    "duration": 236,
    "start_time": "2022-11-06T10:27:01.240Z"
   },
   {
    "duration": 284,
    "start_time": "2022-11-06T10:30:16.825Z"
   },
   {
    "duration": 1060,
    "start_time": "2022-11-06T10:32:21.759Z"
   },
   {
    "duration": 731,
    "start_time": "2022-11-06T10:33:50.157Z"
   },
   {
    "duration": 941,
    "start_time": "2022-11-06T10:35:21.500Z"
   },
   {
    "duration": 234,
    "start_time": "2022-11-06T10:36:28.820Z"
   },
   {
    "duration": 430,
    "start_time": "2022-11-06T10:37:24.922Z"
   },
   {
    "duration": 439,
    "start_time": "2022-11-06T10:38:11.201Z"
   },
   {
    "duration": 432,
    "start_time": "2022-11-06T10:38:36.399Z"
   },
   {
    "duration": 453,
    "start_time": "2022-11-06T10:49:18.215Z"
   },
   {
    "duration": 65,
    "start_time": "2022-11-06T10:59:38.694Z"
   },
   {
    "duration": 184,
    "start_time": "2022-11-06T11:00:25.365Z"
   },
   {
    "duration": 70,
    "start_time": "2022-11-06T11:13:13.169Z"
   },
   {
    "duration": 68,
    "start_time": "2022-11-06T11:14:07.665Z"
   },
   {
    "duration": 195,
    "start_time": "2022-11-06T11:14:24.976Z"
   },
   {
    "duration": 81,
    "start_time": "2022-11-06T11:24:37.951Z"
   },
   {
    "duration": 232,
    "start_time": "2022-11-06T11:25:04.148Z"
   },
   {
    "duration": 382,
    "start_time": "2022-11-06T11:35:22.652Z"
   },
   {
    "duration": 82,
    "start_time": "2022-11-06T11:37:35.746Z"
   },
   {
    "duration": 206,
    "start_time": "2022-11-06T11:38:19.107Z"
   },
   {
    "duration": 83,
    "start_time": "2022-11-06T11:52:22.166Z"
   },
   {
    "duration": 88,
    "start_time": "2022-11-06T11:52:55.578Z"
   },
   {
    "duration": 92,
    "start_time": "2022-11-06T11:59:53.139Z"
   },
   {
    "duration": 83,
    "start_time": "2022-11-06T12:03:12.946Z"
   },
   {
    "duration": 97,
    "start_time": "2022-11-06T12:03:36.638Z"
   },
   {
    "duration": 119,
    "start_time": "2022-11-06T12:04:37.346Z"
   },
   {
    "duration": 113,
    "start_time": "2022-11-06T12:11:05.185Z"
   },
   {
    "duration": 96,
    "start_time": "2022-11-06T12:12:19.845Z"
   },
   {
    "duration": 152,
    "start_time": "2022-11-06T12:12:48.085Z"
   },
   {
    "duration": 103,
    "start_time": "2022-11-06T12:13:48.407Z"
   },
   {
    "duration": 117,
    "start_time": "2022-11-06T12:14:40.258Z"
   },
   {
    "duration": 123,
    "start_time": "2022-11-06T12:15:34.486Z"
   },
   {
    "duration": 93,
    "start_time": "2022-11-06T12:16:58.968Z"
   },
   {
    "duration": 98,
    "start_time": "2022-11-06T12:17:23.305Z"
   },
   {
    "duration": 99,
    "start_time": "2022-11-06T12:17:59.905Z"
   },
   {
    "duration": 105,
    "start_time": "2022-11-06T12:18:26.586Z"
   },
   {
    "duration": 101,
    "start_time": "2022-11-06T12:48:23.318Z"
   },
   {
    "duration": 134,
    "start_time": "2022-11-06T12:48:55.600Z"
   },
   {
    "duration": 102,
    "start_time": "2022-11-06T12:52:28.958Z"
   },
   {
    "duration": 1823,
    "start_time": "2022-11-06T12:53:58.305Z"
   },
   {
    "duration": 305,
    "start_time": "2022-11-06T12:54:00.130Z"
   },
   {
    "duration": 848,
    "start_time": "2022-11-06T12:54:00.436Z"
   },
   {
    "duration": 143,
    "start_time": "2022-11-06T12:54:01.286Z"
   },
   {
    "duration": 102,
    "start_time": "2022-11-06T12:56:03.497Z"
   },
   {
    "duration": 102,
    "start_time": "2022-11-06T12:56:44.305Z"
   },
   {
    "duration": 100,
    "start_time": "2022-11-06T12:58:48.479Z"
   },
   {
    "duration": 105,
    "start_time": "2022-11-06T13:06:03.005Z"
   },
   {
    "duration": 102,
    "start_time": "2022-11-06T13:06:54.778Z"
   },
   {
    "duration": 98,
    "start_time": "2022-11-06T13:08:49.737Z"
   },
   {
    "duration": 780,
    "start_time": "2022-11-06T13:21:23.817Z"
   },
   {
    "duration": 133,
    "start_time": "2022-11-06T13:21:55.245Z"
   },
   {
    "duration": 97,
    "start_time": "2022-11-06T13:23:42.065Z"
   },
   {
    "duration": 2707,
    "start_time": "2022-11-07T08:49:42.353Z"
   },
   {
    "duration": 345,
    "start_time": "2022-11-07T08:49:45.062Z"
   },
   {
    "duration": 669,
    "start_time": "2022-11-07T08:49:45.409Z"
   },
   {
    "duration": 117,
    "start_time": "2022-11-07T08:49:46.081Z"
   },
   {
    "duration": 1786,
    "start_time": "2022-11-07T09:07:19.607Z"
   },
   {
    "duration": 1932,
    "start_time": "2022-11-07T09:21:12.294Z"
   },
   {
    "duration": 1922,
    "start_time": "2022-11-07T09:23:31.184Z"
   },
   {
    "duration": 1886,
    "start_time": "2022-11-07T09:25:02.324Z"
   },
   {
    "duration": 1907,
    "start_time": "2022-11-07T09:28:12.763Z"
   },
   {
    "duration": 99,
    "start_time": "2022-11-07T09:58:38.089Z"
   },
   {
    "duration": 1936,
    "start_time": "2022-11-07T10:00:52.529Z"
   },
   {
    "duration": 267,
    "start_time": "2022-11-07T10:00:54.466Z"
   },
   {
    "duration": 573,
    "start_time": "2022-11-07T10:00:54.735Z"
   },
   {
    "duration": 132,
    "start_time": "2022-11-07T10:00:55.310Z"
   },
   {
    "duration": 107,
    "start_time": "2022-11-07T10:06:16.098Z"
   },
   {
    "duration": 119,
    "start_time": "2022-11-07T10:09:01.459Z"
   },
   {
    "duration": 254,
    "start_time": "2022-11-07T10:20:32.407Z"
   },
   {
    "duration": 255,
    "start_time": "2022-11-07T10:23:18.125Z"
   },
   {
    "duration": 253,
    "start_time": "2022-11-07T10:23:34.732Z"
   },
   {
    "duration": 370,
    "start_time": "2022-11-07T10:25:45.127Z"
   },
   {
    "duration": 263,
    "start_time": "2022-11-07T10:27:00.956Z"
   },
   {
    "duration": 61,
    "start_time": "2022-11-08T08:53:26.856Z"
   },
   {
    "duration": 610,
    "start_time": "2022-11-08T08:53:45.317Z"
   },
   {
    "duration": 2443,
    "start_time": "2022-11-08T08:53:58.958Z"
   },
   {
    "duration": 336,
    "start_time": "2022-11-08T08:54:01.404Z"
   },
   {
    "duration": 730,
    "start_time": "2022-11-08T08:54:01.742Z"
   },
   {
    "duration": 349,
    "start_time": "2022-11-08T08:54:02.474Z"
   },
   {
    "duration": 306,
    "start_time": "2022-11-08T08:56:47.937Z"
   },
   {
    "duration": 274,
    "start_time": "2022-11-08T09:00:42.805Z"
   },
   {
    "duration": 300,
    "start_time": "2022-11-08T09:48:13.308Z"
   },
   {
    "duration": 285,
    "start_time": "2022-11-08T09:48:46.538Z"
   },
   {
    "duration": 264,
    "start_time": "2022-11-08T09:49:24.843Z"
   },
   {
    "duration": 280,
    "start_time": "2022-11-08T09:51:34.149Z"
   },
   {
    "duration": 280,
    "start_time": "2022-11-08T09:52:00.322Z"
   },
   {
    "duration": 2126,
    "start_time": "2022-11-08T10:04:26.494Z"
   },
   {
    "duration": 371,
    "start_time": "2022-11-08T10:04:28.622Z"
   },
   {
    "duration": 675,
    "start_time": "2022-11-08T10:04:28.995Z"
   },
   {
    "duration": 276,
    "start_time": "2022-11-08T10:04:29.672Z"
   },
   {
    "duration": 175,
    "start_time": "2022-11-08T10:08:06.591Z"
   },
   {
    "duration": 49,
    "start_time": "2022-11-08T16:51:55.990Z"
   },
   {
    "duration": 3221,
    "start_time": "2022-11-08T16:52:03.990Z"
   },
   {
    "duration": 285,
    "start_time": "2022-11-08T16:52:07.214Z"
   },
   {
    "duration": 15,
    "start_time": "2022-11-08T16:52:07.500Z"
   },
   {
    "duration": 61,
    "start_time": "2022-11-08T16:52:07.517Z"
   },
   {
    "duration": 6,
    "start_time": "2022-11-08T16:52:07.580Z"
   },
   {
    "duration": 17,
    "start_time": "2022-11-08T16:52:07.588Z"
   },
   {
    "duration": 25,
    "start_time": "2022-11-08T16:52:07.607Z"
   },
   {
    "duration": 727,
    "start_time": "2022-11-08T16:52:07.633Z"
   },
   {
    "duration": 287,
    "start_time": "2022-11-08T16:52:08.361Z"
   },
   {
    "duration": 5,
    "start_time": "2022-11-08T17:01:35.589Z"
   },
   {
    "duration": 15,
    "start_time": "2022-11-08T17:02:30.109Z"
   },
   {
    "duration": 1864,
    "start_time": "2022-11-08T17:03:02.095Z"
   },
   {
    "duration": 316,
    "start_time": "2022-11-08T17:03:03.962Z"
   },
   {
    "duration": 13,
    "start_time": "2022-11-08T17:03:04.280Z"
   },
   {
    "duration": 75,
    "start_time": "2022-11-08T17:03:04.295Z"
   },
   {
    "duration": 4,
    "start_time": "2022-11-08T17:03:04.372Z"
   },
   {
    "duration": 31,
    "start_time": "2022-11-08T17:03:04.378Z"
   },
   {
    "duration": 23,
    "start_time": "2022-11-08T17:03:04.411Z"
   },
   {
    "duration": 33,
    "start_time": "2022-11-08T17:03:04.436Z"
   },
   {
    "duration": 53,
    "start_time": "2022-11-08T17:03:04.471Z"
   },
   {
    "duration": 234,
    "start_time": "2022-11-08T17:03:04.526Z"
   },
   {
    "duration": 2048,
    "start_time": "2022-11-08T17:06:58.690Z"
   },
   {
    "duration": 40,
    "start_time": "2022-11-08T17:07:00.741Z"
   },
   {
    "duration": 11,
    "start_time": "2022-11-08T17:07:00.783Z"
   },
   {
    "duration": 98,
    "start_time": "2022-11-08T17:07:00.795Z"
   },
   {
    "duration": 5,
    "start_time": "2022-11-08T17:07:00.896Z"
   },
   {
    "duration": 29,
    "start_time": "2022-11-08T17:07:00.903Z"
   },
   {
    "duration": 29,
    "start_time": "2022-11-08T17:07:00.934Z"
   },
   {
    "duration": 24,
    "start_time": "2022-11-08T17:07:00.965Z"
   },
   {
    "duration": 28,
    "start_time": "2022-11-08T17:07:00.991Z"
   },
   {
    "duration": 62,
    "start_time": "2022-11-08T17:07:01.021Z"
   },
   {
    "duration": 250,
    "start_time": "2022-11-08T17:07:01.085Z"
   },
   {
    "duration": 6,
    "start_time": "2022-11-08T17:09:03.728Z"
   },
   {
    "duration": 253,
    "start_time": "2022-11-08T17:09:52.269Z"
   },
   {
    "duration": 2110,
    "start_time": "2022-11-08T17:13:15.450Z"
   },
   {
    "duration": 53,
    "start_time": "2022-11-08T17:13:17.563Z"
   },
   {
    "duration": 10,
    "start_time": "2022-11-08T17:13:17.631Z"
   },
   {
    "duration": 111,
    "start_time": "2022-11-08T17:13:17.643Z"
   },
   {
    "duration": 8,
    "start_time": "2022-11-08T17:13:17.757Z"
   },
   {
    "duration": 23,
    "start_time": "2022-11-08T17:13:17.767Z"
   },
   {
    "duration": 59,
    "start_time": "2022-11-08T17:13:17.792Z"
   },
   {
    "duration": 232,
    "start_time": "2022-11-08T17:13:17.853Z"
   },
   {
    "duration": 0,
    "start_time": "2022-11-08T17:13:18.088Z"
   },
   {
    "duration": 0,
    "start_time": "2022-11-08T17:13:18.089Z"
   },
   {
    "duration": 0,
    "start_time": "2022-11-08T17:13:18.091Z"
   },
   {
    "duration": 6,
    "start_time": "2022-11-08T17:14:03.349Z"
   },
   {
    "duration": 10,
    "start_time": "2022-11-08T17:14:06.229Z"
   },
   {
    "duration": 8,
    "start_time": "2022-11-08T17:14:24.630Z"
   },
   {
    "duration": 2146,
    "start_time": "2022-11-08T17:16:30.743Z"
   },
   {
    "duration": 54,
    "start_time": "2022-11-08T17:16:32.891Z"
   },
   {
    "duration": 12,
    "start_time": "2022-11-08T17:16:32.947Z"
   },
   {
    "duration": 93,
    "start_time": "2022-11-08T17:16:32.960Z"
   },
   {
    "duration": 7,
    "start_time": "2022-11-08T17:16:33.056Z"
   },
   {
    "duration": 19,
    "start_time": "2022-11-08T17:16:33.064Z"
   },
   {
    "duration": 20,
    "start_time": "2022-11-08T17:16:33.085Z"
   },
   {
    "duration": 27,
    "start_time": "2022-11-08T17:16:33.107Z"
   },
   {
    "duration": 14,
    "start_time": "2022-11-08T17:16:33.137Z"
   },
   {
    "duration": 49,
    "start_time": "2022-11-08T17:16:33.154Z"
   },
   {
    "duration": 263,
    "start_time": "2022-11-08T17:16:33.205Z"
   },
   {
    "duration": 5,
    "start_time": "2022-11-08T17:16:59.700Z"
   },
   {
    "duration": 11,
    "start_time": "2022-11-08T17:17:07.261Z"
   },
   {
    "duration": 5,
    "start_time": "2022-11-08T17:17:16.760Z"
   },
   {
    "duration": 5,
    "start_time": "2022-11-08T17:17:22.644Z"
   },
   {
    "duration": 7,
    "start_time": "2022-11-08T17:17:28.460Z"
   },
   {
    "duration": 5,
    "start_time": "2022-11-08T17:17:57.669Z"
   },
   {
    "duration": 2107,
    "start_time": "2022-11-08T17:19:28.522Z"
   },
   {
    "duration": 4,
    "start_time": "2022-11-08T17:19:30.631Z"
   },
   {
    "duration": 39,
    "start_time": "2022-11-08T17:19:30.637Z"
   },
   {
    "duration": 99,
    "start_time": "2022-11-08T17:19:30.678Z"
   },
   {
    "duration": 8,
    "start_time": "2022-11-08T17:19:30.779Z"
   },
   {
    "duration": 30,
    "start_time": "2022-11-08T17:19:30.789Z"
   },
   {
    "duration": 44,
    "start_time": "2022-11-08T17:19:30.821Z"
   },
   {
    "duration": 48,
    "start_time": "2022-11-08T17:19:30.867Z"
   },
   {
    "duration": 23,
    "start_time": "2022-11-08T17:19:30.916Z"
   },
   {
    "duration": 74,
    "start_time": "2022-11-08T17:19:30.941Z"
   },
   {
    "duration": 225,
    "start_time": "2022-11-08T17:19:31.016Z"
   },
   {
    "duration": 4,
    "start_time": "2022-11-08T17:20:23.382Z"
   },
   {
    "duration": 5,
    "start_time": "2022-11-08T17:20:28.021Z"
   },
   {
    "duration": 1951,
    "start_time": "2022-11-08T17:21:35.561Z"
   },
   {
    "duration": 4,
    "start_time": "2022-11-08T17:21:37.513Z"
   },
   {
    "duration": 20,
    "start_time": "2022-11-08T17:21:37.518Z"
   },
   {
    "duration": 69,
    "start_time": "2022-11-08T17:21:37.540Z"
   },
   {
    "duration": 5,
    "start_time": "2022-11-08T17:21:37.611Z"
   },
   {
    "duration": 20,
    "start_time": "2022-11-08T17:21:37.617Z"
   },
   {
    "duration": 593,
    "start_time": "2022-11-08T17:21:37.638Z"
   },
   {
    "duration": 0,
    "start_time": "2022-11-08T17:21:38.233Z"
   },
   {
    "duration": 4,
    "start_time": "2022-11-08T17:22:01.640Z"
   },
   {
    "duration": 10,
    "start_time": "2022-11-08T17:22:04.443Z"
   },
   {
    "duration": 1957,
    "start_time": "2022-11-08T17:24:46.301Z"
   },
   {
    "duration": 4,
    "start_time": "2022-11-08T17:24:48.260Z"
   },
   {
    "duration": 7,
    "start_time": "2022-11-08T17:24:48.265Z"
   },
   {
    "duration": 14,
    "start_time": "2022-11-08T17:24:48.274Z"
   },
   {
    "duration": 10,
    "start_time": "2022-11-08T17:25:16.440Z"
   },
   {
    "duration": 4,
    "start_time": "2022-11-08T17:25:19.881Z"
   },
   {
    "duration": 4,
    "start_time": "2022-11-08T17:25:25.263Z"
   },
   {
    "duration": 12,
    "start_time": "2022-11-08T17:25:27.280Z"
   },
   {
    "duration": 1998,
    "start_time": "2022-11-08T17:25:45.601Z"
   },
   {
    "duration": 7,
    "start_time": "2022-11-08T17:25:47.600Z"
   },
   {
    "duration": 7,
    "start_time": "2022-11-08T17:25:47.608Z"
   },
   {
    "duration": 21,
    "start_time": "2022-11-08T17:25:47.616Z"
   },
   {
    "duration": 4,
    "start_time": "2022-11-08T17:26:05.480Z"
   },
   {
    "duration": 10,
    "start_time": "2022-11-08T17:26:10.681Z"
   },
   {
    "duration": 4,
    "start_time": "2022-11-08T17:27:48.580Z"
   },
   {
    "duration": 1978,
    "start_time": "2022-11-08T17:28:06.582Z"
   },
   {
    "duration": 6,
    "start_time": "2022-11-08T17:28:08.562Z"
   },
   {
    "duration": 6,
    "start_time": "2022-11-08T17:28:08.569Z"
   },
   {
    "duration": 8,
    "start_time": "2022-11-08T17:28:08.577Z"
   },
   {
    "duration": 10,
    "start_time": "2022-11-08T17:28:08.587Z"
   },
   {
    "duration": 4,
    "start_time": "2022-11-08T17:28:34.140Z"
   },
   {
    "duration": 4,
    "start_time": "2022-11-08T17:28:41.900Z"
   },
   {
    "duration": 4,
    "start_time": "2022-11-08T17:28:45.420Z"
   },
   {
    "duration": 2107,
    "start_time": "2022-11-08T17:29:03.102Z"
   },
   {
    "duration": 4,
    "start_time": "2022-11-08T17:29:05.211Z"
   },
   {
    "duration": 14,
    "start_time": "2022-11-08T17:29:05.217Z"
   },
   {
    "duration": 40,
    "start_time": "2022-11-08T17:29:05.232Z"
   },
   {
    "duration": 32,
    "start_time": "2022-11-08T17:29:05.273Z"
   },
   {
    "duration": 10,
    "start_time": "2022-11-08T17:30:17.740Z"
   },
   {
    "duration": 1935,
    "start_time": "2022-11-08T17:30:25.092Z"
   },
   {
    "duration": 4,
    "start_time": "2022-11-08T17:30:27.030Z"
   },
   {
    "duration": 24,
    "start_time": "2022-11-08T17:30:27.035Z"
   },
   {
    "duration": 8,
    "start_time": "2022-11-08T17:30:27.061Z"
   },
   {
    "duration": 15,
    "start_time": "2022-11-08T17:30:27.071Z"
   },
   {
    "duration": 7,
    "start_time": "2022-11-08T17:30:54.442Z"
   },
   {
    "duration": 1880,
    "start_time": "2022-11-08T17:31:51.262Z"
   },
   {
    "duration": 5,
    "start_time": "2022-11-08T17:31:53.143Z"
   },
   {
    "duration": 8,
    "start_time": "2022-11-08T17:31:53.150Z"
   },
   {
    "duration": 6,
    "start_time": "2022-11-08T17:31:53.159Z"
   },
   {
    "duration": 17,
    "start_time": "2022-11-08T17:31:53.167Z"
   },
   {
    "duration": 10,
    "start_time": "2022-11-08T17:32:17.240Z"
   },
   {
    "duration": 4,
    "start_time": "2022-11-08T17:32:22.901Z"
   },
   {
    "duration": 2184,
    "start_time": "2022-11-08T17:32:36.282Z"
   },
   {
    "duration": 4,
    "start_time": "2022-11-08T17:32:38.468Z"
   },
   {
    "duration": 10,
    "start_time": "2022-11-08T17:32:38.474Z"
   },
   {
    "duration": 5,
    "start_time": "2022-11-08T17:32:38.486Z"
   },
   {
    "duration": 18,
    "start_time": "2022-11-08T17:32:38.492Z"
   },
   {
    "duration": 11,
    "start_time": "2022-11-08T17:33:19.042Z"
   },
   {
    "duration": 2274,
    "start_time": "2022-11-08T17:33:43.400Z"
   },
   {
    "duration": 6,
    "start_time": "2022-11-08T17:33:45.676Z"
   },
   {
    "duration": 9,
    "start_time": "2022-11-08T17:33:45.684Z"
   },
   {
    "duration": 5,
    "start_time": "2022-11-08T17:33:45.695Z"
   },
   {
    "duration": 29,
    "start_time": "2022-11-08T17:33:45.702Z"
   },
   {
    "duration": 11,
    "start_time": "2022-11-08T17:34:26.261Z"
   },
   {
    "duration": 1904,
    "start_time": "2022-11-08T17:36:37.902Z"
   },
   {
    "duration": 4,
    "start_time": "2022-11-08T17:36:39.808Z"
   },
   {
    "duration": 21,
    "start_time": "2022-11-08T17:36:39.813Z"
   },
   {
    "duration": 52,
    "start_time": "2022-11-08T17:36:39.835Z"
   },
   {
    "duration": 2054,
    "start_time": "2022-11-08T17:37:09.281Z"
   },
   {
    "duration": 4,
    "start_time": "2022-11-08T17:37:11.337Z"
   },
   {
    "duration": 29,
    "start_time": "2022-11-08T17:37:11.342Z"
   },
   {
    "duration": 252,
    "start_time": "2022-11-08T17:37:11.373Z"
   },
   {
    "duration": 1762,
    "start_time": "2022-11-08T17:40:09.762Z"
   },
   {
    "duration": 6,
    "start_time": "2022-11-08T17:40:11.525Z"
   },
   {
    "duration": 24,
    "start_time": "2022-11-08T17:40:11.532Z"
   },
   {
    "duration": 11,
    "start_time": "2022-11-08T17:40:11.557Z"
   },
   {
    "duration": 191,
    "start_time": "2022-11-08T17:43:24.501Z"
   },
   {
    "duration": 2033,
    "start_time": "2022-11-08T17:43:54.822Z"
   },
   {
    "duration": 5,
    "start_time": "2022-11-08T17:43:56.857Z"
   },
   {
    "duration": 9,
    "start_time": "2022-11-08T17:43:56.863Z"
   },
   {
    "duration": 176,
    "start_time": "2022-11-08T17:43:56.874Z"
   },
   {
    "duration": 201,
    "start_time": "2022-11-08T17:44:16.882Z"
   },
   {
    "duration": 2108,
    "start_time": "2022-11-08T17:44:43.522Z"
   },
   {
    "duration": 5,
    "start_time": "2022-11-08T17:44:45.632Z"
   },
   {
    "duration": 17,
    "start_time": "2022-11-08T17:44:45.638Z"
   },
   {
    "duration": 192,
    "start_time": "2022-11-08T17:44:45.656Z"
   },
   {
    "duration": 73,
    "start_time": "2022-11-08T17:45:56.542Z"
   },
   {
    "duration": 240,
    "start_time": "2022-11-08T17:46:08.604Z"
   },
   {
    "duration": 3255,
    "start_time": "2022-11-09T07:02:03.673Z"
   },
   {
    "duration": 79,
    "start_time": "2022-11-09T07:02:06.931Z"
   },
   {
    "duration": 0,
    "start_time": "2022-11-09T07:02:07.012Z"
   },
   {
    "duration": 2393,
    "start_time": "2022-11-09T07:03:11.686Z"
   },
   {
    "duration": 81,
    "start_time": "2022-11-09T07:03:14.081Z"
   },
   {
    "duration": 0,
    "start_time": "2022-11-09T07:03:14.164Z"
   },
   {
    "duration": 2602,
    "start_time": "2022-11-09T07:04:07.364Z"
   },
   {
    "duration": 260,
    "start_time": "2022-11-09T07:04:09.971Z"
   },
   {
    "duration": 369,
    "start_time": "2022-11-09T07:04:10.233Z"
   },
   {
    "duration": 2351,
    "start_time": "2022-11-09T07:08:57.744Z"
   },
   {
    "duration": 462,
    "start_time": "2022-11-09T07:09:00.097Z"
   },
   {
    "duration": 24,
    "start_time": "2022-11-09T07:09:00.561Z"
   },
   {
    "duration": 313,
    "start_time": "2022-11-09T07:09:00.590Z"
   },
   {
    "duration": 33,
    "start_time": "2022-11-09T07:10:34.644Z"
   },
   {
    "duration": 13,
    "start_time": "2022-11-09T07:11:31.524Z"
   },
   {
    "duration": 2407,
    "start_time": "2022-11-09T07:11:52.545Z"
   },
   {
    "duration": 219,
    "start_time": "2022-11-09T07:11:54.954Z"
   },
   {
    "duration": 28,
    "start_time": "2022-11-09T07:11:55.175Z"
   },
   {
    "duration": 12,
    "start_time": "2022-11-09T07:11:55.205Z"
   },
   {
    "duration": 12,
    "start_time": "2022-11-09T07:12:35.945Z"
   },
   {
    "duration": 80,
    "start_time": "2022-11-09T07:13:02.505Z"
   },
   {
    "duration": 307,
    "start_time": "2022-11-09T07:13:13.284Z"
   },
   {
    "duration": 2598,
    "start_time": "2022-11-09T07:24:06.303Z"
   },
   {
    "duration": 292,
    "start_time": "2022-11-09T07:24:08.905Z"
   },
   {
    "duration": 45,
    "start_time": "2022-11-09T07:24:09.199Z"
   },
   {
    "duration": 379,
    "start_time": "2022-11-09T07:24:09.246Z"
   },
   {
    "duration": 2601,
    "start_time": "2022-11-09T07:25:48.703Z"
   },
   {
    "duration": 226,
    "start_time": "2022-11-09T07:25:51.307Z"
   },
   {
    "duration": 37,
    "start_time": "2022-11-09T07:25:51.535Z"
   },
   {
    "duration": 308,
    "start_time": "2022-11-09T07:25:51.574Z"
   },
   {
    "duration": 26,
    "start_time": "2022-11-09T07:27:20.662Z"
   },
   {
    "duration": 2413,
    "start_time": "2022-11-09T07:27:26.803Z"
   },
   {
    "duration": 24,
    "start_time": "2022-11-09T07:27:29.219Z"
   },
   {
    "duration": 271,
    "start_time": "2022-11-09T07:27:29.245Z"
   },
   {
    "duration": 28,
    "start_time": "2022-11-09T07:27:29.518Z"
   },
   {
    "duration": 361,
    "start_time": "2022-11-09T07:27:29.549Z"
   },
   {
    "duration": 1211,
    "start_time": "2022-11-09T07:29:57.024Z"
   },
   {
    "duration": 48,
    "start_time": "2022-11-09T07:30:26.070Z"
   },
   {
    "duration": 300,
    "start_time": "2022-11-09T07:31:05.102Z"
   },
   {
    "duration": 9,
    "start_time": "2022-11-09T07:37:20.782Z"
   },
   {
    "duration": 11,
    "start_time": "2022-11-09T07:37:49.643Z"
   },
   {
    "duration": 9,
    "start_time": "2022-11-09T07:38:22.143Z"
   },
   {
    "duration": 7,
    "start_time": "2022-11-09T07:38:46.884Z"
   },
   {
    "duration": 2346,
    "start_time": "2022-11-09T09:50:13.249Z"
   },
   {
    "duration": 14,
    "start_time": "2022-11-09T09:50:15.597Z"
   },
   {
    "duration": 27,
    "start_time": "2022-11-09T09:50:15.613Z"
   },
   {
    "duration": 142,
    "start_time": "2022-11-09T09:50:15.643Z"
   },
   {
    "duration": 16,
    "start_time": "2022-11-09T09:50:15.787Z"
   },
   {
    "duration": 9,
    "start_time": "2022-11-09T10:07:46.961Z"
   },
   {
    "duration": 2453,
    "start_time": "2022-11-09T10:08:17.101Z"
   },
   {
    "duration": 20,
    "start_time": "2022-11-09T10:08:19.556Z"
   },
   {
    "duration": 24,
    "start_time": "2022-11-09T10:08:19.578Z"
   },
   {
    "duration": 12,
    "start_time": "2022-11-09T10:08:19.605Z"
   },
   {
    "duration": 0,
    "start_time": "2022-11-09T10:08:19.619Z"
   },
   {
    "duration": 0,
    "start_time": "2022-11-09T10:08:19.620Z"
   },
   {
    "duration": 1296,
    "start_time": "2022-11-09T10:10:53.321Z"
   },
   {
    "duration": 47,
    "start_time": "2022-11-09T10:11:16.823Z"
   },
   {
    "duration": 105,
    "start_time": "2022-11-09T10:18:14.946Z"
   },
   {
    "duration": 71,
    "start_time": "2022-11-09T10:18:42.682Z"
   },
   {
    "duration": 48,
    "start_time": "2022-11-09T10:19:42.862Z"
   },
   {
    "duration": 11,
    "start_time": "2022-11-09T10:20:31.662Z"
   },
   {
    "duration": 2385,
    "start_time": "2022-11-09T10:20:38.001Z"
   },
   {
    "duration": 10,
    "start_time": "2022-11-09T10:20:40.389Z"
   },
   {
    "duration": 316,
    "start_time": "2022-11-09T10:20:40.401Z"
   },
   {
    "duration": 13,
    "start_time": "2022-11-09T10:20:40.720Z"
   },
   {
    "duration": 103,
    "start_time": "2022-11-09T10:20:40.735Z"
   },
   {
    "duration": 18,
    "start_time": "2022-11-09T10:20:40.840Z"
   },
   {
    "duration": 87,
    "start_time": "2022-11-09T10:21:19.383Z"
   },
   {
    "duration": 72,
    "start_time": "2022-11-09T10:22:16.382Z"
   },
   {
    "duration": 2429,
    "start_time": "2022-11-09T10:25:14.822Z"
   },
   {
    "duration": 18,
    "start_time": "2022-11-09T10:25:17.254Z"
   },
   {
    "duration": 18,
    "start_time": "2022-11-09T10:25:17.274Z"
   },
   {
    "duration": 100,
    "start_time": "2022-11-09T10:25:17.294Z"
   },
   {
    "duration": 77,
    "start_time": "2022-11-09T10:25:17.395Z"
   },
   {
    "duration": 14,
    "start_time": "2022-11-09T10:25:17.474Z"
   },
   {
    "duration": 82,
    "start_time": "2022-11-09T10:26:20.873Z"
   },
   {
    "duration": 17,
    "start_time": "2022-11-09T10:28:47.503Z"
   },
   {
    "duration": 15,
    "start_time": "2022-11-09T10:28:59.145Z"
   },
   {
    "duration": 13,
    "start_time": "2022-11-09T10:29:44.725Z"
   },
   {
    "duration": 7,
    "start_time": "2022-11-09T10:32:32.572Z"
   },
   {
    "duration": 14,
    "start_time": "2022-11-09T10:32:57.886Z"
   },
   {
    "duration": 21,
    "start_time": "2022-11-09T10:33:27.825Z"
   },
   {
    "duration": 16,
    "start_time": "2022-11-09T10:38:34.005Z"
   },
   {
    "duration": 10,
    "start_time": "2022-11-09T10:39:56.632Z"
   },
   {
    "duration": 18,
    "start_time": "2022-11-09T10:44:08.224Z"
   },
   {
    "duration": 2562,
    "start_time": "2022-11-09T10:44:59.446Z"
   },
   {
    "duration": 9,
    "start_time": "2022-11-09T10:45:02.011Z"
   },
   {
    "duration": 474,
    "start_time": "2022-11-09T10:45:02.022Z"
   },
   {
    "duration": 103,
    "start_time": "2022-11-09T10:45:02.498Z"
   },
   {
    "duration": 24,
    "start_time": "2022-11-09T10:45:02.604Z"
   },
   {
    "duration": 60,
    "start_time": "2022-11-09T10:45:02.630Z"
   },
   {
    "duration": 69,
    "start_time": "2022-11-09T10:47:20.364Z"
   },
   {
    "duration": 56,
    "start_time": "2022-11-09T10:47:29.763Z"
   },
   {
    "duration": 23,
    "start_time": "2022-11-09T10:53:18.344Z"
   },
   {
    "duration": 17,
    "start_time": "2022-11-09T10:53:34.944Z"
   },
   {
    "duration": 2253,
    "start_time": "2022-11-09T10:53:51.543Z"
   },
   {
    "duration": 9,
    "start_time": "2022-11-09T10:53:53.798Z"
   },
   {
    "duration": 23,
    "start_time": "2022-11-09T10:53:53.809Z"
   },
   {
    "duration": 107,
    "start_time": "2022-11-09T10:53:53.834Z"
   },
   {
    "duration": 32,
    "start_time": "2022-11-09T10:53:53.943Z"
   },
   {
    "duration": 16,
    "start_time": "2022-11-09T10:53:53.976Z"
   },
   {
    "duration": 15,
    "start_time": "2022-11-09T10:58:45.568Z"
   },
   {
    "duration": 14,
    "start_time": "2022-11-09T10:59:02.727Z"
   },
   {
    "duration": 2621,
    "start_time": "2022-11-09T10:59:33.659Z"
   },
   {
    "duration": 9,
    "start_time": "2022-11-09T10:59:36.283Z"
   },
   {
    "duration": 35,
    "start_time": "2022-11-09T10:59:36.295Z"
   },
   {
    "duration": 111,
    "start_time": "2022-11-09T10:59:36.331Z"
   },
   {
    "duration": 43,
    "start_time": "2022-11-09T10:59:36.445Z"
   },
   {
    "duration": 14,
    "start_time": "2022-11-09T10:59:36.491Z"
   },
   {
    "duration": 23,
    "start_time": "2022-11-09T11:03:45.743Z"
   },
   {
    "duration": 11,
    "start_time": "2022-11-09T11:04:57.146Z"
   },
   {
    "duration": 11,
    "start_time": "2022-11-09T11:12:11.642Z"
   },
   {
    "duration": 25,
    "start_time": "2022-11-09T11:12:42.367Z"
   },
   {
    "duration": 2428,
    "start_time": "2022-11-09T11:12:58.943Z"
   },
   {
    "duration": 12,
    "start_time": "2022-11-09T11:13:01.374Z"
   },
   {
    "duration": 58,
    "start_time": "2022-11-09T11:13:01.388Z"
   },
   {
    "duration": 108,
    "start_time": "2022-11-09T11:13:01.448Z"
   },
   {
    "duration": 28,
    "start_time": "2022-11-09T11:13:01.558Z"
   },
   {
    "duration": 9,
    "start_time": "2022-11-09T11:13:01.588Z"
   },
   {
    "duration": 22,
    "start_time": "2022-11-09T11:15:31.672Z"
   },
   {
    "duration": 2977,
    "start_time": "2022-11-09T11:15:55.472Z"
   },
   {
    "duration": 24,
    "start_time": "2022-11-09T11:15:58.452Z"
   },
   {
    "duration": 39,
    "start_time": "2022-11-09T11:15:58.478Z"
   },
   {
    "duration": 129,
    "start_time": "2022-11-09T11:15:58.519Z"
   },
   {
    "duration": 40,
    "start_time": "2022-11-09T11:15:58.651Z"
   },
   {
    "duration": 31,
    "start_time": "2022-11-09T11:15:58.693Z"
   },
   {
    "duration": 30,
    "start_time": "2022-11-09T11:18:51.018Z"
   },
   {
    "duration": 2455,
    "start_time": "2022-11-09T11:18:55.784Z"
   },
   {
    "duration": 11,
    "start_time": "2022-11-09T11:18:58.242Z"
   },
   {
    "duration": 36,
    "start_time": "2022-11-09T11:18:58.255Z"
   },
   {
    "duration": 109,
    "start_time": "2022-11-09T11:18:58.293Z"
   },
   {
    "duration": 33,
    "start_time": "2022-11-09T11:18:58.405Z"
   },
   {
    "duration": 42,
    "start_time": "2022-11-09T11:18:58.440Z"
   },
   {
    "duration": 30,
    "start_time": "2022-11-09T11:19:28.004Z"
   },
   {
    "duration": 25,
    "start_time": "2022-11-09T11:19:54.351Z"
   },
   {
    "duration": 42,
    "start_time": "2022-11-09T11:20:59.084Z"
   },
   {
    "duration": 37,
    "start_time": "2022-11-09T11:24:27.168Z"
   },
   {
    "duration": 2539,
    "start_time": "2022-11-09T11:25:07.022Z"
   },
   {
    "duration": 16,
    "start_time": "2022-11-09T11:25:09.564Z"
   },
   {
    "duration": 39,
    "start_time": "2022-11-09T11:25:09.582Z"
   },
   {
    "duration": 193,
    "start_time": "2022-11-09T11:25:09.625Z"
   },
   {
    "duration": 53,
    "start_time": "2022-11-09T11:25:09.820Z"
   },
   {
    "duration": 37,
    "start_time": "2022-11-09T11:25:09.876Z"
   },
   {
    "duration": 30,
    "start_time": "2022-11-09T11:27:23.743Z"
   },
   {
    "duration": 31,
    "start_time": "2022-11-09T11:27:39.343Z"
   },
   {
    "duration": 2494,
    "start_time": "2022-11-09T11:29:23.946Z"
   },
   {
    "duration": 5,
    "start_time": "2022-11-09T11:29:26.443Z"
   },
   {
    "duration": 36,
    "start_time": "2022-11-09T11:29:26.450Z"
   },
   {
    "duration": 107,
    "start_time": "2022-11-09T11:29:26.488Z"
   },
   {
    "duration": 36,
    "start_time": "2022-11-09T11:29:26.597Z"
   },
   {
    "duration": 40,
    "start_time": "2022-11-09T11:29:26.635Z"
   },
   {
    "duration": 9,
    "start_time": "2022-11-09T11:32:05.244Z"
   },
   {
    "duration": 55,
    "start_time": "2022-11-09T11:32:57.963Z"
   },
   {
    "duration": 33,
    "start_time": "2022-11-09T11:38:37.463Z"
   },
   {
    "duration": 2641,
    "start_time": "2022-11-09T11:39:48.605Z"
   },
   {
    "duration": 6,
    "start_time": "2022-11-09T11:39:51.248Z"
   },
   {
    "duration": 35,
    "start_time": "2022-11-09T11:39:51.256Z"
   },
   {
    "duration": 164,
    "start_time": "2022-11-09T11:39:51.294Z"
   },
   {
    "duration": 44,
    "start_time": "2022-11-09T11:39:51.463Z"
   },
   {
    "duration": 27,
    "start_time": "2022-11-09T11:39:51.509Z"
   },
   {
    "duration": 61,
    "start_time": "2022-11-09T11:39:51.539Z"
   },
   {
    "duration": 6,
    "start_time": "2022-11-09T11:42:47.935Z"
   },
   {
    "duration": 11,
    "start_time": "2022-11-09T11:43:58.233Z"
   },
   {
    "duration": 11,
    "start_time": "2022-11-09T11:45:26.142Z"
   },
   {
    "duration": 45,
    "start_time": "2022-11-09T11:49:11.581Z"
   },
   {
    "duration": 2221,
    "start_time": "2022-11-09T12:17:34.680Z"
   },
   {
    "duration": 5,
    "start_time": "2022-11-09T12:17:36.903Z"
   },
   {
    "duration": 19,
    "start_time": "2022-11-09T12:17:36.910Z"
   },
   {
    "duration": 102,
    "start_time": "2022-11-09T12:17:36.931Z"
   },
   {
    "duration": 40,
    "start_time": "2022-11-09T12:17:37.035Z"
   },
   {
    "duration": 21,
    "start_time": "2022-11-09T12:17:37.076Z"
   },
   {
    "duration": 25,
    "start_time": "2022-11-09T12:17:37.099Z"
   },
   {
    "duration": 5,
    "start_time": "2022-11-09T12:17:37.125Z"
   },
   {
    "duration": 41,
    "start_time": "2022-11-09T12:17:37.132Z"
   },
   {
    "duration": 8,
    "start_time": "2022-11-09T12:17:37.175Z"
   },
   {
    "duration": 884,
    "start_time": "2022-11-09T12:17:37.185Z"
   },
   {
    "duration": 3403,
    "start_time": "2022-11-10T07:43:31.474Z"
   },
   {
    "duration": 6,
    "start_time": "2022-11-10T07:43:34.880Z"
   },
   {
    "duration": 25,
    "start_time": "2022-11-10T07:43:34.887Z"
   },
   {
    "duration": 103,
    "start_time": "2022-11-10T07:43:34.914Z"
   },
   {
    "duration": 46,
    "start_time": "2022-11-10T07:43:35.020Z"
   },
   {
    "duration": 24,
    "start_time": "2022-11-10T07:43:35.067Z"
   },
   {
    "duration": 26,
    "start_time": "2022-11-10T07:43:35.092Z"
   },
   {
    "duration": 31,
    "start_time": "2022-11-10T07:43:35.120Z"
   },
   {
    "duration": 10,
    "start_time": "2022-11-10T07:43:35.153Z"
   },
   {
    "duration": 27,
    "start_time": "2022-11-10T07:43:35.165Z"
   },
   {
    "duration": 26,
    "start_time": "2022-11-10T07:43:35.194Z"
   },
   {
    "duration": 20,
    "start_time": "2022-11-10T07:49:24.831Z"
   },
   {
    "duration": 32,
    "start_time": "2022-11-10T08:21:04.790Z"
   },
   {
    "duration": 102,
    "start_time": "2022-11-10T08:22:04.338Z"
   },
   {
    "duration": 30,
    "start_time": "2022-11-10T08:22:34.050Z"
   },
   {
    "duration": 19,
    "start_time": "2022-11-10T08:27:05.870Z"
   },
   {
    "duration": 69,
    "start_time": "2022-11-10T08:27:33.570Z"
   },
   {
    "duration": 82,
    "start_time": "2022-11-10T08:28:29.551Z"
   },
   {
    "duration": 59,
    "start_time": "2022-11-10T08:29:31.171Z"
   },
   {
    "duration": 78,
    "start_time": "2022-11-10T08:31:07.250Z"
   },
   {
    "duration": 86,
    "start_time": "2022-11-10T08:39:47.511Z"
   },
   {
    "duration": 34,
    "start_time": "2022-11-10T08:40:43.410Z"
   },
   {
    "duration": 70,
    "start_time": "2022-11-10T08:41:52.978Z"
   },
   {
    "duration": 14,
    "start_time": "2022-11-10T08:43:54.627Z"
   },
   {
    "duration": 108,
    "start_time": "2022-11-10T08:45:21.930Z"
   },
   {
    "duration": 76,
    "start_time": "2022-11-10T08:46:27.730Z"
   },
   {
    "duration": 54,
    "start_time": "2022-11-10T08:47:33.171Z"
   },
   {
    "duration": 2559,
    "start_time": "2022-11-10T08:47:59.773Z"
   },
   {
    "duration": 5,
    "start_time": "2022-11-10T08:48:02.335Z"
   },
   {
    "duration": 27,
    "start_time": "2022-11-10T08:48:02.343Z"
   },
   {
    "duration": 107,
    "start_time": "2022-11-10T08:48:02.372Z"
   },
   {
    "duration": 35,
    "start_time": "2022-11-10T08:48:02.482Z"
   },
   {
    "duration": 38,
    "start_time": "2022-11-10T08:48:02.520Z"
   },
   {
    "duration": 26,
    "start_time": "2022-11-10T08:48:02.560Z"
   },
   {
    "duration": 6,
    "start_time": "2022-11-10T08:48:02.588Z"
   },
   {
    "duration": 15,
    "start_time": "2022-11-10T08:48:02.596Z"
   },
   {
    "duration": 40,
    "start_time": "2022-11-10T08:48:02.613Z"
   },
   {
    "duration": 73,
    "start_time": "2022-11-10T08:48:02.656Z"
   },
   {
    "duration": 11,
    "start_time": "2022-11-10T08:48:02.750Z"
   },
   {
    "duration": 30,
    "start_time": "2022-11-10T08:49:04.110Z"
   },
   {
    "duration": 37,
    "start_time": "2022-11-10T08:49:22.331Z"
   },
   {
    "duration": 31,
    "start_time": "2022-11-10T08:49:59.790Z"
   },
   {
    "duration": 2619,
    "start_time": "2022-11-10T08:50:20.072Z"
   },
   {
    "duration": 5,
    "start_time": "2022-11-10T08:50:22.693Z"
   },
   {
    "duration": 17,
    "start_time": "2022-11-10T08:50:22.699Z"
   },
   {
    "duration": 135,
    "start_time": "2022-11-10T08:50:22.718Z"
   },
   {
    "duration": 37,
    "start_time": "2022-11-10T08:50:22.856Z"
   },
   {
    "duration": 22,
    "start_time": "2022-11-10T08:50:22.895Z"
   },
   {
    "duration": 57,
    "start_time": "2022-11-10T08:50:22.920Z"
   },
   {
    "duration": 5,
    "start_time": "2022-11-10T08:50:22.979Z"
   },
   {
    "duration": 12,
    "start_time": "2022-11-10T08:50:22.986Z"
   },
   {
    "duration": 11,
    "start_time": "2022-11-10T08:50:23.000Z"
   },
   {
    "duration": 97,
    "start_time": "2022-11-10T08:50:23.013Z"
   },
   {
    "duration": 10,
    "start_time": "2022-11-10T08:50:23.112Z"
   },
   {
    "duration": 70,
    "start_time": "2022-11-10T09:00:58.071Z"
   },
   {
    "duration": 73,
    "start_time": "2022-11-10T09:01:16.252Z"
   },
   {
    "duration": 61,
    "start_time": "2022-11-10T09:01:55.351Z"
   },
   {
    "duration": 67,
    "start_time": "2022-11-10T09:03:20.971Z"
   },
   {
    "duration": 28,
    "start_time": "2022-11-10T09:04:55.031Z"
   },
   {
    "duration": 2643,
    "start_time": "2022-11-10T09:05:14.973Z"
   },
   {
    "duration": 4,
    "start_time": "2022-11-10T09:05:17.619Z"
   },
   {
    "duration": 42,
    "start_time": "2022-11-10T09:05:17.625Z"
   },
   {
    "duration": 108,
    "start_time": "2022-11-10T09:05:17.668Z"
   },
   {
    "duration": 32,
    "start_time": "2022-11-10T09:05:17.779Z"
   },
   {
    "duration": 51,
    "start_time": "2022-11-10T09:05:17.813Z"
   },
   {
    "duration": 38,
    "start_time": "2022-11-10T09:05:17.867Z"
   },
   {
    "duration": 6,
    "start_time": "2022-11-10T09:05:17.908Z"
   },
   {
    "duration": 36,
    "start_time": "2022-11-10T09:05:17.916Z"
   },
   {
    "duration": 11,
    "start_time": "2022-11-10T09:05:17.954Z"
   },
   {
    "duration": 85,
    "start_time": "2022-11-10T09:05:17.967Z"
   },
   {
    "duration": 10,
    "start_time": "2022-11-10T09:05:18.054Z"
   },
   {
    "duration": 28,
    "start_time": "2022-11-10T09:20:31.025Z"
   },
   {
    "duration": 2331,
    "start_time": "2022-11-10T09:20:49.947Z"
   },
   {
    "duration": 5,
    "start_time": "2022-11-10T09:20:52.280Z"
   },
   {
    "duration": 43,
    "start_time": "2022-11-10T09:20:52.287Z"
   },
   {
    "duration": 110,
    "start_time": "2022-11-10T09:20:52.332Z"
   },
   {
    "duration": 41,
    "start_time": "2022-11-10T09:20:52.445Z"
   },
   {
    "duration": 25,
    "start_time": "2022-11-10T09:20:52.487Z"
   },
   {
    "duration": 57,
    "start_time": "2022-11-10T09:20:52.514Z"
   },
   {
    "duration": 6,
    "start_time": "2022-11-10T09:20:52.573Z"
   },
   {
    "duration": 15,
    "start_time": "2022-11-10T09:20:52.581Z"
   },
   {
    "duration": 9,
    "start_time": "2022-11-10T09:20:52.598Z"
   },
   {
    "duration": 101,
    "start_time": "2022-11-10T09:20:52.609Z"
   },
   {
    "duration": 10,
    "start_time": "2022-11-10T09:20:52.712Z"
   },
   {
    "duration": 29,
    "start_time": "2022-11-10T09:21:44.085Z"
   },
   {
    "duration": 2533,
    "start_time": "2022-11-10T09:21:59.984Z"
   },
   {
    "duration": 5,
    "start_time": "2022-11-10T09:22:02.520Z"
   },
   {
    "duration": 38,
    "start_time": "2022-11-10T09:22:02.527Z"
   },
   {
    "duration": 95,
    "start_time": "2022-11-10T09:22:02.567Z"
   },
   {
    "duration": 32,
    "start_time": "2022-11-10T09:22:02.665Z"
   },
   {
    "duration": 22,
    "start_time": "2022-11-10T09:22:02.699Z"
   },
   {
    "duration": 63,
    "start_time": "2022-11-10T09:22:02.723Z"
   },
   {
    "duration": 6,
    "start_time": "2022-11-10T09:22:02.788Z"
   },
   {
    "duration": 13,
    "start_time": "2022-11-10T09:22:02.796Z"
   },
   {
    "duration": 10,
    "start_time": "2022-11-10T09:22:02.811Z"
   },
   {
    "duration": 85,
    "start_time": "2022-11-10T09:22:02.823Z"
   },
   {
    "duration": 11,
    "start_time": "2022-11-10T09:22:02.909Z"
   },
   {
    "duration": 36,
    "start_time": "2022-11-10T09:23:15.170Z"
   },
   {
    "duration": 2735,
    "start_time": "2022-11-10T09:23:18.437Z"
   },
   {
    "duration": 5,
    "start_time": "2022-11-10T09:23:21.175Z"
   },
   {
    "duration": 56,
    "start_time": "2022-11-10T09:23:21.182Z"
   },
   {
    "duration": 130,
    "start_time": "2022-11-10T09:23:21.241Z"
   },
   {
    "duration": 34,
    "start_time": "2022-11-10T09:23:21.372Z"
   },
   {
    "duration": 48,
    "start_time": "2022-11-10T09:23:21.408Z"
   },
   {
    "duration": 29,
    "start_time": "2022-11-10T09:23:21.458Z"
   },
   {
    "duration": 32,
    "start_time": "2022-11-10T09:23:21.490Z"
   },
   {
    "duration": 43,
    "start_time": "2022-11-10T09:23:21.524Z"
   },
   {
    "duration": 30,
    "start_time": "2022-11-10T09:23:21.570Z"
   },
   {
    "duration": 73,
    "start_time": "2022-11-10T09:23:21.602Z"
   },
   {
    "duration": 25,
    "start_time": "2022-11-10T09:23:21.677Z"
   },
   {
    "duration": 28,
    "start_time": "2022-11-10T09:27:06.828Z"
   },
   {
    "duration": 2528,
    "start_time": "2022-11-10T09:27:21.993Z"
   },
   {
    "duration": 4,
    "start_time": "2022-11-10T09:27:24.524Z"
   },
   {
    "duration": 58,
    "start_time": "2022-11-10T09:27:24.530Z"
   },
   {
    "duration": 136,
    "start_time": "2022-11-10T09:27:24.590Z"
   },
   {
    "duration": 42,
    "start_time": "2022-11-10T09:27:24.729Z"
   },
   {
    "duration": 37,
    "start_time": "2022-11-10T09:27:24.773Z"
   },
   {
    "duration": 41,
    "start_time": "2022-11-10T09:27:24.812Z"
   },
   {
    "duration": 6,
    "start_time": "2022-11-10T09:27:24.855Z"
   },
   {
    "duration": 36,
    "start_time": "2022-11-10T09:27:24.864Z"
   },
   {
    "duration": 28,
    "start_time": "2022-11-10T09:27:24.902Z"
   },
   {
    "duration": 44,
    "start_time": "2022-11-10T09:27:24.932Z"
   },
   {
    "duration": 9,
    "start_time": "2022-11-10T09:27:24.978Z"
   },
   {
    "duration": 2481,
    "start_time": "2022-11-10T09:35:21.971Z"
   },
   {
    "duration": 4,
    "start_time": "2022-11-10T09:35:24.454Z"
   },
   {
    "duration": 29,
    "start_time": "2022-11-10T09:35:24.460Z"
   },
   {
    "duration": 24,
    "start_time": "2022-11-10T09:35:24.491Z"
   },
   {
    "duration": 45,
    "start_time": "2022-11-10T09:35:24.518Z"
   },
   {
    "duration": 109,
    "start_time": "2022-11-10T09:35:24.565Z"
   },
   {
    "duration": 45,
    "start_time": "2022-11-10T09:35:24.677Z"
   },
   {
    "duration": 53,
    "start_time": "2022-11-10T09:35:24.724Z"
   },
   {
    "duration": 6,
    "start_time": "2022-11-10T09:35:24.779Z"
   },
   {
    "duration": 14,
    "start_time": "2022-11-10T09:35:24.786Z"
   },
   {
    "duration": 10,
    "start_time": "2022-11-10T09:35:24.802Z"
   },
   {
    "duration": 2503,
    "start_time": "2022-11-10T09:36:48.713Z"
   },
   {
    "duration": 4,
    "start_time": "2022-11-10T09:36:51.219Z"
   },
   {
    "duration": 60,
    "start_time": "2022-11-10T09:36:51.224Z"
   },
   {
    "duration": 6,
    "start_time": "2022-11-10T09:37:16.204Z"
   },
   {
    "duration": 2525,
    "start_time": "2022-11-10T09:37:25.554Z"
   },
   {
    "duration": 4,
    "start_time": "2022-11-10T09:37:28.082Z"
   },
   {
    "duration": 40,
    "start_time": "2022-11-10T09:37:28.087Z"
   },
   {
    "duration": 6,
    "start_time": "2022-11-10T09:37:28.129Z"
   },
   {
    "duration": 31,
    "start_time": "2022-11-10T09:37:28.161Z"
   },
   {
    "duration": 19,
    "start_time": "2022-11-10T09:37:28.194Z"
   },
   {
    "duration": 130,
    "start_time": "2022-11-10T09:37:28.215Z"
   },
   {
    "duration": 34,
    "start_time": "2022-11-10T09:37:28.347Z"
   },
   {
    "duration": 29,
    "start_time": "2022-11-10T09:37:28.383Z"
   },
   {
    "duration": 6,
    "start_time": "2022-11-10T09:37:28.415Z"
   },
   {
    "duration": 14,
    "start_time": "2022-11-10T09:37:28.450Z"
   },
   {
    "duration": 11,
    "start_time": "2022-11-10T09:37:28.466Z"
   },
   {
    "duration": 28,
    "start_time": "2022-11-10T09:37:55.353Z"
   },
   {
    "duration": 20,
    "start_time": "2022-11-10T09:37:58.784Z"
   },
   {
    "duration": 28,
    "start_time": "2022-11-10T09:38:07.445Z"
   },
   {
    "duration": 26,
    "start_time": "2022-11-10T09:40:23.046Z"
   },
   {
    "duration": 6,
    "start_time": "2022-11-10T09:40:33.846Z"
   },
   {
    "duration": 29,
    "start_time": "2022-11-10T09:40:36.606Z"
   },
   {
    "duration": 61,
    "start_time": "2022-11-10T09:41:09.985Z"
   },
   {
    "duration": 35,
    "start_time": "2022-11-10T09:42:06.746Z"
   },
   {
    "duration": 60,
    "start_time": "2022-11-10T09:47:12.245Z"
   },
   {
    "duration": 2348,
    "start_time": "2022-11-10T09:49:44.716Z"
   },
   {
    "duration": 4,
    "start_time": "2022-11-10T09:49:47.066Z"
   },
   {
    "duration": 23,
    "start_time": "2022-11-10T09:49:47.072Z"
   },
   {
    "duration": 5,
    "start_time": "2022-11-10T09:49:47.097Z"
   },
   {
    "duration": 90,
    "start_time": "2022-11-10T09:49:47.104Z"
   },
   {
    "duration": 5,
    "start_time": "2022-11-10T09:49:47.196Z"
   },
   {
    "duration": 48,
    "start_time": "2022-11-10T09:49:47.204Z"
   },
   {
    "duration": 22,
    "start_time": "2022-11-10T09:49:47.254Z"
   },
   {
    "duration": 107,
    "start_time": "2022-11-10T09:49:47.278Z"
   },
   {
    "duration": 34,
    "start_time": "2022-11-10T09:49:47.388Z"
   },
   {
    "duration": 41,
    "start_time": "2022-11-10T09:49:47.424Z"
   },
   {
    "duration": 5,
    "start_time": "2022-11-10T09:49:47.467Z"
   },
   {
    "duration": 16,
    "start_time": "2022-11-10T09:49:47.473Z"
   },
   {
    "duration": 9,
    "start_time": "2022-11-10T09:49:47.491Z"
   },
   {
    "duration": 20,
    "start_time": "2022-11-10T09:59:38.345Z"
   },
   {
    "duration": 2474,
    "start_time": "2022-11-10T10:00:10.307Z"
   },
   {
    "duration": 4,
    "start_time": "2022-11-10T10:00:12.784Z"
   },
   {
    "duration": 33,
    "start_time": "2022-11-10T10:00:12.790Z"
   },
   {
    "duration": 5,
    "start_time": "2022-11-10T10:00:12.825Z"
   },
   {
    "duration": 61,
    "start_time": "2022-11-10T10:00:12.851Z"
   },
   {
    "duration": 6,
    "start_time": "2022-11-10T10:00:12.914Z"
   },
   {
    "duration": 47,
    "start_time": "2022-11-10T10:00:12.922Z"
   },
   {
    "duration": 23,
    "start_time": "2022-11-10T10:00:12.971Z"
   },
   {
    "duration": 112,
    "start_time": "2022-11-10T10:00:12.996Z"
   },
   {
    "duration": 40,
    "start_time": "2022-11-10T10:00:13.111Z"
   },
   {
    "duration": 41,
    "start_time": "2022-11-10T10:00:13.154Z"
   },
   {
    "duration": 7,
    "start_time": "2022-11-10T10:00:13.197Z"
   },
   {
    "duration": 14,
    "start_time": "2022-11-10T10:00:13.206Z"
   },
   {
    "duration": 33,
    "start_time": "2022-11-10T10:00:13.223Z"
   },
   {
    "duration": 830,
    "start_time": "2022-11-10T10:00:13.258Z"
   },
   {
    "duration": 0,
    "start_time": "2022-11-10T10:00:14.090Z"
   },
   {
    "duration": 0,
    "start_time": "2022-11-10T10:00:14.092Z"
   },
   {
    "duration": 790,
    "start_time": "2022-11-10T10:01:10.026Z"
   },
   {
    "duration": 2601,
    "start_time": "2022-11-10T10:02:41.676Z"
   },
   {
    "duration": 7,
    "start_time": "2022-11-10T10:02:44.280Z"
   },
   {
    "duration": 38,
    "start_time": "2022-11-10T10:02:44.289Z"
   },
   {
    "duration": 22,
    "start_time": "2022-11-10T10:02:44.329Z"
   },
   {
    "duration": 67,
    "start_time": "2022-11-10T10:02:44.354Z"
   },
   {
    "duration": 7,
    "start_time": "2022-11-10T10:02:44.424Z"
   },
   {
    "duration": 49,
    "start_time": "2022-11-10T10:02:44.433Z"
   },
   {
    "duration": 21,
    "start_time": "2022-11-10T10:02:44.485Z"
   },
   {
    "duration": 115,
    "start_time": "2022-11-10T10:02:44.509Z"
   },
   {
    "duration": 49,
    "start_time": "2022-11-10T10:02:44.626Z"
   },
   {
    "duration": 35,
    "start_time": "2022-11-10T10:02:44.677Z"
   },
   {
    "duration": 7,
    "start_time": "2022-11-10T10:02:44.714Z"
   },
   {
    "duration": 32,
    "start_time": "2022-11-10T10:02:44.724Z"
   },
   {
    "duration": 12,
    "start_time": "2022-11-10T10:02:44.759Z"
   },
   {
    "duration": 1103,
    "start_time": "2022-11-10T10:02:44.774Z"
   },
   {
    "duration": 0,
    "start_time": "2022-11-10T10:02:45.879Z"
   },
   {
    "duration": 812,
    "start_time": "2022-11-10T10:03:46.171Z"
   },
   {
    "duration": 896,
    "start_time": "2022-11-10T10:04:39.823Z"
   },
   {
    "duration": 729,
    "start_time": "2022-11-10T10:04:57.107Z"
   },
   {
    "duration": 20,
    "start_time": "2022-11-10T10:05:28.303Z"
   },
   {
    "duration": 31,
    "start_time": "2022-11-10T10:10:03.679Z"
   },
   {
    "duration": 2510,
    "start_time": "2022-11-10T10:10:47.525Z"
   },
   {
    "duration": 14,
    "start_time": "2022-11-10T10:10:50.038Z"
   },
   {
    "duration": 32,
    "start_time": "2022-11-10T10:10:50.054Z"
   },
   {
    "duration": 8,
    "start_time": "2022-11-10T10:10:50.089Z"
   },
   {
    "duration": 98,
    "start_time": "2022-11-10T10:10:50.099Z"
   },
   {
    "duration": 6,
    "start_time": "2022-11-10T10:10:50.199Z"
   },
   {
    "duration": 51,
    "start_time": "2022-11-10T10:10:50.207Z"
   },
   {
    "duration": 21,
    "start_time": "2022-11-10T10:10:50.260Z"
   },
   {
    "duration": 126,
    "start_time": "2022-11-10T10:10:50.282Z"
   },
   {
    "duration": 40,
    "start_time": "2022-11-10T10:10:50.411Z"
   },
   {
    "duration": 26,
    "start_time": "2022-11-10T10:10:50.453Z"
   },
   {
    "duration": 5,
    "start_time": "2022-11-10T10:10:50.481Z"
   },
   {
    "duration": 12,
    "start_time": "2022-11-10T10:10:50.488Z"
   },
   {
    "duration": 10,
    "start_time": "2022-11-10T10:10:50.502Z"
   },
   {
    "duration": 843,
    "start_time": "2022-11-10T10:10:50.514Z"
   },
   {
    "duration": 15,
    "start_time": "2022-11-10T10:10:51.359Z"
   },
   {
    "duration": 21,
    "start_time": "2022-11-10T10:10:51.376Z"
   },
   {
    "duration": 21,
    "start_time": "2022-11-10T10:11:02.385Z"
   },
   {
    "duration": 51,
    "start_time": "2022-11-10T10:11:25.426Z"
   },
   {
    "duration": 45,
    "start_time": "2022-11-10T10:11:53.729Z"
   },
   {
    "duration": 15,
    "start_time": "2022-11-10T10:18:03.866Z"
   },
   {
    "duration": 26,
    "start_time": "2022-11-10T10:18:38.585Z"
   },
   {
    "duration": 5,
    "start_time": "2022-11-10T10:19:25.673Z"
   },
   {
    "duration": 2660,
    "start_time": "2022-11-10T10:19:29.186Z"
   },
   {
    "duration": 6,
    "start_time": "2022-11-10T10:19:31.852Z"
   },
   {
    "duration": 55,
    "start_time": "2022-11-10T10:19:31.860Z"
   },
   {
    "duration": 7,
    "start_time": "2022-11-10T10:19:31.917Z"
   },
   {
    "duration": 82,
    "start_time": "2022-11-10T10:19:31.926Z"
   },
   {
    "duration": 7,
    "start_time": "2022-11-10T10:19:32.011Z"
   },
   {
    "duration": 54,
    "start_time": "2022-11-10T10:19:32.020Z"
   },
   {
    "duration": 21,
    "start_time": "2022-11-10T10:19:32.077Z"
   },
   {
    "duration": 123,
    "start_time": "2022-11-10T10:19:32.100Z"
   },
   {
    "duration": 54,
    "start_time": "2022-11-10T10:19:32.226Z"
   },
   {
    "duration": 32,
    "start_time": "2022-11-10T10:19:32.282Z"
   },
   {
    "duration": 6,
    "start_time": "2022-11-10T10:19:32.317Z"
   },
   {
    "duration": 36,
    "start_time": "2022-11-10T10:19:32.324Z"
   },
   {
    "duration": 23,
    "start_time": "2022-11-10T10:19:32.363Z"
   },
   {
    "duration": 891,
    "start_time": "2022-11-10T10:19:32.388Z"
   },
   {
    "duration": 22,
    "start_time": "2022-11-10T10:19:33.282Z"
   },
   {
    "duration": 86,
    "start_time": "2022-11-10T10:19:33.306Z"
   },
   {
    "duration": 5,
    "start_time": "2022-11-10T10:19:33.394Z"
   },
   {
    "duration": 47,
    "start_time": "2022-11-10T10:19:33.401Z"
   },
   {
    "duration": 6,
    "start_time": "2022-11-10T10:19:51.965Z"
   },
   {
    "duration": 31,
    "start_time": "2022-11-10T10:19:54.629Z"
   },
   {
    "duration": 9,
    "start_time": "2022-11-10T10:23:04.005Z"
   },
   {
    "duration": 10,
    "start_time": "2022-11-10T10:23:55.645Z"
   },
   {
    "duration": 10,
    "start_time": "2022-11-10T10:24:42.385Z"
   },
   {
    "duration": 14,
    "start_time": "2022-11-10T10:25:06.885Z"
   },
   {
    "duration": 2404,
    "start_time": "2022-11-10T10:26:29.928Z"
   },
   {
    "duration": 4,
    "start_time": "2022-11-10T10:26:32.335Z"
   },
   {
    "duration": 31,
    "start_time": "2022-11-10T10:26:32.350Z"
   },
   {
    "duration": 5,
    "start_time": "2022-11-10T10:26:32.384Z"
   },
   {
    "duration": 86,
    "start_time": "2022-11-10T10:26:32.391Z"
   },
   {
    "duration": 5,
    "start_time": "2022-11-10T10:26:32.479Z"
   },
   {
    "duration": 27,
    "start_time": "2022-11-10T10:26:32.486Z"
   },
   {
    "duration": 40,
    "start_time": "2022-11-10T10:26:32.515Z"
   },
   {
    "duration": 103,
    "start_time": "2022-11-10T10:26:32.557Z"
   },
   {
    "duration": 32,
    "start_time": "2022-11-10T10:26:32.662Z"
   },
   {
    "duration": 32,
    "start_time": "2022-11-10T10:26:32.696Z"
   },
   {
    "duration": 6,
    "start_time": "2022-11-10T10:26:32.752Z"
   },
   {
    "duration": 23,
    "start_time": "2022-11-10T10:26:32.760Z"
   },
   {
    "duration": 11,
    "start_time": "2022-11-10T10:26:32.786Z"
   },
   {
    "duration": 751,
    "start_time": "2022-11-10T10:26:32.799Z"
   },
   {
    "duration": 19,
    "start_time": "2022-11-10T10:26:33.552Z"
   },
   {
    "duration": 52,
    "start_time": "2022-11-10T10:26:33.573Z"
   },
   {
    "duration": 31,
    "start_time": "2022-11-10T10:26:33.627Z"
   },
   {
    "duration": 8,
    "start_time": "2022-11-10T10:26:33.660Z"
   },
   {
    "duration": 24,
    "start_time": "2022-11-10T10:26:33.670Z"
   },
   {
    "duration": 17,
    "start_time": "2022-11-10T10:30:08.625Z"
   },
   {
    "duration": 19,
    "start_time": "2022-11-10T10:31:04.865Z"
   },
   {
    "duration": 52,
    "start_time": "2022-11-10T10:31:13.752Z"
   },
   {
    "duration": 61,
    "start_time": "2022-11-10T13:00:56.152Z"
   },
   {
    "duration": 3204,
    "start_time": "2022-11-10T13:01:07.473Z"
   },
   {
    "duration": 4,
    "start_time": "2022-11-10T13:01:10.679Z"
   },
   {
    "duration": 31,
    "start_time": "2022-11-10T13:01:10.684Z"
   },
   {
    "duration": 5,
    "start_time": "2022-11-10T13:01:10.717Z"
   },
   {
    "duration": 62,
    "start_time": "2022-11-10T13:01:10.724Z"
   },
   {
    "duration": 5,
    "start_time": "2022-11-10T13:01:10.788Z"
   },
   {
    "duration": 45,
    "start_time": "2022-11-10T13:01:10.794Z"
   },
   {
    "duration": 15,
    "start_time": "2022-11-10T13:01:10.841Z"
   },
   {
    "duration": 89,
    "start_time": "2022-11-10T13:01:10.857Z"
   },
   {
    "duration": 35,
    "start_time": "2022-11-10T13:01:10.947Z"
   },
   {
    "duration": 23,
    "start_time": "2022-11-10T13:01:10.984Z"
   },
   {
    "duration": 5,
    "start_time": "2022-11-10T13:01:11.009Z"
   },
   {
    "duration": 12,
    "start_time": "2022-11-10T13:01:11.016Z"
   },
   {
    "duration": 8,
    "start_time": "2022-11-10T13:01:11.031Z"
   },
   {
    "duration": 746,
    "start_time": "2022-11-10T13:01:11.067Z"
   },
   {
    "duration": 0,
    "start_time": "2022-11-10T13:01:11.814Z"
   },
   {
    "duration": 0,
    "start_time": "2022-11-10T13:01:11.816Z"
   },
   {
    "duration": 0,
    "start_time": "2022-11-10T13:01:11.817Z"
   },
   {
    "duration": 0,
    "start_time": "2022-11-10T13:01:11.818Z"
   },
   {
    "duration": 0,
    "start_time": "2022-11-10T13:01:11.819Z"
   },
   {
    "duration": 639,
    "start_time": "2022-11-10T13:01:39.319Z"
   },
   {
    "duration": 12,
    "start_time": "2022-11-10T13:02:32.692Z"
   },
   {
    "duration": 681,
    "start_time": "2022-11-10T13:02:39.512Z"
   },
   {
    "duration": 636,
    "start_time": "2022-11-10T13:05:30.972Z"
   },
   {
    "duration": 2031,
    "start_time": "2022-11-10T13:05:49.733Z"
   },
   {
    "duration": 4,
    "start_time": "2022-11-10T13:05:51.767Z"
   },
   {
    "duration": 42,
    "start_time": "2022-11-10T13:05:51.772Z"
   },
   {
    "duration": 4,
    "start_time": "2022-11-10T13:05:51.816Z"
   },
   {
    "duration": 61,
    "start_time": "2022-11-10T13:05:51.822Z"
   },
   {
    "duration": 5,
    "start_time": "2022-11-10T13:05:51.884Z"
   },
   {
    "duration": 39,
    "start_time": "2022-11-10T13:05:51.890Z"
   },
   {
    "duration": 20,
    "start_time": "2022-11-10T13:05:51.930Z"
   },
   {
    "duration": 76,
    "start_time": "2022-11-10T13:05:51.952Z"
   },
   {
    "duration": 26,
    "start_time": "2022-11-10T13:05:52.030Z"
   },
   {
    "duration": 30,
    "start_time": "2022-11-10T13:05:52.057Z"
   },
   {
    "duration": 4,
    "start_time": "2022-11-10T13:05:52.089Z"
   },
   {
    "duration": 28,
    "start_time": "2022-11-10T13:05:52.095Z"
   },
   {
    "duration": 13,
    "start_time": "2022-11-10T13:05:52.126Z"
   },
   {
    "duration": 681,
    "start_time": "2022-11-10T13:05:52.141Z"
   },
   {
    "duration": 14,
    "start_time": "2022-11-10T13:05:52.823Z"
   },
   {
    "duration": 59,
    "start_time": "2022-11-10T13:05:52.838Z"
   },
   {
    "duration": 10,
    "start_time": "2022-11-10T13:05:52.898Z"
   },
   {
    "duration": 48,
    "start_time": "2022-11-10T13:05:52.910Z"
   },
   {
    "duration": 46,
    "start_time": "2022-11-10T13:05:52.960Z"
   },
   {
    "duration": 739,
    "start_time": "2022-11-10T13:06:09.912Z"
   },
   {
    "duration": 6,
    "start_time": "2022-11-10T13:10:24.247Z"
   },
   {
    "duration": 22,
    "start_time": "2022-11-10T13:10:26.628Z"
   },
   {
    "duration": 853,
    "start_time": "2022-11-10T13:14:12.188Z"
   },
   {
    "duration": 10,
    "start_time": "2022-11-10T13:16:09.508Z"
   },
   {
    "duration": 8,
    "start_time": "2022-11-10T13:16:35.588Z"
   },
   {
    "duration": 5,
    "start_time": "2022-11-10T13:16:42.888Z"
   },
   {
    "duration": 2142,
    "start_time": "2022-11-10T13:16:46.151Z"
   },
   {
    "duration": 3,
    "start_time": "2022-11-10T13:16:48.295Z"
   },
   {
    "duration": 22,
    "start_time": "2022-11-10T13:16:48.300Z"
   },
   {
    "duration": 5,
    "start_time": "2022-11-10T13:16:48.324Z"
   },
   {
    "duration": 78,
    "start_time": "2022-11-10T13:16:48.331Z"
   },
   {
    "duration": 4,
    "start_time": "2022-11-10T13:16:48.411Z"
   },
   {
    "duration": 23,
    "start_time": "2022-11-10T13:16:48.417Z"
   },
   {
    "duration": 33,
    "start_time": "2022-11-10T13:16:48.442Z"
   },
   {
    "duration": 94,
    "start_time": "2022-11-10T13:16:48.477Z"
   },
   {
    "duration": 27,
    "start_time": "2022-11-10T13:16:48.573Z"
   },
   {
    "duration": 22,
    "start_time": "2022-11-10T13:16:48.602Z"
   },
   {
    "duration": 5,
    "start_time": "2022-11-10T13:16:48.626Z"
   },
   {
    "duration": 36,
    "start_time": "2022-11-10T13:16:48.632Z"
   },
   {
    "duration": 9,
    "start_time": "2022-11-10T13:16:48.670Z"
   },
   {
    "duration": 689,
    "start_time": "2022-11-10T13:16:48.681Z"
   },
   {
    "duration": 15,
    "start_time": "2022-11-10T13:16:49.371Z"
   },
   {
    "duration": 42,
    "start_time": "2022-11-10T13:16:49.387Z"
   },
   {
    "duration": 8,
    "start_time": "2022-11-10T13:16:49.430Z"
   },
   {
    "duration": 31,
    "start_time": "2022-11-10T13:16:49.440Z"
   },
   {
    "duration": 8,
    "start_time": "2022-11-10T13:16:49.473Z"
   },
   {
    "duration": 16,
    "start_time": "2022-11-10T13:18:00.988Z"
   },
   {
    "duration": 768,
    "start_time": "2022-11-10T13:24:57.112Z"
   },
   {
    "duration": 10,
    "start_time": "2022-11-10T13:30:15.933Z"
   },
   {
    "duration": 2073,
    "start_time": "2022-11-10T13:31:01.973Z"
   },
   {
    "duration": 4,
    "start_time": "2022-11-10T13:31:04.048Z"
   },
   {
    "duration": 32,
    "start_time": "2022-11-10T13:31:04.053Z"
   },
   {
    "duration": 5,
    "start_time": "2022-11-10T13:31:04.086Z"
   },
   {
    "duration": 53,
    "start_time": "2022-11-10T13:31:04.093Z"
   },
   {
    "duration": 22,
    "start_time": "2022-11-10T13:31:04.148Z"
   },
   {
    "duration": 24,
    "start_time": "2022-11-10T13:31:04.172Z"
   },
   {
    "duration": 13,
    "start_time": "2022-11-10T13:31:04.197Z"
   },
   {
    "duration": 6,
    "start_time": "2022-11-10T13:31:04.211Z"
   },
   {
    "duration": 96,
    "start_time": "2022-11-10T13:31:04.219Z"
   },
   {
    "duration": 28,
    "start_time": "2022-11-10T13:31:04.317Z"
   },
   {
    "duration": 39,
    "start_time": "2022-11-10T13:31:04.347Z"
   },
   {
    "duration": 5,
    "start_time": "2022-11-10T13:31:04.388Z"
   },
   {
    "duration": 13,
    "start_time": "2022-11-10T13:31:04.395Z"
   },
   {
    "duration": 8,
    "start_time": "2022-11-10T13:31:04.410Z"
   },
   {
    "duration": 697,
    "start_time": "2022-11-10T13:31:04.420Z"
   },
   {
    "duration": 13,
    "start_time": "2022-11-10T13:31:05.119Z"
   },
   {
    "duration": 54,
    "start_time": "2022-11-10T13:31:05.133Z"
   },
   {
    "duration": 9,
    "start_time": "2022-11-10T13:31:05.188Z"
   },
   {
    "duration": 17,
    "start_time": "2022-11-10T13:31:05.198Z"
   },
   {
    "duration": 16,
    "start_time": "2022-11-10T13:31:05.216Z"
   },
   {
    "duration": 22,
    "start_time": "2022-11-10T13:31:05.234Z"
   },
   {
    "duration": 2136,
    "start_time": "2022-11-10T13:33:37.609Z"
   },
   {
    "duration": 4,
    "start_time": "2022-11-10T13:33:39.748Z"
   },
   {
    "duration": 20,
    "start_time": "2022-11-10T13:33:39.767Z"
   },
   {
    "duration": 5,
    "start_time": "2022-11-10T13:33:39.788Z"
   },
   {
    "duration": 52,
    "start_time": "2022-11-10T13:33:39.795Z"
   },
   {
    "duration": 5,
    "start_time": "2022-11-10T13:33:39.868Z"
   },
   {
    "duration": 22,
    "start_time": "2022-11-10T13:33:39.875Z"
   },
   {
    "duration": 15,
    "start_time": "2022-11-10T13:33:39.899Z"
   },
   {
    "duration": 103,
    "start_time": "2022-11-10T13:33:39.915Z"
   },
   {
    "duration": 28,
    "start_time": "2022-11-10T13:33:40.019Z"
   },
   {
    "duration": 35,
    "start_time": "2022-11-10T13:33:40.049Z"
   },
   {
    "duration": 4,
    "start_time": "2022-11-10T13:33:40.086Z"
   },
   {
    "duration": 11,
    "start_time": "2022-11-10T13:33:40.092Z"
   },
   {
    "duration": 11,
    "start_time": "2022-11-10T13:33:40.106Z"
   },
   {
    "duration": 752,
    "start_time": "2022-11-10T13:33:40.118Z"
   },
   {
    "duration": 14,
    "start_time": "2022-11-10T13:33:40.872Z"
   },
   {
    "duration": 41,
    "start_time": "2022-11-10T13:33:40.888Z"
   },
   {
    "duration": 7,
    "start_time": "2022-11-10T13:33:40.931Z"
   },
   {
    "duration": 35,
    "start_time": "2022-11-10T13:33:40.940Z"
   },
   {
    "duration": 8,
    "start_time": "2022-11-10T13:33:40.976Z"
   },
   {
    "duration": 20,
    "start_time": "2022-11-10T13:33:40.986Z"
   },
   {
    "duration": 229,
    "start_time": "2022-11-10T13:37:04.928Z"
   },
   {
    "duration": 278,
    "start_time": "2022-11-10T13:58:16.148Z"
   },
   {
    "duration": 248,
    "start_time": "2022-11-10T14:00:11.108Z"
   },
   {
    "duration": 248,
    "start_time": "2022-11-10T14:01:13.089Z"
   },
   {
    "duration": 347,
    "start_time": "2022-11-10T14:05:16.909Z"
   },
   {
    "duration": 285,
    "start_time": "2022-11-10T14:06:14.634Z"
   },
   {
    "duration": 264,
    "start_time": "2022-11-10T14:08:08.409Z"
   },
   {
    "duration": 280,
    "start_time": "2022-11-10T14:10:18.929Z"
   },
   {
    "duration": 270,
    "start_time": "2022-11-10T14:11:08.868Z"
   },
   {
    "duration": 75,
    "start_time": "2022-11-10T14:13:34.229Z"
   },
   {
    "duration": 321,
    "start_time": "2022-11-10T14:14:31.468Z"
   },
   {
    "duration": 241,
    "start_time": "2022-11-10T14:16:09.209Z"
   },
   {
    "duration": 244,
    "start_time": "2022-11-10T14:17:24.210Z"
   },
   {
    "duration": 263,
    "start_time": "2022-11-10T14:17:54.348Z"
   },
   {
    "duration": 232,
    "start_time": "2022-11-10T14:19:47.590Z"
   },
   {
    "duration": 129,
    "start_time": "2022-11-10T14:21:08.230Z"
   },
   {
    "duration": 151,
    "start_time": "2022-11-10T14:21:42.823Z"
   },
   {
    "duration": 324,
    "start_time": "2022-11-10T14:22:51.770Z"
   },
   {
    "duration": 43,
    "start_time": "2022-11-10T14:40:39.948Z"
   },
   {
    "duration": 2001,
    "start_time": "2022-11-10T14:40:50.869Z"
   },
   {
    "duration": 4,
    "start_time": "2022-11-10T14:40:52.872Z"
   },
   {
    "duration": 22,
    "start_time": "2022-11-10T14:40:52.877Z"
   },
   {
    "duration": 5,
    "start_time": "2022-11-10T14:40:52.901Z"
   },
   {
    "duration": 174,
    "start_time": "2022-11-10T14:40:52.907Z"
   },
   {
    "duration": 5,
    "start_time": "2022-11-10T14:40:53.082Z"
   },
   {
    "duration": 25,
    "start_time": "2022-11-10T14:40:53.088Z"
   },
   {
    "duration": 13,
    "start_time": "2022-11-10T14:40:53.114Z"
   },
   {
    "duration": 96,
    "start_time": "2022-11-10T14:40:53.129Z"
   },
   {
    "duration": 27,
    "start_time": "2022-11-10T14:40:53.226Z"
   },
   {
    "duration": 35,
    "start_time": "2022-11-10T14:40:53.255Z"
   },
   {
    "duration": 4,
    "start_time": "2022-11-10T14:40:53.292Z"
   },
   {
    "duration": 12,
    "start_time": "2022-11-10T14:40:53.298Z"
   },
   {
    "duration": 8,
    "start_time": "2022-11-10T14:40:53.313Z"
   },
   {
    "duration": 669,
    "start_time": "2022-11-10T14:40:53.323Z"
   },
   {
    "duration": 15,
    "start_time": "2022-11-10T14:40:53.993Z"
   },
   {
    "duration": 60,
    "start_time": "2022-11-10T14:40:54.009Z"
   },
   {
    "duration": 8,
    "start_time": "2022-11-10T14:40:54.071Z"
   },
   {
    "duration": 6,
    "start_time": "2022-11-10T14:40:54.081Z"
   },
   {
    "duration": 10,
    "start_time": "2022-11-10T14:40:54.088Z"
   },
   {
    "duration": 17,
    "start_time": "2022-11-10T14:40:54.100Z"
   },
   {
    "duration": 281,
    "start_time": "2022-11-10T14:40:54.119Z"
   },
   {
    "duration": 262,
    "start_time": "2022-11-10T14:40:54.401Z"
   },
   {
    "duration": 317,
    "start_time": "2022-11-10T14:40:54.667Z"
   },
   {
    "duration": 258,
    "start_time": "2022-11-10T14:40:54.986Z"
   },
   {
    "duration": 257,
    "start_time": "2022-11-10T14:40:55.245Z"
   },
   {
    "duration": 262,
    "start_time": "2022-11-10T14:40:55.503Z"
   },
   {
    "duration": 252,
    "start_time": "2022-11-10T14:40:55.768Z"
   },
   {
    "duration": 80,
    "start_time": "2022-11-10T14:40:56.021Z"
   },
   {
    "duration": 369,
    "start_time": "2022-11-10T14:40:56.102Z"
   },
   {
    "duration": 310,
    "start_time": "2022-11-10T14:40:56.473Z"
   },
   {
    "duration": 255,
    "start_time": "2022-11-10T14:40:56.786Z"
   },
   {
    "duration": 254,
    "start_time": "2022-11-10T14:40:57.042Z"
   },
   {
    "duration": 139,
    "start_time": "2022-11-10T14:40:57.298Z"
   },
   {
    "duration": 160,
    "start_time": "2022-11-10T14:40:57.439Z"
   },
   {
    "duration": 267,
    "start_time": "2022-11-10T14:40:57.601Z"
   },
   {
    "duration": 337,
    "start_time": "2022-11-10T14:40:57.870Z"
   },
   {
    "duration": 19,
    "start_time": "2022-11-10T14:42:44.488Z"
   },
   {
    "duration": 46,
    "start_time": "2022-11-10T14:42:55.964Z"
   },
   {
    "duration": 58,
    "start_time": "2022-11-10T14:43:34.690Z"
   },
   {
    "duration": 2072,
    "start_time": "2022-11-10T14:45:02.630Z"
   },
   {
    "duration": 3,
    "start_time": "2022-11-10T14:45:04.704Z"
   },
   {
    "duration": 25,
    "start_time": "2022-11-10T14:45:04.709Z"
   },
   {
    "duration": 4,
    "start_time": "2022-11-10T14:45:04.737Z"
   },
   {
    "duration": 74,
    "start_time": "2022-11-10T14:45:04.744Z"
   },
   {
    "duration": 5,
    "start_time": "2022-11-10T14:45:04.820Z"
   },
   {
    "duration": 25,
    "start_time": "2022-11-10T14:45:04.827Z"
   },
   {
    "duration": 15,
    "start_time": "2022-11-10T14:45:04.867Z"
   },
   {
    "duration": 85,
    "start_time": "2022-11-10T14:45:04.884Z"
   },
   {
    "duration": 28,
    "start_time": "2022-11-10T14:45:04.971Z"
   },
   {
    "duration": 22,
    "start_time": "2022-11-10T14:45:05.001Z"
   },
   {
    "duration": 4,
    "start_time": "2022-11-10T14:45:05.024Z"
   },
   {
    "duration": 11,
    "start_time": "2022-11-10T14:45:05.030Z"
   },
   {
    "duration": 9,
    "start_time": "2022-11-10T14:45:05.069Z"
   },
   {
    "duration": 764,
    "start_time": "2022-11-10T14:45:05.079Z"
   },
   {
    "duration": 23,
    "start_time": "2022-11-10T14:45:05.845Z"
   },
   {
    "duration": 49,
    "start_time": "2022-11-10T14:45:05.869Z"
   },
   {
    "duration": 8,
    "start_time": "2022-11-10T14:45:05.920Z"
   },
   {
    "duration": 4,
    "start_time": "2022-11-10T14:45:05.930Z"
   },
   {
    "duration": 8,
    "start_time": "2022-11-10T14:45:05.936Z"
   },
   {
    "duration": 44,
    "start_time": "2022-11-10T14:45:05.945Z"
   },
   {
    "duration": 306,
    "start_time": "2022-11-10T14:45:05.991Z"
   },
   {
    "duration": 269,
    "start_time": "2022-11-10T14:45:06.299Z"
   },
   {
    "duration": 265,
    "start_time": "2022-11-10T14:45:06.570Z"
   },
   {
    "duration": 341,
    "start_time": "2022-11-10T14:45:06.836Z"
   },
   {
    "duration": 277,
    "start_time": "2022-11-10T14:45:07.179Z"
   },
   {
    "duration": 292,
    "start_time": "2022-11-10T14:45:07.457Z"
   },
   {
    "duration": 267,
    "start_time": "2022-11-10T14:45:07.751Z"
   },
   {
    "duration": 85,
    "start_time": "2022-11-10T14:45:08.020Z"
   },
   {
    "duration": 255,
    "start_time": "2022-11-10T14:45:08.107Z"
   },
   {
    "duration": 350,
    "start_time": "2022-11-10T14:45:08.364Z"
   },
   {
    "duration": 263,
    "start_time": "2022-11-10T14:45:08.715Z"
   },
   {
    "duration": 247,
    "start_time": "2022-11-10T14:45:08.980Z"
   },
   {
    "duration": 129,
    "start_time": "2022-11-10T14:45:09.229Z"
   },
   {
    "duration": 164,
    "start_time": "2022-11-10T14:45:09.368Z"
   },
   {
    "duration": 287,
    "start_time": "2022-11-10T14:45:09.534Z"
   },
   {
    "duration": 261,
    "start_time": "2022-11-10T14:45:09.823Z"
   },
   {
    "duration": 2069,
    "start_time": "2022-11-10T14:49:16.530Z"
   },
   {
    "duration": 4,
    "start_time": "2022-11-10T14:49:18.601Z"
   },
   {
    "duration": 21,
    "start_time": "2022-11-10T14:49:18.607Z"
   },
   {
    "duration": 4,
    "start_time": "2022-11-10T14:49:18.630Z"
   },
   {
    "duration": 75,
    "start_time": "2022-11-10T14:49:18.636Z"
   },
   {
    "duration": 5,
    "start_time": "2022-11-10T14:49:18.713Z"
   },
   {
    "duration": 24,
    "start_time": "2022-11-10T14:49:18.719Z"
   },
   {
    "duration": 28,
    "start_time": "2022-11-10T14:49:18.745Z"
   },
   {
    "duration": 73,
    "start_time": "2022-11-10T14:49:18.775Z"
   },
   {
    "duration": 48,
    "start_time": "2022-11-10T14:49:18.850Z"
   },
   {
    "duration": 29,
    "start_time": "2022-11-10T14:49:18.900Z"
   },
   {
    "duration": 5,
    "start_time": "2022-11-10T14:49:18.931Z"
   },
   {
    "duration": 31,
    "start_time": "2022-11-10T14:49:18.938Z"
   },
   {
    "duration": 10,
    "start_time": "2022-11-10T14:49:18.972Z"
   },
   {
    "duration": 751,
    "start_time": "2022-11-10T14:49:18.984Z"
   },
   {
    "duration": 13,
    "start_time": "2022-11-10T14:49:19.736Z"
   },
   {
    "duration": 56,
    "start_time": "2022-11-10T14:49:19.751Z"
   },
   {
    "duration": 7,
    "start_time": "2022-11-10T14:49:19.809Z"
   },
   {
    "duration": 7,
    "start_time": "2022-11-10T14:49:19.817Z"
   },
   {
    "duration": 6,
    "start_time": "2022-11-10T14:49:19.826Z"
   },
   {
    "duration": 36,
    "start_time": "2022-11-10T14:49:19.833Z"
   },
   {
    "duration": 239,
    "start_time": "2022-11-10T14:49:19.870Z"
   },
   {
    "duration": 254,
    "start_time": "2022-11-10T14:49:20.111Z"
   },
   {
    "duration": 251,
    "start_time": "2022-11-10T14:49:20.367Z"
   },
   {
    "duration": 333,
    "start_time": "2022-11-10T14:49:20.620Z"
   },
   {
    "duration": 267,
    "start_time": "2022-11-10T14:49:20.955Z"
   },
   {
    "duration": 263,
    "start_time": "2022-11-10T14:49:21.224Z"
   },
   {
    "duration": 253,
    "start_time": "2022-11-10T14:49:21.489Z"
   },
   {
    "duration": 84,
    "start_time": "2022-11-10T14:49:21.744Z"
   },
   {
    "duration": 255,
    "start_time": "2022-11-10T14:49:21.830Z"
   },
   {
    "duration": 348,
    "start_time": "2022-11-10T14:49:22.086Z"
   },
   {
    "duration": 257,
    "start_time": "2022-11-10T14:49:22.436Z"
   },
   {
    "duration": 246,
    "start_time": "2022-11-10T14:49:22.695Z"
   },
   {
    "duration": 134,
    "start_time": "2022-11-10T14:49:22.943Z"
   },
   {
    "duration": 167,
    "start_time": "2022-11-10T14:49:23.078Z"
   },
   {
    "duration": 278,
    "start_time": "2022-11-10T14:49:23.247Z"
   },
   {
    "duration": 252,
    "start_time": "2022-11-10T14:49:23.526Z"
   },
   {
    "duration": 429,
    "start_time": "2022-11-10T14:50:06.075Z"
   },
   {
    "duration": 292,
    "start_time": "2022-11-10T14:50:23.487Z"
   },
   {
    "duration": 278,
    "start_time": "2022-11-10T14:54:44.820Z"
   },
   {
    "duration": 20,
    "start_time": "2022-11-10T15:26:41.437Z"
   },
   {
    "duration": 179,
    "start_time": "2022-11-10T15:46:51.072Z"
   },
   {
    "duration": 194,
    "start_time": "2022-11-10T15:47:57.809Z"
   },
   {
    "duration": 190,
    "start_time": "2022-11-10T15:52:01.410Z"
   },
   {
    "duration": 207,
    "start_time": "2022-11-10T15:52:51.070Z"
   },
   {
    "duration": 137,
    "start_time": "2022-11-10T15:53:48.439Z"
   },
   {
    "duration": 150,
    "start_time": "2022-11-10T15:54:41.578Z"
   },
   {
    "duration": 274,
    "start_time": "2022-11-10T15:55:22.988Z"
   },
   {
    "duration": 150,
    "start_time": "2022-11-10T15:56:17.372Z"
   },
   {
    "duration": 25,
    "start_time": "2022-11-10T15:57:46.047Z"
   },
   {
    "duration": 198,
    "start_time": "2022-11-10T15:59:09.175Z"
   },
   {
    "duration": 2323,
    "start_time": "2022-11-10T16:00:54.708Z"
   },
   {
    "duration": 4,
    "start_time": "2022-11-10T16:00:57.034Z"
   },
   {
    "duration": 35,
    "start_time": "2022-11-10T16:00:57.040Z"
   },
   {
    "duration": 6,
    "start_time": "2022-11-10T16:00:57.077Z"
   },
   {
    "duration": 58,
    "start_time": "2022-11-10T16:00:57.085Z"
   },
   {
    "duration": 24,
    "start_time": "2022-11-10T16:00:57.145Z"
   },
   {
    "duration": 23,
    "start_time": "2022-11-10T16:00:57.171Z"
   },
   {
    "duration": 15,
    "start_time": "2022-11-10T16:00:57.196Z"
   },
   {
    "duration": 109,
    "start_time": "2022-11-10T16:00:57.214Z"
   },
   {
    "duration": 20,
    "start_time": "2022-11-10T16:00:57.324Z"
   },
   {
    "duration": 37,
    "start_time": "2022-11-10T16:00:57.346Z"
   },
   {
    "duration": 4,
    "start_time": "2022-11-10T16:00:57.385Z"
   },
   {
    "duration": 11,
    "start_time": "2022-11-10T16:00:57.391Z"
   },
   {
    "duration": 7,
    "start_time": "2022-11-10T16:00:57.406Z"
   },
   {
    "duration": 721,
    "start_time": "2022-11-10T16:00:57.415Z"
   },
   {
    "duration": 14,
    "start_time": "2022-11-10T16:00:58.138Z"
   },
   {
    "duration": 62,
    "start_time": "2022-11-10T16:00:58.153Z"
   },
   {
    "duration": 8,
    "start_time": "2022-11-10T16:00:58.216Z"
   },
   {
    "duration": 6,
    "start_time": "2022-11-10T16:00:58.226Z"
   },
   {
    "duration": 9,
    "start_time": "2022-11-10T16:00:58.233Z"
   },
   {
    "duration": 40,
    "start_time": "2022-11-10T16:00:58.243Z"
   },
   {
    "duration": 251,
    "start_time": "2022-11-10T16:00:58.284Z"
   },
   {
    "duration": 249,
    "start_time": "2022-11-10T16:00:58.537Z"
   },
   {
    "duration": 401,
    "start_time": "2022-11-10T16:00:58.787Z"
   },
   {
    "duration": 263,
    "start_time": "2022-11-10T16:00:59.190Z"
   },
   {
    "duration": 277,
    "start_time": "2022-11-10T16:00:59.455Z"
   },
   {
    "duration": 262,
    "start_time": "2022-11-10T16:00:59.734Z"
   },
   {
    "duration": 270,
    "start_time": "2022-11-10T16:00:59.998Z"
   },
   {
    "duration": 83,
    "start_time": "2022-11-10T16:01:00.270Z"
   },
   {
    "duration": 407,
    "start_time": "2022-11-10T16:01:00.367Z"
   },
   {
    "duration": 262,
    "start_time": "2022-11-10T16:01:00.776Z"
   },
   {
    "duration": 246,
    "start_time": "2022-11-10T16:01:01.040Z"
   },
   {
    "duration": 253,
    "start_time": "2022-11-10T16:01:01.288Z"
   },
   {
    "duration": 134,
    "start_time": "2022-11-10T16:01:01.543Z"
   },
   {
    "duration": 161,
    "start_time": "2022-11-10T16:01:01.678Z"
   },
   {
    "duration": 385,
    "start_time": "2022-11-10T16:01:01.841Z"
   },
   {
    "duration": 198,
    "start_time": "2022-11-10T16:01:02.228Z"
   },
   {
    "duration": 215,
    "start_time": "2022-11-10T16:01:02.428Z"
   },
   {
    "duration": 190,
    "start_time": "2022-11-10T16:01:02.645Z"
   },
   {
    "duration": 238,
    "start_time": "2022-11-10T16:01:02.837Z"
   },
   {
    "duration": 150,
    "start_time": "2022-11-10T16:01:03.081Z"
   },
   {
    "duration": 177,
    "start_time": "2022-11-10T16:01:03.233Z"
   },
   {
    "duration": 199,
    "start_time": "2022-11-10T16:01:03.411Z"
   },
   {
    "duration": 169,
    "start_time": "2022-11-10T16:01:03.612Z"
   },
   {
    "duration": 23,
    "start_time": "2022-11-10T16:01:03.783Z"
   },
   {
    "duration": 214,
    "start_time": "2022-11-10T16:01:03.808Z"
   },
   {
    "duration": 187,
    "start_time": "2022-11-10T16:01:34.327Z"
   },
   {
    "duration": 204,
    "start_time": "2022-11-10T16:01:53.590Z"
   },
   {
    "duration": 2118,
    "start_time": "2022-11-10T16:05:53.332Z"
   },
   {
    "duration": 5,
    "start_time": "2022-11-10T16:05:55.452Z"
   },
   {
    "duration": 20,
    "start_time": "2022-11-10T16:05:55.468Z"
   },
   {
    "duration": 6,
    "start_time": "2022-11-10T16:05:55.490Z"
   },
   {
    "duration": 71,
    "start_time": "2022-11-10T16:05:55.498Z"
   },
   {
    "duration": 4,
    "start_time": "2022-11-10T16:05:55.571Z"
   },
   {
    "duration": 25,
    "start_time": "2022-11-10T16:05:55.576Z"
   },
   {
    "duration": 11,
    "start_time": "2022-11-10T16:05:55.602Z"
   },
   {
    "duration": 92,
    "start_time": "2022-11-10T16:05:55.615Z"
   },
   {
    "duration": 19,
    "start_time": "2022-11-10T16:05:55.709Z"
   },
   {
    "duration": 39,
    "start_time": "2022-11-10T16:05:55.729Z"
   },
   {
    "duration": 5,
    "start_time": "2022-11-10T16:05:55.769Z"
   },
   {
    "duration": 18,
    "start_time": "2022-11-10T16:05:55.776Z"
   },
   {
    "duration": 8,
    "start_time": "2022-11-10T16:05:55.796Z"
   },
   {
    "duration": 816,
    "start_time": "2022-11-10T16:05:55.806Z"
   },
   {
    "duration": 13,
    "start_time": "2022-11-10T16:05:56.624Z"
   },
   {
    "duration": 68,
    "start_time": "2022-11-10T16:05:56.638Z"
   },
   {
    "duration": 9,
    "start_time": "2022-11-10T16:05:56.708Z"
   },
   {
    "duration": 9,
    "start_time": "2022-11-10T16:05:56.718Z"
   },
   {
    "duration": 10,
    "start_time": "2022-11-10T16:05:56.729Z"
   },
   {
    "duration": 37,
    "start_time": "2022-11-10T16:05:56.741Z"
   },
   {
    "duration": 265,
    "start_time": "2022-11-10T16:05:56.780Z"
   },
   {
    "duration": 256,
    "start_time": "2022-11-10T16:05:57.047Z"
   },
   {
    "duration": 260,
    "start_time": "2022-11-10T16:05:57.305Z"
   },
   {
    "duration": 259,
    "start_time": "2022-11-10T16:05:57.566Z"
   },
   {
    "duration": 382,
    "start_time": "2022-11-10T16:05:57.827Z"
   },
   {
    "duration": 269,
    "start_time": "2022-11-10T16:05:58.211Z"
   },
   {
    "duration": 275,
    "start_time": "2022-11-10T16:05:58.481Z"
   },
   {
    "duration": 82,
    "start_time": "2022-11-10T16:05:58.758Z"
   },
   {
    "duration": 261,
    "start_time": "2022-11-10T16:05:58.842Z"
   },
   {
    "duration": 239,
    "start_time": "2022-11-10T16:05:59.105Z"
   },
   {
    "duration": 372,
    "start_time": "2022-11-10T16:05:59.345Z"
   },
   {
    "duration": 246,
    "start_time": "2022-11-10T16:05:59.719Z"
   },
   {
    "duration": 139,
    "start_time": "2022-11-10T16:05:59.967Z"
   },
   {
    "duration": 161,
    "start_time": "2022-11-10T16:06:00.109Z"
   },
   {
    "duration": 283,
    "start_time": "2022-11-10T16:06:00.271Z"
   },
   {
    "duration": 206,
    "start_time": "2022-11-10T16:06:00.556Z"
   },
   {
    "duration": 2126,
    "start_time": "2022-11-10T16:27:48.304Z"
   },
   {
    "duration": 3,
    "start_time": "2022-11-10T16:27:50.433Z"
   },
   {
    "duration": 32,
    "start_time": "2022-11-10T16:27:50.437Z"
   },
   {
    "duration": 6,
    "start_time": "2022-11-10T16:27:50.470Z"
   },
   {
    "duration": 52,
    "start_time": "2022-11-10T16:27:50.478Z"
   },
   {
    "duration": 4,
    "start_time": "2022-11-10T16:27:50.532Z"
   },
   {
    "duration": 48,
    "start_time": "2022-11-10T16:27:50.538Z"
   },
   {
    "duration": 10,
    "start_time": "2022-11-10T16:27:50.588Z"
   },
   {
    "duration": 85,
    "start_time": "2022-11-10T16:27:50.600Z"
   },
   {
    "duration": 18,
    "start_time": "2022-11-10T16:27:50.687Z"
   },
   {
    "duration": 21,
    "start_time": "2022-11-10T16:27:50.706Z"
   },
   {
    "duration": 4,
    "start_time": "2022-11-10T16:27:50.729Z"
   },
   {
    "duration": 34,
    "start_time": "2022-11-10T16:27:50.735Z"
   },
   {
    "duration": 9,
    "start_time": "2022-11-10T16:27:50.772Z"
   },
   {
    "duration": 764,
    "start_time": "2022-11-10T16:27:50.783Z"
   },
   {
    "duration": 20,
    "start_time": "2022-11-10T16:27:51.549Z"
   },
   {
    "duration": 51,
    "start_time": "2022-11-10T16:27:51.571Z"
   },
   {
    "duration": 8,
    "start_time": "2022-11-10T16:27:51.624Z"
   },
   {
    "duration": 5,
    "start_time": "2022-11-10T16:27:51.634Z"
   },
   {
    "duration": 31,
    "start_time": "2022-11-10T16:27:51.641Z"
   },
   {
    "duration": 17,
    "start_time": "2022-11-10T16:27:51.674Z"
   },
   {
    "duration": 237,
    "start_time": "2022-11-10T16:27:51.692Z"
   },
   {
    "duration": 252,
    "start_time": "2022-11-10T16:27:51.930Z"
   },
   {
    "duration": 246,
    "start_time": "2022-11-10T16:27:52.183Z"
   },
   {
    "duration": 269,
    "start_time": "2022-11-10T16:27:52.431Z"
   },
   {
    "duration": 368,
    "start_time": "2022-11-10T16:27:52.702Z"
   },
   {
    "duration": 252,
    "start_time": "2022-11-10T16:27:53.071Z"
   },
   {
    "duration": 249,
    "start_time": "2022-11-10T16:27:53.324Z"
   },
   {
    "duration": 73,
    "start_time": "2022-11-10T16:27:53.576Z"
   },
   {
    "duration": 276,
    "start_time": "2022-11-10T16:27:53.650Z"
   },
   {
    "duration": 243,
    "start_time": "2022-11-10T16:27:53.927Z"
   },
   {
    "duration": 399,
    "start_time": "2022-11-10T16:27:54.171Z"
   },
   {
    "duration": 265,
    "start_time": "2022-11-10T16:27:54.572Z"
   },
   {
    "duration": 146,
    "start_time": "2022-11-10T16:27:54.839Z"
   },
   {
    "duration": 169,
    "start_time": "2022-11-10T16:27:54.987Z"
   },
   {
    "duration": 276,
    "start_time": "2022-11-10T16:27:55.159Z"
   },
   {
    "duration": 187,
    "start_time": "2022-11-10T16:27:55.437Z"
   },
   {
    "duration": 206,
    "start_time": "2022-11-10T16:27:55.625Z"
   },
   {
    "duration": 192,
    "start_time": "2022-11-10T16:27:55.832Z"
   },
   {
    "duration": 277,
    "start_time": "2022-11-10T16:27:56.026Z"
   },
   {
    "duration": 143,
    "start_time": "2022-11-10T16:27:56.308Z"
   },
   {
    "duration": 292,
    "start_time": "2022-11-10T16:27:56.453Z"
   },
   {
    "duration": 186,
    "start_time": "2022-11-10T16:27:56.746Z"
   },
   {
    "duration": 178,
    "start_time": "2022-11-10T16:27:56.933Z"
   },
   {
    "duration": 23,
    "start_time": "2022-11-10T16:27:57.113Z"
   },
   {
    "duration": 210,
    "start_time": "2022-11-10T16:27:57.138Z"
   },
   {
    "duration": 2151,
    "start_time": "2022-11-10T16:36:55.567Z"
   },
   {
    "duration": 10,
    "start_time": "2022-11-10T16:52:30.371Z"
   },
   {
    "duration": 297,
    "start_time": "2022-11-10T17:00:39.695Z"
   },
   {
    "duration": 279,
    "start_time": "2022-11-10T17:00:56.908Z"
   },
   {
    "duration": 287,
    "start_time": "2022-11-10T17:01:45.060Z"
   },
   {
    "duration": 251,
    "start_time": "2022-11-10T17:02:14.511Z"
   },
   {
    "duration": 542,
    "start_time": "2022-11-10T17:04:05.818Z"
   },
   {
    "duration": 334,
    "start_time": "2022-11-10T17:05:06.270Z"
   },
   {
    "duration": 335,
    "start_time": "2022-11-10T17:05:17.174Z"
   },
   {
    "duration": 301,
    "start_time": "2022-11-10T17:05:30.210Z"
   },
   {
    "duration": 49,
    "start_time": "2023-05-19T08:36:53.338Z"
   }
  ],
  "kernelspec": {
   "display_name": "Python 3 (ipykernel)",
   "language": "python",
   "name": "python3"
  },
  "language_info": {
   "codemirror_mode": {
    "name": "ipython",
    "version": 3
   },
   "file_extension": ".py",
   "mimetype": "text/x-python",
   "name": "python",
   "nbconvert_exporter": "python",
   "pygments_lexer": "ipython3",
   "version": "3.9.5"
  },
  "toc": {
   "base_numbering": 1,
   "nav_menu": {
    "height": "262px",
    "width": "232px"
   },
   "number_sections": true,
   "sideBar": true,
   "skip_h1_title": true,
   "title_cell": "Table of Contents",
   "title_sidebar": "Contents",
   "toc_cell": false,
   "toc_position": {},
   "toc_section_display": true,
   "toc_window_display": false
  }
 },
 "nbformat": 4,
 "nbformat_minor": 2
}
