{
 "cells": [
  {
   "cell_type": "markdown",
   "metadata": {},
   "source": [
    "__Описание проекта__  \n",
    "\n",
    "___Вы работаете в интернет-магазине «Стримчик», который продаёт по всему миру компьютерные игры. Из открытых источников доступны исторические данные о продажах игр, оценки пользователей и экспертов, жанры и платформы (например, Xbox или PlayStation). Вам нужно выявить определяющие успешность игры закономерности. Это позволит сделать ставку на потенциально популярный продукт и спланировать рекламные кампании.___  \n",
    "\n",
    "___Перед вами данные до 2016 года. Представим, что сейчас декабрь 2016 г., и вы планируете кампанию на 2017-й. Нужно отработать принцип работы с данными. Неважно, прогнозируете ли вы продажи на 2017 год по данным 2016-го или же 2027-й — по данным 2026 года.___  \n",
    "\n",
    "___В наборе данных попадается аббревиатура ESRB (Entertainment Software Rating Board) — это ассоциация, определяющая возрастной рейтинг компьютерных игр. ESRB оценивает игровой контент и присваивает ему подходящую возрастную категорию, например, «Для взрослых», «Для детей младшего возраста» или «Для подростков».___  "
   ]
  },
  {
   "cell_type": "markdown",
   "metadata": {},
   "source": [
    "## Откройте файл с данными и изучите общую информацию"
   ]
  },
  {
   "cell_type": "code",
   "execution_count": 273,
   "metadata": {},
   "outputs": [],
   "source": [
    "import pandas as pd"
   ]
  },
  {
   "cell_type": "code",
   "execution_count": 274,
   "metadata": {},
   "outputs": [],
   "source": [
    "data=pd.read_csv('/datasets/games.csv')"
   ]
  },
  {
   "cell_type": "code",
   "execution_count": 275,
   "metadata": {},
   "outputs": [
    {
     "data": {
      "text/html": [
       "<div>\n",
       "<style scoped>\n",
       "    .dataframe tbody tr th:only-of-type {\n",
       "        vertical-align: middle;\n",
       "    }\n",
       "\n",
       "    .dataframe tbody tr th {\n",
       "        vertical-align: top;\n",
       "    }\n",
       "\n",
       "    .dataframe thead th {\n",
       "        text-align: right;\n",
       "    }\n",
       "</style>\n",
       "<table border=\"1\" class=\"dataframe\">\n",
       "  <thead>\n",
       "    <tr style=\"text-align: right;\">\n",
       "      <th></th>\n",
       "      <th>Name</th>\n",
       "      <th>Platform</th>\n",
       "      <th>Year_of_Release</th>\n",
       "      <th>Genre</th>\n",
       "      <th>NA_sales</th>\n",
       "      <th>EU_sales</th>\n",
       "      <th>JP_sales</th>\n",
       "      <th>Other_sales</th>\n",
       "      <th>Critic_Score</th>\n",
       "      <th>User_Score</th>\n",
       "      <th>Rating</th>\n",
       "    </tr>\n",
       "  </thead>\n",
       "  <tbody>\n",
       "    <tr>\n",
       "      <th>0</th>\n",
       "      <td>Wii Sports</td>\n",
       "      <td>Wii</td>\n",
       "      <td>2006.0</td>\n",
       "      <td>Sports</td>\n",
       "      <td>41.36</td>\n",
       "      <td>28.96</td>\n",
       "      <td>3.77</td>\n",
       "      <td>8.45</td>\n",
       "      <td>76.0</td>\n",
       "      <td>8</td>\n",
       "      <td>E</td>\n",
       "    </tr>\n",
       "    <tr>\n",
       "      <th>1</th>\n",
       "      <td>Super Mario Bros.</td>\n",
       "      <td>NES</td>\n",
       "      <td>1985.0</td>\n",
       "      <td>Platform</td>\n",
       "      <td>29.08</td>\n",
       "      <td>3.58</td>\n",
       "      <td>6.81</td>\n",
       "      <td>0.77</td>\n",
       "      <td>NaN</td>\n",
       "      <td>NaN</td>\n",
       "      <td>NaN</td>\n",
       "    </tr>\n",
       "    <tr>\n",
       "      <th>2</th>\n",
       "      <td>Mario Kart Wii</td>\n",
       "      <td>Wii</td>\n",
       "      <td>2008.0</td>\n",
       "      <td>Racing</td>\n",
       "      <td>15.68</td>\n",
       "      <td>12.76</td>\n",
       "      <td>3.79</td>\n",
       "      <td>3.29</td>\n",
       "      <td>82.0</td>\n",
       "      <td>8.3</td>\n",
       "      <td>E</td>\n",
       "    </tr>\n",
       "    <tr>\n",
       "      <th>3</th>\n",
       "      <td>Wii Sports Resort</td>\n",
       "      <td>Wii</td>\n",
       "      <td>2009.0</td>\n",
       "      <td>Sports</td>\n",
       "      <td>15.61</td>\n",
       "      <td>10.93</td>\n",
       "      <td>3.28</td>\n",
       "      <td>2.95</td>\n",
       "      <td>80.0</td>\n",
       "      <td>8</td>\n",
       "      <td>E</td>\n",
       "    </tr>\n",
       "    <tr>\n",
       "      <th>4</th>\n",
       "      <td>Pokemon Red/Pokemon Blue</td>\n",
       "      <td>GB</td>\n",
       "      <td>1996.0</td>\n",
       "      <td>Role-Playing</td>\n",
       "      <td>11.27</td>\n",
       "      <td>8.89</td>\n",
       "      <td>10.22</td>\n",
       "      <td>1.00</td>\n",
       "      <td>NaN</td>\n",
       "      <td>NaN</td>\n",
       "      <td>NaN</td>\n",
       "    </tr>\n",
       "  </tbody>\n",
       "</table>\n",
       "</div>"
      ],
      "text/plain": [
       "                       Name Platform  Year_of_Release         Genre  NA_sales  \\\n",
       "0                Wii Sports      Wii           2006.0        Sports     41.36   \n",
       "1         Super Mario Bros.      NES           1985.0      Platform     29.08   \n",
       "2            Mario Kart Wii      Wii           2008.0        Racing     15.68   \n",
       "3         Wii Sports Resort      Wii           2009.0        Sports     15.61   \n",
       "4  Pokemon Red/Pokemon Blue       GB           1996.0  Role-Playing     11.27   \n",
       "\n",
       "   EU_sales  JP_sales  Other_sales  Critic_Score User_Score Rating  \n",
       "0     28.96      3.77         8.45          76.0          8      E  \n",
       "1      3.58      6.81         0.77           NaN        NaN    NaN  \n",
       "2     12.76      3.79         3.29          82.0        8.3      E  \n",
       "3     10.93      3.28         2.95          80.0          8      E  \n",
       "4      8.89     10.22         1.00           NaN        NaN    NaN  "
      ]
     },
     "execution_count": 275,
     "metadata": {},
     "output_type": "execute_result"
    }
   ],
   "source": [
    "data.head()"
   ]
  },
  {
   "cell_type": "code",
   "execution_count": 276,
   "metadata": {},
   "outputs": [
    {
     "name": "stdout",
     "output_type": "stream",
     "text": [
      "<class 'pandas.core.frame.DataFrame'>\n",
      "RangeIndex: 16715 entries, 0 to 16714\n",
      "Data columns (total 11 columns):\n",
      " #   Column           Non-Null Count  Dtype  \n",
      "---  ------           --------------  -----  \n",
      " 0   Name             16713 non-null  object \n",
      " 1   Platform         16715 non-null  object \n",
      " 2   Year_of_Release  16446 non-null  float64\n",
      " 3   Genre            16713 non-null  object \n",
      " 4   NA_sales         16715 non-null  float64\n",
      " 5   EU_sales         16715 non-null  float64\n",
      " 6   JP_sales         16715 non-null  float64\n",
      " 7   Other_sales      16715 non-null  float64\n",
      " 8   Critic_Score     8137 non-null   float64\n",
      " 9   User_Score       10014 non-null  object \n",
      " 10  Rating           9949 non-null   object \n",
      "dtypes: float64(6), object(5)\n",
      "memory usage: 1.4+ MB\n"
     ]
    }
   ],
   "source": [
    "data.info()"
   ]
  },
  {
   "cell_type": "markdown",
   "metadata": {},
   "source": [
    "_Вижу, большое количество пропусков в оценках критиков и пользователей , так же пропуски в годах выхода игр, так же стоит заменить тип у столбца user_score на вещественный и привести названия столбцов к нижнему регистру_"
   ]
  },
  {
   "cell_type": "markdown",
   "metadata": {},
   "source": [
    "## Подготовьте данные"
   ]
  },
  {
   "cell_type": "code",
   "execution_count": 277,
   "metadata": {},
   "outputs": [
    {
     "data": {
      "text/html": [
       "<div>\n",
       "<style scoped>\n",
       "    .dataframe tbody tr th:only-of-type {\n",
       "        vertical-align: middle;\n",
       "    }\n",
       "\n",
       "    .dataframe tbody tr th {\n",
       "        vertical-align: top;\n",
       "    }\n",
       "\n",
       "    .dataframe thead th {\n",
       "        text-align: right;\n",
       "    }\n",
       "</style>\n",
       "<table border=\"1\" class=\"dataframe\">\n",
       "  <thead>\n",
       "    <tr style=\"text-align: right;\">\n",
       "      <th></th>\n",
       "      <th>name</th>\n",
       "      <th>platform</th>\n",
       "      <th>year_of_release</th>\n",
       "      <th>genre</th>\n",
       "      <th>na_sales</th>\n",
       "      <th>eu_sales</th>\n",
       "      <th>jp_sales</th>\n",
       "      <th>other_sales</th>\n",
       "      <th>critic_score</th>\n",
       "      <th>user_score</th>\n",
       "      <th>rating</th>\n",
       "    </tr>\n",
       "  </thead>\n",
       "  <tbody>\n",
       "    <tr>\n",
       "      <th>0</th>\n",
       "      <td>Wii Sports</td>\n",
       "      <td>Wii</td>\n",
       "      <td>2006.0</td>\n",
       "      <td>Sports</td>\n",
       "      <td>41.36</td>\n",
       "      <td>28.96</td>\n",
       "      <td>3.77</td>\n",
       "      <td>8.45</td>\n",
       "      <td>76.0</td>\n",
       "      <td>8</td>\n",
       "      <td>E</td>\n",
       "    </tr>\n",
       "    <tr>\n",
       "      <th>1</th>\n",
       "      <td>Super Mario Bros.</td>\n",
       "      <td>NES</td>\n",
       "      <td>1985.0</td>\n",
       "      <td>Platform</td>\n",
       "      <td>29.08</td>\n",
       "      <td>3.58</td>\n",
       "      <td>6.81</td>\n",
       "      <td>0.77</td>\n",
       "      <td>NaN</td>\n",
       "      <td>NaN</td>\n",
       "      <td>NaN</td>\n",
       "    </tr>\n",
       "    <tr>\n",
       "      <th>2</th>\n",
       "      <td>Mario Kart Wii</td>\n",
       "      <td>Wii</td>\n",
       "      <td>2008.0</td>\n",
       "      <td>Racing</td>\n",
       "      <td>15.68</td>\n",
       "      <td>12.76</td>\n",
       "      <td>3.79</td>\n",
       "      <td>3.29</td>\n",
       "      <td>82.0</td>\n",
       "      <td>8.3</td>\n",
       "      <td>E</td>\n",
       "    </tr>\n",
       "    <tr>\n",
       "      <th>3</th>\n",
       "      <td>Wii Sports Resort</td>\n",
       "      <td>Wii</td>\n",
       "      <td>2009.0</td>\n",
       "      <td>Sports</td>\n",
       "      <td>15.61</td>\n",
       "      <td>10.93</td>\n",
       "      <td>3.28</td>\n",
       "      <td>2.95</td>\n",
       "      <td>80.0</td>\n",
       "      <td>8</td>\n",
       "      <td>E</td>\n",
       "    </tr>\n",
       "    <tr>\n",
       "      <th>4</th>\n",
       "      <td>Pokemon Red/Pokemon Blue</td>\n",
       "      <td>GB</td>\n",
       "      <td>1996.0</td>\n",
       "      <td>Role-Playing</td>\n",
       "      <td>11.27</td>\n",
       "      <td>8.89</td>\n",
       "      <td>10.22</td>\n",
       "      <td>1.00</td>\n",
       "      <td>NaN</td>\n",
       "      <td>NaN</td>\n",
       "      <td>NaN</td>\n",
       "    </tr>\n",
       "    <tr>\n",
       "      <th>5</th>\n",
       "      <td>Tetris</td>\n",
       "      <td>GB</td>\n",
       "      <td>1989.0</td>\n",
       "      <td>Puzzle</td>\n",
       "      <td>23.20</td>\n",
       "      <td>2.26</td>\n",
       "      <td>4.22</td>\n",
       "      <td>0.58</td>\n",
       "      <td>NaN</td>\n",
       "      <td>NaN</td>\n",
       "      <td>NaN</td>\n",
       "    </tr>\n",
       "    <tr>\n",
       "      <th>6</th>\n",
       "      <td>New Super Mario Bros.</td>\n",
       "      <td>DS</td>\n",
       "      <td>2006.0</td>\n",
       "      <td>Platform</td>\n",
       "      <td>11.28</td>\n",
       "      <td>9.14</td>\n",
       "      <td>6.50</td>\n",
       "      <td>2.88</td>\n",
       "      <td>89.0</td>\n",
       "      <td>8.5</td>\n",
       "      <td>E</td>\n",
       "    </tr>\n",
       "    <tr>\n",
       "      <th>7</th>\n",
       "      <td>Wii Play</td>\n",
       "      <td>Wii</td>\n",
       "      <td>2006.0</td>\n",
       "      <td>Misc</td>\n",
       "      <td>13.96</td>\n",
       "      <td>9.18</td>\n",
       "      <td>2.93</td>\n",
       "      <td>2.84</td>\n",
       "      <td>58.0</td>\n",
       "      <td>6.6</td>\n",
       "      <td>E</td>\n",
       "    </tr>\n",
       "    <tr>\n",
       "      <th>8</th>\n",
       "      <td>New Super Mario Bros. Wii</td>\n",
       "      <td>Wii</td>\n",
       "      <td>2009.0</td>\n",
       "      <td>Platform</td>\n",
       "      <td>14.44</td>\n",
       "      <td>6.94</td>\n",
       "      <td>4.70</td>\n",
       "      <td>2.24</td>\n",
       "      <td>87.0</td>\n",
       "      <td>8.4</td>\n",
       "      <td>E</td>\n",
       "    </tr>\n",
       "    <tr>\n",
       "      <th>9</th>\n",
       "      <td>Duck Hunt</td>\n",
       "      <td>NES</td>\n",
       "      <td>1984.0</td>\n",
       "      <td>Shooter</td>\n",
       "      <td>26.93</td>\n",
       "      <td>0.63</td>\n",
       "      <td>0.28</td>\n",
       "      <td>0.47</td>\n",
       "      <td>NaN</td>\n",
       "      <td>NaN</td>\n",
       "      <td>NaN</td>\n",
       "    </tr>\n",
       "    <tr>\n",
       "      <th>10</th>\n",
       "      <td>Nintendogs</td>\n",
       "      <td>DS</td>\n",
       "      <td>2005.0</td>\n",
       "      <td>Simulation</td>\n",
       "      <td>9.05</td>\n",
       "      <td>10.95</td>\n",
       "      <td>1.93</td>\n",
       "      <td>2.74</td>\n",
       "      <td>NaN</td>\n",
       "      <td>NaN</td>\n",
       "      <td>NaN</td>\n",
       "    </tr>\n",
       "    <tr>\n",
       "      <th>11</th>\n",
       "      <td>Mario Kart DS</td>\n",
       "      <td>DS</td>\n",
       "      <td>2005.0</td>\n",
       "      <td>Racing</td>\n",
       "      <td>9.71</td>\n",
       "      <td>7.47</td>\n",
       "      <td>4.13</td>\n",
       "      <td>1.90</td>\n",
       "      <td>91.0</td>\n",
       "      <td>8.6</td>\n",
       "      <td>E</td>\n",
       "    </tr>\n",
       "    <tr>\n",
       "      <th>12</th>\n",
       "      <td>Pokemon Gold/Pokemon Silver</td>\n",
       "      <td>GB</td>\n",
       "      <td>1999.0</td>\n",
       "      <td>Role-Playing</td>\n",
       "      <td>9.00</td>\n",
       "      <td>6.18</td>\n",
       "      <td>7.20</td>\n",
       "      <td>0.71</td>\n",
       "      <td>NaN</td>\n",
       "      <td>NaN</td>\n",
       "      <td>NaN</td>\n",
       "    </tr>\n",
       "    <tr>\n",
       "      <th>13</th>\n",
       "      <td>Wii Fit</td>\n",
       "      <td>Wii</td>\n",
       "      <td>2007.0</td>\n",
       "      <td>Sports</td>\n",
       "      <td>8.92</td>\n",
       "      <td>8.03</td>\n",
       "      <td>3.60</td>\n",
       "      <td>2.15</td>\n",
       "      <td>80.0</td>\n",
       "      <td>7.7</td>\n",
       "      <td>E</td>\n",
       "    </tr>\n",
       "    <tr>\n",
       "      <th>14</th>\n",
       "      <td>Kinect Adventures!</td>\n",
       "      <td>X360</td>\n",
       "      <td>2010.0</td>\n",
       "      <td>Misc</td>\n",
       "      <td>15.00</td>\n",
       "      <td>4.89</td>\n",
       "      <td>0.24</td>\n",
       "      <td>1.69</td>\n",
       "      <td>61.0</td>\n",
       "      <td>6.3</td>\n",
       "      <td>E</td>\n",
       "    </tr>\n",
       "    <tr>\n",
       "      <th>15</th>\n",
       "      <td>Wii Fit Plus</td>\n",
       "      <td>Wii</td>\n",
       "      <td>2009.0</td>\n",
       "      <td>Sports</td>\n",
       "      <td>9.01</td>\n",
       "      <td>8.49</td>\n",
       "      <td>2.53</td>\n",
       "      <td>1.77</td>\n",
       "      <td>80.0</td>\n",
       "      <td>7.4</td>\n",
       "      <td>E</td>\n",
       "    </tr>\n",
       "    <tr>\n",
       "      <th>16</th>\n",
       "      <td>Grand Theft Auto V</td>\n",
       "      <td>PS3</td>\n",
       "      <td>2013.0</td>\n",
       "      <td>Action</td>\n",
       "      <td>7.02</td>\n",
       "      <td>9.09</td>\n",
       "      <td>0.98</td>\n",
       "      <td>3.96</td>\n",
       "      <td>97.0</td>\n",
       "      <td>8.2</td>\n",
       "      <td>M</td>\n",
       "    </tr>\n",
       "    <tr>\n",
       "      <th>17</th>\n",
       "      <td>Grand Theft Auto: San Andreas</td>\n",
       "      <td>PS2</td>\n",
       "      <td>2004.0</td>\n",
       "      <td>Action</td>\n",
       "      <td>9.43</td>\n",
       "      <td>0.40</td>\n",
       "      <td>0.41</td>\n",
       "      <td>10.57</td>\n",
       "      <td>95.0</td>\n",
       "      <td>9</td>\n",
       "      <td>M</td>\n",
       "    </tr>\n",
       "    <tr>\n",
       "      <th>18</th>\n",
       "      <td>Super Mario World</td>\n",
       "      <td>SNES</td>\n",
       "      <td>1990.0</td>\n",
       "      <td>Platform</td>\n",
       "      <td>12.78</td>\n",
       "      <td>3.75</td>\n",
       "      <td>3.54</td>\n",
       "      <td>0.55</td>\n",
       "      <td>NaN</td>\n",
       "      <td>NaN</td>\n",
       "      <td>NaN</td>\n",
       "    </tr>\n",
       "    <tr>\n",
       "      <th>19</th>\n",
       "      <td>Brain Age: Train Your Brain in Minutes a Day</td>\n",
       "      <td>DS</td>\n",
       "      <td>2005.0</td>\n",
       "      <td>Misc</td>\n",
       "      <td>4.74</td>\n",
       "      <td>9.20</td>\n",
       "      <td>4.16</td>\n",
       "      <td>2.04</td>\n",
       "      <td>77.0</td>\n",
       "      <td>7.9</td>\n",
       "      <td>E</td>\n",
       "    </tr>\n",
       "    <tr>\n",
       "      <th>20</th>\n",
       "      <td>Pokemon Diamond/Pokemon Pearl</td>\n",
       "      <td>DS</td>\n",
       "      <td>2006.0</td>\n",
       "      <td>Role-Playing</td>\n",
       "      <td>6.38</td>\n",
       "      <td>4.46</td>\n",
       "      <td>6.04</td>\n",
       "      <td>1.36</td>\n",
       "      <td>NaN</td>\n",
       "      <td>NaN</td>\n",
       "      <td>NaN</td>\n",
       "    </tr>\n",
       "    <tr>\n",
       "      <th>21</th>\n",
       "      <td>Super Mario Land</td>\n",
       "      <td>GB</td>\n",
       "      <td>1989.0</td>\n",
       "      <td>Platform</td>\n",
       "      <td>10.83</td>\n",
       "      <td>2.71</td>\n",
       "      <td>4.18</td>\n",
       "      <td>0.42</td>\n",
       "      <td>NaN</td>\n",
       "      <td>NaN</td>\n",
       "      <td>NaN</td>\n",
       "    </tr>\n",
       "    <tr>\n",
       "      <th>22</th>\n",
       "      <td>Super Mario Bros. 3</td>\n",
       "      <td>NES</td>\n",
       "      <td>1988.0</td>\n",
       "      <td>Platform</td>\n",
       "      <td>9.54</td>\n",
       "      <td>3.44</td>\n",
       "      <td>3.84</td>\n",
       "      <td>0.46</td>\n",
       "      <td>NaN</td>\n",
       "      <td>NaN</td>\n",
       "      <td>NaN</td>\n",
       "    </tr>\n",
       "    <tr>\n",
       "      <th>23</th>\n",
       "      <td>Grand Theft Auto V</td>\n",
       "      <td>X360</td>\n",
       "      <td>2013.0</td>\n",
       "      <td>Action</td>\n",
       "      <td>9.66</td>\n",
       "      <td>5.14</td>\n",
       "      <td>0.06</td>\n",
       "      <td>1.41</td>\n",
       "      <td>97.0</td>\n",
       "      <td>8.1</td>\n",
       "      <td>M</td>\n",
       "    </tr>\n",
       "    <tr>\n",
       "      <th>24</th>\n",
       "      <td>Grand Theft Auto: Vice City</td>\n",
       "      <td>PS2</td>\n",
       "      <td>2002.0</td>\n",
       "      <td>Action</td>\n",
       "      <td>8.41</td>\n",
       "      <td>5.49</td>\n",
       "      <td>0.47</td>\n",
       "      <td>1.78</td>\n",
       "      <td>95.0</td>\n",
       "      <td>8.7</td>\n",
       "      <td>M</td>\n",
       "    </tr>\n",
       "    <tr>\n",
       "      <th>25</th>\n",
       "      <td>Pokemon Ruby/Pokemon Sapphire</td>\n",
       "      <td>GBA</td>\n",
       "      <td>2002.0</td>\n",
       "      <td>Role-Playing</td>\n",
       "      <td>6.06</td>\n",
       "      <td>3.90</td>\n",
       "      <td>5.38</td>\n",
       "      <td>0.50</td>\n",
       "      <td>NaN</td>\n",
       "      <td>NaN</td>\n",
       "      <td>NaN</td>\n",
       "    </tr>\n",
       "    <tr>\n",
       "      <th>26</th>\n",
       "      <td>Brain Age 2: More Training in Minutes a Day</td>\n",
       "      <td>DS</td>\n",
       "      <td>2005.0</td>\n",
       "      <td>Puzzle</td>\n",
       "      <td>3.43</td>\n",
       "      <td>5.35</td>\n",
       "      <td>5.32</td>\n",
       "      <td>1.18</td>\n",
       "      <td>77.0</td>\n",
       "      <td>7.1</td>\n",
       "      <td>E</td>\n",
       "    </tr>\n",
       "    <tr>\n",
       "      <th>27</th>\n",
       "      <td>Pokemon Black/Pokemon White</td>\n",
       "      <td>DS</td>\n",
       "      <td>2010.0</td>\n",
       "      <td>Role-Playing</td>\n",
       "      <td>5.51</td>\n",
       "      <td>3.17</td>\n",
       "      <td>5.65</td>\n",
       "      <td>0.80</td>\n",
       "      <td>NaN</td>\n",
       "      <td>NaN</td>\n",
       "      <td>NaN</td>\n",
       "    </tr>\n",
       "    <tr>\n",
       "      <th>28</th>\n",
       "      <td>Gran Turismo 3: A-Spec</td>\n",
       "      <td>PS2</td>\n",
       "      <td>2001.0</td>\n",
       "      <td>Racing</td>\n",
       "      <td>6.85</td>\n",
       "      <td>5.09</td>\n",
       "      <td>1.87</td>\n",
       "      <td>1.16</td>\n",
       "      <td>95.0</td>\n",
       "      <td>8.4</td>\n",
       "      <td>E</td>\n",
       "    </tr>\n",
       "    <tr>\n",
       "      <th>29</th>\n",
       "      <td>Call of Duty: Modern Warfare 3</td>\n",
       "      <td>X360</td>\n",
       "      <td>2011.0</td>\n",
       "      <td>Shooter</td>\n",
       "      <td>9.04</td>\n",
       "      <td>4.24</td>\n",
       "      <td>0.13</td>\n",
       "      <td>1.32</td>\n",
       "      <td>88.0</td>\n",
       "      <td>3.4</td>\n",
       "      <td>M</td>\n",
       "    </tr>\n",
       "  </tbody>\n",
       "</table>\n",
       "</div>"
      ],
      "text/plain": [
       "                                            name platform  year_of_release  \\\n",
       "0                                     Wii Sports      Wii           2006.0   \n",
       "1                              Super Mario Bros.      NES           1985.0   \n",
       "2                                 Mario Kart Wii      Wii           2008.0   \n",
       "3                              Wii Sports Resort      Wii           2009.0   \n",
       "4                       Pokemon Red/Pokemon Blue       GB           1996.0   \n",
       "5                                         Tetris       GB           1989.0   \n",
       "6                          New Super Mario Bros.       DS           2006.0   \n",
       "7                                       Wii Play      Wii           2006.0   \n",
       "8                      New Super Mario Bros. Wii      Wii           2009.0   \n",
       "9                                      Duck Hunt      NES           1984.0   \n",
       "10                                    Nintendogs       DS           2005.0   \n",
       "11                                 Mario Kart DS       DS           2005.0   \n",
       "12                   Pokemon Gold/Pokemon Silver       GB           1999.0   \n",
       "13                                       Wii Fit      Wii           2007.0   \n",
       "14                            Kinect Adventures!     X360           2010.0   \n",
       "15                                  Wii Fit Plus      Wii           2009.0   \n",
       "16                            Grand Theft Auto V      PS3           2013.0   \n",
       "17                 Grand Theft Auto: San Andreas      PS2           2004.0   \n",
       "18                             Super Mario World     SNES           1990.0   \n",
       "19  Brain Age: Train Your Brain in Minutes a Day       DS           2005.0   \n",
       "20                 Pokemon Diamond/Pokemon Pearl       DS           2006.0   \n",
       "21                              Super Mario Land       GB           1989.0   \n",
       "22                           Super Mario Bros. 3      NES           1988.0   \n",
       "23                            Grand Theft Auto V     X360           2013.0   \n",
       "24                   Grand Theft Auto: Vice City      PS2           2002.0   \n",
       "25                 Pokemon Ruby/Pokemon Sapphire      GBA           2002.0   \n",
       "26   Brain Age 2: More Training in Minutes a Day       DS           2005.0   \n",
       "27                   Pokemon Black/Pokemon White       DS           2010.0   \n",
       "28                        Gran Turismo 3: A-Spec      PS2           2001.0   \n",
       "29                Call of Duty: Modern Warfare 3     X360           2011.0   \n",
       "\n",
       "           genre  na_sales  eu_sales  jp_sales  other_sales  critic_score  \\\n",
       "0         Sports     41.36     28.96      3.77         8.45          76.0   \n",
       "1       Platform     29.08      3.58      6.81         0.77           NaN   \n",
       "2         Racing     15.68     12.76      3.79         3.29          82.0   \n",
       "3         Sports     15.61     10.93      3.28         2.95          80.0   \n",
       "4   Role-Playing     11.27      8.89     10.22         1.00           NaN   \n",
       "5         Puzzle     23.20      2.26      4.22         0.58           NaN   \n",
       "6       Platform     11.28      9.14      6.50         2.88          89.0   \n",
       "7           Misc     13.96      9.18      2.93         2.84          58.0   \n",
       "8       Platform     14.44      6.94      4.70         2.24          87.0   \n",
       "9        Shooter     26.93      0.63      0.28         0.47           NaN   \n",
       "10    Simulation      9.05     10.95      1.93         2.74           NaN   \n",
       "11        Racing      9.71      7.47      4.13         1.90          91.0   \n",
       "12  Role-Playing      9.00      6.18      7.20         0.71           NaN   \n",
       "13        Sports      8.92      8.03      3.60         2.15          80.0   \n",
       "14          Misc     15.00      4.89      0.24         1.69          61.0   \n",
       "15        Sports      9.01      8.49      2.53         1.77          80.0   \n",
       "16        Action      7.02      9.09      0.98         3.96          97.0   \n",
       "17        Action      9.43      0.40      0.41        10.57          95.0   \n",
       "18      Platform     12.78      3.75      3.54         0.55           NaN   \n",
       "19          Misc      4.74      9.20      4.16         2.04          77.0   \n",
       "20  Role-Playing      6.38      4.46      6.04         1.36           NaN   \n",
       "21      Platform     10.83      2.71      4.18         0.42           NaN   \n",
       "22      Platform      9.54      3.44      3.84         0.46           NaN   \n",
       "23        Action      9.66      5.14      0.06         1.41          97.0   \n",
       "24        Action      8.41      5.49      0.47         1.78          95.0   \n",
       "25  Role-Playing      6.06      3.90      5.38         0.50           NaN   \n",
       "26        Puzzle      3.43      5.35      5.32         1.18          77.0   \n",
       "27  Role-Playing      5.51      3.17      5.65         0.80           NaN   \n",
       "28        Racing      6.85      5.09      1.87         1.16          95.0   \n",
       "29       Shooter      9.04      4.24      0.13         1.32          88.0   \n",
       "\n",
       "   user_score rating  \n",
       "0           8      E  \n",
       "1         NaN    NaN  \n",
       "2         8.3      E  \n",
       "3           8      E  \n",
       "4         NaN    NaN  \n",
       "5         NaN    NaN  \n",
       "6         8.5      E  \n",
       "7         6.6      E  \n",
       "8         8.4      E  \n",
       "9         NaN    NaN  \n",
       "10        NaN    NaN  \n",
       "11        8.6      E  \n",
       "12        NaN    NaN  \n",
       "13        7.7      E  \n",
       "14        6.3      E  \n",
       "15        7.4      E  \n",
       "16        8.2      M  \n",
       "17          9      M  \n",
       "18        NaN    NaN  \n",
       "19        7.9      E  \n",
       "20        NaN    NaN  \n",
       "21        NaN    NaN  \n",
       "22        NaN    NaN  \n",
       "23        8.1      M  \n",
       "24        8.7      M  \n",
       "25        NaN    NaN  \n",
       "26        7.1      E  \n",
       "27        NaN    NaN  \n",
       "28        8.4      E  \n",
       "29        3.4      M  "
      ]
     },
     "execution_count": 277,
     "metadata": {},
     "output_type": "execute_result"
    }
   ],
   "source": [
    "data.columns = map(str.lower, data.columns)\n",
    "data.head(30)"
   ]
  },
  {
   "cell_type": "code",
   "execution_count": 278,
   "metadata": {},
   "outputs": [
    {
     "name": "stdout",
     "output_type": "stream",
     "text": [
      "<class 'pandas.core.frame.DataFrame'>\n",
      "Int64Index: 16713 entries, 0 to 16714\n",
      "Data columns (total 11 columns):\n",
      " #   Column           Non-Null Count  Dtype  \n",
      "---  ------           --------------  -----  \n",
      " 0   name             16713 non-null  object \n",
      " 1   platform         16713 non-null  object \n",
      " 2   year_of_release  16444 non-null  float64\n",
      " 3   genre            16713 non-null  object \n",
      " 4   na_sales         16713 non-null  float64\n",
      " 5   eu_sales         16713 non-null  float64\n",
      " 6   jp_sales         16713 non-null  float64\n",
      " 7   other_sales      16713 non-null  float64\n",
      " 8   critic_score     8137 non-null   float64\n",
      " 9   user_score       10014 non-null  object \n",
      " 10  rating           9949 non-null   object \n",
      "dtypes: float64(6), object(5)\n",
      "memory usage: 1.5+ MB\n"
     ]
    }
   ],
   "source": [
    "data=data.dropna(subset=['genre']) \n",
    "data.loc[data['genre'].isna()]\n",
    "data.info()"
   ]
  },
  {
   "cell_type": "code",
   "execution_count": 279,
   "metadata": {},
   "outputs": [
    {
     "data": {
      "text/html": [
       "<div>\n",
       "<style scoped>\n",
       "    .dataframe tbody tr th:only-of-type {\n",
       "        vertical-align: middle;\n",
       "    }\n",
       "\n",
       "    .dataframe tbody tr th {\n",
       "        vertical-align: top;\n",
       "    }\n",
       "\n",
       "    .dataframe thead th {\n",
       "        text-align: right;\n",
       "    }\n",
       "</style>\n",
       "<table border=\"1\" class=\"dataframe\">\n",
       "  <thead>\n",
       "    <tr style=\"text-align: right;\">\n",
       "      <th></th>\n",
       "      <th>name</th>\n",
       "      <th>platform</th>\n",
       "      <th>year_of_release</th>\n",
       "      <th>genre</th>\n",
       "      <th>na_sales</th>\n",
       "      <th>eu_sales</th>\n",
       "      <th>jp_sales</th>\n",
       "      <th>other_sales</th>\n",
       "      <th>critic_score</th>\n",
       "      <th>user_score</th>\n",
       "      <th>rating</th>\n",
       "    </tr>\n",
       "  </thead>\n",
       "  <tbody>\n",
       "  </tbody>\n",
       "</table>\n",
       "</div>"
      ],
      "text/plain": [
       "Empty DataFrame\n",
       "Columns: [name, platform, year_of_release, genre, na_sales, eu_sales, jp_sales, other_sales, critic_score, user_score, rating]\n",
       "Index: []"
      ]
     },
     "execution_count": 279,
     "metadata": {},
     "output_type": "execute_result"
    }
   ],
   "source": [
    "data=data.replace('tbd','NaN')\n",
    "data.query('user_score==\"tbd\"')"
   ]
  },
  {
   "cell_type": "code",
   "execution_count": 280,
   "metadata": {},
   "outputs": [
    {
     "name": "stdout",
     "output_type": "stream",
     "text": [
      "<class 'pandas.core.frame.DataFrame'>\n",
      "Int64Index: 16713 entries, 0 to 16714\n",
      "Data columns (total 11 columns):\n",
      " #   Column           Non-Null Count  Dtype  \n",
      "---  ------           --------------  -----  \n",
      " 0   name             16713 non-null  object \n",
      " 1   platform         16713 non-null  object \n",
      " 2   year_of_release  16444 non-null  float64\n",
      " 3   genre            16713 non-null  object \n",
      " 4   na_sales         16713 non-null  float64\n",
      " 5   eu_sales         16713 non-null  float64\n",
      " 6   jp_sales         16713 non-null  float64\n",
      " 7   other_sales      16713 non-null  float64\n",
      " 8   critic_score     8137 non-null   float64\n",
      " 9   user_score       7590 non-null   float64\n",
      " 10  rating           9949 non-null   object \n",
      "dtypes: float64(7), object(4)\n",
      "memory usage: 1.5+ MB\n"
     ]
    }
   ],
   "source": [
    "data['user_score']=data['user_score'].astype('float')\n",
    "data.info()"
   ]
  },
  {
   "cell_type": "code",
   "execution_count": 281,
   "metadata": {},
   "outputs": [],
   "source": [
    "data['rating']=data['rating'].fillna('unknown')"
   ]
  },
  {
   "cell_type": "code",
   "execution_count": 282,
   "metadata": {},
   "outputs": [
    {
     "data": {
      "text/plain": [
       "8576"
      ]
     },
     "execution_count": 282,
     "metadata": {},
     "output_type": "execute_result"
    }
   ],
   "source": [
    "data['critic_score'].isna().sum()"
   ]
  },
  {
   "cell_type": "code",
   "execution_count": 283,
   "metadata": {},
   "outputs": [],
   "source": [
    "mean_critic_score=data.groupby('platform')['critic_score'].transform('mean')"
   ]
  },
  {
   "cell_type": "code",
   "execution_count": 284,
   "metadata": {},
   "outputs": [
    {
     "data": {
      "text/plain": [
       "1118"
      ]
     },
     "execution_count": 284,
     "metadata": {},
     "output_type": "execute_result"
    }
   ],
   "source": [
    "data['critic_score'].fillna(mean_critic_score,inplace=True)\n",
    "data['critic_score'].isna().sum()"
   ]
  },
  {
   "cell_type": "code",
   "execution_count": 285,
   "metadata": {},
   "outputs": [],
   "source": [
    "mean_user_score=data.groupby('platform')['user_score'].transform('mean')"
   ]
  },
  {
   "cell_type": "code",
   "execution_count": 286,
   "metadata": {},
   "outputs": [
    {
     "data": {
      "text/plain": [
       "1118"
      ]
     },
     "execution_count": 286,
     "metadata": {},
     "output_type": "execute_result"
    }
   ],
   "source": [
    "data['user_score'].fillna(mean_user_score,inplace=True)\n",
    "data['user_score'].isna().sum()"
   ]
  },
  {
   "cell_type": "markdown",
   "metadata": {},
   "source": [
    "__Заменила значения tbd в столбце user_score на пропуски , т.к. tbd означает -\"to be determinated\" ,то есть будет изменен__  \n",
    "\n",
    "__Заменили тип данных у значений столбца user_score на float, что бы можно было проводить операции со значениями__  \n",
    "\n",
    "__Не стала заменять или удалять  пропуски в столбце year_of_release ,т.к их не слишком много (около 300), и не нашла на что можно их заменить ,не исказив данные__  \n",
    "\n",
    "__Посмотрев строки с пропусками в столбце genre, решила их удалить , т.к их всего 2 и у этих же строк пропуск в названии игры__  \n",
    "__В столбце rating заменила пропуски на unknown, т.к пропусков достаточно много (около 35%), и создание такой категории может помочь в дальнейшем при анализе__\n",
    "\n",
    "__Заполнила большую часть пропусков в столбцах user_score и critic_score средними значениями по платформе__ \n",
    "\n",
    "__Заменила пропуски в столбце с рейтингом на категорию unknown__\n",
    "\n"
   ]
  },
  {
   "cell_type": "code",
   "execution_count": 287,
   "metadata": {},
   "outputs": [
    {
     "data": {
      "text/html": [
       "<div>\n",
       "<style scoped>\n",
       "    .dataframe tbody tr th:only-of-type {\n",
       "        vertical-align: middle;\n",
       "    }\n",
       "\n",
       "    .dataframe tbody tr th {\n",
       "        vertical-align: top;\n",
       "    }\n",
       "\n",
       "    .dataframe thead th {\n",
       "        text-align: right;\n",
       "    }\n",
       "</style>\n",
       "<table border=\"1\" class=\"dataframe\">\n",
       "  <thead>\n",
       "    <tr style=\"text-align: right;\">\n",
       "      <th></th>\n",
       "      <th>name</th>\n",
       "      <th>platform</th>\n",
       "      <th>year_of_release</th>\n",
       "      <th>genre</th>\n",
       "      <th>na_sales</th>\n",
       "      <th>eu_sales</th>\n",
       "      <th>jp_sales</th>\n",
       "      <th>other_sales</th>\n",
       "      <th>critic_score</th>\n",
       "      <th>user_score</th>\n",
       "      <th>rating</th>\n",
       "      <th>total_sales</th>\n",
       "    </tr>\n",
       "  </thead>\n",
       "  <tbody>\n",
       "    <tr>\n",
       "      <th>0</th>\n",
       "      <td>Wii Sports</td>\n",
       "      <td>Wii</td>\n",
       "      <td>2006.0</td>\n",
       "      <td>Sports</td>\n",
       "      <td>41.36</td>\n",
       "      <td>28.96</td>\n",
       "      <td>3.77</td>\n",
       "      <td>8.45</td>\n",
       "      <td>76.0</td>\n",
       "      <td>8.0</td>\n",
       "      <td>E</td>\n",
       "      <td>82.54</td>\n",
       "    </tr>\n",
       "    <tr>\n",
       "      <th>1</th>\n",
       "      <td>Super Mario Bros.</td>\n",
       "      <td>NES</td>\n",
       "      <td>1985.0</td>\n",
       "      <td>Platform</td>\n",
       "      <td>29.08</td>\n",
       "      <td>3.58</td>\n",
       "      <td>6.81</td>\n",
       "      <td>0.77</td>\n",
       "      <td>NaN</td>\n",
       "      <td>NaN</td>\n",
       "      <td>unknown</td>\n",
       "      <td>40.24</td>\n",
       "    </tr>\n",
       "    <tr>\n",
       "      <th>2</th>\n",
       "      <td>Mario Kart Wii</td>\n",
       "      <td>Wii</td>\n",
       "      <td>2008.0</td>\n",
       "      <td>Racing</td>\n",
       "      <td>15.68</td>\n",
       "      <td>12.76</td>\n",
       "      <td>3.79</td>\n",
       "      <td>3.29</td>\n",
       "      <td>82.0</td>\n",
       "      <td>8.3</td>\n",
       "      <td>E</td>\n",
       "      <td>35.52</td>\n",
       "    </tr>\n",
       "    <tr>\n",
       "      <th>3</th>\n",
       "      <td>Wii Sports Resort</td>\n",
       "      <td>Wii</td>\n",
       "      <td>2009.0</td>\n",
       "      <td>Sports</td>\n",
       "      <td>15.61</td>\n",
       "      <td>10.93</td>\n",
       "      <td>3.28</td>\n",
       "      <td>2.95</td>\n",
       "      <td>80.0</td>\n",
       "      <td>8.0</td>\n",
       "      <td>E</td>\n",
       "      <td>32.77</td>\n",
       "    </tr>\n",
       "    <tr>\n",
       "      <th>4</th>\n",
       "      <td>Pokemon Red/Pokemon Blue</td>\n",
       "      <td>GB</td>\n",
       "      <td>1996.0</td>\n",
       "      <td>Role-Playing</td>\n",
       "      <td>11.27</td>\n",
       "      <td>8.89</td>\n",
       "      <td>10.22</td>\n",
       "      <td>1.00</td>\n",
       "      <td>NaN</td>\n",
       "      <td>NaN</td>\n",
       "      <td>unknown</td>\n",
       "      <td>31.38</td>\n",
       "    </tr>\n",
       "  </tbody>\n",
       "</table>\n",
       "</div>"
      ],
      "text/plain": [
       "                       name platform  year_of_release         genre  na_sales  \\\n",
       "0                Wii Sports      Wii           2006.0        Sports     41.36   \n",
       "1         Super Mario Bros.      NES           1985.0      Platform     29.08   \n",
       "2            Mario Kart Wii      Wii           2008.0        Racing     15.68   \n",
       "3         Wii Sports Resort      Wii           2009.0        Sports     15.61   \n",
       "4  Pokemon Red/Pokemon Blue       GB           1996.0  Role-Playing     11.27   \n",
       "\n",
       "   eu_sales  jp_sales  other_sales  critic_score  user_score   rating  \\\n",
       "0     28.96      3.77         8.45          76.0         8.0        E   \n",
       "1      3.58      6.81         0.77           NaN         NaN  unknown   \n",
       "2     12.76      3.79         3.29          82.0         8.3        E   \n",
       "3     10.93      3.28         2.95          80.0         8.0        E   \n",
       "4      8.89     10.22         1.00           NaN         NaN  unknown   \n",
       "\n",
       "   total_sales  \n",
       "0        82.54  \n",
       "1        40.24  \n",
       "2        35.52  \n",
       "3        32.77  \n",
       "4        31.38  "
      ]
     },
     "execution_count": 287,
     "metadata": {},
     "output_type": "execute_result"
    }
   ],
   "source": [
    "data['total_sales']=data[['na_sales','eu_sales','jp_sales', 'other_sales']].sum(axis = 1)\n",
    "data.head()"
   ]
  },
  {
   "cell_type": "markdown",
   "metadata": {},
   "source": [
    "## Проведите исследовательский анализ данных"
   ]
  },
  {
   "cell_type": "markdown",
   "metadata": {},
   "source": [
    "__Посмотрите, сколько игр выпускалось в разные годы. Важны ли данные за все периоды?__"
   ]
  },
  {
   "cell_type": "code",
   "execution_count": 288,
   "metadata": {},
   "outputs": [
    {
     "data": {
      "text/html": [
       "<div>\n",
       "<style scoped>\n",
       "    .dataframe tbody tr th:only-of-type {\n",
       "        vertical-align: middle;\n",
       "    }\n",
       "\n",
       "    .dataframe tbody tr th {\n",
       "        vertical-align: top;\n",
       "    }\n",
       "\n",
       "    .dataframe thead th {\n",
       "        text-align: right;\n",
       "    }\n",
       "</style>\n",
       "<table border=\"1\" class=\"dataframe\">\n",
       "  <thead>\n",
       "    <tr style=\"text-align: right;\">\n",
       "      <th></th>\n",
       "      <th>games</th>\n",
       "    </tr>\n",
       "    <tr>\n",
       "      <th>year_of_release</th>\n",
       "      <th></th>\n",
       "    </tr>\n",
       "  </thead>\n",
       "  <tbody>\n",
       "    <tr>\n",
       "      <th>1980.0</th>\n",
       "      <td>9</td>\n",
       "    </tr>\n",
       "    <tr>\n",
       "      <th>1981.0</th>\n",
       "      <td>46</td>\n",
       "    </tr>\n",
       "    <tr>\n",
       "      <th>1982.0</th>\n",
       "      <td>36</td>\n",
       "    </tr>\n",
       "    <tr>\n",
       "      <th>1983.0</th>\n",
       "      <td>17</td>\n",
       "    </tr>\n",
       "    <tr>\n",
       "      <th>1984.0</th>\n",
       "      <td>14</td>\n",
       "    </tr>\n",
       "    <tr>\n",
       "      <th>1985.0</th>\n",
       "      <td>14</td>\n",
       "    </tr>\n",
       "    <tr>\n",
       "      <th>1986.0</th>\n",
       "      <td>21</td>\n",
       "    </tr>\n",
       "    <tr>\n",
       "      <th>1987.0</th>\n",
       "      <td>16</td>\n",
       "    </tr>\n",
       "    <tr>\n",
       "      <th>1988.0</th>\n",
       "      <td>15</td>\n",
       "    </tr>\n",
       "    <tr>\n",
       "      <th>1989.0</th>\n",
       "      <td>17</td>\n",
       "    </tr>\n",
       "    <tr>\n",
       "      <th>1990.0</th>\n",
       "      <td>16</td>\n",
       "    </tr>\n",
       "    <tr>\n",
       "      <th>1991.0</th>\n",
       "      <td>41</td>\n",
       "    </tr>\n",
       "    <tr>\n",
       "      <th>1992.0</th>\n",
       "      <td>43</td>\n",
       "    </tr>\n",
       "    <tr>\n",
       "      <th>1993.0</th>\n",
       "      <td>60</td>\n",
       "    </tr>\n",
       "    <tr>\n",
       "      <th>1994.0</th>\n",
       "      <td>121</td>\n",
       "    </tr>\n",
       "    <tr>\n",
       "      <th>1995.0</th>\n",
       "      <td>219</td>\n",
       "    </tr>\n",
       "    <tr>\n",
       "      <th>1996.0</th>\n",
       "      <td>263</td>\n",
       "    </tr>\n",
       "    <tr>\n",
       "      <th>1997.0</th>\n",
       "      <td>289</td>\n",
       "    </tr>\n",
       "    <tr>\n",
       "      <th>1998.0</th>\n",
       "      <td>379</td>\n",
       "    </tr>\n",
       "    <tr>\n",
       "      <th>1999.0</th>\n",
       "      <td>338</td>\n",
       "    </tr>\n",
       "    <tr>\n",
       "      <th>2000.0</th>\n",
       "      <td>350</td>\n",
       "    </tr>\n",
       "    <tr>\n",
       "      <th>2001.0</th>\n",
       "      <td>482</td>\n",
       "    </tr>\n",
       "    <tr>\n",
       "      <th>2002.0</th>\n",
       "      <td>829</td>\n",
       "    </tr>\n",
       "    <tr>\n",
       "      <th>2003.0</th>\n",
       "      <td>775</td>\n",
       "    </tr>\n",
       "    <tr>\n",
       "      <th>2004.0</th>\n",
       "      <td>762</td>\n",
       "    </tr>\n",
       "    <tr>\n",
       "      <th>2005.0</th>\n",
       "      <td>939</td>\n",
       "    </tr>\n",
       "    <tr>\n",
       "      <th>2006.0</th>\n",
       "      <td>1006</td>\n",
       "    </tr>\n",
       "    <tr>\n",
       "      <th>2007.0</th>\n",
       "      <td>1197</td>\n",
       "    </tr>\n",
       "    <tr>\n",
       "      <th>2008.0</th>\n",
       "      <td>1427</td>\n",
       "    </tr>\n",
       "    <tr>\n",
       "      <th>2009.0</th>\n",
       "      <td>1426</td>\n",
       "    </tr>\n",
       "    <tr>\n",
       "      <th>2010.0</th>\n",
       "      <td>1255</td>\n",
       "    </tr>\n",
       "    <tr>\n",
       "      <th>2011.0</th>\n",
       "      <td>1136</td>\n",
       "    </tr>\n",
       "    <tr>\n",
       "      <th>2012.0</th>\n",
       "      <td>653</td>\n",
       "    </tr>\n",
       "    <tr>\n",
       "      <th>2013.0</th>\n",
       "      <td>544</td>\n",
       "    </tr>\n",
       "    <tr>\n",
       "      <th>2014.0</th>\n",
       "      <td>581</td>\n",
       "    </tr>\n",
       "    <tr>\n",
       "      <th>2015.0</th>\n",
       "      <td>606</td>\n",
       "    </tr>\n",
       "    <tr>\n",
       "      <th>2016.0</th>\n",
       "      <td>502</td>\n",
       "    </tr>\n",
       "  </tbody>\n",
       "</table>\n",
       "</div>"
      ],
      "text/plain": [
       "                 games\n",
       "year_of_release       \n",
       "1980.0               9\n",
       "1981.0              46\n",
       "1982.0              36\n",
       "1983.0              17\n",
       "1984.0              14\n",
       "1985.0              14\n",
       "1986.0              21\n",
       "1987.0              16\n",
       "1988.0              15\n",
       "1989.0              17\n",
       "1990.0              16\n",
       "1991.0              41\n",
       "1992.0              43\n",
       "1993.0              60\n",
       "1994.0             121\n",
       "1995.0             219\n",
       "1996.0             263\n",
       "1997.0             289\n",
       "1998.0             379\n",
       "1999.0             338\n",
       "2000.0             350\n",
       "2001.0             482\n",
       "2002.0             829\n",
       "2003.0             775\n",
       "2004.0             762\n",
       "2005.0             939\n",
       "2006.0            1006\n",
       "2007.0            1197\n",
       "2008.0            1427\n",
       "2009.0            1426\n",
       "2010.0            1255\n",
       "2011.0            1136\n",
       "2012.0             653\n",
       "2013.0             544\n",
       "2014.0             581\n",
       "2015.0             606\n",
       "2016.0             502"
      ]
     },
     "execution_count": 288,
     "metadata": {},
     "output_type": "execute_result"
    }
   ],
   "source": [
    "data_years=data.groupby('year_of_release').agg(games=('name','count'))\n",
    "data_years"
   ]
  },
  {
   "cell_type": "code",
   "execution_count": 289,
   "metadata": {},
   "outputs": [
    {
     "data": {
      "text/plain": [
       "<AxesSubplot:title={'center':'График выхода игр по годам'}, xlabel='year_of_release'>"
      ]
     },
     "execution_count": 289,
     "metadata": {},
     "output_type": "execute_result"
    },
    {
     "data": {
      "image/png": "[encoded data removed]",
      "text/plain": [
       "<Figure size 720x432 with 1 Axes>"
      ]
     },
     "metadata": {
      "needs_background": "light"
     },
     "output_type": "display_data"
    }
   ],
   "source": [
    "data.groupby('year_of_release')['name'].count().plot(x=\"year_of_release\",style=\"-o\",figsize=(10,6),title='График выхода игр по годам')"
   ]
  },
  {
   "cell_type": "code",
   "execution_count": 290,
   "metadata": {},
   "outputs": [
    {
     "data": {
      "text/html": [
       "<div>\n",
       "<style scoped>\n",
       "    .dataframe tbody tr th:only-of-type {\n",
       "        vertical-align: middle;\n",
       "    }\n",
       "\n",
       "    .dataframe tbody tr th {\n",
       "        vertical-align: top;\n",
       "    }\n",
       "\n",
       "    .dataframe thead th {\n",
       "        text-align: right;\n",
       "    }\n",
       "</style>\n",
       "<table border=\"1\" class=\"dataframe\">\n",
       "  <thead>\n",
       "    <tr style=\"text-align: right;\">\n",
       "      <th></th>\n",
       "      <th></th>\n",
       "      <th>sales_by_years_by_platform</th>\n",
       "    </tr>\n",
       "    <tr>\n",
       "      <th>platform</th>\n",
       "      <th>year_of_release</th>\n",
       "      <th></th>\n",
       "    </tr>\n",
       "  </thead>\n",
       "  <tbody>\n",
       "    <tr>\n",
       "      <th rowspan=\"5\" valign=\"top\">PS</th>\n",
       "      <th>1996.0</th>\n",
       "      <td>94.70</td>\n",
       "    </tr>\n",
       "    <tr>\n",
       "      <th>1997.0</th>\n",
       "      <td>136.17</td>\n",
       "    </tr>\n",
       "    <tr>\n",
       "      <th>1998.0</th>\n",
       "      <td>169.49</td>\n",
       "    </tr>\n",
       "    <tr>\n",
       "      <th>1999.0</th>\n",
       "      <td>144.53</td>\n",
       "    </tr>\n",
       "    <tr>\n",
       "      <th>2000.0</th>\n",
       "      <td>96.37</td>\n",
       "    </tr>\n",
       "    <tr>\n",
       "      <th>PS2</th>\n",
       "      <th>2001.0</th>\n",
       "      <td>166.43</td>\n",
       "    </tr>\n",
       "    <tr>\n",
       "      <th>GBA</th>\n",
       "      <th>2002.0</th>\n",
       "      <td>74.16</td>\n",
       "    </tr>\n",
       "    <tr>\n",
       "      <th rowspan=\"2\" valign=\"top\">PS2</th>\n",
       "      <th>2002.0</th>\n",
       "      <td>205.38</td>\n",
       "    </tr>\n",
       "    <tr>\n",
       "      <th>2003.0</th>\n",
       "      <td>184.31</td>\n",
       "    </tr>\n",
       "    <tr>\n",
       "      <th>GBA</th>\n",
       "      <th>2004.0</th>\n",
       "      <td>77.91</td>\n",
       "    </tr>\n",
       "    <tr>\n",
       "      <th rowspan=\"2\" valign=\"top\">PS2</th>\n",
       "      <th>2004.0</th>\n",
       "      <td>211.81</td>\n",
       "    </tr>\n",
       "    <tr>\n",
       "      <th>2005.0</th>\n",
       "      <td>160.66</td>\n",
       "    </tr>\n",
       "    <tr>\n",
       "      <th>DS</th>\n",
       "      <th>2005.0</th>\n",
       "      <td>130.14</td>\n",
       "    </tr>\n",
       "    <tr>\n",
       "      <th>Wii</th>\n",
       "      <th>2006.0</th>\n",
       "      <td>137.15</td>\n",
       "    </tr>\n",
       "    <tr>\n",
       "      <th>PS2</th>\n",
       "      <th>2006.0</th>\n",
       "      <td>103.42</td>\n",
       "    </tr>\n",
       "    <tr>\n",
       "      <th rowspan=\"2\" valign=\"top\">DS</th>\n",
       "      <th>2006.0</th>\n",
       "      <td>119.81</td>\n",
       "    </tr>\n",
       "    <tr>\n",
       "      <th>2007.0</th>\n",
       "      <td>146.94</td>\n",
       "    </tr>\n",
       "    <tr>\n",
       "      <th>X360</th>\n",
       "      <th>2007.0</th>\n",
       "      <td>95.41</td>\n",
       "    </tr>\n",
       "    <tr>\n",
       "      <th>PS2</th>\n",
       "      <th>2007.0</th>\n",
       "      <td>75.99</td>\n",
       "    </tr>\n",
       "    <tr>\n",
       "      <th>Wii</th>\n",
       "      <th>2007.0</th>\n",
       "      <td>152.77</td>\n",
       "    </tr>\n",
       "    <tr>\n",
       "      <th>DS</th>\n",
       "      <th>2008.0</th>\n",
       "      <td>145.31</td>\n",
       "    </tr>\n",
       "    <tr>\n",
       "      <th>Wii</th>\n",
       "      <th>2008.0</th>\n",
       "      <td>171.32</td>\n",
       "    </tr>\n",
       "    <tr>\n",
       "      <th>X360</th>\n",
       "      <th>2008.0</th>\n",
       "      <td>135.26</td>\n",
       "    </tr>\n",
       "    <tr>\n",
       "      <th>PS3</th>\n",
       "      <th>2008.0</th>\n",
       "      <td>118.52</td>\n",
       "    </tr>\n",
       "    <tr>\n",
       "      <th>Wii</th>\n",
       "      <th>2009.0</th>\n",
       "      <td>206.97</td>\n",
       "    </tr>\n",
       "    <tr>\n",
       "      <th>PS3</th>\n",
       "      <th>2009.0</th>\n",
       "      <td>130.93</td>\n",
       "    </tr>\n",
       "    <tr>\n",
       "      <th>X360</th>\n",
       "      <th>2009.0</th>\n",
       "      <td>120.29</td>\n",
       "    </tr>\n",
       "    <tr>\n",
       "      <th>DS</th>\n",
       "      <th>2009.0</th>\n",
       "      <td>119.54</td>\n",
       "    </tr>\n",
       "    <tr>\n",
       "      <th>Wii</th>\n",
       "      <th>2010.0</th>\n",
       "      <td>127.95</td>\n",
       "    </tr>\n",
       "    <tr>\n",
       "      <th>X360</th>\n",
       "      <th>2010.0</th>\n",
       "      <td>170.03</td>\n",
       "    </tr>\n",
       "    <tr>\n",
       "      <th>PS3</th>\n",
       "      <th>2010.0</th>\n",
       "      <td>142.17</td>\n",
       "    </tr>\n",
       "    <tr>\n",
       "      <th>DS</th>\n",
       "      <th>2010.0</th>\n",
       "      <td>85.02</td>\n",
       "    </tr>\n",
       "    <tr>\n",
       "      <th>X360</th>\n",
       "      <th>2011.0</th>\n",
       "      <td>143.84</td>\n",
       "    </tr>\n",
       "    <tr>\n",
       "      <th rowspan=\"2\" valign=\"top\">PS3</th>\n",
       "      <th>2011.0</th>\n",
       "      <td>156.78</td>\n",
       "    </tr>\n",
       "    <tr>\n",
       "      <th>2012.0</th>\n",
       "      <td>107.36</td>\n",
       "    </tr>\n",
       "    <tr>\n",
       "      <th>X360</th>\n",
       "      <th>2012.0</th>\n",
       "      <td>99.74</td>\n",
       "    </tr>\n",
       "    <tr>\n",
       "      <th>PS3</th>\n",
       "      <th>2013.0</th>\n",
       "      <td>113.25</td>\n",
       "    </tr>\n",
       "    <tr>\n",
       "      <th>X360</th>\n",
       "      <th>2013.0</th>\n",
       "      <td>88.58</td>\n",
       "    </tr>\n",
       "    <tr>\n",
       "      <th rowspan=\"2\" valign=\"top\">PS4</th>\n",
       "      <th>2014.0</th>\n",
       "      <td>100.00</td>\n",
       "    </tr>\n",
       "    <tr>\n",
       "      <th>2015.0</th>\n",
       "      <td>118.90</td>\n",
       "    </tr>\n",
       "  </tbody>\n",
       "</table>\n",
       "</div>"
      ],
      "text/plain": [
       "                          sales_by_years_by_platform\n",
       "platform year_of_release                            \n",
       "PS       1996.0                                94.70\n",
       "         1997.0                               136.17\n",
       "         1998.0                               169.49\n",
       "         1999.0                               144.53\n",
       "         2000.0                                96.37\n",
       "PS2      2001.0                               166.43\n",
       "GBA      2002.0                                74.16\n",
       "PS2      2002.0                               205.38\n",
       "         2003.0                               184.31\n",
       "GBA      2004.0                                77.91\n",
       "PS2      2004.0                               211.81\n",
       "         2005.0                               160.66\n",
       "DS       2005.0                               130.14\n",
       "Wii      2006.0                               137.15\n",
       "PS2      2006.0                               103.42\n",
       "DS       2006.0                               119.81\n",
       "         2007.0                               146.94\n",
       "X360     2007.0                                95.41\n",
       "PS2      2007.0                                75.99\n",
       "Wii      2007.0                               152.77\n",
       "DS       2008.0                               145.31\n",
       "Wii      2008.0                               171.32\n",
       "X360     2008.0                               135.26\n",
       "PS3      2008.0                               118.52\n",
       "Wii      2009.0                               206.97\n",
       "PS3      2009.0                               130.93\n",
       "X360     2009.0                               120.29\n",
       "DS       2009.0                               119.54\n",
       "Wii      2010.0                               127.95\n",
       "X360     2010.0                               170.03\n",
       "PS3      2010.0                               142.17\n",
       "DS       2010.0                                85.02\n",
       "X360     2011.0                               143.84\n",
       "PS3      2011.0                               156.78\n",
       "         2012.0                               107.36\n",
       "X360     2012.0                                99.74\n",
       "PS3      2013.0                               113.25\n",
       "X360     2013.0                                88.58\n",
       "PS4      2014.0                               100.00\n",
       "         2015.0                               118.90"
      ]
     },
     "execution_count": 290,
     "metadata": {},
     "output_type": "execute_result"
    }
   ],
   "source": [
    "platform_sales=data.groupby(['platform','year_of_release']).agg(sales_by_years_by_platform=('total_sales','sum')).sort_values(by='sales_by_years_by_platform',ascending=False).head(40)\n",
    "platform_sales.sort_values(by='year_of_release')"
   ]
  },
  {
   "cell_type": "markdown",
   "metadata": {},
   "source": [
    "__Вывод:__\n",
    "\n",
    "__Посмотрев распределение выпуска игр по годам , видно что больше всего игр выпускалось с 2002 по 2011 год, далее наблюдается небольшой спад__  \n",
    "__Эти данные ,на мой взгяд важны, т.к. при анализе продаж , важно учитывать и количество игр (т.е если с 2012 года падают продажи , на это так же повлияло и количество выпущенных игр)__  "
   ]
  },
  {
   "cell_type": "markdown",
   "metadata": {},
   "source": [
    "___Посмотрите, как менялись продажи по платформам. Выберите платформы с наибольшими суммарными продажами и постройте распределение по годам. За какой характерный срок появляются новые и исчезают старые платформы?___"
   ]
  },
  {
   "cell_type": "code",
   "execution_count": 291,
   "metadata": {},
   "outputs": [
    {
     "data": {
      "text/html": [
       "<div>\n",
       "<style scoped>\n",
       "    .dataframe tbody tr th:only-of-type {\n",
       "        vertical-align: middle;\n",
       "    }\n",
       "\n",
       "    .dataframe tbody tr th {\n",
       "        vertical-align: top;\n",
       "    }\n",
       "\n",
       "    .dataframe thead th {\n",
       "        text-align: right;\n",
       "    }\n",
       "</style>\n",
       "<table border=\"1\" class=\"dataframe\">\n",
       "  <thead>\n",
       "    <tr style=\"text-align: right;\">\n",
       "      <th></th>\n",
       "      <th>sales_by_platform</th>\n",
       "    </tr>\n",
       "    <tr>\n",
       "      <th>platform</th>\n",
       "      <th></th>\n",
       "    </tr>\n",
       "  </thead>\n",
       "  <tbody>\n",
       "    <tr>\n",
       "      <th>PS2</th>\n",
       "      <td>1255.77</td>\n",
       "    </tr>\n",
       "    <tr>\n",
       "      <th>X360</th>\n",
       "      <td>971.42</td>\n",
       "    </tr>\n",
       "    <tr>\n",
       "      <th>PS3</th>\n",
       "      <td>939.65</td>\n",
       "    </tr>\n",
       "    <tr>\n",
       "      <th>Wii</th>\n",
       "      <td>907.51</td>\n",
       "    </tr>\n",
       "    <tr>\n",
       "      <th>DS</th>\n",
       "      <td>806.12</td>\n",
       "    </tr>\n",
       "    <tr>\n",
       "      <th>PS</th>\n",
       "      <td>730.86</td>\n",
       "    </tr>\n",
       "    <tr>\n",
       "      <th>GBA</th>\n",
       "      <td>317.85</td>\n",
       "    </tr>\n",
       "    <tr>\n",
       "      <th>PS4</th>\n",
       "      <td>314.14</td>\n",
       "    </tr>\n",
       "    <tr>\n",
       "      <th>PSP</th>\n",
       "      <td>294.05</td>\n",
       "    </tr>\n",
       "    <tr>\n",
       "      <th>PC</th>\n",
       "      <td>259.52</td>\n",
       "    </tr>\n",
       "  </tbody>\n",
       "</table>\n",
       "</div>"
      ],
      "text/plain": [
       "          sales_by_platform\n",
       "platform                   \n",
       "PS2                 1255.77\n",
       "X360                 971.42\n",
       "PS3                  939.65\n",
       "Wii                  907.51\n",
       "DS                   806.12\n",
       "PS                   730.86\n",
       "GBA                  317.85\n",
       "PS4                  314.14\n",
       "PSP                  294.05\n",
       "PC                   259.52"
      ]
     },
     "execution_count": 291,
     "metadata": {},
     "output_type": "execute_result"
    }
   ],
   "source": [
    "platform_sales1=data.groupby('platform').agg(sales_by_platform=('total_sales','sum')).sort_values(by='sales_by_platform',ascending=False).head(10)\n",
    "platform_sales1"
   ]
  },
  {
   "cell_type": "code",
   "execution_count": 292,
   "metadata": {},
   "outputs": [
    {
     "data": {
      "text/plain": [
       "<AxesSubplot:xlabel='year_of_release'>"
      ]
     },
     "execution_count": 292,
     "metadata": {},
     "output_type": "execute_result"
    },
    {
     "data": {
      "image/png": "[encoded data removed]",
      "text/plain": [
       "<Figure size 432x288 with 1 Axes>"
      ]
     },
     "metadata": {
      "needs_background": "light"
     },
     "output_type": "display_data"
    }
   ],
   "source": [
    "platform_ps2=data.loc[data['platform']=='PS2'].groupby('year_of_release').agg(sales_ps2=('total_sales','sum'))\n",
    "platform_ps2.plot(kind='bar')\n"
   ]
  },
  {
   "cell_type": "code",
   "execution_count": 293,
   "metadata": {},
   "outputs": [
    {
     "data": {
      "text/plain": [
       "<AxesSubplot:xlabel='year_of_release'>"
      ]
     },
     "execution_count": 293,
     "metadata": {},
     "output_type": "execute_result"
    },
    {
     "data": {
      "image/png": "[encoded data removed]",
      "text/plain": [
       "<Figure size 432x288 with 1 Axes>"
      ]
     },
     "metadata": {
      "needs_background": "light"
     },
     "output_type": "display_data"
    }
   ],
   "source": [
    "platform_x360=data.loc[data['platform']=='X360'].groupby('year_of_release').agg(sales_x360=('total_sales','sum'))\n",
    "platform_x360.plot(kind='bar')"
   ]
  },
  {
   "cell_type": "code",
   "execution_count": 294,
   "metadata": {},
   "outputs": [
    {
     "data": {
      "text/plain": [
       "<AxesSubplot:xlabel='year_of_release'>"
      ]
     },
     "execution_count": 294,
     "metadata": {},
     "output_type": "execute_result"
    },
    {
     "data": {
      "image/png": "[encoded data removed]",
      "text/plain": [
       "<Figure size 432x288 with 1 Axes>"
      ]
     },
     "metadata": {
      "needs_background": "light"
     },
     "output_type": "display_data"
    }
   ],
   "source": [
    "platform_ps3=data.loc[data['platform']=='PS3'].groupby('year_of_release').agg(sales_ps3=('total_sales','sum'))\n",
    "platform_ps3.plot(kind='bar')\n"
   ]
  },
  {
   "cell_type": "code",
   "execution_count": 295,
   "metadata": {},
   "outputs": [
    {
     "data": {
      "text/plain": [
       "<AxesSubplot:xlabel='year_of_release'>"
      ]
     },
     "execution_count": 295,
     "metadata": {},
     "output_type": "execute_result"
    },
    {
     "data": {
      "image/png": "[encoded data removed]",
      "text/plain": [
       "<Figure size 432x288 with 1 Axes>"
      ]
     },
     "metadata": {
      "needs_background": "light"
     },
     "output_type": "display_data"
    }
   ],
   "source": [
    "platform_wii=data.loc[data['platform']=='Wii']\n",
    "platform_wii.groupby('year_of_release').agg(sales_wii=('total_sales','sum')).plot(kind='bar')"
   ]
  },
  {
   "cell_type": "code",
   "execution_count": 296,
   "metadata": {},
   "outputs": [
    {
     "data": {
      "text/plain": [
       "<AxesSubplot:xlabel='year_of_release'>"
      ]
     },
     "execution_count": 296,
     "metadata": {},
     "output_type": "execute_result"
    },
    {
     "data": {
      "image/png": "[encoded data removed]",
      "text/plain": [
       "<Figure size 432x288 with 1 Axes>"
      ]
     },
     "metadata": {
      "needs_background": "light"
     },
     "output_type": "display_data"
    }
   ],
   "source": [
    "platform_ds=data.loc[data['platform']=='DS']\n",
    "platform_ds.groupby('year_of_release').agg(sales_ds=('total_sales','sum')).plot(kind='bar')"
   ]
  },
  {
   "cell_type": "code",
   "execution_count": 297,
   "metadata": {},
   "outputs": [
    {
     "data": {
      "text/plain": [
       "<AxesSubplot:xlabel='year_of_release'>"
      ]
     },
     "execution_count": 297,
     "metadata": {},
     "output_type": "execute_result"
    },
    {
     "data": {
      "image/png": "[encoded data removed]",
      "text/plain": [
       "<Figure size 432x288 with 1 Axes>"
      ]
     },
     "metadata": {
      "needs_background": "light"
     },
     "output_type": "display_data"
    }
   ],
   "source": [
    "platform_ps=data.loc[data['platform']=='PS']\n",
    "platform_ps.groupby('year_of_release').agg(sales_ps=('total_sales','sum')).plot(kind='bar')"
   ]
  },
  {
   "cell_type": "code",
   "execution_count": 298,
   "metadata": {},
   "outputs": [
    {
     "data": {
      "text/plain": [
       "<AxesSubplot:xlabel='year_of_release'>"
      ]
     },
     "execution_count": 298,
     "metadata": {},
     "output_type": "execute_result"
    },
    {
     "data": {
      "image/png": "[encoded data removed]",
      "text/plain": [
       "<Figure size 432x288 with 1 Axes>"
      ]
     },
     "metadata": {
      "needs_background": "light"
     },
     "output_type": "display_data"
    }
   ],
   "source": [
    "platform_ps4=data.loc[data['platform']=='PS4']\n",
    "platform_ps4.groupby('year_of_release').agg(sales_ps4=('total_sales','sum')).plot(kind='bar')"
   ]
  },
  {
   "cell_type": "markdown",
   "metadata": {},
   "source": [
    "__Вывод:__  \n",
    "__Построив распределение продаж по годам у наиболее продаваемых платформ, например ,рассмотрев платформу PS и ее последующие версии ,видно что срок одной версии -примерно 6 лет (т. е за 6 лет одна версия платформы полностью сменяется следующей)__"
   ]
  },
  {
   "cell_type": "markdown",
   "metadata": {},
   "source": [
    "___Возьмите данные за соответствующий актуальный период. Актуальный период определите самостоятельно в результате исследования предыдущих вопросов. Основной фактор — эти данные помогут построить прогноз на 2017 год___   \n",
    "\n",
    "___Какие платформы лидируют по продажам, растут или падают? Выберите несколько потенциально прибыльных платформ___ "
   ]
  },
  {
   "cell_type": "code",
   "execution_count": 299,
   "metadata": {},
   "outputs": [
    {
     "data": {
      "text/plain": [
       "<AxesSubplot:xlabel='platform'>"
      ]
     },
     "execution_count": 299,
     "metadata": {},
     "output_type": "execute_result"
    },
    {
     "data": {
      "image/png": "[encoded data removed]",
      "text/plain": [
       "<Figure size 432x288 with 1 Axes>"
      ]
     },
     "metadata": {
      "needs_background": "light"
     },
     "output_type": "display_data"
    }
   ],
   "source": [
    "data_actual=data.loc[data['year_of_release']>=2014]\n",
    "data_actual.head(20)\n",
    "data_actual.groupby('platform').agg(sales=('total_sales','sum')).plot(kind='bar')"
   ]
  },
  {
   "cell_type": "code",
   "execution_count": 300,
   "metadata": {},
   "outputs": [
    {
     "data": {
      "text/plain": [
       "<AxesSubplot:xlabel='year_of_release'>"
      ]
     },
     "execution_count": 300,
     "metadata": {},
     "output_type": "execute_result"
    },
    {
     "data": {
      "image/png": "[encoded data removed]",
      "text/plain": [
       "<Figure size 432x288 with 1 Axes>"
      ]
     },
     "metadata": {
      "needs_background": "light"
     },
     "output_type": "display_data"
    }
   ],
   "source": [
    "platform_xone=data.loc[data['platform']=='XOne']\n",
    "platform_xone.groupby('year_of_release').agg(sales_xone=('total_sales','sum')).plot(kind='bar')"
   ]
  },
  {
   "cell_type": "code",
   "execution_count": 301,
   "metadata": {},
   "outputs": [
    {
     "data": {
      "text/plain": [
       "<AxesSubplot:xlabel='year_of_release'>"
      ]
     },
     "execution_count": 301,
     "metadata": {},
     "output_type": "execute_result"
    },
    {
     "data": {
      "image/png": "[encoded data removed]",
      "text/plain": [
       "<Figure size 432x288 with 1 Axes>"
      ]
     },
     "metadata": {
      "needs_background": "light"
     },
     "output_type": "display_data"
    }
   ],
   "source": [
    "platform_3ds=data.loc[data['platform']=='3DS']\n",
    "platform_3ds.groupby('year_of_release').agg(sales_3ds=('total_sales','sum')).plot(kind='bar')"
   ]
  },
  {
   "cell_type": "code",
   "execution_count": 302,
   "metadata": {},
   "outputs": [
    {
     "data": {
      "text/plain": [
       "<AxesSubplot:xlabel='year_of_release'>"
      ]
     },
     "execution_count": 302,
     "metadata": {},
     "output_type": "execute_result"
    },
    {
     "data": {
      "image/png": "[encoded data removed]",
      "text/plain": [
       "<Figure size 432x288 with 1 Axes>"
      ]
     },
     "metadata": {
      "needs_background": "light"
     },
     "output_type": "display_data"
    }
   ],
   "source": [
    "platform_pc=data.loc[data['platform']=='PC']\n",
    "platform_pc.groupby('year_of_release').agg(sales_pc=('total_sales','sum')).plot(kind='bar')"
   ]
  },
  {
   "cell_type": "code",
   "execution_count": 303,
   "metadata": {},
   "outputs": [
    {
     "data": {
      "text/plain": [
       "<AxesSubplot:xlabel='year_of_release'>"
      ]
     },
     "execution_count": 303,
     "metadata": {},
     "output_type": "execute_result"
    },
    {
     "data": {
      "image/png": "[encoded data removed]",
      "text/plain": [
       "<Figure size 432x288 with 1 Axes>"
      ]
     },
     "metadata": {
      "needs_background": "light"
     },
     "output_type": "display_data"
    }
   ],
   "source": [
    "platform_psv=data.loc[data['platform']=='PSV']\n",
    "platform_psv.groupby('year_of_release').agg(sales_psv=('total_sales','sum')).plot(kind='bar')"
   ]
  },
  {
   "cell_type": "code",
   "execution_count": 304,
   "metadata": {},
   "outputs": [
    {
     "data": {
      "text/plain": [
       "<AxesSubplot:xlabel='year_of_release'>"
      ]
     },
     "execution_count": 304,
     "metadata": {},
     "output_type": "execute_result"
    },
    {
     "data": {
      "image/png": "[encoded data removed]",
      "text/plain": [
       "<Figure size 432x288 with 1 Axes>"
      ]
     },
     "metadata": {
      "needs_background": "light"
     },
     "output_type": "display_data"
    }
   ],
   "source": [
    "platform_wiiu=data.loc[data['platform']=='WiiU']\n",
    "platform_wiiu.groupby('year_of_release').agg(sales_wiiu=('total_sales','sum')).plot(kind='bar')"
   ]
  },
  {
   "cell_type": "code",
   "execution_count": 305,
   "metadata": {},
   "outputs": [
    {
     "data": {
      "text/plain": [
       "<AxesSubplot:xlabel='year_of_release'>"
      ]
     },
     "execution_count": 305,
     "metadata": {},
     "output_type": "execute_result"
    },
    {
     "data": {
      "image/png": "[encoded data removed]",
      "text/plain": [
       "<Figure size 432x288 with 1 Axes>"
      ]
     },
     "metadata": {
      "needs_background": "light"
     },
     "output_type": "display_data"
    }
   ],
   "source": [
    "platform_x360=data.loc[data['platform']=='X360']\n",
    "platform_x360.groupby('year_of_release').agg(sales_x360=('total_sales','sum')).plot(kind='bar')"
   ]
  },
  {
   "cell_type": "markdown",
   "metadata": {},
   "source": [
    "_Для наглядности выстроим рядом графики выпуска игр по годам для лидирующих платформ_"
   ]
  },
  {
   "cell_type": "code",
   "execution_count": 306,
   "metadata": {},
   "outputs": [
    {
     "data": {
      "text/plain": [
       "Text(0.5, 1.0, 'X360')"
      ]
     },
     "execution_count": 306,
     "metadata": {},
     "output_type": "execute_result"
    },
    {
     "data": {
      "image/png": "[encoded data removed]",
      "text/plain": [
       "<Figure size 1080x216 with 6 Axes>"
      ]
     },
     "metadata": {
      "needs_background": "light"
     },
     "output_type": "display_data"
    }
   ],
   "source": [
    "import matplotlib.pyplot as plt\n",
    "\n",
    "\n",
    "fig, axs = plt.subplots(1,6 , figsize=(15,3), sharey=True)\n",
    "\n",
    "axs[0].bar(platform_xone['year_of_release'], platform_xone['total_sales'])\n",
    "axs[1].bar(platform_3ds['year_of_release'], platform_3ds['total_sales'])\n",
    "axs[2].bar(platform_pc['year_of_release'], platform_pc['total_sales'])\n",
    "axs[3].bar(platform_psv['year_of_release'], platform_psv['total_sales'])\n",
    "axs[4].bar(platform_wiiu['year_of_release'], platform_wiiu['total_sales'])  \n",
    "axs[5].bar(platform_x360['year_of_release'], platform_x360['total_sales'])\n",
    "\n",
    "axs[0].set_title('XOne')\n",
    "axs[1].set_title('3DS')\n",
    "axs[2].set_title('PC')\n",
    "axs[3].set_title('PSV')\n",
    "axs[4].set_title('WiiU')\n",
    "axs[5].set_title('X360')\n"
   ]
  },
  {
   "cell_type": "markdown",
   "metadata": {},
   "source": [
    "__Вывод:__  \n",
    "__В результате анализа продаж игр на разных платформах за последние 3 года (с 2014 по 2016 ), решила отнести к потенциально прибыльным : PS4, XOne, 3DS и WiiU и PC__ \n",
    "__PS4 -потому , что по продажам она значительно лидирует , и так же она является последователем одной из самых первых платформ -PS__  \n",
    "__XOne, 3DS и WiiU -потому , что они так же являются лидерами по продажам за анализируемые 3 года__  \n",
    "__PC я так же отнесла к потенциально прибыльным ,несмотря на невысокий объем продаж за последние 3 года, потому что , она уже очень давно на рынке (с 1985 года) и все это время у нее достаточно хорошие показатели продаж__  \n",
    "__У всех лидирующих платформ наблюдается спад продаж в 2016 году. Думаю ,это может быть связано  с возможностью того, что данные за 2016 год-неполные__"
   ]
  },
  {
   "cell_type": "markdown",
   "metadata": {},
   "source": [
    "___Постройте график «ящик с усами» по глобальным продажам игр в разбивке по платформам. Опишите результат___"
   ]
  },
  {
   "cell_type": "code",
   "execution_count": 307,
   "metadata": {},
   "outputs": [
    {
     "data": {
      "text/plain": [
       "<AxesSubplot:xlabel='platform'>"
      ]
     },
     "execution_count": 307,
     "metadata": {},
     "output_type": "execute_result"
    },
    {
     "data": {
      "image/png": "[encoded data removed]",
      "text/plain": [
       "<Figure size 432x288 with 1 Axes>"
      ]
     },
     "metadata": {
      "needs_background": "light"
     },
     "output_type": "display_data"
    },
    {
     "data": {
      "image/png": "[encoded data removed]",
      "text/plain": [
       "<Figure size 432x288 with 1 Axes>"
      ]
     },
     "metadata": {
      "needs_background": "light"
     },
     "output_type": "display_data"
    }
   ],
   "source": [
    "import matplotlib.pyplot as plt\n",
    "platform_sales2=data.groupby('platform').agg(sales_by_platform=('total_sales','sum'))\n",
    "platform_sales2.boxplot(column='sales_by_platform')\n",
    "plt.show\n",
    "platform_sales2['sales_by_platform'].describe()\n",
    "platform_sales2.plot(kind='bar')"
   ]
  },
  {
   "cell_type": "markdown",
   "metadata": {},
   "source": [
    "__Вывод:__\n",
    "__По графику \"ящик с усами\" ,построенному по сводной таблице по платформам и объемам продаж, видно ,что медианное значение находится на отметке 200 млн. копий -т.е -большинство платформ имеют такие продажи .Можно сказать ,что продажи более 600 млн. копий -это скорее исключение -явные лидеры продаж__  "
   ]
  },
  {
   "cell_type": "markdown",
   "metadata": {},
   "source": [
    "___Посмотрите, как влияют на продажи внутри одной популярной платформы отзывы пользователей и критиков. Постройте диаграмму рассеяния и посчитайте корреляцию между отзывами и продажами. Сформулируйте выводы.\n",
    "Соотнесите выводы с продажами игр на других платформах___"
   ]
  },
  {
   "cell_type": "code",
   "execution_count": 308,
   "metadata": {},
   "outputs": [
    {
     "data": {
      "text/plain": [
       "<AxesSubplot:xlabel='total_sales', ylabel='critic_score'>"
      ]
     },
     "execution_count": 308,
     "metadata": {},
     "output_type": "execute_result"
    },
    {
     "data": {
      "image/png": "[encoded data removed]",
      "text/plain": [
       "<Figure size 432x288 with 1 Axes>"
      ]
     },
     "metadata": {
      "needs_background": "light"
     },
     "output_type": "display_data"
    }
   ],
   "source": [
    "query_ps2=data.query('platform==\"PS2\"')\n",
    "query_ps2.plot(x='total_sales',y='critic_score',kind='scatter')\n",
    "\n",
    "\n"
   ]
  },
  {
   "cell_type": "code",
   "execution_count": 309,
   "metadata": {},
   "outputs": [
    {
     "data": {
      "text/plain": [
       "0.3698353544544398"
      ]
     },
     "execution_count": 309,
     "metadata": {},
     "output_type": "execute_result"
    }
   ],
   "source": [
    "query_ps2['critic_score'].corr(query_ps2['total_sales'])"
   ]
  },
  {
   "cell_type": "code",
   "execution_count": 310,
   "metadata": {},
   "outputs": [
    {
     "data": {
      "text/plain": [
       "0.16073129473199776"
      ]
     },
     "execution_count": 310,
     "metadata": {},
     "output_type": "execute_result"
    },
    {
     "data": {
      "image/png": "[encoded data removed]",
      "text/plain": [
       "<Figure size 432x288 with 1 Axes>"
      ]
     },
     "metadata": {
      "needs_background": "light"
     },
     "output_type": "display_data"
    }
   ],
   "source": [
    "\n",
    "query_ps2.plot(x='total_sales',y='user_score',kind='scatter')\n",
    "query_ps2['total_sales'].corr(query_ps2['user_score'])\n"
   ]
  },
  {
   "cell_type": "code",
   "execution_count": 311,
   "metadata": {},
   "outputs": [
    {
     "data": {
      "text/plain": [
       "0.11032292129862738"
      ]
     },
     "execution_count": 311,
     "metadata": {},
     "output_type": "execute_result"
    },
    {
     "data": {
      "image/png": "[encoded data removed]",
      "text/plain": [
       "<Figure size 432x288 with 1 Axes>"
      ]
     },
     "metadata": {
      "needs_background": "light"
     },
     "output_type": "display_data"
    }
   ],
   "source": [
    "query_x360=data.query('platform==\"X360\"')\n",
    "query_x360.plot(x='total_sales',y='critic_score',kind='scatter')\n",
    "query_x360['total_sales'].corr(query_x360['user_score'])\n"
   ]
  },
  {
   "cell_type": "code",
   "execution_count": 312,
   "metadata": {},
   "outputs": [
    {
     "data": {
      "text/plain": [
       "0.11032292129862738"
      ]
     },
     "execution_count": 312,
     "metadata": {},
     "output_type": "execute_result"
    },
    {
     "data": {
      "image/png": "[encoded data removed]",
      "text/plain": [
       "<Figure size 432x288 with 1 Axes>"
      ]
     },
     "metadata": {
      "needs_background": "light"
     },
     "output_type": "display_data"
    }
   ],
   "source": [
    "query_x360.plot(x='total_sales',y='user_score',kind='scatter')\n",
    "query_x360['total_sales'].corr(query_x360['user_score'])\n"
   ]
  },
  {
   "cell_type": "code",
   "execution_count": 313,
   "metadata": {},
   "outputs": [
    {
     "data": {
      "text/plain": [
       "0.22177498783562866"
      ]
     },
     "execution_count": 313,
     "metadata": {},
     "output_type": "execute_result"
    },
    {
     "data": {
      "image/png": "[encoded data removed]",
      "text/plain": [
       "<Figure size 432x288 with 1 Axes>"
      ]
     },
     "metadata": {
      "needs_background": "light"
     },
     "output_type": "display_data"
    }
   ],
   "source": [
    "query_pc=data.query('platform==\"PC\"')\n",
    "query_pc.plot(x='total_sales',y='critic_score',kind='scatter')\n",
    "query_pc['total_sales'].corr(query_pc['critic_score'])\n"
   ]
  },
  {
   "cell_type": "code",
   "execution_count": 314,
   "metadata": {},
   "outputs": [
    {
     "data": {
      "text/plain": [
       "0.009177003752450983"
      ]
     },
     "execution_count": 314,
     "metadata": {},
     "output_type": "execute_result"
    },
    {
     "data": {
      "image/png": "[encoded data removed]",
      "text/plain": [
       "<Figure size 432x288 with 1 Axes>"
      ]
     },
     "metadata": {
      "needs_background": "light"
     },
     "output_type": "display_data"
    }
   ],
   "source": [
    "query_pc.plot(x='total_sales',y='user_score',kind='scatter')\n",
    "query_pc['total_sales'].corr(query_pc['user_score'])"
   ]
  },
  {
   "cell_type": "markdown",
   "metadata": {},
   "source": [
    "__Вывод:__  \n",
    "__По диаграмме рассеяния ,построенной для отображения зависимости между продажами платформы PS2 (самой продаваемой за все анализируемое время) и оценками критиков видно, что есть прямая зависимость (около 37% по коэффиценту корреляции Пирсона)__  \n",
    "__Зависимость между продажами и оценками пользователей так же прямая , но небольшая (около 16%)__  \n",
    "__Построив подобные диаграммы рассеяния еще для 2 платформ , я так же заметила низкую прямую корреляцию между оценками пользователей и продажами__   \n",
    "__Можно предположить, что оценки пользователей мало влияют на продажи, оценки критиков чуть больше__\n",
    " "
   ]
  },
  {
   "cell_type": "markdown",
   "metadata": {},
   "source": [
    "___Посмотрите на общее распределение игр по жанрам. Что можно сказать о самых прибыльных жанрах? Выделяются ли жанры с высокими и низкими продажами?___"
   ]
  },
  {
   "cell_type": "code",
   "execution_count": 354,
   "metadata": {},
   "outputs": [
    {
     "data": {
      "text/plain": [
       "<AxesSubplot:xlabel='genre'>"
      ]
     },
     "execution_count": 354,
     "metadata": {},
     "output_type": "execute_result"
    },
    {
     "data": {
      "image/png": "[encoded data removed]",
      "text/plain": [
       "<Figure size 432x288 with 1 Axes>"
      ]
     },
     "metadata": {
      "needs_background": "light"
     },
     "output_type": "display_data"
    }
   ],
   "source": [
    "data.groupby('genre').agg(games_total=('name','count')).sort_values(by='games_total',ascending=False).plot(kind='bar')"
   ]
  },
  {
   "cell_type": "code",
   "execution_count": 355,
   "metadata": {
    "scrolled": true
   },
   "outputs": [
    {
     "data": {
      "text/plain": [
       "<AxesSubplot:xlabel='genre'>"
      ]
     },
     "execution_count": 355,
     "metadata": {},
     "output_type": "execute_result"
    },
    {
     "data": {
      "image/png": "[encoded data removed]",
      "text/plain": [
       "<Figure size 432x288 with 1 Axes>"
      ]
     },
     "metadata": {
      "needs_background": "light"
     },
     "output_type": "display_data"
    }
   ],
   "source": [
    "data.groupby('genre').agg(sales_genre=('total_sales','median')).sort_values(by='sales_genre',ascending=False).plot(kind='bar')"
   ]
  },
  {
   "cell_type": "markdown",
   "metadata": {},
   "source": [
    "__Вывод:__  \n",
    "__По столбчатой диаграмме выпуска игр различных жанров, видно, что больше всего выпускают игр жанра Action и Sports__  \n",
    "__По столбчатым диаграммам медианных продаж  игр различных жанров можно сделать вывод , что самые продаваемые жанры -Platform,Shooter,Fighting и Sports, наименее продаваемый -Adventure__  \n"
   ]
  },
  {
   "cell_type": "markdown",
   "metadata": {},
   "source": [
    "## Составьте портрет пользователя каждого региона"
   ]
  },
  {
   "cell_type": "markdown",
   "metadata": {},
   "source": [
    "___Определите для пользователя каждого региона (NA, EU, JP):\n",
    "Самые популярные платформы (топ-5). Опишите различия в долях продаж.\n",
    "Самые популярные жанры (топ-5). Поясните разницу___"
   ]
  },
  {
   "cell_type": "code",
   "execution_count": 356,
   "metadata": {},
   "outputs": [
    {
     "data": {
      "text/plain": [
       "<AxesSubplot:xlabel='platform'>"
      ]
     },
     "execution_count": 356,
     "metadata": {},
     "output_type": "execute_result"
    },
    {
     "data": {
      "image/png": "[encoded data removed]",
      "text/plain": [
       "<Figure size 432x288 with 1 Axes>"
      ]
     },
     "metadata": {
      "needs_background": "light"
     },
     "output_type": "display_data"
    }
   ],
   "source": [
    "user_na_plt=data.groupby('platform').agg(sales_na=('na_sales','sum')).sort_values(by='sales_na',ascending=False).head()\n",
    "user_na_plt.plot(kind='bar')"
   ]
  },
  {
   "cell_type": "code",
   "execution_count": 318,
   "metadata": {},
   "outputs": [
    {
     "data": {
      "text/plain": [
       "<AxesSubplot:xlabel='genre'>"
      ]
     },
     "execution_count": 318,
     "metadata": {},
     "output_type": "execute_result"
    },
    {
     "data": {
      "image/png": "[encoded data removed]",
      "text/plain": [
       "<Figure size 432x288 with 1 Axes>"
      ]
     },
     "metadata": {
      "needs_background": "light"
     },
     "output_type": "display_data"
    }
   ],
   "source": [
    "user_na_gnr=data.groupby('genre').agg(sales_na=('na_sales','sum')).sort_values(by='sales_na',ascending=False).head()\n",
    "user_na_gnr.plot(kind='bar')"
   ]
  },
  {
   "cell_type": "code",
   "execution_count": 319,
   "metadata": {},
   "outputs": [
    {
     "data": {
      "text/plain": [
       "<AxesSubplot:xlabel='platform'>"
      ]
     },
     "execution_count": 319,
     "metadata": {},
     "output_type": "execute_result"
    },
    {
     "data": {
      "image/png": "[encoded data removed]",
      "text/plain": [
       "<Figure size 432x288 with 1 Axes>"
      ]
     },
     "metadata": {
      "needs_background": "light"
     },
     "output_type": "display_data"
    }
   ],
   "source": [
    "user_eu_plt=data.groupby('platform').agg(sales_eu=('eu_sales','sum')).sort_values(by='sales_eu',ascending=False).head()\n",
    "user_eu_plt.plot(kind='bar')"
   ]
  },
  {
   "cell_type": "code",
   "execution_count": 320,
   "metadata": {},
   "outputs": [
    {
     "data": {
      "text/plain": [
       "<AxesSubplot:xlabel='genre'>"
      ]
     },
     "execution_count": 320,
     "metadata": {},
     "output_type": "execute_result"
    },
    {
     "data": {
      "image/png": "[encoded data removed]",
      "text/plain": [
       "<Figure size 432x288 with 1 Axes>"
      ]
     },
     "metadata": {
      "needs_background": "light"
     },
     "output_type": "display_data"
    }
   ],
   "source": [
    "user_eu_gnr=data.groupby('genre').agg(sales_eu=('eu_sales','sum')).sort_values(by='sales_eu',ascending=False).head()\n",
    "user_na_gnr.plot(kind='bar')"
   ]
  },
  {
   "cell_type": "code",
   "execution_count": 321,
   "metadata": {},
   "outputs": [
    {
     "data": {
      "text/plain": [
       "<AxesSubplot:xlabel='platform'>"
      ]
     },
     "execution_count": 321,
     "metadata": {},
     "output_type": "execute_result"
    },
    {
     "data": {
      "image/png": "[encoded data removed]",
      "text/plain": [
       "<Figure size 432x288 with 1 Axes>"
      ]
     },
     "metadata": {
      "needs_background": "light"
     },
     "output_type": "display_data"
    }
   ],
   "source": [
    "user_jp_plt=data.groupby('platform').agg(sales_jp=('jp_sales','sum')).sort_values(by='sales_jp',ascending=False).head()\n",
    "user_jp_plt.plot(kind='bar')"
   ]
  },
  {
   "cell_type": "code",
   "execution_count": 322,
   "metadata": {},
   "outputs": [
    {
     "data": {
      "text/plain": [
       "<AxesSubplot:xlabel='genre'>"
      ]
     },
     "execution_count": 322,
     "metadata": {},
     "output_type": "execute_result"
    },
    {
     "data": {
      "image/png": "[encoded data removed]",
      "text/plain": [
       "<Figure size 432x288 with 1 Axes>"
      ]
     },
     "metadata": {
      "needs_background": "light"
     },
     "output_type": "display_data"
    }
   ],
   "source": [
    "user_jp_gnr=data.groupby('genre').agg(sales_jp=('jp_sales','sum')).sort_values(by='sales_jp',ascending=False).head()\n",
    "user_jp_gnr.plot(kind='bar')"
   ]
  },
  {
   "cell_type": "markdown",
   "metadata": {},
   "source": [
    "__Вывод:__  \n",
    "__Посмотрев на предпочтения жителей различных регионов в жанрах и платформах , можно заключить :__   \n",
    "__Жители Северной Америки  предпочитают платформы X360, PS2 и Wii, жанры -Action, Sports и Shooter__  \n",
    "__Жители Европы предпочитают платформы PS2 и PS3, жанры -Action, Sports и Shooter__  \n",
    "__Жители Японии предпочитают платформы DS,PS и PS2, жанр-Role-Playing__  "
   ]
  },
  {
   "cell_type": "markdown",
   "metadata": {},
   "source": [
    "___Влияет ли рейтинг ESRB на продажи в отдельном регионе?___"
   ]
  },
  {
   "cell_type": "code",
   "execution_count": 352,
   "metadata": {},
   "outputs": [
    {
     "data": {
      "text/plain": [
       "rating\n",
       "unknown    6767\n",
       "E          3998\n",
       "T          2961\n",
       "M          1563\n",
       "E10+       1420\n",
       "Name: name, dtype: int64"
      ]
     },
     "execution_count": 352,
     "metadata": {},
     "output_type": "execute_result"
    }
   ],
   "source": [
    "data['rating'].unique()\n",
    "data.groupby('rating')['name'].count()\n",
    "#data.query('rating==\"AO\"')\n",
    "data=data.replace('RP','unknown')\n",
    "data=data.replace('EC','E')\n",
    "data=data.query('rating!=\"AO\"')\n",
    "data=data.query('rating!=\"K-A\"')\n",
    "data.groupby('rating')['name'].count().sort_values(ascending=False)"
   ]
  },
  {
   "cell_type": "markdown",
   "metadata": {},
   "source": [
    "_Удалила из таблицы строки с рейтингом AO(только для взрослых -1 строка и K-A-не нашла расшифровки, 3 строки)_\n",
    "\n",
    "_Рейтинг RP заменила на unknown (т.к. RP означает рейтинг в ожидании)_ \n",
    "\n",
    "_8 игр с рейтингом EC(для детей до 3 лет)  отнесла к рейтингу E (для всех)_ \n",
    "\n",
    "_Расшифруем оставшиеся рейтинги :_   \n",
    "\n",
    "_-E(Everyone) - для всех_  \n",
    "\n",
    "_-E10+ - для детей старше 10 лет_  \n",
    "\n",
    "_-M - для подростков старше 17 лет_  \n",
    "\n",
    "_-Т - для подростков 13-17 лет_"
   ]
  },
  {
   "cell_type": "code",
   "execution_count": 324,
   "metadata": {},
   "outputs": [
    {
     "data": {
      "text/plain": [
       "rating\n",
       "E          1294.52\n",
       "E10+        353.32\n",
       "M           748.48\n",
       "T           759.75\n",
       "unknown    1240.68\n",
       "Name: na_sales, dtype: float64"
      ]
     },
     "execution_count": 324,
     "metadata": {},
     "output_type": "execute_result"
    }
   ],
   "source": [
    "data_rt_na=data.groupby('rating')['na_sales'].sum()\n",
    "data_rt_na\n"
   ]
  },
  {
   "cell_type": "code",
   "execution_count": 325,
   "metadata": {},
   "outputs": [
    {
     "data": {
      "text/plain": [
       "rating\n",
       "E          710.36\n",
       "E10+       188.52\n",
       "M          483.97\n",
       "T          427.03\n",
       "unknown    613.38\n",
       "Name: eu_sales, dtype: float64"
      ]
     },
     "execution_count": 325,
     "metadata": {},
     "output_type": "execute_result"
    }
   ],
   "source": [
    "data_rt_eu=data.groupby('rating')['eu_sales'].sum()\n",
    "data_rt_eu"
   ]
  },
  {
   "cell_type": "code",
   "execution_count": 326,
   "metadata": {},
   "outputs": [
    {
     "data": {
      "text/plain": [
       "rating\n",
       "E          198.11\n",
       "E10+        40.20\n",
       "M           64.24\n",
       "T          151.40\n",
       "unknown    841.93\n",
       "Name: jp_sales, dtype: float64"
      ]
     },
     "execution_count": 326,
     "metadata": {},
     "output_type": "execute_result"
    }
   ],
   "source": [
    "data_rt_jp=data.groupby('rating')['jp_sales'].sum()\n",
    "data_rt_jp"
   ]
  },
  {
   "cell_type": "markdown",
   "metadata": {},
   "source": [
    "_Для наглядности построила пайчарты с распределением продаж игр по рейтингам  в регионах_ "
   ]
  },
  {
   "cell_type": "code",
   "execution_count": 327,
   "metadata": {},
   "outputs": [
    {
     "data": {
      "text/plain": [
       "Text(0.5, 1.0, 'В Японии')"
      ]
     },
     "execution_count": 327,
     "metadata": {},
     "output_type": "execute_result"
    },
    {
     "data": {
      "image/png": "[encoded data removed]",
      "text/plain": [
       "<Figure size 1080x360 with 3 Axes>"
      ]
     },
     "metadata": {},
     "output_type": "display_data"
    }
   ],
   "source": [
    "import matplotlib.pyplot as plt\n",
    "\n",
    "colors=['purple','mediumpurple','hotpink','forestgreen','limegreen']\n",
    "explode=[0.05,0.05,0.05,0.05,0.05]\n",
    "\n",
    "fig,axs= plt.subplots(1,3,figsize=(15,5))\n",
    "fig.suptitle('Продажи по рейтингу ESRB')\n",
    "data_rt_na.plot(kind='pie',subplots=True,ax=axs[0],textprops={'size':'x-large'},\n",
    "                autopct='%1.0f%%',legend=False,colors=colors,explode=explode,ylabel='');\n",
    "axs[0].set_title('В Северной Америке')\n",
    "\n",
    "colors=['purple','mediumpurple','hotpink','forestgreen','limegreen']\n",
    "explode=[0.05,0.05,0.05,0.05,0.05]\n",
    "\n",
    "data_rt_eu.plot(kind='pie',subplots=True,ax=axs[1],textprops={'size':'x-large'},\n",
    "                autopct='%1.0f%%',legend=False,colors=colors,explode=explode,ylabel='');\n",
    "axs[1].set_title('В Европе')\n",
    "\n",
    "colors=['purple','mediumpurple','hotpink','forestgreen','limegreen']\n",
    "explode=[0.05,0.05,0.05,0.05,0.05]\n",
    "\n",
    "data_rt_jp.plot(kind='pie',subplots=True,ax=axs[2],textprops={'size':'x-large'},\n",
    "                autopct='%1.0f%%',legend=False,colors=colors,explode=explode,ylabel='');\n",
    "axs[2].set_title('В Японии')\n",
    "\n",
    "\n"
   ]
  },
  {
   "cell_type": "markdown",
   "metadata": {},
   "source": [
    "__Вывод:__  \n",
    "__Построив сводную таблицу по продажам в каждом регионе распределенным по играм с различным рейтингом ERSB,а так же посмотрев ,сколько в целом выпускают игр различного рейтинга ,можно сделать вывод, что и выпускают и покупают больше всего игр без рейтинга,с рейтингом :E(для всех), Т (для подростков 13-19 лет ) и М(для подростков старше 17 лет), меньше всего покупают игр для детей от 10 лет__  \n",
    "__Так же можно заметить , что в Японии больше чем в Европе и Америке пользуются спросом игры без рейтинга(65% против 25% и 28%), и меньше -с рейтингом M(5% против 20% и 17%)__\n"
   ]
  },
  {
   "cell_type": "code",
   "execution_count": 328,
   "metadata": {},
   "outputs": [
    {
     "data": {
      "text/plain": [
       "0"
      ]
     },
     "execution_count": 328,
     "metadata": {},
     "output_type": "execute_result"
    }
   ],
   "source": [
    "data.query('platform==\"XOne\"')['user_score'].isna().sum()"
   ]
  },
  {
   "cell_type": "code",
   "execution_count": 345,
   "metadata": {},
   "outputs": [
    {
     "data": {
      "text/plain": [
       "0"
      ]
     },
     "execution_count": 345,
     "metadata": {},
     "output_type": "execute_result"
    }
   ],
   "source": [
    "data.query('platform==\"PC\"')['user_score'].isna().sum()"
   ]
  },
  {
   "cell_type": "markdown",
   "metadata": {},
   "source": [
    "##  Проверьте гипотезы"
   ]
  },
  {
   "cell_type": "markdown",
   "metadata": {},
   "source": [
    "___Проверим гипотезы:    \n",
    "H0: Средние пользовательские рейтинги платформ XOne и PC равны  \n",
    "H1: Средние пользовательские рейтинги платформ XOne и PC не равны___"
   ]
  },
  {
   "cell_type": "code",
   "execution_count": 335,
   "metadata": {},
   "outputs": [
    {
     "name": "stdout",
     "output_type": "stream",
     "text": [
      "p-значение: 1.5630150897698028e-08\n",
      "Отвергаем нулевую гипотезу\n"
     ]
    }
   ],
   "source": [
    "from scipy import stats as st\n",
    "import numpy as np\n",
    "\n",
    "score_xone=data.query('platform==\"XOne\"')['user_score']\n",
    "score_pc=data.query('platform==\"PC\"')['user_score']\n",
    "\n",
    "alpha=.05\n",
    "\n",
    "results = st.ttest_ind(\n",
    "    score_xone, \n",
    "    score_pc)\n",
    "\n",
    "print('p-значение:', results.pvalue)\n",
    "\n",
    "if results.pvalue < alpha:\n",
    "    print(\"Отвергаем нулевую гипотезу\")\n",
    "else:\n",
    "    print(\"Не получилось отвергнуть нулевую гипотезу\") \n"
   ]
  },
  {
   "cell_type": "markdown",
   "metadata": {},
   "source": [
    "__Вывод:__  \n",
    "__В результате проверки т-тестом, пришлось  отказаться от нулевой гипотезы-значение pvalue слишком маленькое__  "
   ]
  },
  {
   "cell_type": "markdown",
   "metadata": {},
   "source": [
    "___Проверим гипотезы:  \n",
    "Но:Средние значения пользовательского рейтинга жанра Action и Sports разные  \n",
    "H1:Cредние значения пользовательского рейтинга жанров Action и Sports одинаковые___"
   ]
  },
  {
   "cell_type": "code",
   "execution_count": 347,
   "metadata": {},
   "outputs": [
    {
     "data": {
      "text/plain": [
       "0"
      ]
     },
     "execution_count": 347,
     "metadata": {},
     "output_type": "execute_result"
    }
   ],
   "source": [
    "data.query('genre==\"Action\"')['user_score'].isna().sum()"
   ]
  },
  {
   "cell_type": "code",
   "execution_count": 348,
   "metadata": {},
   "outputs": [
    {
     "data": {
      "text/plain": [
       "0"
      ]
     },
     "execution_count": 348,
     "metadata": {},
     "output_type": "execute_result"
    }
   ],
   "source": [
    "data.query('genre==\"Sports\"')['user_score'].isna().sum()"
   ]
  },
  {
   "cell_type": "code",
   "execution_count": 351,
   "metadata": {},
   "outputs": [
    {
     "name": "stdout",
     "output_type": "stream",
     "text": [
      "p-значение: 0.50612597052943\n",
      "Отвергаем нулевую гипотезу\n"
     ]
    }
   ],
   "source": [
    "score_action=data.query('genre==\"Action\"')['user_score']\n",
    "score_sports=data.query('genre==\"Sports\"')['user_score']\n",
    "\n",
    "alpha=.05\n",
    "\n",
    "results = st.ttest_ind(\n",
    "    score_action, \n",
    "    score_sports)\n",
    "\n",
    "print('p-значение:', results.pvalue)\n",
    "\n",
    "if results.pvalue >= alpha:\n",
    "    print(\"Отвергаем нулевую гипотезу\")\n",
    "else:\n",
    "    print(\"Не получилось отвергнуть нулевую гипотезу\") \n",
    "\n",
    "\n"
   ]
  },
  {
   "cell_type": "markdown",
   "metadata": {},
   "source": [
    "__Вывод:__  \n",
    "__В результате проверки т-тестом , отвергаем нулевую гипотезу-есть достаточная вероятность , что исследемые средние не разные__"
   ]
  },
  {
   "cell_type": "markdown",
   "metadata": {},
   "source": [
    "## Напишите общий вывод"
   ]
  },
  {
   "cell_type": "markdown",
   "metadata": {},
   "source": [
    "__Общий вывод:__  \n",
    "\n",
    "__Для выявления определяющих успешность игры закономерностей я произвела подготовку и последующий исследовательский анализ имеющихся у меня данных о прадажах компьютерных игр.__ \n",
    "\n",
    "__Подготовка данных включила в себя запонение пропушенных значений в столбцах user_score и critic_score медианным значением соответствующей платформы, обработка значений tbd в столбце user_score(замена его на NaN), значения рейтинга : AO и K-A было решено удалить ,а EC присоединить к E,так же пропуски в рейтинге объединила в отдельную группу \"unknown\"-т.е-без рейтинга__\n",
    "\n",
    "__Исследовательский анализ выявил следующие закономерности :__  \n",
    "\n",
    "__Посмотрев распределение выпуска игр по годам (с 1980 по 2016) , видно что больше всего игр выпускалось с 2002 по 2011 год(от 829 до 1427 игр), далее наблюдается небольшой спад__  \n",
    "\n",
    "__Срок выпуска и продаж одной версии платформы -примерно 6 лет ,т. е за 6 лет одна версия платформы полностью сменяется следующей(на примере платформы PS)__  \n",
    "\n",
    "__В результате анализа продаж игр на разных платформах за последние 3 года (с 2014 по 2016 ), решила отнести к потенциально прибыльным : PS4, XOne, 3DS и WiiU и PC (PS4 особенно лидирует )__  \n",
    "\n",
    "__Медианное значение продаж находится на отметке 200 млн. копий -т.е -большинство платформ имеют такие продажи .Можно сказать ,что продажи более 600 млн. копий -это скорее исключение -явные лидеры продаж__  \n",
    "\n",
    "__По диаграмме рассеяния ,построенной для отображения зависимости между продажами платформы PS2 (самой продаваемой за все анализируемое время) и оценками критиков видно, что есть прямая зависимость (около 37% по коэффиценту корреляции Пирсона)\n",
    "Зависимость между продажами и оценками пользователей так же прямая , но небольшая (около 16%)\n",
    "Построив подобные диаграммы рассеяния еще для 2 платформ, я так же заметила низкую корреляцию между оценками пользователей и продажами__\n",
    "\n",
    "__Самые выпускаемые  жанры -Action и Sports, меньше всего выпускают игр жанра -Puzzle \n",
    "Самые продаваемые игры-жанра Platform,Shooter,Fighting и Sports, наименее продаваемые-Adventure___ \n",
    "\n",
    "__Жители Северной Америки предпочитают платформы X360, PS2 и Wii, жанры -Action, Sports и Shooter\n",
    "Жители Европы предпочитают платформы PS2 и PS3, жанры -Action, Sports и Shooter\n",
    "Жители Японии предпочитают платформы DS,PS и PS2, жанр-Role-Playing__  \n",
    "\n",
    "__выпускают  больше всего игр без рейтига,с рейтингом E(для всех) , Т (для подростков 13-19 лет ) и М(для подростков старше 17 лет).Так же можно сказать ,что в Японии игры без рейтинга особенно популярны ,а с рейтингом T и M -менее популярны чем в Европе. Игры с рейтингом E10+(для детей от 10 лет) наименее продаваемые во всех регионах__  \n",
    "\n",
    "__В результате проверки гипотезы , что средние значения пользовательского рейтинга платформ XOne и PC одинаковые , с помощью т-теста , пришлось отвергнуть эту гипотезу__  \n",
    "\n",
    "__В результате проверки гипотезы , что средние пользовательские оценки игр жанра Action и Sports разные, пришлось отвергнуть эту гипотезу-есть достаточная вероятность , что они одинаковые__  \n",
    "\n",
    "\n",
    "__Таким образом наиболее продаваемыми могут быть игры ,выпущенные на одной из платформ : PS4, XOne, 3DS ,WiiU и PC  \n",
    "Относящиеся к жанру Platform,Shooter,Fighting ,Sports ,Action и Roll-Playing \n",
    "не имеющих рейтинг ESRB или имеющий один из следующих:  E(для всех) , Т (для подростков 13-19 лет ) и М(для подростков старше 17 лет)__\n"
   ]
  }
 ],
 "metadata": {
  "ExecuteTimeLog": [
   {
    "duration": 397,
    "start_time": "2022-11-22T06:39:24.046Z"
   },
   {
    "duration": 184,
    "start_time": "2022-11-22T06:39:24.445Z"
   },
   {
    "duration": 20,
    "start_time": "2022-11-22T06:39:24.630Z"
   },
   {
    "duration": 15,
    "start_time": "2022-11-22T06:41:19.074Z"
   },
   {
    "duration": 1263,
    "start_time": "2022-11-22T06:46:08.457Z"
   },
   {
    "duration": 8,
    "start_time": "2022-11-22T06:46:30.378Z"
   },
   {
    "duration": 11,
    "start_time": "2022-11-22T06:46:43.853Z"
   },
   {
    "duration": 6,
    "start_time": "2022-11-22T06:47:08.573Z"
   },
   {
    "duration": 13,
    "start_time": "2022-11-22T07:03:39.674Z"
   },
   {
    "duration": 28,
    "start_time": "2022-11-22T07:07:36.217Z"
   },
   {
    "duration": 6,
    "start_time": "2022-11-22T07:09:36.894Z"
   },
   {
    "duration": 8,
    "start_time": "2022-11-22T07:14:16.995Z"
   },
   {
    "duration": 2,
    "start_time": "2022-11-22T07:14:23.496Z"
   },
   {
    "duration": 56,
    "start_time": "2022-11-22T07:14:23.500Z"
   },
   {
    "duration": 17,
    "start_time": "2022-11-22T07:14:23.561Z"
   },
   {
    "duration": 15,
    "start_time": "2022-11-22T07:14:23.579Z"
   },
   {
    "duration": 13,
    "start_time": "2022-11-22T07:14:23.597Z"
   },
   {
    "duration": 8,
    "start_time": "2022-11-22T07:14:23.612Z"
   },
   {
    "duration": 8,
    "start_time": "2022-11-22T07:14:37.214Z"
   },
   {
    "duration": 18,
    "start_time": "2022-11-22T07:16:16.456Z"
   },
   {
    "duration": 51,
    "start_time": "2022-11-22T08:56:57.774Z"
   },
   {
    "duration": 421,
    "start_time": "2022-11-22T08:57:05.915Z"
   },
   {
    "duration": 190,
    "start_time": "2022-11-22T08:57:06.339Z"
   },
   {
    "duration": 22,
    "start_time": "2022-11-22T08:57:06.530Z"
   },
   {
    "duration": 17,
    "start_time": "2022-11-22T08:57:06.554Z"
   },
   {
    "duration": 17,
    "start_time": "2022-11-22T08:57:06.573Z"
   },
   {
    "duration": 28,
    "start_time": "2022-11-22T08:57:06.592Z"
   },
   {
    "duration": 6,
    "start_time": "2022-11-22T09:09:03.135Z"
   },
   {
    "duration": 1030,
    "start_time": "2022-11-22T09:09:37.176Z"
   },
   {
    "duration": 25,
    "start_time": "2022-11-22T09:26:32.894Z"
   },
   {
    "duration": 13,
    "start_time": "2022-11-22T09:28:00.254Z"
   },
   {
    "duration": 11,
    "start_time": "2022-11-22T09:28:18.414Z"
   },
   {
    "duration": 10,
    "start_time": "2022-11-22T09:28:36.134Z"
   },
   {
    "duration": 46,
    "start_time": "2022-11-22T09:29:17.694Z"
   },
   {
    "duration": 27,
    "start_time": "2022-11-22T09:29:55.134Z"
   },
   {
    "duration": 20,
    "start_time": "2022-11-22T09:30:49.302Z"
   },
   {
    "duration": 17,
    "start_time": "2022-11-22T09:52:18.834Z"
   },
   {
    "duration": 9,
    "start_time": "2022-11-22T09:57:52.594Z"
   },
   {
    "duration": 17,
    "start_time": "2022-11-22T09:58:22.044Z"
   },
   {
    "duration": 16,
    "start_time": "2022-11-22T10:03:06.075Z"
   },
   {
    "duration": 16,
    "start_time": "2022-11-22T10:08:13.895Z"
   },
   {
    "duration": 20,
    "start_time": "2022-11-22T10:11:00.095Z"
   },
   {
    "duration": 18,
    "start_time": "2022-11-22T10:11:24.263Z"
   },
   {
    "duration": 16,
    "start_time": "2022-11-22T10:11:52.845Z"
   },
   {
    "duration": 56,
    "start_time": "2022-11-22T10:20:26.078Z"
   },
   {
    "duration": 21,
    "start_time": "2022-11-22T10:24:16.388Z"
   },
   {
    "duration": 23,
    "start_time": "2022-11-22T10:25:48.619Z"
   },
   {
    "duration": 16,
    "start_time": "2022-11-22T10:29:01.438Z"
   },
   {
    "duration": 15,
    "start_time": "2022-11-22T10:34:31.139Z"
   },
   {
    "duration": 10,
    "start_time": "2022-11-22T10:37:53.006Z"
   },
   {
    "duration": 20,
    "start_time": "2022-11-22T10:38:23.206Z"
   },
   {
    "duration": 16,
    "start_time": "2022-11-22T10:40:44.439Z"
   },
   {
    "duration": 22,
    "start_time": "2022-11-22T10:46:32.279Z"
   },
   {
    "duration": 22,
    "start_time": "2022-11-22T10:58:33.439Z"
   },
   {
    "duration": 18,
    "start_time": "2022-11-22T11:00:27.058Z"
   },
   {
    "duration": 8,
    "start_time": "2022-11-22T11:13:43.095Z"
   },
   {
    "duration": 6,
    "start_time": "2022-11-22T11:13:55.675Z"
   },
   {
    "duration": 3,
    "start_time": "2022-11-22T11:14:36.556Z"
   },
   {
    "duration": 74,
    "start_time": "2022-11-22T11:14:36.562Z"
   },
   {
    "duration": 14,
    "start_time": "2022-11-22T11:14:36.638Z"
   },
   {
    "duration": 16,
    "start_time": "2022-11-22T11:14:36.654Z"
   },
   {
    "duration": 25,
    "start_time": "2022-11-22T11:14:36.673Z"
   },
   {
    "duration": 53,
    "start_time": "2022-11-22T11:14:36.700Z"
   },
   {
    "duration": 26,
    "start_time": "2022-11-22T11:14:36.756Z"
   },
   {
    "duration": 25,
    "start_time": "2022-11-22T11:14:36.784Z"
   },
   {
    "duration": 50,
    "start_time": "2022-11-22T11:14:36.812Z"
   },
   {
    "duration": 35,
    "start_time": "2022-11-22T11:14:36.864Z"
   },
   {
    "duration": 23,
    "start_time": "2022-11-22T11:14:36.901Z"
   },
   {
    "duration": 25,
    "start_time": "2022-11-22T11:14:36.927Z"
   },
   {
    "duration": 4,
    "start_time": "2022-11-22T11:15:43.815Z"
   },
   {
    "duration": 3,
    "start_time": "2022-11-22T11:18:01.835Z"
   },
   {
    "duration": 6,
    "start_time": "2022-11-22T11:18:19.436Z"
   },
   {
    "duration": 9,
    "start_time": "2022-11-22T11:18:36.116Z"
   },
   {
    "duration": 9,
    "start_time": "2022-11-22T11:19:29.526Z"
   },
   {
    "duration": 26,
    "start_time": "2022-11-22T11:27:47.474Z"
   },
   {
    "duration": 50,
    "start_time": "2022-11-22T14:57:23.025Z"
   },
   {
    "duration": 361,
    "start_time": "2022-11-22T14:57:28.914Z"
   },
   {
    "duration": 183,
    "start_time": "2022-11-22T14:57:29.277Z"
   },
   {
    "duration": 20,
    "start_time": "2022-11-22T14:57:29.462Z"
   },
   {
    "duration": 15,
    "start_time": "2022-11-22T14:57:29.483Z"
   },
   {
    "duration": 23,
    "start_time": "2022-11-22T14:57:29.500Z"
   },
   {
    "duration": 31,
    "start_time": "2022-11-22T14:57:29.524Z"
   },
   {
    "duration": 29,
    "start_time": "2022-11-22T14:57:29.557Z"
   },
   {
    "duration": 16,
    "start_time": "2022-11-22T14:57:29.588Z"
   },
   {
    "duration": 16,
    "start_time": "2022-11-22T14:57:29.605Z"
   },
   {
    "duration": 19,
    "start_time": "2022-11-22T14:57:29.623Z"
   },
   {
    "duration": 44,
    "start_time": "2022-11-22T14:57:29.644Z"
   },
   {
    "duration": 16,
    "start_time": "2022-11-22T14:57:29.690Z"
   },
   {
    "duration": 9,
    "start_time": "2022-11-22T14:59:21.885Z"
   },
   {
    "duration": 16,
    "start_time": "2022-11-22T15:00:32.424Z"
   },
   {
    "duration": 549,
    "start_time": "2022-11-22T15:00:59.985Z"
   },
   {
    "duration": 1244,
    "start_time": "2022-11-22T15:04:21.214Z"
   },
   {
    "duration": 11,
    "start_time": "2022-11-22T15:05:21.624Z"
   },
   {
    "duration": 22,
    "start_time": "2022-11-22T15:05:54.126Z"
   },
   {
    "duration": 1392,
    "start_time": "2022-11-22T15:06:18.485Z"
   },
   {
    "duration": 231,
    "start_time": "2022-11-22T15:08:15.164Z"
   },
   {
    "duration": 1087,
    "start_time": "2022-11-22T15:10:21.205Z"
   },
   {
    "duration": 183,
    "start_time": "2022-11-22T15:11:09.832Z"
   },
   {
    "duration": 224,
    "start_time": "2022-11-22T15:12:22.444Z"
   },
   {
    "duration": 24,
    "start_time": "2022-11-22T15:14:50.266Z"
   },
   {
    "duration": 175,
    "start_time": "2022-11-22T15:16:23.185Z"
   },
   {
    "duration": 160,
    "start_time": "2022-11-22T15:20:25.783Z"
   },
   {
    "duration": 10,
    "start_time": "2022-11-22T15:24:08.425Z"
   },
   {
    "duration": 169,
    "start_time": "2022-11-22T15:25:29.243Z"
   },
   {
    "duration": 167,
    "start_time": "2022-11-22T15:31:26.323Z"
   },
   {
    "duration": 457,
    "start_time": "2022-11-23T06:18:36.814Z"
   },
   {
    "duration": 197,
    "start_time": "2022-11-23T06:18:37.273Z"
   },
   {
    "duration": 20,
    "start_time": "2022-11-23T06:18:37.472Z"
   },
   {
    "duration": 21,
    "start_time": "2022-11-23T06:18:37.494Z"
   },
   {
    "duration": 37,
    "start_time": "2022-11-23T06:18:37.518Z"
   },
   {
    "duration": 27,
    "start_time": "2022-11-23T06:18:37.557Z"
   },
   {
    "duration": 15,
    "start_time": "2022-11-23T06:18:37.586Z"
   },
   {
    "duration": 16,
    "start_time": "2022-11-23T06:18:37.603Z"
   },
   {
    "duration": 44,
    "start_time": "2022-11-23T06:18:37.620Z"
   },
   {
    "duration": 26,
    "start_time": "2022-11-23T06:18:37.665Z"
   },
   {
    "duration": 15,
    "start_time": "2022-11-23T06:18:37.692Z"
   },
   {
    "duration": 655,
    "start_time": "2022-11-23T06:18:37.709Z"
   },
   {
    "duration": 194,
    "start_time": "2022-11-23T06:18:38.365Z"
   },
   {
    "duration": 186,
    "start_time": "2022-11-23T06:18:38.561Z"
   },
   {
    "duration": 241,
    "start_time": "2022-11-23T06:18:38.749Z"
   },
   {
    "duration": 229,
    "start_time": "2022-11-23T06:18:38.994Z"
   },
   {
    "duration": 176,
    "start_time": "2022-11-23T06:18:39.224Z"
   },
   {
    "duration": 22,
    "start_time": "2022-11-23T06:24:34.511Z"
   },
   {
    "duration": 171,
    "start_time": "2022-11-23T06:26:19.948Z"
   },
   {
    "duration": 144,
    "start_time": "2022-11-23T06:27:13.688Z"
   },
   {
    "duration": 66,
    "start_time": "2022-11-23T06:31:26.528Z"
   },
   {
    "duration": 23,
    "start_time": "2022-11-23T06:31:59.742Z"
   },
   {
    "duration": 10,
    "start_time": "2022-11-23T06:33:36.548Z"
   },
   {
    "duration": 15,
    "start_time": "2022-11-23T06:34:47.087Z"
   },
   {
    "duration": 154,
    "start_time": "2022-11-23T06:35:37.328Z"
   },
   {
    "duration": 136,
    "start_time": "2022-11-23T06:37:27.891Z"
   },
   {
    "duration": 150,
    "start_time": "2022-11-23T06:38:35.991Z"
   },
   {
    "duration": 175,
    "start_time": "2022-11-23T06:39:12.311Z"
   },
   {
    "duration": 238,
    "start_time": "2022-11-23T06:42:11.407Z"
   },
   {
    "duration": 163,
    "start_time": "2022-11-23T06:43:41.148Z"
   },
   {
    "duration": 196,
    "start_time": "2022-11-23T06:44:34.468Z"
   },
   {
    "duration": 156,
    "start_time": "2022-11-23T06:56:47.528Z"
   },
   {
    "duration": 1261,
    "start_time": "2022-11-23T07:00:12.728Z"
   },
   {
    "duration": 15,
    "start_time": "2022-11-23T07:00:31.168Z"
   },
   {
    "duration": 104,
    "start_time": "2022-11-23T07:01:13.728Z"
   },
   {
    "duration": 10,
    "start_time": "2022-11-23T07:04:57.048Z"
   },
   {
    "duration": 187,
    "start_time": "2022-11-23T07:05:33.269Z"
   },
   {
    "duration": 124,
    "start_time": "2022-11-23T07:08:03.309Z"
   },
   {
    "duration": 6,
    "start_time": "2022-11-23T07:11:11.329Z"
   },
   {
    "duration": 124,
    "start_time": "2022-11-23T07:12:17.988Z"
   },
   {
    "duration": 3,
    "start_time": "2022-11-23T07:13:17.329Z"
   },
   {
    "duration": 81,
    "start_time": "2022-11-23T07:13:17.334Z"
   },
   {
    "duration": 13,
    "start_time": "2022-11-23T07:13:17.416Z"
   },
   {
    "duration": 29,
    "start_time": "2022-11-23T07:13:17.430Z"
   },
   {
    "duration": 45,
    "start_time": "2022-11-23T07:13:17.461Z"
   },
   {
    "duration": 32,
    "start_time": "2022-11-23T07:13:17.508Z"
   },
   {
    "duration": 25,
    "start_time": "2022-11-23T07:13:17.542Z"
   },
   {
    "duration": 26,
    "start_time": "2022-11-23T07:13:17.568Z"
   },
   {
    "duration": 16,
    "start_time": "2022-11-23T07:13:17.596Z"
   },
   {
    "duration": 27,
    "start_time": "2022-11-23T07:13:17.614Z"
   },
   {
    "duration": 17,
    "start_time": "2022-11-23T07:13:17.643Z"
   },
   {
    "duration": 190,
    "start_time": "2022-11-23T07:13:17.662Z"
   },
   {
    "duration": 189,
    "start_time": "2022-11-23T07:13:17.854Z"
   },
   {
    "duration": 182,
    "start_time": "2022-11-23T07:13:18.045Z"
   },
   {
    "duration": 176,
    "start_time": "2022-11-23T07:13:18.229Z"
   },
   {
    "duration": 186,
    "start_time": "2022-11-23T07:13:18.407Z"
   },
   {
    "duration": 251,
    "start_time": "2022-11-23T07:13:18.595Z"
   },
   {
    "duration": 142,
    "start_time": "2022-11-23T07:13:18.847Z"
   },
   {
    "duration": 199,
    "start_time": "2022-11-23T07:13:18.990Z"
   },
   {
    "duration": 172,
    "start_time": "2022-11-23T07:13:19.191Z"
   },
   {
    "duration": 148,
    "start_time": "2022-11-23T07:13:19.365Z"
   },
   {
    "duration": 246,
    "start_time": "2022-11-23T07:13:19.514Z"
   },
   {
    "duration": 149,
    "start_time": "2022-11-23T07:13:19.762Z"
   },
   {
    "duration": 139,
    "start_time": "2022-11-23T07:13:19.913Z"
   },
   {
    "duration": 112,
    "start_time": "2022-11-23T07:13:20.054Z"
   },
   {
    "duration": 138,
    "start_time": "2022-11-23T07:13:20.167Z"
   },
   {
    "duration": 5,
    "start_time": "2022-11-23T07:13:20.306Z"
   },
   {
    "duration": 130,
    "start_time": "2022-11-23T07:13:20.312Z"
   },
   {
    "duration": 16,
    "start_time": "2022-11-23T07:19:31.351Z"
   },
   {
    "duration": 2,
    "start_time": "2022-11-23T07:20:00.782Z"
   },
   {
    "duration": 86,
    "start_time": "2022-11-23T07:20:00.786Z"
   },
   {
    "duration": 14,
    "start_time": "2022-11-23T07:20:00.874Z"
   },
   {
    "duration": 44,
    "start_time": "2022-11-23T07:20:00.889Z"
   },
   {
    "duration": 49,
    "start_time": "2022-11-23T07:20:00.935Z"
   },
   {
    "duration": 40,
    "start_time": "2022-11-23T07:20:00.986Z"
   },
   {
    "duration": 0,
    "start_time": "2022-11-23T07:20:01.028Z"
   },
   {
    "duration": 0,
    "start_time": "2022-11-23T07:20:01.029Z"
   },
   {
    "duration": 0,
    "start_time": "2022-11-23T07:20:01.031Z"
   },
   {
    "duration": 0,
    "start_time": "2022-11-23T07:20:01.032Z"
   },
   {
    "duration": 0,
    "start_time": "2022-11-23T07:20:01.033Z"
   },
   {
    "duration": 0,
    "start_time": "2022-11-23T07:20:01.036Z"
   },
   {
    "duration": 0,
    "start_time": "2022-11-23T07:20:01.037Z"
   },
   {
    "duration": 0,
    "start_time": "2022-11-23T07:20:01.038Z"
   },
   {
    "duration": 0,
    "start_time": "2022-11-23T07:20:01.040Z"
   },
   {
    "duration": 0,
    "start_time": "2022-11-23T07:20:01.041Z"
   },
   {
    "duration": 0,
    "start_time": "2022-11-23T07:20:01.043Z"
   },
   {
    "duration": 0,
    "start_time": "2022-11-23T07:20:01.044Z"
   },
   {
    "duration": 0,
    "start_time": "2022-11-23T07:20:01.045Z"
   },
   {
    "duration": 0,
    "start_time": "2022-11-23T07:20:01.046Z"
   },
   {
    "duration": 0,
    "start_time": "2022-11-23T07:20:01.047Z"
   },
   {
    "duration": 0,
    "start_time": "2022-11-23T07:20:01.049Z"
   },
   {
    "duration": 0,
    "start_time": "2022-11-23T07:20:01.052Z"
   },
   {
    "duration": 0,
    "start_time": "2022-11-23T07:20:01.053Z"
   },
   {
    "duration": 0,
    "start_time": "2022-11-23T07:20:01.054Z"
   },
   {
    "duration": 0,
    "start_time": "2022-11-23T07:20:01.055Z"
   },
   {
    "duration": 0,
    "start_time": "2022-11-23T07:20:01.056Z"
   },
   {
    "duration": 0,
    "start_time": "2022-11-23T07:20:01.058Z"
   },
   {
    "duration": 0,
    "start_time": "2022-11-23T07:20:01.058Z"
   },
   {
    "duration": 12,
    "start_time": "2022-11-23T07:20:23.631Z"
   },
   {
    "duration": 3,
    "start_time": "2022-11-23T07:21:57.569Z"
   },
   {
    "duration": 68,
    "start_time": "2022-11-23T07:21:57.574Z"
   },
   {
    "duration": 13,
    "start_time": "2022-11-23T07:21:57.644Z"
   },
   {
    "duration": 43,
    "start_time": "2022-11-23T07:21:57.658Z"
   },
   {
    "duration": 31,
    "start_time": "2022-11-23T07:21:57.704Z"
   },
   {
    "duration": 39,
    "start_time": "2022-11-23T07:21:57.737Z"
   },
   {
    "duration": 0,
    "start_time": "2022-11-23T07:21:57.779Z"
   },
   {
    "duration": 0,
    "start_time": "2022-11-23T07:21:57.780Z"
   },
   {
    "duration": 0,
    "start_time": "2022-11-23T07:21:57.783Z"
   },
   {
    "duration": 0,
    "start_time": "2022-11-23T07:21:57.784Z"
   },
   {
    "duration": 0,
    "start_time": "2022-11-23T07:21:57.785Z"
   },
   {
    "duration": 0,
    "start_time": "2022-11-23T07:21:57.787Z"
   },
   {
    "duration": 0,
    "start_time": "2022-11-23T07:21:57.788Z"
   },
   {
    "duration": 0,
    "start_time": "2022-11-23T07:21:57.790Z"
   },
   {
    "duration": 0,
    "start_time": "2022-11-23T07:21:57.791Z"
   },
   {
    "duration": 0,
    "start_time": "2022-11-23T07:21:57.792Z"
   },
   {
    "duration": 0,
    "start_time": "2022-11-23T07:21:57.793Z"
   },
   {
    "duration": 0,
    "start_time": "2022-11-23T07:21:57.795Z"
   },
   {
    "duration": 0,
    "start_time": "2022-11-23T07:21:57.796Z"
   },
   {
    "duration": 0,
    "start_time": "2022-11-23T07:21:57.797Z"
   },
   {
    "duration": 0,
    "start_time": "2022-11-23T07:21:57.798Z"
   },
   {
    "duration": 0,
    "start_time": "2022-11-23T07:21:57.799Z"
   },
   {
    "duration": 0,
    "start_time": "2022-11-23T07:21:57.800Z"
   },
   {
    "duration": 1,
    "start_time": "2022-11-23T07:21:57.800Z"
   },
   {
    "duration": 0,
    "start_time": "2022-11-23T07:21:57.802Z"
   },
   {
    "duration": 0,
    "start_time": "2022-11-23T07:21:57.802Z"
   },
   {
    "duration": 0,
    "start_time": "2022-11-23T07:21:57.803Z"
   },
   {
    "duration": 0,
    "start_time": "2022-11-23T07:21:57.805Z"
   },
   {
    "duration": 0,
    "start_time": "2022-11-23T07:21:57.805Z"
   },
   {
    "duration": 2,
    "start_time": "2022-11-23T07:22:49.761Z"
   },
   {
    "duration": 67,
    "start_time": "2022-11-23T07:22:49.765Z"
   },
   {
    "duration": 13,
    "start_time": "2022-11-23T07:22:49.833Z"
   },
   {
    "duration": 41,
    "start_time": "2022-11-23T07:22:49.848Z"
   },
   {
    "duration": 36,
    "start_time": "2022-11-23T07:22:49.891Z"
   },
   {
    "duration": 42,
    "start_time": "2022-11-23T07:22:49.929Z"
   },
   {
    "duration": 17,
    "start_time": "2022-11-23T07:22:49.973Z"
   },
   {
    "duration": 15,
    "start_time": "2022-11-23T07:22:49.991Z"
   },
   {
    "duration": 25,
    "start_time": "2022-11-23T07:22:50.007Z"
   },
   {
    "duration": 27,
    "start_time": "2022-11-23T07:22:50.034Z"
   },
   {
    "duration": 50,
    "start_time": "2022-11-23T07:22:50.063Z"
   },
   {
    "duration": 20,
    "start_time": "2022-11-23T07:22:50.115Z"
   },
   {
    "duration": 193,
    "start_time": "2022-11-23T07:22:50.136Z"
   },
   {
    "duration": 187,
    "start_time": "2022-11-23T07:22:50.332Z"
   },
   {
    "duration": 272,
    "start_time": "2022-11-23T07:22:50.520Z"
   },
   {
    "duration": 183,
    "start_time": "2022-11-23T07:22:50.794Z"
   },
   {
    "duration": 179,
    "start_time": "2022-11-23T07:22:50.979Z"
   },
   {
    "duration": 164,
    "start_time": "2022-11-23T07:22:51.160Z"
   },
   {
    "duration": 150,
    "start_time": "2022-11-23T07:22:51.325Z"
   },
   {
    "duration": 168,
    "start_time": "2022-11-23T07:22:51.478Z"
   },
   {
    "duration": 136,
    "start_time": "2022-11-23T07:22:51.648Z"
   },
   {
    "duration": 143,
    "start_time": "2022-11-23T07:22:51.786Z"
   },
   {
    "duration": 249,
    "start_time": "2022-11-23T07:22:51.931Z"
   },
   {
    "duration": 151,
    "start_time": "2022-11-23T07:22:52.182Z"
   },
   {
    "duration": 163,
    "start_time": "2022-11-23T07:22:52.334Z"
   },
   {
    "duration": 138,
    "start_time": "2022-11-23T07:22:52.499Z"
   },
   {
    "duration": 144,
    "start_time": "2022-11-23T07:22:52.639Z"
   },
   {
    "duration": 6,
    "start_time": "2022-11-23T07:22:52.784Z"
   },
   {
    "duration": 138,
    "start_time": "2022-11-23T07:22:52.791Z"
   },
   {
    "duration": 121,
    "start_time": "2022-11-23T07:24:58.511Z"
   },
   {
    "duration": 133,
    "start_time": "2022-11-23T07:27:19.498Z"
   },
   {
    "duration": 128,
    "start_time": "2022-11-23T07:27:35.432Z"
   },
   {
    "duration": 221,
    "start_time": "2022-11-23T07:31:07.812Z"
   },
   {
    "duration": 142,
    "start_time": "2022-11-23T07:35:14.282Z"
   },
   {
    "duration": 133,
    "start_time": "2022-11-23T07:36:05.495Z"
   },
   {
    "duration": 135,
    "start_time": "2022-11-23T07:36:20.590Z"
   },
   {
    "duration": 14,
    "start_time": "2022-11-23T07:39:09.681Z"
   },
   {
    "duration": 15,
    "start_time": "2022-11-23T07:41:11.392Z"
   },
   {
    "duration": 191,
    "start_time": "2022-11-23T07:42:03.521Z"
   },
   {
    "duration": 191,
    "start_time": "2022-11-23T07:42:33.178Z"
   },
   {
    "duration": 23,
    "start_time": "2022-11-23T07:48:47.009Z"
   },
   {
    "duration": 20,
    "start_time": "2022-11-23T07:49:51.189Z"
   },
   {
    "duration": 13,
    "start_time": "2022-11-23T07:51:33.430Z"
   },
   {
    "duration": 15,
    "start_time": "2022-11-23T07:52:26.350Z"
   },
   {
    "duration": 173,
    "start_time": "2022-11-23T07:52:42.570Z"
   },
   {
    "duration": 121,
    "start_time": "2022-11-23T07:53:12.816Z"
   },
   {
    "duration": 14,
    "start_time": "2022-11-23T07:55:45.519Z"
   },
   {
    "duration": 139,
    "start_time": "2022-11-23T07:56:24.597Z"
   },
   {
    "duration": 16,
    "start_time": "2022-11-23T08:02:51.309Z"
   },
   {
    "duration": 133,
    "start_time": "2022-11-23T08:03:14.351Z"
   },
   {
    "duration": 19,
    "start_time": "2022-11-23T08:06:16.389Z"
   },
   {
    "duration": 17,
    "start_time": "2022-11-23T08:06:47.609Z"
   },
   {
    "duration": 168,
    "start_time": "2022-11-23T08:07:27.629Z"
   },
   {
    "duration": 15,
    "start_time": "2022-11-23T08:10:02.349Z"
   },
   {
    "duration": 134,
    "start_time": "2022-11-23T08:10:47.974Z"
   },
   {
    "duration": 7,
    "start_time": "2022-11-23T08:14:54.792Z"
   },
   {
    "duration": 8,
    "start_time": "2022-11-23T08:19:31.159Z"
   },
   {
    "duration": 9,
    "start_time": "2022-11-23T08:20:54.559Z"
   },
   {
    "duration": 9,
    "start_time": "2022-11-23T08:23:42.211Z"
   },
   {
    "duration": 7,
    "start_time": "2022-11-23T08:24:50.351Z"
   },
   {
    "duration": 5,
    "start_time": "2022-11-23T08:29:15.811Z"
   },
   {
    "duration": 4,
    "start_time": "2022-11-23T08:30:14.251Z"
   },
   {
    "duration": 5,
    "start_time": "2022-11-23T08:31:07.311Z"
   },
   {
    "duration": 436,
    "start_time": "2022-11-24T07:07:37.424Z"
   },
   {
    "duration": 101,
    "start_time": "2022-11-24T07:07:37.862Z"
   },
   {
    "duration": 21,
    "start_time": "2022-11-24T07:07:37.964Z"
   },
   {
    "duration": 26,
    "start_time": "2022-11-24T07:07:37.987Z"
   },
   {
    "duration": 35,
    "start_time": "2022-11-24T07:07:38.015Z"
   },
   {
    "duration": 76,
    "start_time": "2022-11-24T07:07:38.052Z"
   },
   {
    "duration": 0,
    "start_time": "2022-11-24T07:07:38.130Z"
   },
   {
    "duration": 0,
    "start_time": "2022-11-24T07:07:38.135Z"
   },
   {
    "duration": 0,
    "start_time": "2022-11-24T07:07:38.137Z"
   },
   {
    "duration": 0,
    "start_time": "2022-11-24T07:07:38.138Z"
   },
   {
    "duration": 0,
    "start_time": "2022-11-24T07:07:38.139Z"
   },
   {
    "duration": 0,
    "start_time": "2022-11-24T07:07:38.140Z"
   },
   {
    "duration": 0,
    "start_time": "2022-11-24T07:07:38.142Z"
   },
   {
    "duration": 0,
    "start_time": "2022-11-24T07:07:38.143Z"
   },
   {
    "duration": 0,
    "start_time": "2022-11-24T07:07:38.144Z"
   },
   {
    "duration": 0,
    "start_time": "2022-11-24T07:07:38.145Z"
   },
   {
    "duration": 0,
    "start_time": "2022-11-24T07:07:38.146Z"
   },
   {
    "duration": 0,
    "start_time": "2022-11-24T07:07:38.147Z"
   },
   {
    "duration": 0,
    "start_time": "2022-11-24T07:07:38.149Z"
   },
   {
    "duration": 0,
    "start_time": "2022-11-24T07:07:38.150Z"
   },
   {
    "duration": 0,
    "start_time": "2022-11-24T07:07:38.152Z"
   },
   {
    "duration": 0,
    "start_time": "2022-11-24T07:07:38.153Z"
   },
   {
    "duration": 0,
    "start_time": "2022-11-24T07:07:38.154Z"
   },
   {
    "duration": 0,
    "start_time": "2022-11-24T07:07:38.155Z"
   },
   {
    "duration": 0,
    "start_time": "2022-11-24T07:07:38.156Z"
   },
   {
    "duration": 0,
    "start_time": "2022-11-24T07:07:38.157Z"
   },
   {
    "duration": 0,
    "start_time": "2022-11-24T07:07:38.158Z"
   },
   {
    "duration": 0,
    "start_time": "2022-11-24T07:07:38.159Z"
   },
   {
    "duration": 0,
    "start_time": "2022-11-24T07:07:38.160Z"
   },
   {
    "duration": 0,
    "start_time": "2022-11-24T07:07:38.161Z"
   },
   {
    "duration": 0,
    "start_time": "2022-11-24T07:07:38.163Z"
   },
   {
    "duration": 0,
    "start_time": "2022-11-24T07:07:38.164Z"
   },
   {
    "duration": 0,
    "start_time": "2022-11-24T07:07:38.165Z"
   },
   {
    "duration": 0,
    "start_time": "2022-11-24T07:07:38.166Z"
   },
   {
    "duration": 0,
    "start_time": "2022-11-24T07:07:38.167Z"
   },
   {
    "duration": 0,
    "start_time": "2022-11-24T07:07:38.168Z"
   },
   {
    "duration": 1,
    "start_time": "2022-11-24T07:07:38.168Z"
   },
   {
    "duration": 0,
    "start_time": "2022-11-24T07:07:38.169Z"
   },
   {
    "duration": 0,
    "start_time": "2022-11-24T07:07:38.170Z"
   },
   {
    "duration": 0,
    "start_time": "2022-11-24T07:07:38.171Z"
   },
   {
    "duration": 0,
    "start_time": "2022-11-24T07:07:38.172Z"
   },
   {
    "duration": 0,
    "start_time": "2022-11-24T07:07:38.173Z"
   },
   {
    "duration": 0,
    "start_time": "2022-11-24T07:07:38.174Z"
   },
   {
    "duration": 0,
    "start_time": "2022-11-24T07:07:38.175Z"
   },
   {
    "duration": 0,
    "start_time": "2022-11-24T07:07:38.176Z"
   },
   {
    "duration": 0,
    "start_time": "2022-11-24T07:07:38.236Z"
   },
   {
    "duration": 0,
    "start_time": "2022-11-24T07:07:38.238Z"
   },
   {
    "duration": 0,
    "start_time": "2022-11-24T07:07:38.241Z"
   },
   {
    "duration": 24,
    "start_time": "2022-11-24T07:07:59.843Z"
   },
   {
    "duration": 13,
    "start_time": "2022-11-24T07:09:20.583Z"
   },
   {
    "duration": 20,
    "start_time": "2022-11-24T07:35:06.576Z"
   },
   {
    "duration": 24,
    "start_time": "2022-11-24T07:35:26.036Z"
   },
   {
    "duration": 4,
    "start_time": "2022-11-24T07:38:42.399Z"
   },
   {
    "duration": 75,
    "start_time": "2022-11-24T07:38:42.406Z"
   },
   {
    "duration": 17,
    "start_time": "2022-11-24T07:38:42.484Z"
   },
   {
    "duration": 40,
    "start_time": "2022-11-24T07:38:42.503Z"
   },
   {
    "duration": 48,
    "start_time": "2022-11-24T07:38:42.547Z"
   },
   {
    "duration": 43,
    "start_time": "2022-11-24T07:38:42.597Z"
   },
   {
    "duration": 22,
    "start_time": "2022-11-24T07:38:42.643Z"
   },
   {
    "duration": 29,
    "start_time": "2022-11-24T07:38:42.667Z"
   },
   {
    "duration": 24,
    "start_time": "2022-11-24T07:38:42.697Z"
   },
   {
    "duration": 28,
    "start_time": "2022-11-24T07:38:42.722Z"
   },
   {
    "duration": 22,
    "start_time": "2022-11-24T07:38:42.752Z"
   },
   {
    "duration": 15,
    "start_time": "2022-11-24T07:38:42.776Z"
   },
   {
    "duration": 618,
    "start_time": "2022-11-24T07:38:42.793Z"
   },
   {
    "duration": 196,
    "start_time": "2022-11-24T07:38:43.414Z"
   },
   {
    "duration": 183,
    "start_time": "2022-11-24T07:38:43.612Z"
   },
   {
    "duration": 243,
    "start_time": "2022-11-24T07:38:43.797Z"
   },
   {
    "duration": 183,
    "start_time": "2022-11-24T07:38:44.042Z"
   },
   {
    "duration": 172,
    "start_time": "2022-11-24T07:38:44.226Z"
   },
   {
    "duration": 145,
    "start_time": "2022-11-24T07:38:44.400Z"
   },
   {
    "duration": 169,
    "start_time": "2022-11-24T07:38:44.547Z"
   },
   {
    "duration": 137,
    "start_time": "2022-11-24T07:38:44.718Z"
   },
   {
    "duration": 152,
    "start_time": "2022-11-24T07:38:44.856Z"
   },
   {
    "duration": 272,
    "start_time": "2022-11-24T07:38:45.010Z"
   },
   {
    "duration": 169,
    "start_time": "2022-11-24T07:38:45.284Z"
   },
   {
    "duration": 142,
    "start_time": "2022-11-24T07:38:45.455Z"
   },
   {
    "duration": 119,
    "start_time": "2022-11-24T07:38:45.598Z"
   },
   {
    "duration": 210,
    "start_time": "2022-11-24T07:38:45.718Z"
   },
   {
    "duration": 5,
    "start_time": "2022-11-24T07:38:45.936Z"
   },
   {
    "duration": 151,
    "start_time": "2022-11-24T07:38:45.943Z"
   },
   {
    "duration": 155,
    "start_time": "2022-11-24T07:38:46.096Z"
   },
   {
    "duration": 130,
    "start_time": "2022-11-24T07:38:46.253Z"
   },
   {
    "duration": 160,
    "start_time": "2022-11-24T07:38:46.385Z"
   },
   {
    "duration": 164,
    "start_time": "2022-11-24T07:38:46.547Z"
   },
   {
    "duration": 215,
    "start_time": "2022-11-24T07:38:46.717Z"
   },
   {
    "duration": 205,
    "start_time": "2022-11-24T07:38:46.935Z"
   },
   {
    "duration": 142,
    "start_time": "2022-11-24T07:38:47.142Z"
   },
   {
    "duration": 131,
    "start_time": "2022-11-24T07:38:47.286Z"
   },
   {
    "duration": 151,
    "start_time": "2022-11-24T07:38:47.418Z"
   },
   {
    "duration": 134,
    "start_time": "2022-11-24T07:38:47.570Z"
   },
   {
    "duration": 140,
    "start_time": "2022-11-24T07:38:47.706Z"
   },
   {
    "duration": 244,
    "start_time": "2022-11-24T07:38:47.850Z"
   },
   {
    "duration": 10,
    "start_time": "2022-11-24T07:38:48.096Z"
   },
   {
    "duration": 12,
    "start_time": "2022-11-24T07:38:48.107Z"
   },
   {
    "duration": 11,
    "start_time": "2022-11-24T07:38:48.136Z"
   },
   {
    "duration": 12,
    "start_time": "2022-11-24T07:38:48.149Z"
   },
   {
    "duration": 10,
    "start_time": "2022-11-24T07:38:48.163Z"
   },
   {
    "duration": 7,
    "start_time": "2022-11-24T07:38:48.174Z"
   },
   {
    "duration": 11,
    "start_time": "2022-11-24T07:38:48.182Z"
   },
   {
    "duration": 257,
    "start_time": "2022-11-24T09:12:23.525Z"
   },
   {
    "duration": 3,
    "start_time": "2022-11-24T14:00:20.770Z"
   },
   {
    "duration": 72,
    "start_time": "2022-11-24T14:00:20.775Z"
   },
   {
    "duration": 14,
    "start_time": "2022-11-24T14:00:20.849Z"
   },
   {
    "duration": 18,
    "start_time": "2022-11-24T14:00:20.865Z"
   },
   {
    "duration": 35,
    "start_time": "2022-11-24T14:00:20.886Z"
   },
   {
    "duration": 42,
    "start_time": "2022-11-24T14:00:20.923Z"
   },
   {
    "duration": 17,
    "start_time": "2022-11-24T14:00:20.967Z"
   },
   {
    "duration": 16,
    "start_time": "2022-11-24T14:00:20.986Z"
   },
   {
    "duration": 42,
    "start_time": "2022-11-24T14:00:21.004Z"
   },
   {
    "duration": 18,
    "start_time": "2022-11-24T14:00:21.048Z"
   },
   {
    "duration": 33,
    "start_time": "2022-11-24T14:00:21.068Z"
   },
   {
    "duration": 33,
    "start_time": "2022-11-24T14:00:21.103Z"
   },
   {
    "duration": 193,
    "start_time": "2022-11-24T14:00:21.138Z"
   },
   {
    "duration": 190,
    "start_time": "2022-11-24T14:00:21.334Z"
   },
   {
    "duration": 173,
    "start_time": "2022-11-24T14:00:21.525Z"
   },
   {
    "duration": 179,
    "start_time": "2022-11-24T14:00:21.700Z"
   },
   {
    "duration": 175,
    "start_time": "2022-11-24T14:00:21.881Z"
   },
   {
    "duration": 177,
    "start_time": "2022-11-24T14:00:22.058Z"
   },
   {
    "duration": 145,
    "start_time": "2022-11-24T14:00:22.237Z"
   },
   {
    "duration": 223,
    "start_time": "2022-11-24T14:00:22.384Z"
   },
   {
    "duration": 170,
    "start_time": "2022-11-24T14:00:22.609Z"
   },
   {
    "duration": 154,
    "start_time": "2022-11-24T14:00:22.781Z"
   },
   {
    "duration": 362,
    "start_time": "2022-11-24T14:00:22.937Z"
   },
   {
    "duration": 192,
    "start_time": "2022-11-24T14:00:23.300Z"
   },
   {
    "duration": 155,
    "start_time": "2022-11-24T14:00:23.493Z"
   },
   {
    "duration": 205,
    "start_time": "2022-11-24T14:00:23.650Z"
   },
   {
    "duration": 372,
    "start_time": "2022-11-24T14:00:23.857Z"
   },
   {
    "duration": 156,
    "start_time": "2022-11-24T14:00:24.231Z"
   },
   {
    "duration": 5,
    "start_time": "2022-11-24T14:00:24.389Z"
   },
   {
    "duration": 157,
    "start_time": "2022-11-24T14:00:24.395Z"
   },
   {
    "duration": 135,
    "start_time": "2022-11-24T14:00:24.553Z"
   },
   {
    "duration": 119,
    "start_time": "2022-11-24T14:00:24.689Z"
   },
   {
    "duration": 155,
    "start_time": "2022-11-24T14:00:24.809Z"
   },
   {
    "duration": 150,
    "start_time": "2022-11-24T14:00:24.965Z"
   },
   {
    "duration": 195,
    "start_time": "2022-11-24T14:00:25.117Z"
   },
   {
    "duration": 180,
    "start_time": "2022-11-24T14:00:25.313Z"
   },
   {
    "duration": 142,
    "start_time": "2022-11-24T14:00:25.495Z"
   },
   {
    "duration": 247,
    "start_time": "2022-11-24T14:00:25.639Z"
   },
   {
    "duration": 158,
    "start_time": "2022-11-24T14:00:25.888Z"
   },
   {
    "duration": 129,
    "start_time": "2022-11-24T14:00:26.048Z"
   },
   {
    "duration": 156,
    "start_time": "2022-11-24T14:00:26.181Z"
   },
   {
    "duration": 151,
    "start_time": "2022-11-24T14:00:26.338Z"
   },
   {
    "duration": 9,
    "start_time": "2022-11-24T14:00:26.491Z"
   },
   {
    "duration": 19,
    "start_time": "2022-11-24T14:00:26.501Z"
   },
   {
    "duration": 17,
    "start_time": "2022-11-24T14:00:26.522Z"
   },
   {
    "duration": 13,
    "start_time": "2022-11-24T14:00:26.540Z"
   },
   {
    "duration": 7,
    "start_time": "2022-11-24T14:00:26.555Z"
   },
   {
    "duration": 6,
    "start_time": "2022-11-24T14:00:26.564Z"
   },
   {
    "duration": 10,
    "start_time": "2022-11-24T14:00:26.571Z"
   },
   {
    "duration": 43,
    "start_time": "2022-11-24T18:30:38.085Z"
   },
   {
    "duration": 456,
    "start_time": "2022-11-24T18:30:41.947Z"
   },
   {
    "duration": 499,
    "start_time": "2022-11-24T18:30:42.405Z"
   },
   {
    "duration": 19,
    "start_time": "2022-11-24T18:30:42.906Z"
   },
   {
    "duration": 64,
    "start_time": "2022-11-24T18:30:42.926Z"
   },
   {
    "duration": 42,
    "start_time": "2022-11-24T18:30:42.992Z"
   },
   {
    "duration": 67,
    "start_time": "2022-11-24T18:30:43.036Z"
   },
   {
    "duration": 31,
    "start_time": "2022-11-24T18:30:43.104Z"
   },
   {
    "duration": 49,
    "start_time": "2022-11-24T18:30:43.136Z"
   },
   {
    "duration": 61,
    "start_time": "2022-11-24T18:30:43.187Z"
   },
   {
    "duration": 53,
    "start_time": "2022-11-24T18:30:43.250Z"
   },
   {
    "duration": 52,
    "start_time": "2022-11-24T18:30:43.305Z"
   },
   {
    "duration": 21,
    "start_time": "2022-11-24T18:30:43.364Z"
   },
   {
    "duration": 670,
    "start_time": "2022-11-24T18:30:43.387Z"
   },
   {
    "duration": 216,
    "start_time": "2022-11-24T18:30:44.067Z"
   },
   {
    "duration": 209,
    "start_time": "2022-11-24T18:30:44.285Z"
   },
   {
    "duration": 259,
    "start_time": "2022-11-24T18:30:44.495Z"
   },
   {
    "duration": 180,
    "start_time": "2022-11-24T18:30:44.766Z"
   },
   {
    "duration": 191,
    "start_time": "2022-11-24T18:30:44.948Z"
   },
   {
    "duration": 157,
    "start_time": "2022-11-24T18:30:45.141Z"
   },
   {
    "duration": 171,
    "start_time": "2022-11-24T18:30:45.299Z"
   },
   {
    "duration": 150,
    "start_time": "2022-11-24T18:30:45.471Z"
   },
   {
    "duration": 154,
    "start_time": "2022-11-24T18:30:45.623Z"
   },
   {
    "duration": 282,
    "start_time": "2022-11-24T18:30:45.779Z"
   },
   {
    "duration": 151,
    "start_time": "2022-11-24T18:30:46.063Z"
   },
   {
    "duration": 152,
    "start_time": "2022-11-24T18:30:46.216Z"
   },
   {
    "duration": 196,
    "start_time": "2022-11-24T18:30:46.370Z"
   },
   {
    "duration": 472,
    "start_time": "2022-11-24T18:30:46.568Z"
   },
   {
    "duration": 167,
    "start_time": "2022-11-24T18:30:47.042Z"
   },
   {
    "duration": 6,
    "start_time": "2022-11-24T18:30:47.211Z"
   },
   {
    "duration": 157,
    "start_time": "2022-11-24T18:30:47.218Z"
   },
   {
    "duration": 1462,
    "start_time": "2022-11-24T18:30:47.377Z"
   },
   {
    "duration": 0,
    "start_time": "2022-11-24T18:30:48.841Z"
   },
   {
    "duration": 0,
    "start_time": "2022-11-24T18:30:48.843Z"
   },
   {
    "duration": 0,
    "start_time": "2022-11-24T18:30:48.844Z"
   },
   {
    "duration": 0,
    "start_time": "2022-11-24T18:30:48.845Z"
   },
   {
    "duration": 0,
    "start_time": "2022-11-24T18:30:48.858Z"
   },
   {
    "duration": 0,
    "start_time": "2022-11-24T18:30:48.858Z"
   },
   {
    "duration": 0,
    "start_time": "2022-11-24T18:30:48.859Z"
   },
   {
    "duration": 1,
    "start_time": "2022-11-24T18:30:48.859Z"
   },
   {
    "duration": 0,
    "start_time": "2022-11-24T18:30:48.860Z"
   },
   {
    "duration": 0,
    "start_time": "2022-11-24T18:30:48.861Z"
   },
   {
    "duration": 0,
    "start_time": "2022-11-24T18:30:48.861Z"
   },
   {
    "duration": 0,
    "start_time": "2022-11-24T18:30:48.864Z"
   },
   {
    "duration": 0,
    "start_time": "2022-11-24T18:30:48.866Z"
   },
   {
    "duration": 0,
    "start_time": "2022-11-24T18:30:48.867Z"
   },
   {
    "duration": 0,
    "start_time": "2022-11-24T18:30:48.868Z"
   },
   {
    "duration": 0,
    "start_time": "2022-11-24T18:30:48.869Z"
   },
   {
    "duration": 0,
    "start_time": "2022-11-24T18:30:48.870Z"
   },
   {
    "duration": 0,
    "start_time": "2022-11-24T18:30:48.871Z"
   },
   {
    "duration": 0,
    "start_time": "2022-11-24T18:30:48.872Z"
   },
   {
    "duration": 2,
    "start_time": "2022-11-24T18:31:11.279Z"
   },
   {
    "duration": 57,
    "start_time": "2022-11-24T18:31:11.283Z"
   },
   {
    "duration": 13,
    "start_time": "2022-11-24T18:31:11.341Z"
   },
   {
    "duration": 16,
    "start_time": "2022-11-24T18:31:11.355Z"
   },
   {
    "duration": 22,
    "start_time": "2022-11-24T18:31:11.373Z"
   },
   {
    "duration": 24,
    "start_time": "2022-11-24T18:31:11.396Z"
   },
   {
    "duration": 42,
    "start_time": "2022-11-24T18:31:11.422Z"
   },
   {
    "duration": 15,
    "start_time": "2022-11-24T18:31:11.465Z"
   },
   {
    "duration": 15,
    "start_time": "2022-11-24T18:31:11.482Z"
   },
   {
    "duration": 20,
    "start_time": "2022-11-24T18:31:11.499Z"
   },
   {
    "duration": 43,
    "start_time": "2022-11-24T18:31:11.521Z"
   },
   {
    "duration": 14,
    "start_time": "2022-11-24T18:31:11.566Z"
   },
   {
    "duration": 191,
    "start_time": "2022-11-24T18:31:11.581Z"
   },
   {
    "duration": 180,
    "start_time": "2022-11-24T18:31:11.774Z"
   },
   {
    "duration": 181,
    "start_time": "2022-11-24T18:31:11.955Z"
   },
   {
    "duration": 171,
    "start_time": "2022-11-24T18:31:12.137Z"
   },
   {
    "duration": 207,
    "start_time": "2022-11-24T18:31:12.309Z"
   },
   {
    "duration": 193,
    "start_time": "2022-11-24T18:31:12.517Z"
   },
   {
    "duration": 217,
    "start_time": "2022-11-24T18:31:12.712Z"
   },
   {
    "duration": 160,
    "start_time": "2022-11-24T18:31:12.931Z"
   },
   {
    "duration": 135,
    "start_time": "2022-11-24T18:31:13.092Z"
   },
   {
    "duration": 140,
    "start_time": "2022-11-24T18:31:13.229Z"
   },
   {
    "duration": 247,
    "start_time": "2022-11-24T18:31:13.371Z"
   },
   {
    "duration": 151,
    "start_time": "2022-11-24T18:31:13.620Z"
   },
   {
    "duration": 135,
    "start_time": "2022-11-24T18:31:13.773Z"
   },
   {
    "duration": 184,
    "start_time": "2022-11-24T18:31:13.910Z"
   },
   {
    "duration": 368,
    "start_time": "2022-11-24T18:31:14.096Z"
   },
   {
    "duration": 139,
    "start_time": "2022-11-24T18:31:14.465Z"
   },
   {
    "duration": 5,
    "start_time": "2022-11-24T18:31:14.606Z"
   },
   {
    "duration": 141,
    "start_time": "2022-11-24T18:31:14.613Z"
   },
   {
    "duration": 139,
    "start_time": "2022-11-24T18:31:14.755Z"
   },
   {
    "duration": 212,
    "start_time": "2022-11-24T18:31:14.896Z"
   },
   {
    "duration": 144,
    "start_time": "2022-11-24T18:31:15.110Z"
   },
   {
    "duration": 140,
    "start_time": "2022-11-24T18:31:15.256Z"
   },
   {
    "duration": 186,
    "start_time": "2022-11-24T18:31:15.398Z"
   },
   {
    "duration": 176,
    "start_time": "2022-11-24T18:31:15.585Z"
   },
   {
    "duration": 134,
    "start_time": "2022-11-24T18:31:15.762Z"
   },
   {
    "duration": 125,
    "start_time": "2022-11-24T18:31:15.898Z"
   },
   {
    "duration": 139,
    "start_time": "2022-11-24T18:31:16.025Z"
   },
   {
    "duration": 123,
    "start_time": "2022-11-24T18:31:16.165Z"
   },
   {
    "duration": 136,
    "start_time": "2022-11-24T18:31:16.291Z"
   },
   {
    "duration": 140,
    "start_time": "2022-11-24T18:31:16.428Z"
   },
   {
    "duration": 8,
    "start_time": "2022-11-24T18:31:16.570Z"
   },
   {
    "duration": 8,
    "start_time": "2022-11-24T18:31:16.580Z"
   },
   {
    "duration": 9,
    "start_time": "2022-11-24T18:31:16.589Z"
   },
   {
    "duration": 6,
    "start_time": "2022-11-24T18:31:16.599Z"
   },
   {
    "duration": 4,
    "start_time": "2022-11-24T18:31:16.606Z"
   },
   {
    "duration": 4,
    "start_time": "2022-11-24T18:31:16.612Z"
   },
   {
    "duration": 38,
    "start_time": "2022-11-24T18:31:16.617Z"
   },
   {
    "duration": 5,
    "start_time": "2022-11-24T18:31:16.656Z"
   },
   {
    "duration": 11,
    "start_time": "2022-11-24T18:47:58.213Z"
   },
   {
    "duration": 5,
    "start_time": "2022-11-24T18:48:55.868Z"
   },
   {
    "duration": 12,
    "start_time": "2022-11-24T18:49:00.979Z"
   },
   {
    "duration": 4,
    "start_time": "2022-11-24T18:49:04.384Z"
   },
   {
    "duration": 11,
    "start_time": "2022-11-24T18:50:09.330Z"
   },
   {
    "duration": 4,
    "start_time": "2022-11-24T18:50:11.164Z"
   },
   {
    "duration": 28,
    "start_time": "2022-11-24T18:53:04.092Z"
   },
   {
    "duration": 25,
    "start_time": "2022-11-24T18:53:58.599Z"
   },
   {
    "duration": 25,
    "start_time": "2022-11-24T18:54:24.088Z"
   },
   {
    "duration": 8,
    "start_time": "2022-11-24T18:55:06.141Z"
   },
   {
    "duration": 7,
    "start_time": "2022-11-24T18:55:29.771Z"
   },
   {
    "duration": 4,
    "start_time": "2022-11-24T18:55:31.538Z"
   },
   {
    "duration": 8,
    "start_time": "2022-11-24T18:58:41.331Z"
   },
   {
    "duration": 4,
    "start_time": "2022-11-24T19:02:26.080Z"
   },
   {
    "duration": 8,
    "start_time": "2022-11-24T19:02:30.031Z"
   },
   {
    "duration": 5,
    "start_time": "2022-11-24T19:02:31.899Z"
   },
   {
    "duration": 10,
    "start_time": "2022-11-24T19:05:45.887Z"
   },
   {
    "duration": 12,
    "start_time": "2022-11-24T19:10:37.500Z"
   },
   {
    "duration": 379,
    "start_time": "2022-11-24T19:11:08.173Z"
   },
   {
    "duration": 12,
    "start_time": "2022-11-24T19:11:31.287Z"
   },
   {
    "duration": 67,
    "start_time": "2022-11-25T07:45:29.652Z"
   },
   {
    "duration": 469,
    "start_time": "2022-11-25T07:45:39.644Z"
   },
   {
    "duration": 99,
    "start_time": "2022-11-25T07:45:40.115Z"
   },
   {
    "duration": 24,
    "start_time": "2022-11-25T07:45:40.216Z"
   },
   {
    "duration": 18,
    "start_time": "2022-11-25T07:45:40.242Z"
   },
   {
    "duration": 30,
    "start_time": "2022-11-25T07:45:40.262Z"
   },
   {
    "duration": 31,
    "start_time": "2022-11-25T07:45:40.295Z"
   },
   {
    "duration": 35,
    "start_time": "2022-11-25T07:45:40.329Z"
   },
   {
    "duration": 19,
    "start_time": "2022-11-25T07:45:40.367Z"
   },
   {
    "duration": 21,
    "start_time": "2022-11-25T07:45:40.388Z"
   },
   {
    "duration": 45,
    "start_time": "2022-11-25T07:45:40.412Z"
   },
   {
    "duration": 26,
    "start_time": "2022-11-25T07:45:40.459Z"
   },
   {
    "duration": 19,
    "start_time": "2022-11-25T07:45:40.487Z"
   },
   {
    "duration": 682,
    "start_time": "2022-11-25T07:45:40.508Z"
   },
   {
    "duration": 219,
    "start_time": "2022-11-25T07:45:41.192Z"
   },
   {
    "duration": 234,
    "start_time": "2022-11-25T07:45:41.413Z"
   },
   {
    "duration": 272,
    "start_time": "2022-11-25T07:45:41.649Z"
   },
   {
    "duration": 215,
    "start_time": "2022-11-25T07:45:41.923Z"
   },
   {
    "duration": 202,
    "start_time": "2022-11-25T07:45:42.140Z"
   },
   {
    "duration": 149,
    "start_time": "2022-11-25T07:45:42.354Z"
   },
   {
    "duration": 191,
    "start_time": "2022-11-25T07:45:42.505Z"
   },
   {
    "duration": 162,
    "start_time": "2022-11-25T07:45:42.699Z"
   },
   {
    "duration": 179,
    "start_time": "2022-11-25T07:45:42.862Z"
   },
   {
    "duration": 290,
    "start_time": "2022-11-25T07:45:43.043Z"
   },
   {
    "duration": 171,
    "start_time": "2022-11-25T07:45:43.335Z"
   },
   {
    "duration": 165,
    "start_time": "2022-11-25T07:45:43.508Z"
   },
   {
    "duration": 239,
    "start_time": "2022-11-25T07:45:43.676Z"
   },
   {
    "duration": 491,
    "start_time": "2022-11-25T07:45:43.918Z"
   },
   {
    "duration": 242,
    "start_time": "2022-11-25T07:45:44.414Z"
   },
   {
    "duration": 8,
    "start_time": "2022-11-25T07:45:44.659Z"
   },
   {
    "duration": 178,
    "start_time": "2022-11-25T07:45:44.670Z"
   },
   {
    "duration": 179,
    "start_time": "2022-11-25T07:45:44.855Z"
   },
   {
    "duration": 157,
    "start_time": "2022-11-25T07:45:45.036Z"
   },
   {
    "duration": 196,
    "start_time": "2022-11-25T07:45:45.195Z"
   },
   {
    "duration": 212,
    "start_time": "2022-11-25T07:45:45.394Z"
   },
   {
    "duration": 235,
    "start_time": "2022-11-25T07:45:45.608Z"
   },
   {
    "duration": 236,
    "start_time": "2022-11-25T07:45:45.845Z"
   },
   {
    "duration": 186,
    "start_time": "2022-11-25T07:45:46.084Z"
   },
   {
    "duration": 240,
    "start_time": "2022-11-25T07:45:46.273Z"
   },
   {
    "duration": 158,
    "start_time": "2022-11-25T07:45:46.514Z"
   },
   {
    "duration": 152,
    "start_time": "2022-11-25T07:45:46.674Z"
   },
   {
    "duration": 175,
    "start_time": "2022-11-25T07:45:46.828Z"
   },
   {
    "duration": 208,
    "start_time": "2022-11-25T07:45:47.005Z"
   },
   {
    "duration": 10,
    "start_time": "2022-11-25T07:45:47.215Z"
   },
   {
    "duration": 29,
    "start_time": "2022-11-25T07:45:47.227Z"
   },
   {
    "duration": 9,
    "start_time": "2022-11-25T07:45:47.259Z"
   },
   {
    "duration": 11,
    "start_time": "2022-11-25T07:45:47.270Z"
   },
   {
    "duration": 9,
    "start_time": "2022-11-25T07:45:47.283Z"
   },
   {
    "duration": 15,
    "start_time": "2022-11-25T07:45:47.294Z"
   },
   {
    "duration": 17,
    "start_time": "2022-11-25T07:45:47.311Z"
   },
   {
    "duration": 32,
    "start_time": "2022-11-25T07:45:47.330Z"
   },
   {
    "duration": 15,
    "start_time": "2022-11-25T07:45:47.364Z"
   },
   {
    "duration": 15,
    "start_time": "2022-11-25T07:45:47.382Z"
   },
   {
    "duration": 7,
    "start_time": "2022-11-25T07:45:47.399Z"
   },
   {
    "duration": 9,
    "start_time": "2022-11-25T07:45:47.408Z"
   },
   {
    "duration": 7,
    "start_time": "2022-11-25T07:45:47.419Z"
   },
   {
    "duration": 454,
    "start_time": "2022-11-25T07:45:47.428Z"
   },
   {
    "duration": 9,
    "start_time": "2022-11-25T07:45:47.884Z"
   },
   {
    "duration": 86,
    "start_time": "2022-11-25T07:45:47.894Z"
   },
   {
    "duration": 11,
    "start_time": "2022-11-25T07:46:08.913Z"
   },
   {
    "duration": 10,
    "start_time": "2022-11-25T07:56:25.131Z"
   },
   {
    "duration": 10,
    "start_time": "2022-11-25T07:56:43.983Z"
   },
   {
    "duration": 13,
    "start_time": "2022-11-25T08:03:32.311Z"
   },
   {
    "duration": 11,
    "start_time": "2022-11-25T08:12:07.272Z"
   },
   {
    "duration": 404,
    "start_time": "2022-11-25T09:37:27.762Z"
   },
   {
    "duration": 3,
    "start_time": "2022-11-25T10:24:33.081Z"
   },
   {
    "duration": 65,
    "start_time": "2022-11-25T10:24:33.419Z"
   },
   {
    "duration": 30,
    "start_time": "2022-11-25T10:24:33.743Z"
   },
   {
    "duration": 15,
    "start_time": "2022-11-25T10:24:35.782Z"
   },
   {
    "duration": 27,
    "start_time": "2022-11-25T10:24:36.731Z"
   },
   {
    "duration": 27,
    "start_time": "2022-11-25T10:27:12.211Z"
   },
   {
    "duration": 15,
    "start_time": "2022-11-25T10:27:14.271Z"
   },
   {
    "duration": 26,
    "start_time": "2022-11-25T10:31:10.928Z"
   },
   {
    "duration": 24,
    "start_time": "2022-11-25T10:32:32.955Z"
   },
   {
    "duration": 16,
    "start_time": "2022-11-25T10:33:44.284Z"
   },
   {
    "duration": 24,
    "start_time": "2022-11-25T10:33:47.837Z"
   },
   {
    "duration": 18,
    "start_time": "2022-11-25T10:33:51.234Z"
   },
   {
    "duration": 490,
    "start_time": "2022-11-25T10:33:52.292Z"
   },
   {
    "duration": 183,
    "start_time": "2022-11-25T10:33:57.642Z"
   },
   {
    "duration": 183,
    "start_time": "2022-11-25T10:33:57.901Z"
   },
   {
    "duration": 175,
    "start_time": "2022-11-25T10:33:58.148Z"
   },
   {
    "duration": 260,
    "start_time": "2022-11-25T10:34:00.747Z"
   },
   {
    "duration": 197,
    "start_time": "2022-11-25T10:39:50.846Z"
   },
   {
    "duration": 150,
    "start_time": "2022-11-25T10:39:51.819Z"
   },
   {
    "duration": 154,
    "start_time": "2022-11-25T10:39:52.261Z"
   },
   {
    "duration": 281,
    "start_time": "2022-11-25T10:39:52.439Z"
   },
   {
    "duration": 176,
    "start_time": "2022-11-25T10:39:52.722Z"
   },
   {
    "duration": 162,
    "start_time": "2022-11-25T10:39:53.590Z"
   },
   {
    "duration": 206,
    "start_time": "2022-11-25T10:39:54.122Z"
   },
   {
    "duration": 453,
    "start_time": "2022-11-25T10:43:04.168Z"
   },
   {
    "duration": 182,
    "start_time": "2022-11-25T10:43:12.439Z"
   },
   {
    "duration": 7,
    "start_time": "2022-11-25T10:43:12.623Z"
   },
   {
    "duration": 226,
    "start_time": "2022-11-25T10:43:12.758Z"
   },
   {
    "duration": 154,
    "start_time": "2022-11-25T10:43:13.345Z"
   },
   {
    "duration": 134,
    "start_time": "2022-11-25T10:43:13.513Z"
   },
   {
    "duration": 221,
    "start_time": "2022-11-25T10:43:13.683Z"
   },
   {
    "duration": 170,
    "start_time": "2022-11-25T10:43:13.906Z"
   },
   {
    "duration": 191,
    "start_time": "2022-11-25T10:43:50.987Z"
   },
   {
    "duration": 191,
    "start_time": "2022-11-25T10:43:52.167Z"
   },
   {
    "duration": 155,
    "start_time": "2022-11-25T10:44:23.402Z"
   },
   {
    "duration": 166,
    "start_time": "2022-11-25T10:44:24.044Z"
   },
   {
    "duration": 181,
    "start_time": "2022-11-25T10:44:24.654Z"
   },
   {
    "duration": 139,
    "start_time": "2022-11-25T10:44:25.559Z"
   },
   {
    "duration": 142,
    "start_time": "2022-11-25T10:44:26.125Z"
   },
   {
    "duration": 163,
    "start_time": "2022-11-25T10:44:26.758Z"
   },
   {
    "duration": 9,
    "start_time": "2022-11-25T10:44:36.875Z"
   },
   {
    "duration": 10,
    "start_time": "2022-11-25T10:44:37.622Z"
   },
   {
    "duration": 7,
    "start_time": "2022-11-25T10:44:37.873Z"
   },
   {
    "duration": 9,
    "start_time": "2022-11-25T10:44:38.309Z"
   },
   {
    "duration": 5,
    "start_time": "2022-11-25T10:44:40.728Z"
   },
   {
    "duration": 5,
    "start_time": "2022-11-25T10:44:40.911Z"
   },
   {
    "duration": 5,
    "start_time": "2022-11-25T10:44:41.075Z"
   },
   {
    "duration": 10,
    "start_time": "2022-11-25T10:44:55.643Z"
   },
   {
    "duration": 9,
    "start_time": "2022-11-25T10:44:55.817Z"
   },
   {
    "duration": 8,
    "start_time": "2022-11-25T10:44:55.975Z"
   },
   {
    "duration": 5,
    "start_time": "2022-11-25T10:44:56.142Z"
   },
   {
    "duration": 9,
    "start_time": "2022-11-25T10:44:57.609Z"
   },
   {
    "duration": 5,
    "start_time": "2022-11-25T10:44:57.885Z"
   },
   {
    "duration": 529,
    "start_time": "2022-11-25T10:44:58.098Z"
   },
   {
    "duration": 12,
    "start_time": "2022-11-25T10:45:58.265Z"
   },
   {
    "duration": 8,
    "start_time": "2022-11-25T10:46:08.018Z"
   },
   {
    "duration": 8,
    "start_time": "2022-11-25T10:46:08.242Z"
   },
   {
    "duration": 8,
    "start_time": "2022-11-25T10:46:08.545Z"
   },
   {
    "duration": 9,
    "start_time": "2022-11-25T10:46:08.717Z"
   },
   {
    "duration": 19,
    "start_time": "2022-11-25T10:46:08.954Z"
   },
   {
    "duration": 58,
    "start_time": "2022-11-26T06:26:34.523Z"
   },
   {
    "duration": 0,
    "start_time": "2022-11-26T06:26:34.583Z"
   },
   {
    "duration": 0,
    "start_time": "2022-11-26T06:26:34.584Z"
   },
   {
    "duration": 0,
    "start_time": "2022-11-26T06:26:34.585Z"
   },
   {
    "duration": 0,
    "start_time": "2022-11-26T06:26:34.586Z"
   },
   {
    "duration": 0,
    "start_time": "2022-11-26T06:26:34.588Z"
   },
   {
    "duration": 0,
    "start_time": "2022-11-26T06:26:34.589Z"
   },
   {
    "duration": 0,
    "start_time": "2022-11-26T06:26:34.590Z"
   },
   {
    "duration": 0,
    "start_time": "2022-11-26T06:26:34.592Z"
   },
   {
    "duration": 6,
    "start_time": "2022-11-26T06:26:34.650Z"
   },
   {
    "duration": 0,
    "start_time": "2022-11-26T06:26:34.658Z"
   },
   {
    "duration": 0,
    "start_time": "2022-11-26T06:26:34.659Z"
   },
   {
    "duration": 6,
    "start_time": "2022-11-26T06:26:34.665Z"
   },
   {
    "duration": 0,
    "start_time": "2022-11-26T06:26:34.673Z"
   },
   {
    "duration": 0,
    "start_time": "2022-11-26T06:26:34.674Z"
   },
   {
    "duration": 0,
    "start_time": "2022-11-26T06:26:34.675Z"
   },
   {
    "duration": 0,
    "start_time": "2022-11-26T06:26:34.677Z"
   },
   {
    "duration": 6,
    "start_time": "2022-11-26T06:26:34.684Z"
   },
   {
    "duration": 0,
    "start_time": "2022-11-26T06:26:34.692Z"
   },
   {
    "duration": 0,
    "start_time": "2022-11-26T06:26:34.693Z"
   },
   {
    "duration": 0,
    "start_time": "2022-11-26T06:26:34.695Z"
   },
   {
    "duration": 0,
    "start_time": "2022-11-26T06:26:34.696Z"
   },
   {
    "duration": 0,
    "start_time": "2022-11-26T06:26:34.698Z"
   },
   {
    "duration": 0,
    "start_time": "2022-11-26T06:26:34.699Z"
   },
   {
    "duration": 0,
    "start_time": "2022-11-26T06:26:34.701Z"
   },
   {
    "duration": 0,
    "start_time": "2022-11-26T06:26:34.702Z"
   },
   {
    "duration": 0,
    "start_time": "2022-11-26T06:26:34.738Z"
   },
   {
    "duration": 9,
    "start_time": "2022-11-26T06:26:34.775Z"
   },
   {
    "duration": 0,
    "start_time": "2022-11-26T06:26:34.787Z"
   },
   {
    "duration": 0,
    "start_time": "2022-11-26T06:26:34.788Z"
   },
   {
    "duration": 0,
    "start_time": "2022-11-26T06:26:34.790Z"
   },
   {
    "duration": 0,
    "start_time": "2022-11-26T06:26:34.791Z"
   },
   {
    "duration": 0,
    "start_time": "2022-11-26T06:26:34.793Z"
   },
   {
    "duration": 0,
    "start_time": "2022-11-26T06:26:34.794Z"
   },
   {
    "duration": 8,
    "start_time": "2022-11-26T06:26:34.801Z"
   },
   {
    "duration": 0,
    "start_time": "2022-11-26T06:26:34.811Z"
   },
   {
    "duration": 0,
    "start_time": "2022-11-26T06:26:34.813Z"
   },
   {
    "duration": 0,
    "start_time": "2022-11-26T06:26:34.814Z"
   },
   {
    "duration": 0,
    "start_time": "2022-11-26T06:26:34.837Z"
   },
   {
    "duration": 0,
    "start_time": "2022-11-26T06:26:34.838Z"
   },
   {
    "duration": 0,
    "start_time": "2022-11-26T06:26:34.840Z"
   },
   {
    "duration": 0,
    "start_time": "2022-11-26T06:26:34.841Z"
   },
   {
    "duration": 0,
    "start_time": "2022-11-26T06:26:34.842Z"
   },
   {
    "duration": 0,
    "start_time": "2022-11-26T06:26:34.843Z"
   },
   {
    "duration": 0,
    "start_time": "2022-11-26T06:26:34.844Z"
   },
   {
    "duration": 0,
    "start_time": "2022-11-26T06:26:34.845Z"
   },
   {
    "duration": 7,
    "start_time": "2022-11-26T06:26:34.847Z"
   },
   {
    "duration": 0,
    "start_time": "2022-11-26T06:26:34.855Z"
   },
   {
    "duration": 0,
    "start_time": "2022-11-26T06:26:34.857Z"
   },
   {
    "duration": 0,
    "start_time": "2022-11-26T06:26:34.858Z"
   },
   {
    "duration": 0,
    "start_time": "2022-11-26T06:26:34.859Z"
   },
   {
    "duration": 0,
    "start_time": "2022-11-26T06:26:34.860Z"
   },
   {
    "duration": 0,
    "start_time": "2022-11-26T06:26:34.861Z"
   },
   {
    "duration": 0,
    "start_time": "2022-11-26T06:26:34.863Z"
   },
   {
    "duration": 436,
    "start_time": "2022-11-26T06:26:55.334Z"
   },
   {
    "duration": 183,
    "start_time": "2022-11-26T06:26:55.772Z"
   },
   {
    "duration": 21,
    "start_time": "2022-11-26T06:26:55.956Z"
   },
   {
    "duration": 15,
    "start_time": "2022-11-26T06:26:55.979Z"
   },
   {
    "duration": 23,
    "start_time": "2022-11-26T06:26:55.995Z"
   },
   {
    "duration": 41,
    "start_time": "2022-11-26T06:26:56.020Z"
   },
   {
    "duration": 15,
    "start_time": "2022-11-26T06:26:56.063Z"
   },
   {
    "duration": 15,
    "start_time": "2022-11-26T06:26:56.079Z"
   },
   {
    "duration": 42,
    "start_time": "2022-11-26T06:26:56.096Z"
   },
   {
    "duration": 16,
    "start_time": "2022-11-26T06:26:56.141Z"
   },
   {
    "duration": 23,
    "start_time": "2022-11-26T06:26:56.158Z"
   },
   {
    "duration": 15,
    "start_time": "2022-11-26T06:26:56.183Z"
   },
   {
    "duration": 611,
    "start_time": "2022-11-26T06:26:56.200Z"
   },
   {
    "duration": 193,
    "start_time": "2022-11-26T06:26:56.813Z"
   },
   {
    "duration": 185,
    "start_time": "2022-11-26T06:26:57.008Z"
   },
   {
    "duration": 229,
    "start_time": "2022-11-26T06:26:57.195Z"
   },
   {
    "duration": 181,
    "start_time": "2022-11-26T06:26:57.426Z"
   },
   {
    "duration": 185,
    "start_time": "2022-11-26T06:26:57.608Z"
   },
   {
    "duration": 165,
    "start_time": "2022-11-26T06:26:57.795Z"
   },
   {
    "duration": 188,
    "start_time": "2022-11-26T06:26:57.962Z"
   },
   {
    "duration": 151,
    "start_time": "2022-11-26T06:26:58.152Z"
   },
   {
    "duration": 147,
    "start_time": "2022-11-26T06:26:58.305Z"
   },
   {
    "duration": 294,
    "start_time": "2022-11-26T06:26:58.454Z"
   },
   {
    "duration": 199,
    "start_time": "2022-11-26T06:26:58.750Z"
   },
   {
    "duration": 211,
    "start_time": "2022-11-26T06:26:58.952Z"
   },
   {
    "duration": 237,
    "start_time": "2022-11-26T06:26:59.167Z"
   },
   {
    "duration": 459,
    "start_time": "2022-11-26T06:26:59.406Z"
   },
   {
    "duration": 159,
    "start_time": "2022-11-26T06:26:59.870Z"
   },
   {
    "duration": 10,
    "start_time": "2022-11-26T06:27:00.031Z"
   },
   {
    "duration": 197,
    "start_time": "2022-11-26T06:27:00.043Z"
   },
   {
    "duration": 150,
    "start_time": "2022-11-26T06:27:00.242Z"
   },
   {
    "duration": 131,
    "start_time": "2022-11-26T06:27:00.394Z"
   },
   {
    "duration": 173,
    "start_time": "2022-11-26T06:27:00.527Z"
   },
   {
    "duration": 165,
    "start_time": "2022-11-26T06:27:00.701Z"
   },
   {
    "duration": 215,
    "start_time": "2022-11-26T06:27:00.868Z"
   },
   {
    "duration": 224,
    "start_time": "2022-11-26T06:27:01.085Z"
   },
   {
    "duration": 155,
    "start_time": "2022-11-26T06:27:01.310Z"
   },
   {
    "duration": 237,
    "start_time": "2022-11-26T06:27:01.468Z"
   },
   {
    "duration": 197,
    "start_time": "2022-11-26T06:27:01.707Z"
   },
   {
    "duration": 171,
    "start_time": "2022-11-26T06:27:01.906Z"
   },
   {
    "duration": 144,
    "start_time": "2022-11-26T06:27:02.079Z"
   },
   {
    "duration": 154,
    "start_time": "2022-11-26T06:27:02.225Z"
   },
   {
    "duration": 9,
    "start_time": "2022-11-26T06:27:02.381Z"
   },
   {
    "duration": 9,
    "start_time": "2022-11-26T06:27:02.391Z"
   },
   {
    "duration": 7,
    "start_time": "2022-11-26T06:27:02.401Z"
   },
   {
    "duration": 28,
    "start_time": "2022-11-26T06:27:02.410Z"
   },
   {
    "duration": 5,
    "start_time": "2022-11-26T06:27:02.440Z"
   },
   {
    "duration": 8,
    "start_time": "2022-11-26T06:27:02.447Z"
   },
   {
    "duration": 14,
    "start_time": "2022-11-26T06:27:02.457Z"
   },
   {
    "duration": 14,
    "start_time": "2022-11-26T06:27:02.473Z"
   },
   {
    "duration": 12,
    "start_time": "2022-11-26T06:27:02.489Z"
   },
   {
    "duration": 9,
    "start_time": "2022-11-26T06:27:02.502Z"
   },
   {
    "duration": 10,
    "start_time": "2022-11-26T06:27:02.512Z"
   },
   {
    "duration": 17,
    "start_time": "2022-11-26T06:27:02.523Z"
   },
   {
    "duration": 5,
    "start_time": "2022-11-26T06:27:02.541Z"
   },
   {
    "duration": 411,
    "start_time": "2022-11-26T06:27:02.548Z"
   },
   {
    "duration": 8,
    "start_time": "2022-11-26T06:27:02.960Z"
   },
   {
    "duration": 8,
    "start_time": "2022-11-26T06:27:02.969Z"
   },
   {
    "duration": 12,
    "start_time": "2022-11-26T06:27:02.978Z"
   },
   {
    "duration": 8,
    "start_time": "2022-11-26T06:27:02.991Z"
   },
   {
    "duration": 14,
    "start_time": "2022-11-26T06:27:03.001Z"
   },
   {
    "duration": 14,
    "start_time": "2022-11-26T06:28:54.350Z"
   },
   {
    "duration": 20,
    "start_time": "2022-11-26T06:35:00.423Z"
   },
   {
    "duration": 176,
    "start_time": "2022-11-26T07:12:20.646Z"
   },
   {
    "duration": 179,
    "start_time": "2022-11-26T07:12:39.627Z"
   },
   {
    "duration": 6,
    "start_time": "2022-11-26T07:23:48.157Z"
   },
   {
    "duration": 8,
    "start_time": "2022-11-26T07:23:51.798Z"
   },
   {
    "duration": 7,
    "start_time": "2022-11-26T07:24:04.018Z"
   },
   {
    "duration": 7,
    "start_time": "2022-11-26T07:24:10.106Z"
   },
   {
    "duration": 8,
    "start_time": "2022-11-26T07:24:15.438Z"
   },
   {
    "duration": 10,
    "start_time": "2022-11-26T07:56:07.517Z"
   },
   {
    "duration": 9,
    "start_time": "2022-11-26T07:56:32.976Z"
   },
   {
    "duration": 249,
    "start_time": "2022-11-26T09:22:46.660Z"
   },
   {
    "duration": 183,
    "start_time": "2022-11-26T09:23:54.320Z"
   },
   {
    "duration": 155,
    "start_time": "2022-11-26T09:24:10.920Z"
   },
   {
    "duration": 290,
    "start_time": "2022-11-26T09:47:30.701Z"
   },
   {
    "duration": 46,
    "start_time": "2022-11-26T17:07:38.703Z"
   },
   {
    "duration": 436,
    "start_time": "2022-11-26T17:07:42.627Z"
   },
   {
    "duration": 188,
    "start_time": "2022-11-26T17:07:43.065Z"
   },
   {
    "duration": 21,
    "start_time": "2022-11-26T17:07:43.254Z"
   },
   {
    "duration": 14,
    "start_time": "2022-11-26T17:07:43.277Z"
   },
   {
    "duration": 23,
    "start_time": "2022-11-26T17:07:43.293Z"
   },
   {
    "duration": 29,
    "start_time": "2022-11-26T17:07:43.317Z"
   },
   {
    "duration": 14,
    "start_time": "2022-11-26T17:07:43.347Z"
   },
   {
    "duration": 14,
    "start_time": "2022-11-26T17:07:43.363Z"
   },
   {
    "duration": 17,
    "start_time": "2022-11-26T17:07:43.405Z"
   },
   {
    "duration": 15,
    "start_time": "2022-11-26T17:07:43.424Z"
   },
   {
    "duration": 552,
    "start_time": "2022-11-26T17:07:43.441Z"
   },
   {
    "duration": 26,
    "start_time": "2022-11-26T17:07:43.995Z"
   },
   {
    "duration": 184,
    "start_time": "2022-11-26T17:07:44.023Z"
   },
   {
    "duration": 188,
    "start_time": "2022-11-26T17:07:44.210Z"
   },
   {
    "duration": 175,
    "start_time": "2022-11-26T17:07:44.404Z"
   },
   {
    "duration": 230,
    "start_time": "2022-11-26T17:07:44.581Z"
   },
   {
    "duration": 180,
    "start_time": "2022-11-26T17:07:44.813Z"
   },
   {
    "duration": 177,
    "start_time": "2022-11-26T17:07:44.994Z"
   },
   {
    "duration": 200,
    "start_time": "2022-11-26T17:07:45.173Z"
   },
   {
    "duration": 160,
    "start_time": "2022-11-26T17:07:45.374Z"
   },
   {
    "duration": 159,
    "start_time": "2022-11-26T17:07:45.535Z"
   },
   {
    "duration": 140,
    "start_time": "2022-11-26T17:07:45.695Z"
   },
   {
    "duration": 152,
    "start_time": "2022-11-26T17:07:45.836Z"
   },
   {
    "duration": 277,
    "start_time": "2022-11-26T17:07:45.990Z"
   },
   {
    "duration": 157,
    "start_time": "2022-11-26T17:07:46.269Z"
   },
   {
    "duration": 142,
    "start_time": "2022-11-26T17:07:46.428Z"
   },
   {
    "duration": 265,
    "start_time": "2022-11-26T17:07:46.572Z"
   },
   {
    "duration": 400,
    "start_time": "2022-11-26T17:07:46.839Z"
   },
   {
    "duration": 138,
    "start_time": "2022-11-26T17:07:47.241Z"
   },
   {
    "duration": 5,
    "start_time": "2022-11-26T17:07:47.381Z"
   },
   {
    "duration": 147,
    "start_time": "2022-11-26T17:07:47.387Z"
   },
   {
    "duration": 147,
    "start_time": "2022-11-26T17:07:47.536Z"
   },
   {
    "duration": 153,
    "start_time": "2022-11-26T17:07:47.685Z"
   },
   {
    "duration": 170,
    "start_time": "2022-11-26T17:07:47.840Z"
   },
   {
    "duration": 159,
    "start_time": "2022-11-26T17:07:48.011Z"
   },
   {
    "duration": 190,
    "start_time": "2022-11-26T17:07:48.172Z"
   },
   {
    "duration": 186,
    "start_time": "2022-11-26T17:07:48.364Z"
   },
   {
    "duration": 138,
    "start_time": "2022-11-26T17:07:48.552Z"
   },
   {
    "duration": 222,
    "start_time": "2022-11-26T17:07:48.692Z"
   },
   {
    "duration": 149,
    "start_time": "2022-11-26T17:07:48.916Z"
   },
   {
    "duration": 151,
    "start_time": "2022-11-26T17:07:49.070Z"
   },
   {
    "duration": 151,
    "start_time": "2022-11-26T17:07:49.222Z"
   },
   {
    "duration": 156,
    "start_time": "2022-11-26T17:07:49.375Z"
   },
   {
    "duration": 5,
    "start_time": "2022-11-26T17:07:49.533Z"
   },
   {
    "duration": 35,
    "start_time": "2022-11-26T17:07:49.539Z"
   },
   {
    "duration": 22,
    "start_time": "2022-11-26T17:07:49.576Z"
   },
   {
    "duration": 30,
    "start_time": "2022-11-26T17:07:49.600Z"
   },
   {
    "duration": 28,
    "start_time": "2022-11-26T17:07:49.632Z"
   },
   {
    "duration": 18,
    "start_time": "2022-11-26T17:07:49.662Z"
   },
   {
    "duration": 27,
    "start_time": "2022-11-26T17:07:49.681Z"
   },
   {
    "duration": 11,
    "start_time": "2022-11-26T17:07:49.710Z"
   },
   {
    "duration": 315,
    "start_time": "2022-11-26T17:07:49.723Z"
   },
   {
    "duration": 0,
    "start_time": "2022-11-26T17:07:50.040Z"
   },
   {
    "duration": 0,
    "start_time": "2022-11-26T17:07:50.041Z"
   },
   {
    "duration": 0,
    "start_time": "2022-11-26T17:07:50.043Z"
   },
   {
    "duration": 0,
    "start_time": "2022-11-26T17:07:50.044Z"
   },
   {
    "duration": 0,
    "start_time": "2022-11-26T17:07:50.046Z"
   },
   {
    "duration": 0,
    "start_time": "2022-11-26T17:07:50.048Z"
   },
   {
    "duration": 0,
    "start_time": "2022-11-26T17:07:50.050Z"
   },
   {
    "duration": 0,
    "start_time": "2022-11-26T17:07:50.051Z"
   },
   {
    "duration": 0,
    "start_time": "2022-11-26T17:07:50.053Z"
   },
   {
    "duration": 0,
    "start_time": "2022-11-26T17:07:50.054Z"
   },
   {
    "duration": 0,
    "start_time": "2022-11-26T17:07:50.055Z"
   },
   {
    "duration": 1,
    "start_time": "2022-11-26T17:07:50.056Z"
   },
   {
    "duration": 14,
    "start_time": "2022-11-26T17:18:15.485Z"
   },
   {
    "duration": 49,
    "start_time": "2022-11-27T08:00:57.098Z"
   },
   {
    "duration": 446,
    "start_time": "2022-11-27T08:01:01.543Z"
   },
   {
    "duration": 177,
    "start_time": "2022-11-27T08:01:01.992Z"
   },
   {
    "duration": 21,
    "start_time": "2022-11-27T08:01:02.171Z"
   },
   {
    "duration": 14,
    "start_time": "2022-11-27T08:01:02.193Z"
   },
   {
    "duration": 24,
    "start_time": "2022-11-27T08:01:02.209Z"
   },
   {
    "duration": 34,
    "start_time": "2022-11-27T08:01:02.234Z"
   },
   {
    "duration": 15,
    "start_time": "2022-11-27T08:01:02.270Z"
   },
   {
    "duration": 35,
    "start_time": "2022-11-27T08:01:02.287Z"
   },
   {
    "duration": 20,
    "start_time": "2022-11-27T08:01:02.324Z"
   },
   {
    "duration": 17,
    "start_time": "2022-11-27T08:01:02.346Z"
   },
   {
    "duration": 580,
    "start_time": "2022-11-27T08:01:02.365Z"
   },
   {
    "duration": 24,
    "start_time": "2022-11-27T08:01:02.947Z"
   },
   {
    "duration": 20,
    "start_time": "2022-11-27T08:01:02.972Z"
   },
   {
    "duration": 198,
    "start_time": "2022-11-27T08:01:02.995Z"
   },
   {
    "duration": 186,
    "start_time": "2022-11-27T08:01:03.195Z"
   },
   {
    "duration": 188,
    "start_time": "2022-11-27T08:01:03.382Z"
   },
   {
    "duration": 242,
    "start_time": "2022-11-27T08:01:03.572Z"
   },
   {
    "duration": 182,
    "start_time": "2022-11-27T08:01:03.816Z"
   },
   {
    "duration": 232,
    "start_time": "2022-11-27T08:01:04.000Z"
   },
   {
    "duration": 155,
    "start_time": "2022-11-27T08:01:04.234Z"
   },
   {
    "duration": 172,
    "start_time": "2022-11-27T08:01:04.391Z"
   },
   {
    "duration": 163,
    "start_time": "2022-11-27T08:01:04.565Z"
   },
   {
    "duration": 158,
    "start_time": "2022-11-27T08:01:04.730Z"
   },
   {
    "duration": 287,
    "start_time": "2022-11-27T08:01:04.889Z"
   },
   {
    "duration": 159,
    "start_time": "2022-11-27T08:01:05.178Z"
   },
   {
    "duration": 142,
    "start_time": "2022-11-27T08:01:05.339Z"
   },
   {
    "duration": 204,
    "start_time": "2022-11-27T08:01:05.483Z"
   },
   {
    "duration": 3,
    "start_time": "2022-11-27T08:01:05.689Z"
   },
   {
    "duration": 469,
    "start_time": "2022-11-27T08:01:05.694Z"
   },
   {
    "duration": 144,
    "start_time": "2022-11-27T08:01:06.165Z"
   },
   {
    "duration": 13,
    "start_time": "2022-11-27T08:01:06.311Z"
   },
   {
    "duration": 145,
    "start_time": "2022-11-27T08:01:06.325Z"
   },
   {
    "duration": 145,
    "start_time": "2022-11-27T08:01:06.472Z"
   },
   {
    "duration": 147,
    "start_time": "2022-11-27T08:01:06.623Z"
   },
   {
    "duration": 165,
    "start_time": "2022-11-27T08:01:06.771Z"
   },
   {
    "duration": 166,
    "start_time": "2022-11-27T08:01:06.938Z"
   },
   {
    "duration": 197,
    "start_time": "2022-11-27T08:01:07.105Z"
   },
   {
    "duration": 187,
    "start_time": "2022-11-27T08:01:07.304Z"
   },
   {
    "duration": 143,
    "start_time": "2022-11-27T08:01:07.493Z"
   },
   {
    "duration": 145,
    "start_time": "2022-11-27T08:01:07.637Z"
   },
   {
    "duration": 256,
    "start_time": "2022-11-27T08:01:07.786Z"
   },
   {
    "duration": 144,
    "start_time": "2022-11-27T08:01:08.043Z"
   },
   {
    "duration": 147,
    "start_time": "2022-11-27T08:01:08.188Z"
   },
   {
    "duration": 155,
    "start_time": "2022-11-27T08:01:08.337Z"
   },
   {
    "duration": 4,
    "start_time": "2022-11-27T08:01:08.494Z"
   },
   {
    "duration": 23,
    "start_time": "2022-11-27T08:01:08.500Z"
   },
   {
    "duration": 53,
    "start_time": "2022-11-27T08:01:08.525Z"
   },
   {
    "duration": 0,
    "start_time": "2022-11-27T08:01:08.579Z"
   },
   {
    "duration": 0,
    "start_time": "2022-11-27T08:01:08.581Z"
   },
   {
    "duration": 0,
    "start_time": "2022-11-27T08:01:08.582Z"
   },
   {
    "duration": 0,
    "start_time": "2022-11-27T08:01:08.583Z"
   },
   {
    "duration": 0,
    "start_time": "2022-11-27T08:01:08.584Z"
   },
   {
    "duration": 0,
    "start_time": "2022-11-27T08:01:08.585Z"
   },
   {
    "duration": 0,
    "start_time": "2022-11-27T08:01:08.586Z"
   },
   {
    "duration": 0,
    "start_time": "2022-11-27T08:01:08.587Z"
   },
   {
    "duration": 0,
    "start_time": "2022-11-27T08:01:08.588Z"
   },
   {
    "duration": 0,
    "start_time": "2022-11-27T08:01:08.589Z"
   },
   {
    "duration": 0,
    "start_time": "2022-11-27T08:01:08.590Z"
   },
   {
    "duration": 0,
    "start_time": "2022-11-27T08:01:08.591Z"
   },
   {
    "duration": 0,
    "start_time": "2022-11-27T08:01:08.622Z"
   },
   {
    "duration": 0,
    "start_time": "2022-11-27T08:01:08.624Z"
   },
   {
    "duration": 0,
    "start_time": "2022-11-27T08:01:08.625Z"
   },
   {
    "duration": 0,
    "start_time": "2022-11-27T08:01:08.626Z"
   },
   {
    "duration": 0,
    "start_time": "2022-11-27T08:01:08.627Z"
   },
   {
    "duration": 0,
    "start_time": "2022-11-27T08:01:08.628Z"
   },
   {
    "duration": 1372,
    "start_time": "2022-11-27T08:05:15.739Z"
   },
   {
    "duration": 1390,
    "start_time": "2022-11-27T08:06:20.519Z"
   },
   {
    "duration": 12,
    "start_time": "2022-11-27T08:08:47.425Z"
   },
   {
    "duration": 11,
    "start_time": "2022-11-27T08:08:59.651Z"
   },
   {
    "duration": 12,
    "start_time": "2022-11-27T08:13:28.680Z"
   },
   {
    "duration": 12,
    "start_time": "2022-11-27T08:13:44.583Z"
   },
   {
    "duration": 12,
    "start_time": "2022-11-27T08:14:01.429Z"
   },
   {
    "duration": 11,
    "start_time": "2022-11-27T08:14:32.051Z"
   },
   {
    "duration": 9,
    "start_time": "2022-11-27T08:16:30.218Z"
   },
   {
    "duration": 7,
    "start_time": "2022-11-27T08:17:48.259Z"
   },
   {
    "duration": 8,
    "start_time": "2022-11-27T08:18:22.519Z"
   },
   {
    "duration": 7,
    "start_time": "2022-11-27T08:19:08.818Z"
   },
   {
    "duration": 7,
    "start_time": "2022-11-27T08:20:14.679Z"
   },
   {
    "duration": 9,
    "start_time": "2022-11-27T08:20:44.070Z"
   },
   {
    "duration": 106,
    "start_time": "2022-11-27T08:27:05.591Z"
   },
   {
    "duration": 214,
    "start_time": "2022-11-27T08:31:13.452Z"
   },
   {
    "duration": 147,
    "start_time": "2022-11-27T08:34:45.159Z"
   },
   {
    "duration": 7,
    "start_time": "2022-11-27T08:59:17.738Z"
   },
   {
    "duration": 175,
    "start_time": "2022-11-27T09:08:01.899Z"
   },
   {
    "duration": 18,
    "start_time": "2022-11-27T09:16:56.338Z"
   },
   {
    "duration": 184,
    "start_time": "2022-11-27T09:17:08.939Z"
   },
   {
    "duration": 187,
    "start_time": "2022-11-27T09:18:45.678Z"
   },
   {
    "duration": 95,
    "start_time": "2022-11-27T09:19:49.660Z"
   },
   {
    "duration": 1551,
    "start_time": "2022-11-27T09:20:14.798Z"
   },
   {
    "duration": 11,
    "start_time": "2022-11-27T09:46:13.543Z"
   },
   {
    "duration": 21,
    "start_time": "2022-11-27T09:46:48.618Z"
   },
   {
    "duration": 17,
    "start_time": "2022-11-27T09:47:26.419Z"
   },
   {
    "duration": 328,
    "start_time": "2022-11-27T10:01:35.277Z"
   },
   {
    "duration": 26,
    "start_time": "2022-11-27T10:04:24.309Z"
   },
   {
    "duration": 9,
    "start_time": "2022-11-27T10:04:57.577Z"
   },
   {
    "duration": 10,
    "start_time": "2022-11-27T10:05:18.157Z"
   },
   {
    "duration": 9,
    "start_time": "2022-11-27T10:06:26.509Z"
   },
   {
    "duration": 11,
    "start_time": "2022-11-27T10:06:31.228Z"
   },
   {
    "duration": 327,
    "start_time": "2022-11-27T10:06:35.796Z"
   },
   {
    "duration": 394,
    "start_time": "2022-11-27T10:07:23.017Z"
   },
   {
    "duration": 345,
    "start_time": "2022-11-27T10:08:02.277Z"
   },
   {
    "duration": 330,
    "start_time": "2022-11-27T10:09:36.228Z"
   },
   {
    "duration": 329,
    "start_time": "2022-11-27T10:09:58.676Z"
   },
   {
    "duration": 47,
    "start_time": "2022-11-27T12:55:21.152Z"
   },
   {
    "duration": 366,
    "start_time": "2022-11-27T12:55:25.054Z"
   },
   {
    "duration": 90,
    "start_time": "2022-11-27T12:55:25.422Z"
   },
   {
    "duration": 20,
    "start_time": "2022-11-27T12:55:25.513Z"
   },
   {
    "duration": 16,
    "start_time": "2022-11-27T12:55:25.535Z"
   },
   {
    "duration": 42,
    "start_time": "2022-11-27T12:55:25.553Z"
   },
   {
    "duration": 36,
    "start_time": "2022-11-27T12:55:25.596Z"
   },
   {
    "duration": 36,
    "start_time": "2022-11-27T12:55:25.633Z"
   },
   {
    "duration": 35,
    "start_time": "2022-11-27T12:55:25.670Z"
   },
   {
    "duration": 25,
    "start_time": "2022-11-27T12:55:25.707Z"
   },
   {
    "duration": 29,
    "start_time": "2022-11-27T12:55:25.733Z"
   },
   {
    "duration": 36,
    "start_time": "2022-11-27T12:55:25.763Z"
   },
   {
    "duration": 38,
    "start_time": "2022-11-27T12:55:25.801Z"
   },
   {
    "duration": 52,
    "start_time": "2022-11-27T12:55:25.841Z"
   },
   {
    "duration": 34,
    "start_time": "2022-11-27T12:55:25.896Z"
   },
   {
    "duration": 586,
    "start_time": "2022-11-27T12:55:25.936Z"
   },
   {
    "duration": 25,
    "start_time": "2022-11-27T12:55:26.524Z"
   },
   {
    "duration": 14,
    "start_time": "2022-11-27T12:55:26.551Z"
   },
   {
    "duration": 199,
    "start_time": "2022-11-27T12:55:26.566Z"
   },
   {
    "duration": 189,
    "start_time": "2022-11-27T12:55:26.767Z"
   },
   {
    "duration": 172,
    "start_time": "2022-11-27T12:55:26.957Z"
   },
   {
    "duration": 225,
    "start_time": "2022-11-27T12:55:27.131Z"
   },
   {
    "duration": 183,
    "start_time": "2022-11-27T12:55:27.357Z"
   },
   {
    "duration": 182,
    "start_time": "2022-11-27T12:55:27.541Z"
   },
   {
    "duration": 144,
    "start_time": "2022-11-27T12:55:27.724Z"
   },
   {
    "duration": 172,
    "start_time": "2022-11-27T12:55:27.869Z"
   },
   {
    "duration": 145,
    "start_time": "2022-11-27T12:55:28.042Z"
   },
   {
    "duration": 144,
    "start_time": "2022-11-27T12:55:28.189Z"
   },
   {
    "duration": 265,
    "start_time": "2022-11-27T12:55:28.334Z"
   },
   {
    "duration": 164,
    "start_time": "2022-11-27T12:55:28.601Z"
   },
   {
    "duration": 135,
    "start_time": "2022-11-27T12:55:28.767Z"
   },
   {
    "duration": 184,
    "start_time": "2022-11-27T12:55:28.904Z"
   },
   {
    "duration": 47,
    "start_time": "2022-11-27T12:55:29.090Z"
   },
   {
    "duration": 0,
    "start_time": "2022-11-27T12:55:29.139Z"
   },
   {
    "duration": 0,
    "start_time": "2022-11-27T12:55:29.141Z"
   },
   {
    "duration": 0,
    "start_time": "2022-11-27T12:55:29.142Z"
   },
   {
    "duration": 0,
    "start_time": "2022-11-27T12:55:29.205Z"
   },
   {
    "duration": 0,
    "start_time": "2022-11-27T12:55:29.206Z"
   },
   {
    "duration": 0,
    "start_time": "2022-11-27T12:55:29.207Z"
   },
   {
    "duration": 0,
    "start_time": "2022-11-27T12:55:29.208Z"
   },
   {
    "duration": 0,
    "start_time": "2022-11-27T12:55:29.210Z"
   },
   {
    "duration": 0,
    "start_time": "2022-11-27T12:55:29.211Z"
   },
   {
    "duration": 0,
    "start_time": "2022-11-27T12:55:29.212Z"
   },
   {
    "duration": 0,
    "start_time": "2022-11-27T12:55:29.213Z"
   },
   {
    "duration": 0,
    "start_time": "2022-11-27T12:55:29.214Z"
   },
   {
    "duration": 0,
    "start_time": "2022-11-27T12:55:29.215Z"
   },
   {
    "duration": 0,
    "start_time": "2022-11-27T12:55:29.216Z"
   },
   {
    "duration": 0,
    "start_time": "2022-11-27T12:55:29.217Z"
   },
   {
    "duration": 0,
    "start_time": "2022-11-27T12:55:29.218Z"
   },
   {
    "duration": 0,
    "start_time": "2022-11-27T12:55:29.219Z"
   },
   {
    "duration": 0,
    "start_time": "2022-11-27T12:55:29.220Z"
   },
   {
    "duration": 0,
    "start_time": "2022-11-27T12:55:29.221Z"
   },
   {
    "duration": 0,
    "start_time": "2022-11-27T12:55:29.222Z"
   },
   {
    "duration": 0,
    "start_time": "2022-11-27T12:55:29.223Z"
   },
   {
    "duration": 0,
    "start_time": "2022-11-27T12:55:29.224Z"
   },
   {
    "duration": 0,
    "start_time": "2022-11-27T12:55:29.225Z"
   },
   {
    "duration": 0,
    "start_time": "2022-11-27T12:55:29.226Z"
   },
   {
    "duration": 0,
    "start_time": "2022-11-27T12:55:29.227Z"
   },
   {
    "duration": 0,
    "start_time": "2022-11-27T12:55:29.228Z"
   },
   {
    "duration": 0,
    "start_time": "2022-11-27T12:55:29.229Z"
   },
   {
    "duration": 0,
    "start_time": "2022-11-27T12:55:29.230Z"
   },
   {
    "duration": 0,
    "start_time": "2022-11-27T12:55:29.232Z"
   },
   {
    "duration": 0,
    "start_time": "2022-11-27T12:55:29.232Z"
   },
   {
    "duration": 0,
    "start_time": "2022-11-27T12:55:29.234Z"
   },
   {
    "duration": 0,
    "start_time": "2022-11-27T12:55:29.235Z"
   },
   {
    "duration": 0,
    "start_time": "2022-11-27T12:55:29.236Z"
   },
   {
    "duration": 2,
    "start_time": "2022-11-27T12:56:01.336Z"
   },
   {
    "duration": 61,
    "start_time": "2022-11-27T12:56:01.341Z"
   },
   {
    "duration": 15,
    "start_time": "2022-11-27T12:56:01.404Z"
   },
   {
    "duration": 23,
    "start_time": "2022-11-27T12:56:01.421Z"
   },
   {
    "duration": 28,
    "start_time": "2022-11-27T12:56:01.447Z"
   },
   {
    "duration": 40,
    "start_time": "2022-11-27T12:56:01.476Z"
   },
   {
    "duration": 22,
    "start_time": "2022-11-27T12:56:01.518Z"
   },
   {
    "duration": 58,
    "start_time": "2022-11-27T12:56:01.542Z"
   },
   {
    "duration": 5,
    "start_time": "2022-11-27T12:56:01.602Z"
   },
   {
    "duration": 18,
    "start_time": "2022-11-27T12:56:01.609Z"
   },
   {
    "duration": 24,
    "start_time": "2022-11-27T12:56:01.629Z"
   },
   {
    "duration": 15,
    "start_time": "2022-11-27T12:56:01.655Z"
   },
   {
    "duration": 51,
    "start_time": "2022-11-27T12:56:01.671Z"
   },
   {
    "duration": 18,
    "start_time": "2022-11-27T12:56:01.727Z"
   },
   {
    "duration": 183,
    "start_time": "2022-11-27T12:56:01.747Z"
   },
   {
    "duration": 26,
    "start_time": "2022-11-27T12:56:01.932Z"
   },
   {
    "duration": 15,
    "start_time": "2022-11-27T12:56:01.960Z"
   },
   {
    "duration": 191,
    "start_time": "2022-11-27T12:56:01.996Z"
   },
   {
    "duration": 191,
    "start_time": "2022-11-27T12:56:02.195Z"
   },
   {
    "duration": 186,
    "start_time": "2022-11-27T12:56:02.388Z"
   },
   {
    "duration": 206,
    "start_time": "2022-11-27T12:56:02.575Z"
   },
   {
    "duration": 189,
    "start_time": "2022-11-27T12:56:02.783Z"
   },
   {
    "duration": 184,
    "start_time": "2022-11-27T12:56:02.974Z"
   },
   {
    "duration": 152,
    "start_time": "2022-11-27T12:56:03.160Z"
   },
   {
    "duration": 175,
    "start_time": "2022-11-27T12:56:03.314Z"
   },
   {
    "duration": 154,
    "start_time": "2022-11-27T12:56:03.491Z"
   },
   {
    "duration": 162,
    "start_time": "2022-11-27T12:56:03.647Z"
   },
   {
    "duration": 359,
    "start_time": "2022-11-27T12:56:03.811Z"
   },
   {
    "duration": 169,
    "start_time": "2022-11-27T12:56:04.171Z"
   },
   {
    "duration": 135,
    "start_time": "2022-11-27T12:56:04.341Z"
   },
   {
    "duration": 192,
    "start_time": "2022-11-27T12:56:04.477Z"
   },
   {
    "duration": 394,
    "start_time": "2022-11-27T12:56:04.671Z"
   },
   {
    "duration": 948,
    "start_time": "2022-11-27T12:56:05.067Z"
   },
   {
    "duration": 0,
    "start_time": "2022-11-27T12:56:06.018Z"
   },
   {
    "duration": 0,
    "start_time": "2022-11-27T12:56:06.019Z"
   },
   {
    "duration": 0,
    "start_time": "2022-11-27T12:56:06.021Z"
   },
   {
    "duration": 0,
    "start_time": "2022-11-27T12:56:06.023Z"
   },
   {
    "duration": 0,
    "start_time": "2022-11-27T12:56:06.024Z"
   },
   {
    "duration": 0,
    "start_time": "2022-11-27T12:56:06.025Z"
   },
   {
    "duration": 0,
    "start_time": "2022-11-27T12:56:06.027Z"
   },
   {
    "duration": 1,
    "start_time": "2022-11-27T12:56:06.028Z"
   },
   {
    "duration": 0,
    "start_time": "2022-11-27T12:56:06.030Z"
   },
   {
    "duration": 0,
    "start_time": "2022-11-27T12:56:06.031Z"
   },
   {
    "duration": 0,
    "start_time": "2022-11-27T12:56:06.034Z"
   },
   {
    "duration": 0,
    "start_time": "2022-11-27T12:56:06.035Z"
   },
   {
    "duration": 0,
    "start_time": "2022-11-27T12:56:06.037Z"
   },
   {
    "duration": 0,
    "start_time": "2022-11-27T12:56:06.039Z"
   },
   {
    "duration": 0,
    "start_time": "2022-11-27T12:56:06.040Z"
   },
   {
    "duration": 0,
    "start_time": "2022-11-27T12:56:06.041Z"
   },
   {
    "duration": 0,
    "start_time": "2022-11-27T12:56:06.043Z"
   },
   {
    "duration": 0,
    "start_time": "2022-11-27T12:56:06.045Z"
   },
   {
    "duration": 0,
    "start_time": "2022-11-27T12:56:06.047Z"
   },
   {
    "duration": 0,
    "start_time": "2022-11-27T12:56:06.048Z"
   },
   {
    "duration": 0,
    "start_time": "2022-11-27T12:56:06.097Z"
   },
   {
    "duration": 0,
    "start_time": "2022-11-27T12:56:06.100Z"
   },
   {
    "duration": 0,
    "start_time": "2022-11-27T12:56:06.101Z"
   },
   {
    "duration": 0,
    "start_time": "2022-11-27T12:56:06.103Z"
   },
   {
    "duration": 0,
    "start_time": "2022-11-27T12:56:06.104Z"
   },
   {
    "duration": 0,
    "start_time": "2022-11-27T12:56:06.106Z"
   },
   {
    "duration": 0,
    "start_time": "2022-11-27T12:56:06.107Z"
   },
   {
    "duration": 0,
    "start_time": "2022-11-27T12:56:06.107Z"
   },
   {
    "duration": 0,
    "start_time": "2022-11-27T12:56:06.109Z"
   },
   {
    "duration": 0,
    "start_time": "2022-11-27T12:56:06.110Z"
   },
   {
    "duration": 0,
    "start_time": "2022-11-27T12:56:06.110Z"
   },
   {
    "duration": 6,
    "start_time": "2022-11-27T12:58:00.314Z"
   },
   {
    "duration": 9,
    "start_time": "2022-11-27T13:00:03.413Z"
   },
   {
    "duration": 5,
    "start_time": "2022-11-27T13:00:07.713Z"
   },
   {
    "duration": 6,
    "start_time": "2022-11-27T13:00:09.753Z"
   },
   {
    "duration": 5,
    "start_time": "2022-11-27T13:02:36.413Z"
   },
   {
    "duration": 5,
    "start_time": "2022-11-27T13:02:37.193Z"
   },
   {
    "duration": 5,
    "start_time": "2022-11-27T13:02:38.085Z"
   },
   {
    "duration": 6,
    "start_time": "2022-11-27T13:02:38.913Z"
   },
   {
    "duration": 8,
    "start_time": "2022-11-27T13:04:40.861Z"
   },
   {
    "duration": 18,
    "start_time": "2022-11-27T13:20:35.789Z"
   },
   {
    "duration": 804,
    "start_time": "2022-11-27T13:22:33.936Z"
   },
   {
    "duration": 8,
    "start_time": "2022-11-27T13:23:14.597Z"
   },
   {
    "duration": 785,
    "start_time": "2022-11-27T13:23:58.476Z"
   },
   {
    "duration": 136,
    "start_time": "2022-11-27T13:25:49.756Z"
   },
   {
    "duration": 140,
    "start_time": "2022-11-27T13:28:21.704Z"
   },
   {
    "duration": 10,
    "start_time": "2022-11-27T13:29:19.015Z"
   },
   {
    "duration": 164,
    "start_time": "2022-11-27T13:30:32.236Z"
   },
   {
    "duration": 9,
    "start_time": "2022-11-27T13:31:29.396Z"
   },
   {
    "duration": 132,
    "start_time": "2022-11-27T13:32:38.056Z"
   },
   {
    "duration": 44,
    "start_time": "2022-11-27T13:34:39.463Z"
   },
   {
    "duration": 158,
    "start_time": "2022-11-27T13:35:04.876Z"
   },
   {
    "duration": 129,
    "start_time": "2022-11-27T13:36:05.596Z"
   },
   {
    "duration": 150,
    "start_time": "2022-11-27T13:40:12.435Z"
   },
   {
    "duration": 264,
    "start_time": "2022-11-27T13:41:13.856Z"
   },
   {
    "duration": 124,
    "start_time": "2022-11-27T13:42:06.444Z"
   },
   {
    "duration": 155,
    "start_time": "2022-11-27T13:42:16.176Z"
   },
   {
    "duration": 145,
    "start_time": "2022-11-27T13:42:23.036Z"
   },
   {
    "duration": 195,
    "start_time": "2022-11-27T13:44:34.723Z"
   },
   {
    "duration": 180,
    "start_time": "2022-11-27T13:45:10.419Z"
   },
   {
    "duration": 138,
    "start_time": "2022-11-27T13:49:08.588Z"
   },
   {
    "duration": 149,
    "start_time": "2022-11-27T13:49:32.256Z"
   },
   {
    "duration": 2,
    "start_time": "2022-11-27T13:50:11.956Z"
   },
   {
    "duration": 54,
    "start_time": "2022-11-27T13:50:11.960Z"
   },
   {
    "duration": 14,
    "start_time": "2022-11-27T13:50:12.016Z"
   },
   {
    "duration": 16,
    "start_time": "2022-11-27T13:50:12.031Z"
   },
   {
    "duration": 23,
    "start_time": "2022-11-27T13:50:12.049Z"
   },
   {
    "duration": 39,
    "start_time": "2022-11-27T13:50:12.074Z"
   },
   {
    "duration": 15,
    "start_time": "2022-11-27T13:50:12.114Z"
   },
   {
    "duration": 14,
    "start_time": "2022-11-27T13:50:12.131Z"
   },
   {
    "duration": 4,
    "start_time": "2022-11-27T13:50:12.147Z"
   },
   {
    "duration": 44,
    "start_time": "2022-11-27T13:50:12.153Z"
   },
   {
    "duration": 5,
    "start_time": "2022-11-27T13:50:12.199Z"
   },
   {
    "duration": 6,
    "start_time": "2022-11-27T13:50:12.206Z"
   },
   {
    "duration": 7,
    "start_time": "2022-11-27T13:50:12.214Z"
   },
   {
    "duration": 6,
    "start_time": "2022-11-27T13:50:12.224Z"
   },
   {
    "duration": 21,
    "start_time": "2022-11-27T13:50:12.231Z"
   },
   {
    "duration": 42,
    "start_time": "2022-11-27T13:50:12.254Z"
   },
   {
    "duration": 168,
    "start_time": "2022-11-27T13:50:12.298Z"
   },
   {
    "duration": 32,
    "start_time": "2022-11-27T13:50:12.467Z"
   },
   {
    "duration": 15,
    "start_time": "2022-11-27T13:50:12.501Z"
   },
   {
    "duration": 200,
    "start_time": "2022-11-27T13:50:12.517Z"
   },
   {
    "duration": 204,
    "start_time": "2022-11-27T13:50:12.719Z"
   },
   {
    "duration": 196,
    "start_time": "2022-11-27T13:50:12.925Z"
   },
   {
    "duration": 193,
    "start_time": "2022-11-27T13:50:13.122Z"
   },
   {
    "duration": 184,
    "start_time": "2022-11-27T13:50:13.317Z"
   },
   {
    "duration": 204,
    "start_time": "2022-11-27T13:50:13.502Z"
   },
   {
    "duration": 149,
    "start_time": "2022-11-27T13:50:13.708Z"
   },
   {
    "duration": 298,
    "start_time": "2022-11-27T13:50:13.859Z"
   },
   {
    "duration": 149,
    "start_time": "2022-11-27T13:50:14.159Z"
   },
   {
    "duration": 152,
    "start_time": "2022-11-27T13:50:14.309Z"
   },
   {
    "duration": 267,
    "start_time": "2022-11-27T13:50:14.462Z"
   },
   {
    "duration": 166,
    "start_time": "2022-11-27T13:50:14.730Z"
   },
   {
    "duration": 156,
    "start_time": "2022-11-27T13:50:14.898Z"
   },
   {
    "duration": 216,
    "start_time": "2022-11-27T13:50:15.055Z"
   },
   {
    "duration": 400,
    "start_time": "2022-11-27T13:50:15.273Z"
   },
   {
    "duration": 159,
    "start_time": "2022-11-27T13:50:15.675Z"
   },
   {
    "duration": 6,
    "start_time": "2022-11-27T13:50:15.836Z"
   },
   {
    "duration": 159,
    "start_time": "2022-11-27T13:50:15.843Z"
   },
   {
    "duration": 203,
    "start_time": "2022-11-27T13:50:16.004Z"
   },
   {
    "duration": 138,
    "start_time": "2022-11-27T13:50:16.209Z"
   },
   {
    "duration": 163,
    "start_time": "2022-11-27T13:50:16.349Z"
   },
   {
    "duration": 171,
    "start_time": "2022-11-27T13:50:16.518Z"
   },
   {
    "duration": 206,
    "start_time": "2022-11-27T13:50:16.691Z"
   },
   {
    "duration": 196,
    "start_time": "2022-11-27T13:50:16.900Z"
   },
   {
    "duration": 147,
    "start_time": "2022-11-27T13:50:17.098Z"
   },
   {
    "duration": 140,
    "start_time": "2022-11-27T13:50:17.246Z"
   },
   {
    "duration": 298,
    "start_time": "2022-11-27T13:50:17.387Z"
   },
   {
    "duration": 148,
    "start_time": "2022-11-27T13:50:17.688Z"
   },
   {
    "duration": 158,
    "start_time": "2022-11-27T13:50:17.838Z"
   },
   {
    "duration": 157,
    "start_time": "2022-11-27T13:50:17.998Z"
   },
   {
    "duration": 9,
    "start_time": "2022-11-27T13:50:18.157Z"
   },
   {
    "duration": 25,
    "start_time": "2022-11-27T13:50:18.168Z"
   },
   {
    "duration": 12,
    "start_time": "2022-11-27T13:50:18.195Z"
   },
   {
    "duration": 23,
    "start_time": "2022-11-27T13:50:18.209Z"
   },
   {
    "duration": 301,
    "start_time": "2022-11-27T13:50:18.234Z"
   },
   {
    "duration": 10,
    "start_time": "2022-11-27T13:50:18.537Z"
   },
   {
    "duration": 27,
    "start_time": "2022-11-27T13:50:18.549Z"
   },
   {
    "duration": 11,
    "start_time": "2022-11-27T13:50:18.578Z"
   },
   {
    "duration": 8,
    "start_time": "2022-11-27T13:50:18.591Z"
   },
   {
    "duration": 4,
    "start_time": "2022-11-27T13:50:18.601Z"
   },
   {
    "duration": 6,
    "start_time": "2022-11-27T13:50:18.607Z"
   },
   {
    "duration": 409,
    "start_time": "2022-11-27T13:50:18.615Z"
   },
   {
    "duration": 8,
    "start_time": "2022-11-27T13:50:19.026Z"
   },
   {
    "duration": 11,
    "start_time": "2022-11-27T13:50:19.036Z"
   },
   {
    "duration": 10,
    "start_time": "2022-11-27T13:50:19.048Z"
   },
   {
    "duration": 7,
    "start_time": "2022-11-27T13:50:19.060Z"
   },
   {
    "duration": 38,
    "start_time": "2022-11-27T13:50:19.069Z"
   },
   {
    "duration": 53,
    "start_time": "2022-11-27T14:08:12.735Z"
   },
   {
    "duration": 237,
    "start_time": "2022-11-27T14:09:09.035Z"
   },
   {
    "duration": 889,
    "start_time": "2022-11-27T14:09:40.715Z"
   },
   {
    "duration": 2748,
    "start_time": "2022-11-27T14:10:41.036Z"
   },
   {
    "duration": 5466,
    "start_time": "2022-11-27T14:16:53.845Z"
   },
   {
    "duration": 5921,
    "start_time": "2022-11-27T14:17:34.476Z"
   },
   {
    "duration": 6588,
    "start_time": "2022-11-27T14:18:06.236Z"
   },
   {
    "duration": 5994,
    "start_time": "2022-11-27T14:19:18.116Z"
   },
   {
    "duration": 5969,
    "start_time": "2022-11-27T14:19:39.596Z"
   },
   {
    "duration": 6268,
    "start_time": "2022-11-27T14:19:59.216Z"
   },
   {
    "duration": 6671,
    "start_time": "2022-11-27T14:20:20.229Z"
   },
   {
    "duration": 6610,
    "start_time": "2022-11-27T14:21:03.817Z"
   },
   {
    "duration": 409,
    "start_time": "2022-11-27T14:22:51.456Z"
   },
   {
    "duration": 6716,
    "start_time": "2022-11-27T14:23:51.136Z"
   },
   {
    "duration": 7098,
    "start_time": "2022-11-27T14:25:37.056Z"
   },
   {
    "duration": 4819,
    "start_time": "2022-11-27T14:35:49.695Z"
   },
   {
    "duration": 7441,
    "start_time": "2022-11-27T14:36:29.188Z"
   },
   {
    "duration": 4995,
    "start_time": "2022-11-27T14:39:01.075Z"
   },
   {
    "duration": 7788,
    "start_time": "2022-11-27T14:41:34.437Z"
   },
   {
    "duration": 4885,
    "start_time": "2022-11-27T14:41:57.673Z"
   },
   {
    "duration": 8332,
    "start_time": "2022-11-27T14:44:54.655Z"
   },
   {
    "duration": 4957,
    "start_time": "2022-11-27T14:45:18.459Z"
   },
   {
    "duration": 19,
    "start_time": "2022-11-27T15:05:34.173Z"
   },
   {
    "duration": 10,
    "start_time": "2022-11-27T15:06:44.575Z"
   },
   {
    "duration": 10,
    "start_time": "2022-11-27T15:08:36.275Z"
   },
   {
    "duration": 18,
    "start_time": "2022-11-27T15:08:53.596Z"
   },
   {
    "duration": 16,
    "start_time": "2022-11-27T15:10:09.875Z"
   },
   {
    "duration": 15,
    "start_time": "2022-11-27T15:10:28.368Z"
   },
   {
    "duration": 52,
    "start_time": "2022-11-27T15:10:35.467Z"
   },
   {
    "duration": 21,
    "start_time": "2022-11-27T15:10:45.006Z"
   },
   {
    "duration": 26,
    "start_time": "2022-11-27T15:15:12.817Z"
   },
   {
    "duration": 17,
    "start_time": "2022-11-27T15:18:09.117Z"
   },
   {
    "duration": 20,
    "start_time": "2022-11-27T15:19:11.560Z"
   },
   {
    "duration": 292,
    "start_time": "2022-11-27T15:19:44.475Z"
   },
   {
    "duration": 8,
    "start_time": "2022-11-27T15:20:04.759Z"
   },
   {
    "duration": 7,
    "start_time": "2022-11-27T15:20:07.176Z"
   },
   {
    "duration": 7,
    "start_time": "2022-11-27T15:20:09.997Z"
   },
   {
    "duration": 277,
    "start_time": "2022-11-27T15:20:13.336Z"
   },
   {
    "duration": 5,
    "start_time": "2022-11-27T15:43:42.536Z"
   },
   {
    "duration": 19,
    "start_time": "2022-11-27T15:55:18.235Z"
   },
   {
    "duration": 49,
    "start_time": "2022-11-27T15:55:22.156Z"
   },
   {
    "duration": 54,
    "start_time": "2022-11-27T15:55:47.976Z"
   },
   {
    "duration": 47,
    "start_time": "2022-11-27T15:56:04.358Z"
   },
   {
    "duration": 11,
    "start_time": "2022-11-27T16:19:05.953Z"
   },
   {
    "duration": 8,
    "start_time": "2022-11-27T16:22:22.173Z"
   },
   {
    "duration": 3,
    "start_time": "2022-11-27T16:22:36.734Z"
   },
   {
    "duration": 76,
    "start_time": "2022-11-27T16:22:36.740Z"
   },
   {
    "duration": 15,
    "start_time": "2022-11-27T16:22:36.817Z"
   },
   {
    "duration": 42,
    "start_time": "2022-11-27T16:22:36.834Z"
   },
   {
    "duration": 51,
    "start_time": "2022-11-27T16:22:36.878Z"
   },
   {
    "duration": 40,
    "start_time": "2022-11-27T16:22:36.931Z"
   },
   {
    "duration": 16,
    "start_time": "2022-11-27T16:22:36.972Z"
   },
   {
    "duration": 39,
    "start_time": "2022-11-27T16:22:36.989Z"
   },
   {
    "duration": 12,
    "start_time": "2022-11-27T16:22:37.029Z"
   },
   {
    "duration": 19,
    "start_time": "2022-11-27T16:22:37.042Z"
   },
   {
    "duration": 28,
    "start_time": "2022-11-27T16:22:37.063Z"
   },
   {
    "duration": 35,
    "start_time": "2022-11-27T16:22:37.093Z"
   },
   {
    "duration": 37,
    "start_time": "2022-11-27T16:22:37.130Z"
   },
   {
    "duration": 22,
    "start_time": "2022-11-27T16:22:37.170Z"
   },
   {
    "duration": 54,
    "start_time": "2022-11-27T16:22:37.194Z"
   },
   {
    "duration": 21,
    "start_time": "2022-11-27T16:22:37.250Z"
   },
   {
    "duration": 194,
    "start_time": "2022-11-27T16:22:37.273Z"
   },
   {
    "duration": 46,
    "start_time": "2022-11-27T16:22:37.468Z"
   },
   {
    "duration": 17,
    "start_time": "2022-11-27T16:22:37.516Z"
   },
   {
    "duration": 222,
    "start_time": "2022-11-27T16:22:37.535Z"
   },
   {
    "duration": 205,
    "start_time": "2022-11-27T16:22:37.759Z"
   },
   {
    "duration": 214,
    "start_time": "2022-11-27T16:22:37.966Z"
   },
   {
    "duration": 230,
    "start_time": "2022-11-27T16:22:38.182Z"
   },
   {
    "duration": 207,
    "start_time": "2022-11-27T16:22:38.414Z"
   },
   {
    "duration": 201,
    "start_time": "2022-11-27T16:22:38.622Z"
   },
   {
    "duration": 150,
    "start_time": "2022-11-27T16:22:38.825Z"
   },
   {
    "duration": 186,
    "start_time": "2022-11-27T16:22:38.977Z"
   },
   {
    "duration": 168,
    "start_time": "2022-11-27T16:22:39.164Z"
   },
   {
    "duration": 159,
    "start_time": "2022-11-27T16:22:39.334Z"
   },
   {
    "duration": 315,
    "start_time": "2022-11-27T16:22:39.496Z"
   },
   {
    "duration": 171,
    "start_time": "2022-11-27T16:22:39.812Z"
   },
   {
    "duration": 164,
    "start_time": "2022-11-27T16:22:39.985Z"
   },
   {
    "duration": 219,
    "start_time": "2022-11-27T16:22:40.151Z"
   },
   {
    "duration": 4871,
    "start_time": "2022-11-27T16:22:40.372Z"
   },
   {
    "duration": 410,
    "start_time": "2022-11-27T16:22:45.245Z"
   },
   {
    "duration": 156,
    "start_time": "2022-11-27T16:22:45.657Z"
   },
   {
    "duration": 5,
    "start_time": "2022-11-27T16:22:45.815Z"
   },
   {
    "duration": 167,
    "start_time": "2022-11-27T16:22:45.821Z"
   },
   {
    "duration": 193,
    "start_time": "2022-11-27T16:22:45.990Z"
   },
   {
    "duration": 168,
    "start_time": "2022-11-27T16:22:46.185Z"
   },
   {
    "duration": 169,
    "start_time": "2022-11-27T16:22:46.357Z"
   },
   {
    "duration": 168,
    "start_time": "2022-11-27T16:22:46.527Z"
   },
   {
    "duration": 211,
    "start_time": "2022-11-27T16:22:46.696Z"
   },
   {
    "duration": 172,
    "start_time": "2022-11-27T16:22:46.909Z"
   },
   {
    "duration": 3749,
    "start_time": "2022-11-27T16:22:47.083Z"
   },
   {
    "duration": 146,
    "start_time": "2022-11-27T16:22:50.834Z"
   },
   {
    "duration": 157,
    "start_time": "2022-11-27T16:22:50.981Z"
   },
   {
    "duration": 143,
    "start_time": "2022-11-27T16:22:51.140Z"
   },
   {
    "duration": 159,
    "start_time": "2022-11-27T16:22:51.285Z"
   },
   {
    "duration": 173,
    "start_time": "2022-11-27T16:22:51.446Z"
   },
   {
    "duration": 30,
    "start_time": "2022-11-27T16:22:51.621Z"
   },
   {
    "duration": 21,
    "start_time": "2022-11-27T16:22:51.653Z"
   },
   {
    "duration": 8,
    "start_time": "2022-11-27T16:22:51.676Z"
   },
   {
    "duration": 49,
    "start_time": "2022-11-27T16:22:51.686Z"
   },
   {
    "duration": 289,
    "start_time": "2022-11-27T16:22:51.737Z"
   },
   {
    "duration": 0,
    "start_time": "2022-11-27T16:22:52.028Z"
   },
   {
    "duration": 1,
    "start_time": "2022-11-27T16:22:52.028Z"
   },
   {
    "duration": 0,
    "start_time": "2022-11-27T16:22:52.029Z"
   },
   {
    "duration": 0,
    "start_time": "2022-11-27T16:22:52.030Z"
   },
   {
    "duration": 0,
    "start_time": "2022-11-27T16:22:52.032Z"
   },
   {
    "duration": 0,
    "start_time": "2022-11-27T16:22:52.033Z"
   },
   {
    "duration": 0,
    "start_time": "2022-11-27T16:22:52.034Z"
   },
   {
    "duration": 0,
    "start_time": "2022-11-27T16:22:52.035Z"
   },
   {
    "duration": 0,
    "start_time": "2022-11-27T16:22:52.036Z"
   },
   {
    "duration": 0,
    "start_time": "2022-11-27T16:22:52.037Z"
   },
   {
    "duration": 0,
    "start_time": "2022-11-27T16:22:52.038Z"
   },
   {
    "duration": 0,
    "start_time": "2022-11-27T16:22:52.038Z"
   },
   {
    "duration": 0,
    "start_time": "2022-11-27T16:22:52.039Z"
   },
   {
    "duration": 308,
    "start_time": "2022-11-27T16:23:59.287Z"
   },
   {
    "duration": 22,
    "start_time": "2022-11-27T16:25:01.916Z"
   },
   {
    "duration": 19,
    "start_time": "2022-11-27T16:26:00.777Z"
   },
   {
    "duration": 30,
    "start_time": "2022-11-27T16:27:22.575Z"
   },
   {
    "duration": 8,
    "start_time": "2022-11-27T16:27:34.137Z"
   },
   {
    "duration": 7,
    "start_time": "2022-11-27T16:27:36.928Z"
   },
   {
    "duration": 324,
    "start_time": "2022-11-27T16:27:40.637Z"
   },
   {
    "duration": 8,
    "start_time": "2022-11-27T16:27:55.576Z"
   },
   {
    "duration": 389,
    "start_time": "2022-11-27T16:28:00.212Z"
   },
   {
    "duration": 3,
    "start_time": "2022-11-27T16:28:12.322Z"
   },
   {
    "duration": 55,
    "start_time": "2022-11-27T16:28:12.327Z"
   },
   {
    "duration": 27,
    "start_time": "2022-11-27T16:28:12.384Z"
   },
   {
    "duration": 17,
    "start_time": "2022-11-27T16:28:12.413Z"
   },
   {
    "duration": 39,
    "start_time": "2022-11-27T16:28:12.432Z"
   },
   {
    "duration": 43,
    "start_time": "2022-11-27T16:28:12.473Z"
   },
   {
    "duration": 16,
    "start_time": "2022-11-27T16:28:12.518Z"
   },
   {
    "duration": 15,
    "start_time": "2022-11-27T16:28:12.535Z"
   },
   {
    "duration": 5,
    "start_time": "2022-11-27T16:28:12.552Z"
   },
   {
    "duration": 6,
    "start_time": "2022-11-27T16:28:12.559Z"
   },
   {
    "duration": 33,
    "start_time": "2022-11-27T16:28:12.567Z"
   },
   {
    "duration": 19,
    "start_time": "2022-11-27T16:28:12.602Z"
   },
   {
    "duration": 7,
    "start_time": "2022-11-27T16:28:12.623Z"
   },
   {
    "duration": 5,
    "start_time": "2022-11-27T16:28:12.633Z"
   },
   {
    "duration": 22,
    "start_time": "2022-11-27T16:28:12.640Z"
   },
   {
    "duration": 47,
    "start_time": "2022-11-27T16:28:12.664Z"
   },
   {
    "duration": 219,
    "start_time": "2022-11-27T16:28:12.714Z"
   },
   {
    "duration": 26,
    "start_time": "2022-11-27T16:28:12.935Z"
   },
   {
    "duration": 46,
    "start_time": "2022-11-27T16:28:12.962Z"
   },
   {
    "duration": 211,
    "start_time": "2022-11-27T16:28:13.012Z"
   },
   {
    "duration": 213,
    "start_time": "2022-11-27T16:28:13.225Z"
   },
   {
    "duration": 203,
    "start_time": "2022-11-27T16:28:13.440Z"
   },
   {
    "duration": 210,
    "start_time": "2022-11-27T16:28:13.645Z"
   },
   {
    "duration": 218,
    "start_time": "2022-11-27T16:28:13.858Z"
   },
   {
    "duration": 198,
    "start_time": "2022-11-27T16:28:14.078Z"
   },
   {
    "duration": 157,
    "start_time": "2022-11-27T16:28:14.278Z"
   },
   {
    "duration": 176,
    "start_time": "2022-11-27T16:28:14.437Z"
   },
   {
    "duration": 166,
    "start_time": "2022-11-27T16:28:14.615Z"
   },
   {
    "duration": 164,
    "start_time": "2022-11-27T16:28:14.782Z"
   },
   {
    "duration": 317,
    "start_time": "2022-11-27T16:28:14.948Z"
   },
   {
    "duration": 182,
    "start_time": "2022-11-27T16:28:15.268Z"
   },
   {
    "duration": 172,
    "start_time": "2022-11-27T16:28:15.452Z"
   },
   {
    "duration": 216,
    "start_time": "2022-11-27T16:28:15.626Z"
   },
   {
    "duration": 5219,
    "start_time": "2022-11-27T16:28:15.845Z"
   },
   {
    "duration": 440,
    "start_time": "2022-11-27T16:28:21.067Z"
   },
   {
    "duration": 165,
    "start_time": "2022-11-27T16:28:21.510Z"
   },
   {
    "duration": 6,
    "start_time": "2022-11-27T16:28:21.677Z"
   },
   {
    "duration": 154,
    "start_time": "2022-11-27T16:28:21.685Z"
   },
   {
    "duration": 171,
    "start_time": "2022-11-27T16:28:21.841Z"
   },
   {
    "duration": 136,
    "start_time": "2022-11-27T16:28:22.013Z"
   },
   {
    "duration": 174,
    "start_time": "2022-11-27T16:28:22.153Z"
   },
   {
    "duration": 164,
    "start_time": "2022-11-27T16:28:22.329Z"
   },
   {
    "duration": 212,
    "start_time": "2022-11-27T16:28:22.495Z"
   },
   {
    "duration": 200,
    "start_time": "2022-11-27T16:28:22.709Z"
   },
   {
    "duration": 141,
    "start_time": "2022-11-27T16:28:22.911Z"
   },
   {
    "duration": 156,
    "start_time": "2022-11-27T16:28:23.054Z"
   },
   {
    "duration": 142,
    "start_time": "2022-11-27T16:28:23.212Z"
   },
   {
    "duration": 153,
    "start_time": "2022-11-27T16:28:23.355Z"
   },
   {
    "duration": 147,
    "start_time": "2022-11-27T16:28:23.511Z"
   },
   {
    "duration": 166,
    "start_time": "2022-11-27T16:28:23.661Z"
   },
   {
    "duration": 27,
    "start_time": "2022-11-27T16:28:23.829Z"
   },
   {
    "duration": 7,
    "start_time": "2022-11-27T16:28:23.858Z"
   },
   {
    "duration": 6,
    "start_time": "2022-11-27T16:28:23.867Z"
   },
   {
    "duration": 15,
    "start_time": "2022-11-27T16:28:23.899Z"
   },
   {
    "duration": 311,
    "start_time": "2022-11-27T16:28:23.917Z"
   },
   {
    "duration": 8,
    "start_time": "2022-11-27T16:28:24.231Z"
   },
   {
    "duration": 11,
    "start_time": "2022-11-27T16:28:24.241Z"
   },
   {
    "duration": 9,
    "start_time": "2022-11-27T16:28:24.254Z"
   },
   {
    "duration": 35,
    "start_time": "2022-11-27T16:28:24.265Z"
   },
   {
    "duration": 11,
    "start_time": "2022-11-27T16:28:24.302Z"
   },
   {
    "duration": 4,
    "start_time": "2022-11-27T16:28:24.315Z"
   },
   {
    "duration": 19,
    "start_time": "2022-11-27T16:28:24.320Z"
   },
   {
    "duration": 13,
    "start_time": "2022-11-27T16:28:24.341Z"
   },
   {
    "duration": 9,
    "start_time": "2022-11-27T16:28:24.356Z"
   },
   {
    "duration": 8,
    "start_time": "2022-11-27T16:28:24.367Z"
   },
   {
    "duration": 39,
    "start_time": "2022-11-27T16:28:24.377Z"
   },
   {
    "duration": 22,
    "start_time": "2022-11-27T16:28:24.418Z"
   },
   {
    "duration": 13,
    "start_time": "2022-11-27T16:28:24.442Z"
   },
   {
    "duration": 9,
    "start_time": "2022-11-27T16:30:42.255Z"
   },
   {
    "duration": 10,
    "start_time": "2022-11-27T16:30:46.536Z"
   },
   {
    "duration": 8,
    "start_time": "2022-11-27T16:34:23.100Z"
   },
   {
    "duration": 9,
    "start_time": "2022-11-27T16:34:26.337Z"
   },
   {
    "duration": 8,
    "start_time": "2022-11-27T16:34:36.456Z"
   },
   {
    "duration": 43,
    "start_time": "2022-11-27T16:37:06.727Z"
   },
   {
    "duration": 0,
    "start_time": "2022-11-27T16:37:06.772Z"
   },
   {
    "duration": 10,
    "start_time": "2022-11-27T16:37:19.838Z"
   },
   {
    "duration": 8,
    "start_time": "2022-11-27T16:38:04.243Z"
   },
   {
    "duration": 13,
    "start_time": "2022-11-27T16:46:29.828Z"
   },
   {
    "duration": 15,
    "start_time": "2022-11-27T16:46:56.456Z"
   },
   {
    "duration": 12,
    "start_time": "2022-11-27T16:50:04.077Z"
   },
   {
    "duration": 24,
    "start_time": "2022-11-27T17:05:45.419Z"
   },
   {
    "duration": 19,
    "start_time": "2022-11-27T17:07:21.818Z"
   },
   {
    "duration": 189,
    "start_time": "2022-11-27T17:07:58.402Z"
   },
   {
    "duration": 218,
    "start_time": "2022-11-27T17:08:53.897Z"
   },
   {
    "duration": 205,
    "start_time": "2022-11-27T18:11:30.088Z"
   }
  ],
  "kernelspec": {
   "display_name": "Python 3 (ipykernel)",
   "language": "python",
   "name": "python3"
  },
  "language_info": {
   "codemirror_mode": {
    "name": "ipython",
    "version": 3
   },
   "file_extension": ".py",
   "mimetype": "text/x-python",
   "name": "python",
   "nbconvert_exporter": "python",
   "pygments_lexer": "ipython3",
   "version": "3.9.5"
  },
  "toc": {
   "base_numbering": 1,
   "nav_menu": {
    "height": "140px",
    "width": "415px"
   },
   "number_sections": true,
   "sideBar": true,
   "skip_h1_title": true,
   "title_cell": "Table of Contents",
   "title_sidebar": "Contents",
   "toc_cell": false,
   "toc_position": {},
   "toc_section_display": true,
   "toc_window_display": false
  }
 },
 "nbformat": 4,
 "nbformat_minor": 2
}
