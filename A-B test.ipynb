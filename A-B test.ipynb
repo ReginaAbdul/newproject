{
 "cells": [
  {
   "cell_type": "markdown",
   "metadata": {},
   "source": [
    "___Описание проекта___    \n",
    "___Контекст___   \n",
    "___Вы — аналитик крупного интернет-магазина. Вместе с отделом маркетинга вы подготовили список гипотез для увеличения выручки.___    \n",
    "___Приоритизируйте гипотезы, запустите A/B-тест и проанализируйте результаты.___  "
   ]
  },
  {
   "cell_type": "markdown",
   "metadata": {},
   "source": [
    "_Описание данных:_  \n",
    "_Данные для первой части_  \n",
    "\n",
    "_Файл /datasets/hypothesis.csv_  \n",
    "  \n",
    "_Hypothesis — краткое описание гипотезы;_  \n",
    "_Reach — охват пользователей по 10-балльной шкале;_  \n",
    "_Impact — влияние на пользователей по 10-балльной шкале;_  \n",
    "_Confidence — уверенность в гипотезе по 10-балльной шкале;_  \n",
    "_Efforts — затраты ресурсов на проверку гипотезы по 10-балльной шкале. Чем больше значение Efforts, тем дороже проверка гипотезы._  \n",
    "\n",
    "\n",
    "_Данные для второй части_ \n",
    "\n",
    "_Файл /datasets/orders.csv_ \n",
    "\n",
    "_transactionId — идентификатор заказа;_  \n",
    "_visitorId — идентификатор пользователя, совершившего заказ;_  \n",
    "_date — дата, когда был совершён заказ;_  \n",
    "_revenue — выручка заказа;_  \n",
    "_group — группа A/B-теста, в которую попал заказ._ \n",
    "\n",
    "_Файл /datasets/visitors.csv_  \n",
    "_date — дата;_  \n",
    "_group — группа A/B-теста;_  \n",
    "_visitors — количество пользователей в указанную дату в указанной группе A/B-теста_  "
   ]
  },
  {
   "cell_type": "markdown",
   "metadata": {},
   "source": [
    "___Часть 1. Приоритизация гипотез___    \n",
    "___Примените фреймворк ICE для приоритизации гипотез. Отсортируйте их по убыванию приоритета___   \n",
    "___Примените фреймворк RICE для приоритизации гипотез. Отсортируйте их по убыванию приоритета___    \n",
    "___Укажите, как изменилась приоритизация гипотез при применении RICE вместо ICE. Объясните, почему так произошло___   "
   ]
  },
  {
   "cell_type": "code",
   "execution_count": 1,
   "metadata": {},
   "outputs": [],
   "source": [
    "import pandas as pd"
   ]
  },
  {
   "cell_type": "code",
   "execution_count": 2,
   "metadata": {},
   "outputs": [],
   "source": [
    "data=pd.read_csv('/datasets/hypothesis.csv')"
   ]
  },
  {
   "cell_type": "code",
   "execution_count": 3,
   "metadata": {},
   "outputs": [
    {
     "data": {
      "text/html": [
       "<div>\n",
       "<style scoped>\n",
       "    .dataframe tbody tr th:only-of-type {\n",
       "        vertical-align: middle;\n",
       "    }\n",
       "\n",
       "    .dataframe tbody tr th {\n",
       "        vertical-align: top;\n",
       "    }\n",
       "\n",
       "    .dataframe thead th {\n",
       "        text-align: right;\n",
       "    }\n",
       "</style>\n",
       "<table border=\"1\" class=\"dataframe\">\n",
       "  <thead>\n",
       "    <tr style=\"text-align: right;\">\n",
       "      <th></th>\n",
       "      <th>Hypothesis</th>\n",
       "      <th>Reach</th>\n",
       "      <th>Impact</th>\n",
       "      <th>Confidence</th>\n",
       "      <th>Efforts</th>\n",
       "    </tr>\n",
       "  </thead>\n",
       "  <tbody>\n",
       "    <tr>\n",
       "      <th>0</th>\n",
       "      <td>Добавить два новых канала привлечения трафика,...</td>\n",
       "      <td>3</td>\n",
       "      <td>10</td>\n",
       "      <td>8</td>\n",
       "      <td>6</td>\n",
       "    </tr>\n",
       "    <tr>\n",
       "      <th>1</th>\n",
       "      <td>Запустить собственную службу доставки, что сок...</td>\n",
       "      <td>2</td>\n",
       "      <td>5</td>\n",
       "      <td>4</td>\n",
       "      <td>10</td>\n",
       "    </tr>\n",
       "    <tr>\n",
       "      <th>2</th>\n",
       "      <td>Добавить блоки рекомендаций товаров на сайт ин...</td>\n",
       "      <td>8</td>\n",
       "      <td>3</td>\n",
       "      <td>7</td>\n",
       "      <td>3</td>\n",
       "    </tr>\n",
       "    <tr>\n",
       "      <th>3</th>\n",
       "      <td>Изменить структура категорий, что увеличит кон...</td>\n",
       "      <td>8</td>\n",
       "      <td>3</td>\n",
       "      <td>3</td>\n",
       "      <td>8</td>\n",
       "    </tr>\n",
       "    <tr>\n",
       "      <th>4</th>\n",
       "      <td>Изменить цвет фона главной страницы, чтобы уве...</td>\n",
       "      <td>3</td>\n",
       "      <td>1</td>\n",
       "      <td>1</td>\n",
       "      <td>1</td>\n",
       "    </tr>\n",
       "    <tr>\n",
       "      <th>5</th>\n",
       "      <td>Добавить страницу отзывов клиентов о магазине,...</td>\n",
       "      <td>3</td>\n",
       "      <td>2</td>\n",
       "      <td>2</td>\n",
       "      <td>3</td>\n",
       "    </tr>\n",
       "    <tr>\n",
       "      <th>6</th>\n",
       "      <td>Показать на главной странице баннеры с актуаль...</td>\n",
       "      <td>5</td>\n",
       "      <td>3</td>\n",
       "      <td>8</td>\n",
       "      <td>3</td>\n",
       "    </tr>\n",
       "    <tr>\n",
       "      <th>7</th>\n",
       "      <td>Добавить форму подписки на все основные страни...</td>\n",
       "      <td>10</td>\n",
       "      <td>7</td>\n",
       "      <td>8</td>\n",
       "      <td>5</td>\n",
       "    </tr>\n",
       "    <tr>\n",
       "      <th>8</th>\n",
       "      <td>Запустить акцию, дающую скидку на товар в день...</td>\n",
       "      <td>1</td>\n",
       "      <td>9</td>\n",
       "      <td>9</td>\n",
       "      <td>5</td>\n",
       "    </tr>\n",
       "  </tbody>\n",
       "</table>\n",
       "</div>"
      ],
      "text/plain": [
       "                                          Hypothesis  Reach  Impact  \\\n",
       "0  Добавить два новых канала привлечения трафика,...      3      10   \n",
       "1  Запустить собственную службу доставки, что сок...      2       5   \n",
       "2  Добавить блоки рекомендаций товаров на сайт ин...      8       3   \n",
       "3  Изменить структура категорий, что увеличит кон...      8       3   \n",
       "4  Изменить цвет фона главной страницы, чтобы уве...      3       1   \n",
       "5  Добавить страницу отзывов клиентов о магазине,...      3       2   \n",
       "6  Показать на главной странице баннеры с актуаль...      5       3   \n",
       "7  Добавить форму подписки на все основные страни...     10       7   \n",
       "8  Запустить акцию, дающую скидку на товар в день...      1       9   \n",
       "\n",
       "   Confidence  Efforts  \n",
       "0           8        6  \n",
       "1           4       10  \n",
       "2           7        3  \n",
       "3           3        8  \n",
       "4           1        1  \n",
       "5           2        3  \n",
       "6           8        3  \n",
       "7           8        5  \n",
       "8           9        5  "
      ]
     },
     "execution_count": 3,
     "metadata": {},
     "output_type": "execute_result"
    }
   ],
   "source": [
    "data.head(10)"
   ]
  },
  {
   "cell_type": "code",
   "execution_count": 4,
   "metadata": {},
   "outputs": [
    {
     "name": "stdout",
     "output_type": "stream",
     "text": [
      "<class 'pandas.core.frame.DataFrame'>\n",
      "RangeIndex: 9 entries, 0 to 8\n",
      "Data columns (total 5 columns):\n",
      " #   Column      Non-Null Count  Dtype \n",
      "---  ------      --------------  ----- \n",
      " 0   Hypothesis  9 non-null      object\n",
      " 1   Reach       9 non-null      int64 \n",
      " 2   Impact      9 non-null      int64 \n",
      " 3   Confidence  9 non-null      int64 \n",
      " 4   Efforts     9 non-null      int64 \n",
      "dtypes: int64(4), object(1)\n",
      "memory usage: 488.0+ bytes\n"
     ]
    }
   ],
   "source": [
    "data.info()"
   ]
  },
  {
   "cell_type": "code",
   "execution_count": 5,
   "metadata": {},
   "outputs": [
    {
     "data": {
      "text/html": [
       "<div>\n",
       "<style scoped>\n",
       "    .dataframe tbody tr th:only-of-type {\n",
       "        vertical-align: middle;\n",
       "    }\n",
       "\n",
       "    .dataframe tbody tr th {\n",
       "        vertical-align: top;\n",
       "    }\n",
       "\n",
       "    .dataframe thead th {\n",
       "        text-align: right;\n",
       "    }\n",
       "</style>\n",
       "<table border=\"1\" class=\"dataframe\">\n",
       "  <thead>\n",
       "    <tr style=\"text-align: right;\">\n",
       "      <th></th>\n",
       "      <th>hypothesis</th>\n",
       "      <th>reach</th>\n",
       "      <th>impact</th>\n",
       "      <th>confidence</th>\n",
       "      <th>efforts</th>\n",
       "    </tr>\n",
       "  </thead>\n",
       "  <tbody>\n",
       "    <tr>\n",
       "      <th>0</th>\n",
       "      <td>Добавить два новых канала привлечения трафика, что позволит привлекать на 30% больше пользователей</td>\n",
       "      <td>3</td>\n",
       "      <td>10</td>\n",
       "      <td>8</td>\n",
       "      <td>6</td>\n",
       "    </tr>\n",
       "    <tr>\n",
       "      <th>1</th>\n",
       "      <td>Запустить собственную службу доставки, что сократит срок доставки заказов</td>\n",
       "      <td>2</td>\n",
       "      <td>5</td>\n",
       "      <td>4</td>\n",
       "      <td>10</td>\n",
       "    </tr>\n",
       "    <tr>\n",
       "      <th>2</th>\n",
       "      <td>Добавить блоки рекомендаций товаров на сайт интернет магазина, чтобы повысить конверсию и средний чек заказа</td>\n",
       "      <td>8</td>\n",
       "      <td>3</td>\n",
       "      <td>7</td>\n",
       "      <td>3</td>\n",
       "    </tr>\n",
       "    <tr>\n",
       "      <th>3</th>\n",
       "      <td>Изменить структура категорий, что увеличит конверсию, т.к. пользователи быстрее найдут нужный товар</td>\n",
       "      <td>8</td>\n",
       "      <td>3</td>\n",
       "      <td>3</td>\n",
       "      <td>8</td>\n",
       "    </tr>\n",
       "    <tr>\n",
       "      <th>4</th>\n",
       "      <td>Изменить цвет фона главной страницы, чтобы увеличить вовлеченность пользователей</td>\n",
       "      <td>3</td>\n",
       "      <td>1</td>\n",
       "      <td>1</td>\n",
       "      <td>1</td>\n",
       "    </tr>\n",
       "    <tr>\n",
       "      <th>5</th>\n",
       "      <td>Добавить страницу отзывов клиентов о магазине, что позволит увеличить количество заказов</td>\n",
       "      <td>3</td>\n",
       "      <td>2</td>\n",
       "      <td>2</td>\n",
       "      <td>3</td>\n",
       "    </tr>\n",
       "    <tr>\n",
       "      <th>6</th>\n",
       "      <td>Показать на главной странице баннеры с актуальными акциями и распродажами, чтобы увеличить конверсию</td>\n",
       "      <td>5</td>\n",
       "      <td>3</td>\n",
       "      <td>8</td>\n",
       "      <td>3</td>\n",
       "    </tr>\n",
       "    <tr>\n",
       "      <th>7</th>\n",
       "      <td>Добавить форму подписки на все основные страницы, чтобы собрать базу клиентов для email-рассылок</td>\n",
       "      <td>10</td>\n",
       "      <td>7</td>\n",
       "      <td>8</td>\n",
       "      <td>5</td>\n",
       "    </tr>\n",
       "    <tr>\n",
       "      <th>8</th>\n",
       "      <td>Запустить акцию, дающую скидку на товар в день рождения</td>\n",
       "      <td>1</td>\n",
       "      <td>9</td>\n",
       "      <td>9</td>\n",
       "      <td>5</td>\n",
       "    </tr>\n",
       "  </tbody>\n",
       "</table>\n",
       "</div>"
      ],
      "text/plain": [
       "                                                                                                     hypothesis  \\\n",
       "0  Добавить два новых канала привлечения трафика, что позволит привлекать на 30% больше пользователей             \n",
       "1  Запустить собственную службу доставки, что сократит срок доставки заказов                                      \n",
       "2  Добавить блоки рекомендаций товаров на сайт интернет магазина, чтобы повысить конверсию и средний чек заказа   \n",
       "3  Изменить структура категорий, что увеличит конверсию, т.к. пользователи быстрее найдут нужный товар            \n",
       "4  Изменить цвет фона главной страницы, чтобы увеличить вовлеченность пользователей                               \n",
       "5  Добавить страницу отзывов клиентов о магазине, что позволит увеличить количество заказов                       \n",
       "6  Показать на главной странице баннеры с актуальными акциями и распродажами, чтобы увеличить конверсию           \n",
       "7  Добавить форму подписки на все основные страницы, чтобы собрать базу клиентов для email-рассылок               \n",
       "8  Запустить акцию, дающую скидку на товар в день рождения                                                        \n",
       "\n",
       "   reach  impact  confidence  efforts  \n",
       "0  3      10      8           6        \n",
       "1  2      5       4           10       \n",
       "2  8      3       7           3        \n",
       "3  8      3       3           8        \n",
       "4  3      1       1           1        \n",
       "5  3      2       2           3        \n",
       "6  5      3       8           3        \n",
       "7  10     7       8           5        \n",
       "8  1      9       9           5        "
      ]
     },
     "execution_count": 5,
     "metadata": {},
     "output_type": "execute_result"
    }
   ],
   "source": [
    "data.columns = map(str.lower, data.columns)\n",
    "pd.set_option('display.max_colwidth',0)\n",
    "data"
   ]
  },
  {
   "cell_type": "markdown",
   "metadata": {},
   "source": [
    "_В ходе подготовки данных к анализу, для удобства,я привела названия столбцов у датафрейма data к нижнему регистру_"
   ]
  },
  {
   "cell_type": "code",
   "execution_count": 6,
   "metadata": {},
   "outputs": [
    {
     "data": {
      "text/html": [
       "<div>\n",
       "<style scoped>\n",
       "    .dataframe tbody tr th:only-of-type {\n",
       "        vertical-align: middle;\n",
       "    }\n",
       "\n",
       "    .dataframe tbody tr th {\n",
       "        vertical-align: top;\n",
       "    }\n",
       "\n",
       "    .dataframe thead th {\n",
       "        text-align: right;\n",
       "    }\n",
       "</style>\n",
       "<table border=\"1\" class=\"dataframe\">\n",
       "  <thead>\n",
       "    <tr style=\"text-align: right;\">\n",
       "      <th></th>\n",
       "      <th>hypothesis</th>\n",
       "      <th>ICE</th>\n",
       "    </tr>\n",
       "  </thead>\n",
       "  <tbody>\n",
       "    <tr>\n",
       "      <th>8</th>\n",
       "      <td>Запустить акцию, дающую скидку на товар в день рождения</td>\n",
       "      <td>16.2</td>\n",
       "    </tr>\n",
       "    <tr>\n",
       "      <th>0</th>\n",
       "      <td>Добавить два новых канала привлечения трафика, что позволит привлекать на 30% больше пользователей</td>\n",
       "      <td>13.3</td>\n",
       "    </tr>\n",
       "    <tr>\n",
       "      <th>7</th>\n",
       "      <td>Добавить форму подписки на все основные страницы, чтобы собрать базу клиентов для email-рассылок</td>\n",
       "      <td>11.2</td>\n",
       "    </tr>\n",
       "    <tr>\n",
       "      <th>6</th>\n",
       "      <td>Показать на главной странице баннеры с актуальными акциями и распродажами, чтобы увеличить конверсию</td>\n",
       "      <td>8.0</td>\n",
       "    </tr>\n",
       "    <tr>\n",
       "      <th>2</th>\n",
       "      <td>Добавить блоки рекомендаций товаров на сайт интернет магазина, чтобы повысить конверсию и средний чек заказа</td>\n",
       "      <td>7.0</td>\n",
       "    </tr>\n",
       "    <tr>\n",
       "      <th>1</th>\n",
       "      <td>Запустить собственную службу доставки, что сократит срок доставки заказов</td>\n",
       "      <td>2.0</td>\n",
       "    </tr>\n",
       "    <tr>\n",
       "      <th>5</th>\n",
       "      <td>Добавить страницу отзывов клиентов о магазине, что позволит увеличить количество заказов</td>\n",
       "      <td>1.3</td>\n",
       "    </tr>\n",
       "    <tr>\n",
       "      <th>3</th>\n",
       "      <td>Изменить структура категорий, что увеличит конверсию, т.к. пользователи быстрее найдут нужный товар</td>\n",
       "      <td>1.1</td>\n",
       "    </tr>\n",
       "    <tr>\n",
       "      <th>4</th>\n",
       "      <td>Изменить цвет фона главной страницы, чтобы увеличить вовлеченность пользователей</td>\n",
       "      <td>1.0</td>\n",
       "    </tr>\n",
       "  </tbody>\n",
       "</table>\n",
       "</div>"
      ],
      "text/plain": [
       "                                                                                                     hypothesis  \\\n",
       "8  Запустить акцию, дающую скидку на товар в день рождения                                                        \n",
       "0  Добавить два новых канала привлечения трафика, что позволит привлекать на 30% больше пользователей             \n",
       "7  Добавить форму подписки на все основные страницы, чтобы собрать базу клиентов для email-рассылок               \n",
       "6  Показать на главной странице баннеры с актуальными акциями и распродажами, чтобы увеличить конверсию           \n",
       "2  Добавить блоки рекомендаций товаров на сайт интернет магазина, чтобы повысить конверсию и средний чек заказа   \n",
       "1  Запустить собственную службу доставки, что сократит срок доставки заказов                                      \n",
       "5  Добавить страницу отзывов клиентов о магазине, что позволит увеличить количество заказов                       \n",
       "3  Изменить структура категорий, что увеличит конверсию, т.к. пользователи быстрее найдут нужный товар            \n",
       "4  Изменить цвет фона главной страницы, чтобы увеличить вовлеченность пользователей                               \n",
       "\n",
       "    ICE  \n",
       "8  16.2  \n",
       "0  13.3  \n",
       "7  11.2  \n",
       "6  8.0   \n",
       "2  7.0   \n",
       "1  2.0   \n",
       "5  1.3   \n",
       "3  1.1   \n",
       "4  1.0   "
      ]
     },
     "execution_count": 6,
     "metadata": {},
     "output_type": "execute_result"
    }
   ],
   "source": [
    "data['ICE']=round(data['impact']*data['confidence']/data['efforts'],1)\n",
    "data[['hypothesis','ICE']].sort_values(by='ICE',ascending=False)"
   ]
  },
  {
   "cell_type": "code",
   "execution_count": 7,
   "metadata": {},
   "outputs": [
    {
     "data": {
      "text/html": [
       "<div>\n",
       "<style scoped>\n",
       "    .dataframe tbody tr th:only-of-type {\n",
       "        vertical-align: middle;\n",
       "    }\n",
       "\n",
       "    .dataframe tbody tr th {\n",
       "        vertical-align: top;\n",
       "    }\n",
       "\n",
       "    .dataframe thead th {\n",
       "        text-align: right;\n",
       "    }\n",
       "</style>\n",
       "<table border=\"1\" class=\"dataframe\">\n",
       "  <thead>\n",
       "    <tr style=\"text-align: right;\">\n",
       "      <th></th>\n",
       "      <th>hypothesis</th>\n",
       "      <th>RICE</th>\n",
       "      <th>ICE</th>\n",
       "    </tr>\n",
       "  </thead>\n",
       "  <tbody>\n",
       "    <tr>\n",
       "      <th>7</th>\n",
       "      <td>Добавить форму подписки на все основные страницы, чтобы собрать базу клиентов для email-рассылок</td>\n",
       "      <td>112.0</td>\n",
       "      <td>11.2</td>\n",
       "    </tr>\n",
       "    <tr>\n",
       "      <th>2</th>\n",
       "      <td>Добавить блоки рекомендаций товаров на сайт интернет магазина, чтобы повысить конверсию и средний чек заказа</td>\n",
       "      <td>56.0</td>\n",
       "      <td>7.0</td>\n",
       "    </tr>\n",
       "    <tr>\n",
       "      <th>0</th>\n",
       "      <td>Добавить два новых канала привлечения трафика, что позволит привлекать на 30% больше пользователей</td>\n",
       "      <td>40.0</td>\n",
       "      <td>13.3</td>\n",
       "    </tr>\n",
       "    <tr>\n",
       "      <th>6</th>\n",
       "      <td>Показать на главной странице баннеры с актуальными акциями и распродажами, чтобы увеличить конверсию</td>\n",
       "      <td>40.0</td>\n",
       "      <td>8.0</td>\n",
       "    </tr>\n",
       "    <tr>\n",
       "      <th>8</th>\n",
       "      <td>Запустить акцию, дающую скидку на товар в день рождения</td>\n",
       "      <td>16.2</td>\n",
       "      <td>16.2</td>\n",
       "    </tr>\n",
       "    <tr>\n",
       "      <th>3</th>\n",
       "      <td>Изменить структура категорий, что увеличит конверсию, т.к. пользователи быстрее найдут нужный товар</td>\n",
       "      <td>9.0</td>\n",
       "      <td>1.1</td>\n",
       "    </tr>\n",
       "    <tr>\n",
       "      <th>1</th>\n",
       "      <td>Запустить собственную службу доставки, что сократит срок доставки заказов</td>\n",
       "      <td>4.0</td>\n",
       "      <td>2.0</td>\n",
       "    </tr>\n",
       "    <tr>\n",
       "      <th>5</th>\n",
       "      <td>Добавить страницу отзывов клиентов о магазине, что позволит увеличить количество заказов</td>\n",
       "      <td>4.0</td>\n",
       "      <td>1.3</td>\n",
       "    </tr>\n",
       "    <tr>\n",
       "      <th>4</th>\n",
       "      <td>Изменить цвет фона главной страницы, чтобы увеличить вовлеченность пользователей</td>\n",
       "      <td>3.0</td>\n",
       "      <td>1.0</td>\n",
       "    </tr>\n",
       "  </tbody>\n",
       "</table>\n",
       "</div>"
      ],
      "text/plain": [
       "                                                                                                     hypothesis  \\\n",
       "7  Добавить форму подписки на все основные страницы, чтобы собрать базу клиентов для email-рассылок               \n",
       "2  Добавить блоки рекомендаций товаров на сайт интернет магазина, чтобы повысить конверсию и средний чек заказа   \n",
       "0  Добавить два новых канала привлечения трафика, что позволит привлекать на 30% больше пользователей             \n",
       "6  Показать на главной странице баннеры с актуальными акциями и распродажами, чтобы увеличить конверсию           \n",
       "8  Запустить акцию, дающую скидку на товар в день рождения                                                        \n",
       "3  Изменить структура категорий, что увеличит конверсию, т.к. пользователи быстрее найдут нужный товар            \n",
       "1  Запустить собственную службу доставки, что сократит срок доставки заказов                                      \n",
       "5  Добавить страницу отзывов клиентов о магазине, что позволит увеличить количество заказов                       \n",
       "4  Изменить цвет фона главной страницы, чтобы увеличить вовлеченность пользователей                               \n",
       "\n",
       "    RICE   ICE  \n",
       "7  112.0  11.2  \n",
       "2  56.0   7.0   \n",
       "0  40.0   13.3  \n",
       "6  40.0   8.0   \n",
       "8  16.2   16.2  \n",
       "3  9.0    1.1   \n",
       "1  4.0    2.0   \n",
       "5  4.0    1.3   \n",
       "4  3.0    1.0   "
      ]
     },
     "execution_count": 7,
     "metadata": {},
     "output_type": "execute_result"
    }
   ],
   "source": [
    "data['RICE']=data['reach']*data['impact']*data['confidence']/data['efforts']\n",
    "data[['hypothesis','RICE','ICE']].sort_values(by=['RICE','ICE'],ascending=False)"
   ]
  },
  {
   "cell_type": "markdown",
   "metadata": {},
   "source": [
    "__Вывод:Применив фреймворк ICE для проверки гипотез, наиболее перспективными показали себя 8,0,7,6 и 2 гипотезы. Затем , применив фреймворк RICE(который учитывает так же охват пользователей) вперед вышли те же 5 гипотез ,но наиболее перспективными оказались 7 и 2 гипотезы-судя по всему из-за того , что их охват пользователей больше , чем у других 3 лидирующих гипотез__"
   ]
  },
  {
   "cell_type": "markdown",
   "metadata": {},
   "source": [
    "___Часть 2. Анализ A/B-теста___   \n",
    "___Вы провели A/B-тест и получили результаты, которые описаны в файлах /datasets/orders.csv и /datasets/visitors.csv.___  "
   ]
  },
  {
   "cell_type": "code",
   "execution_count": 8,
   "metadata": {},
   "outputs": [],
   "source": [
    "import datetime as dt\n",
    "import numpy as np\n",
    "import scipy.stats as stats\n",
    "import matplotlib.pyplot as plt\n",
    "from pandas.plotting import register_matplotlib_converters\n",
    "import warnings\n",
    "register_matplotlib_converters()\n"
   ]
  },
  {
   "cell_type": "code",
   "execution_count": 9,
   "metadata": {},
   "outputs": [
    {
     "data": {
      "text/html": [
       "<div>\n",
       "<style scoped>\n",
       "    .dataframe tbody tr th:only-of-type {\n",
       "        vertical-align: middle;\n",
       "    }\n",
       "\n",
       "    .dataframe tbody tr th {\n",
       "        vertical-align: top;\n",
       "    }\n",
       "\n",
       "    .dataframe thead th {\n",
       "        text-align: right;\n",
       "    }\n",
       "</style>\n",
       "<table border=\"1\" class=\"dataframe\">\n",
       "  <thead>\n",
       "    <tr style=\"text-align: right;\">\n",
       "      <th></th>\n",
       "      <th>transactionId</th>\n",
       "      <th>visitorId</th>\n",
       "      <th>date</th>\n",
       "      <th>revenue</th>\n",
       "      <th>group</th>\n",
       "    </tr>\n",
       "  </thead>\n",
       "  <tbody>\n",
       "    <tr>\n",
       "      <th>0</th>\n",
       "      <td>3667963787</td>\n",
       "      <td>3312258926</td>\n",
       "      <td>2019-08-15</td>\n",
       "      <td>1650</td>\n",
       "      <td>B</td>\n",
       "    </tr>\n",
       "    <tr>\n",
       "      <th>1</th>\n",
       "      <td>2804400009</td>\n",
       "      <td>3642806036</td>\n",
       "      <td>2019-08-15</td>\n",
       "      <td>730</td>\n",
       "      <td>B</td>\n",
       "    </tr>\n",
       "    <tr>\n",
       "      <th>2</th>\n",
       "      <td>2961555356</td>\n",
       "      <td>4069496402</td>\n",
       "      <td>2019-08-15</td>\n",
       "      <td>400</td>\n",
       "      <td>A</td>\n",
       "    </tr>\n",
       "    <tr>\n",
       "      <th>3</th>\n",
       "      <td>3797467345</td>\n",
       "      <td>1196621759</td>\n",
       "      <td>2019-08-15</td>\n",
       "      <td>9759</td>\n",
       "      <td>B</td>\n",
       "    </tr>\n",
       "    <tr>\n",
       "      <th>4</th>\n",
       "      <td>2282983706</td>\n",
       "      <td>2322279887</td>\n",
       "      <td>2019-08-15</td>\n",
       "      <td>2308</td>\n",
       "      <td>B</td>\n",
       "    </tr>\n",
       "    <tr>\n",
       "      <th>...</th>\n",
       "      <td>...</td>\n",
       "      <td>...</td>\n",
       "      <td>...</td>\n",
       "      <td>...</td>\n",
       "      <td>...</td>\n",
       "    </tr>\n",
       "    <tr>\n",
       "      <th>1192</th>\n",
       "      <td>2662137336</td>\n",
       "      <td>3733762160</td>\n",
       "      <td>2019-08-14</td>\n",
       "      <td>6490</td>\n",
       "      <td>B</td>\n",
       "    </tr>\n",
       "    <tr>\n",
       "      <th>1193</th>\n",
       "      <td>2203539145</td>\n",
       "      <td>370388673</td>\n",
       "      <td>2019-08-14</td>\n",
       "      <td>3190</td>\n",
       "      <td>A</td>\n",
       "    </tr>\n",
       "    <tr>\n",
       "      <th>1194</th>\n",
       "      <td>1807773912</td>\n",
       "      <td>573423106</td>\n",
       "      <td>2019-08-14</td>\n",
       "      <td>10550</td>\n",
       "      <td>A</td>\n",
       "    </tr>\n",
       "    <tr>\n",
       "      <th>1195</th>\n",
       "      <td>1947021204</td>\n",
       "      <td>1614305549</td>\n",
       "      <td>2019-08-14</td>\n",
       "      <td>100</td>\n",
       "      <td>A</td>\n",
       "    </tr>\n",
       "    <tr>\n",
       "      <th>1196</th>\n",
       "      <td>3936777065</td>\n",
       "      <td>2108080724</td>\n",
       "      <td>2019-08-15</td>\n",
       "      <td>202740</td>\n",
       "      <td>B</td>\n",
       "    </tr>\n",
       "  </tbody>\n",
       "</table>\n",
       "<p>1197 rows × 5 columns</p>\n",
       "</div>"
      ],
      "text/plain": [
       "      transactionId   visitorId        date  revenue group\n",
       "0     3667963787     3312258926  2019-08-15  1650     B   \n",
       "1     2804400009     3642806036  2019-08-15  730      B   \n",
       "2     2961555356     4069496402  2019-08-15  400      A   \n",
       "3     3797467345     1196621759  2019-08-15  9759     B   \n",
       "4     2282983706     2322279887  2019-08-15  2308     B   \n",
       "...          ...            ...         ...   ...    ..   \n",
       "1192  2662137336     3733762160  2019-08-14  6490     B   \n",
       "1193  2203539145     370388673   2019-08-14  3190     A   \n",
       "1194  1807773912     573423106   2019-08-14  10550    A   \n",
       "1195  1947021204     1614305549  2019-08-14  100      A   \n",
       "1196  3936777065     2108080724  2019-08-15  202740   B   \n",
       "\n",
       "[1197 rows x 5 columns]"
      ]
     },
     "execution_count": 9,
     "metadata": {},
     "output_type": "execute_result"
    }
   ],
   "source": [
    "orders=pd.read_csv('/datasets/orders.csv')\n",
    "orders"
   ]
  },
  {
   "cell_type": "code",
   "execution_count": 10,
   "metadata": {},
   "outputs": [
    {
     "name": "stdout",
     "output_type": "stream",
     "text": [
      "<class 'pandas.core.frame.DataFrame'>\n",
      "RangeIndex: 1197 entries, 0 to 1196\n",
      "Data columns (total 5 columns):\n",
      " #   Column         Non-Null Count  Dtype \n",
      "---  ------         --------------  ----- \n",
      " 0   transactionId  1197 non-null   int64 \n",
      " 1   visitorId      1197 non-null   int64 \n",
      " 2   date           1197 non-null   object\n",
      " 3   revenue        1197 non-null   int64 \n",
      " 4   group          1197 non-null   object\n",
      "dtypes: int64(3), object(2)\n",
      "memory usage: 46.9+ KB\n"
     ]
    }
   ],
   "source": [
    "orders.info()"
   ]
  },
  {
   "cell_type": "code",
   "execution_count": 11,
   "metadata": {},
   "outputs": [
    {
     "data": {
      "text/html": [
       "<div>\n",
       "<style scoped>\n",
       "    .dataframe tbody tr th:only-of-type {\n",
       "        vertical-align: middle;\n",
       "    }\n",
       "\n",
       "    .dataframe tbody tr th {\n",
       "        vertical-align: top;\n",
       "    }\n",
       "\n",
       "    .dataframe thead th {\n",
       "        text-align: right;\n",
       "    }\n",
       "</style>\n",
       "<table border=\"1\" class=\"dataframe\">\n",
       "  <thead>\n",
       "    <tr style=\"text-align: right;\">\n",
       "      <th></th>\n",
       "      <th>transaction_id</th>\n",
       "      <th>visitor_id</th>\n",
       "      <th>date</th>\n",
       "      <th>revenue</th>\n",
       "      <th>group</th>\n",
       "    </tr>\n",
       "  </thead>\n",
       "  <tbody>\n",
       "    <tr>\n",
       "      <th>0</th>\n",
       "      <td>3667963787</td>\n",
       "      <td>3312258926</td>\n",
       "      <td>2019-08-15</td>\n",
       "      <td>1650</td>\n",
       "      <td>B</td>\n",
       "    </tr>\n",
       "    <tr>\n",
       "      <th>1</th>\n",
       "      <td>2804400009</td>\n",
       "      <td>3642806036</td>\n",
       "      <td>2019-08-15</td>\n",
       "      <td>730</td>\n",
       "      <td>B</td>\n",
       "    </tr>\n",
       "    <tr>\n",
       "      <th>2</th>\n",
       "      <td>2961555356</td>\n",
       "      <td>4069496402</td>\n",
       "      <td>2019-08-15</td>\n",
       "      <td>400</td>\n",
       "      <td>A</td>\n",
       "    </tr>\n",
       "    <tr>\n",
       "      <th>3</th>\n",
       "      <td>3797467345</td>\n",
       "      <td>1196621759</td>\n",
       "      <td>2019-08-15</td>\n",
       "      <td>9759</td>\n",
       "      <td>B</td>\n",
       "    </tr>\n",
       "    <tr>\n",
       "      <th>4</th>\n",
       "      <td>2282983706</td>\n",
       "      <td>2322279887</td>\n",
       "      <td>2019-08-15</td>\n",
       "      <td>2308</td>\n",
       "      <td>B</td>\n",
       "    </tr>\n",
       "  </tbody>\n",
       "</table>\n",
       "</div>"
      ],
      "text/plain": [
       "   transaction_id  visitor_id       date  revenue group\n",
       "0  3667963787      3312258926 2019-08-15  1650     B   \n",
       "1  2804400009      3642806036 2019-08-15  730      B   \n",
       "2  2961555356      4069496402 2019-08-15  400      A   \n",
       "3  3797467345      1196621759 2019-08-15  9759     B   \n",
       "4  2282983706      2322279887 2019-08-15  2308     B   "
      ]
     },
     "execution_count": 11,
     "metadata": {},
     "output_type": "execute_result"
    }
   ],
   "source": [
    "orders=orders.rename(columns={'transactionId':'transaction_id','visitorId':'visitor_id'})\n",
    "orders['date'] = orders['date'].map(\n",
    "    lambda x: dt.datetime.strptime(x, '%Y-%m-%d')\n",
    ")\n",
    "\n",
    "orders.head(5)"
   ]
  },
  {
   "cell_type": "code",
   "execution_count": 12,
   "metadata": {},
   "outputs": [
    {
     "name": "stdout",
     "output_type": "stream",
     "text": [
      "<class 'pandas.core.frame.DataFrame'>\n",
      "RangeIndex: 1197 entries, 0 to 1196\n",
      "Data columns (total 5 columns):\n",
      " #   Column          Non-Null Count  Dtype         \n",
      "---  ------          --------------  -----         \n",
      " 0   transaction_id  1197 non-null   int64         \n",
      " 1   visitor_id      1197 non-null   int64         \n",
      " 2   date            1197 non-null   datetime64[ns]\n",
      " 3   revenue         1197 non-null   int64         \n",
      " 4   group           1197 non-null   object        \n",
      "dtypes: datetime64[ns](1), int64(3), object(1)\n",
      "memory usage: 46.9+ KB\n"
     ]
    },
    {
     "data": {
      "text/plain": [
       "Timestamp('2019-08-31 00:00:00')"
      ]
     },
     "execution_count": 12,
     "metadata": {},
     "output_type": "execute_result"
    }
   ],
   "source": [
    "orders.info()\n",
    "orders['date'].min()\n",
    "orders['date'].max()"
   ]
  },
  {
   "cell_type": "code",
   "execution_count": 13,
   "metadata": {},
   "outputs": [
    {
     "data": {
      "text/plain": [
       "0"
      ]
     },
     "execution_count": 13,
     "metadata": {},
     "output_type": "execute_result"
    }
   ],
   "source": [
    "orders.duplicated().sum()"
   ]
  },
  {
   "cell_type": "code",
   "execution_count": 14,
   "metadata": {},
   "outputs": [
    {
     "data": {
      "text/html": [
       "<div>\n",
       "<style scoped>\n",
       "    .dataframe tbody tr th:only-of-type {\n",
       "        vertical-align: middle;\n",
       "    }\n",
       "\n",
       "    .dataframe tbody tr th {\n",
       "        vertical-align: top;\n",
       "    }\n",
       "\n",
       "    .dataframe thead th {\n",
       "        text-align: right;\n",
       "    }\n",
       "</style>\n",
       "<table border=\"1\" class=\"dataframe\">\n",
       "  <thead>\n",
       "    <tr style=\"text-align: right;\">\n",
       "      <th></th>\n",
       "      <th>date</th>\n",
       "      <th>group</th>\n",
       "      <th>visitors</th>\n",
       "    </tr>\n",
       "  </thead>\n",
       "  <tbody>\n",
       "    <tr>\n",
       "      <th>0</th>\n",
       "      <td>2019-08-01</td>\n",
       "      <td>A</td>\n",
       "      <td>719</td>\n",
       "    </tr>\n",
       "    <tr>\n",
       "      <th>1</th>\n",
       "      <td>2019-08-02</td>\n",
       "      <td>A</td>\n",
       "      <td>619</td>\n",
       "    </tr>\n",
       "    <tr>\n",
       "      <th>2</th>\n",
       "      <td>2019-08-03</td>\n",
       "      <td>A</td>\n",
       "      <td>507</td>\n",
       "    </tr>\n",
       "    <tr>\n",
       "      <th>3</th>\n",
       "      <td>2019-08-04</td>\n",
       "      <td>A</td>\n",
       "      <td>717</td>\n",
       "    </tr>\n",
       "    <tr>\n",
       "      <th>4</th>\n",
       "      <td>2019-08-05</td>\n",
       "      <td>A</td>\n",
       "      <td>756</td>\n",
       "    </tr>\n",
       "    <tr>\n",
       "      <th>...</th>\n",
       "      <td>...</td>\n",
       "      <td>...</td>\n",
       "      <td>...</td>\n",
       "    </tr>\n",
       "    <tr>\n",
       "      <th>57</th>\n",
       "      <td>2019-08-27</td>\n",
       "      <td>B</td>\n",
       "      <td>720</td>\n",
       "    </tr>\n",
       "    <tr>\n",
       "      <th>58</th>\n",
       "      <td>2019-08-28</td>\n",
       "      <td>B</td>\n",
       "      <td>654</td>\n",
       "    </tr>\n",
       "    <tr>\n",
       "      <th>59</th>\n",
       "      <td>2019-08-29</td>\n",
       "      <td>B</td>\n",
       "      <td>531</td>\n",
       "    </tr>\n",
       "    <tr>\n",
       "      <th>60</th>\n",
       "      <td>2019-08-30</td>\n",
       "      <td>B</td>\n",
       "      <td>490</td>\n",
       "    </tr>\n",
       "    <tr>\n",
       "      <th>61</th>\n",
       "      <td>2019-08-31</td>\n",
       "      <td>B</td>\n",
       "      <td>718</td>\n",
       "    </tr>\n",
       "  </tbody>\n",
       "</table>\n",
       "<p>62 rows × 3 columns</p>\n",
       "</div>"
      ],
      "text/plain": [
       "          date group  visitors\n",
       "0   2019-08-01  A     719     \n",
       "1   2019-08-02  A     619     \n",
       "2   2019-08-03  A     507     \n",
       "3   2019-08-04  A     717     \n",
       "4   2019-08-05  A     756     \n",
       "..         ... ..     ...     \n",
       "57  2019-08-27  B     720     \n",
       "58  2019-08-28  B     654     \n",
       "59  2019-08-29  B     531     \n",
       "60  2019-08-30  B     490     \n",
       "61  2019-08-31  B     718     \n",
       "\n",
       "[62 rows x 3 columns]"
      ]
     },
     "execution_count": 14,
     "metadata": {},
     "output_type": "execute_result"
    }
   ],
   "source": [
    "visitors=pd.read_csv('/datasets/visitors.csv')\n",
    "visitors"
   ]
  },
  {
   "cell_type": "code",
   "execution_count": 15,
   "metadata": {},
   "outputs": [
    {
     "name": "stdout",
     "output_type": "stream",
     "text": [
      "<class 'pandas.core.frame.DataFrame'>\n",
      "RangeIndex: 62 entries, 0 to 61\n",
      "Data columns (total 3 columns):\n",
      " #   Column    Non-Null Count  Dtype \n",
      "---  ------    --------------  ----- \n",
      " 0   date      62 non-null     object\n",
      " 1   group     62 non-null     object\n",
      " 2   visitors  62 non-null     int64 \n",
      "dtypes: int64(1), object(2)\n",
      "memory usage: 1.6+ KB\n"
     ]
    }
   ],
   "source": [
    "visitors.info()"
   ]
  },
  {
   "cell_type": "code",
   "execution_count": 16,
   "metadata": {},
   "outputs": [],
   "source": [
    "visitors['date'] = visitors['date'].map(\n",
    "    lambda x: dt.datetime.strptime(x, '%Y-%m-%d')\n",
    ")"
   ]
  },
  {
   "cell_type": "code",
   "execution_count": 17,
   "metadata": {},
   "outputs": [
    {
     "name": "stdout",
     "output_type": "stream",
     "text": [
      "<class 'pandas.core.frame.DataFrame'>\n",
      "RangeIndex: 62 entries, 0 to 61\n",
      "Data columns (total 3 columns):\n",
      " #   Column    Non-Null Count  Dtype         \n",
      "---  ------    --------------  -----         \n",
      " 0   date      62 non-null     datetime64[ns]\n",
      " 1   group     62 non-null     object        \n",
      " 2   visitors  62 non-null     int64         \n",
      "dtypes: datetime64[ns](1), int64(1), object(1)\n",
      "memory usage: 1.6+ KB\n"
     ]
    },
    {
     "data": {
      "text/plain": [
       "Timestamp('2019-08-31 00:00:00')"
      ]
     },
     "execution_count": 17,
     "metadata": {},
     "output_type": "execute_result"
    }
   ],
   "source": [
    "visitors.info()\n",
    "visitors['date'].min()\n",
    "visitors['date'].max()"
   ]
  },
  {
   "cell_type": "code",
   "execution_count": 18,
   "metadata": {},
   "outputs": [
    {
     "data": {
      "text/plain": [
       "0"
      ]
     },
     "execution_count": 18,
     "metadata": {},
     "output_type": "execute_result"
    }
   ],
   "source": [
    "visitors.duplicated().sum()"
   ]
  },
  {
   "cell_type": "markdown",
   "metadata": {},
   "source": [
    "_В ходе подготовки данных к анализу , привела столбцы date к типу datetime, названия колонок к нижнему регистру ,посмотрела минимальную и максимальную дату ,имеющуюся в данных . Пропусков и дупликатов в данных нет._  "
   ]
  },
  {
   "cell_type": "code",
   "execution_count": 19,
   "metadata": {},
   "outputs": [
    {
     "name": "stdout",
     "output_type": "stream",
     "text": [
      "<class 'pandas.core.frame.DataFrame'>\n",
      "Int64Index: 1197 entries, 0 to 1196\n",
      "Data columns (total 2 columns):\n",
      " #   Column          Non-Null Count  Dtype\n",
      "---  ------          --------------  -----\n",
      " 0   visitor_id      1197 non-null   int64\n",
      " 1   transaction_id  1197 non-null   int64\n",
      "dtypes: int64(2)\n",
      "memory usage: 28.1 KB\n"
     ]
    }
   ],
   "source": [
    "unique_orders=orders[['visitor_id','transaction_id']].drop_duplicates()\n",
    "unique_orders.info()"
   ]
  },
  {
   "cell_type": "code",
   "execution_count": 20,
   "metadata": {},
   "outputs": [
    {
     "data": {
      "text/plain": [
       "1031"
      ]
     },
     "execution_count": 20,
     "metadata": {},
     "output_type": "execute_result"
    }
   ],
   "source": [
    "orders['visitor_id'].nunique()"
   ]
  },
  {
   "cell_type": "code",
   "execution_count": 21,
   "metadata": {},
   "outputs": [
    {
     "data": {
      "text/plain": [
       "1197"
      ]
     },
     "execution_count": 21,
     "metadata": {},
     "output_type": "execute_result"
    }
   ],
   "source": [
    "orders['transaction_id'].nunique()"
   ]
  },
  {
   "cell_type": "code",
   "execution_count": 22,
   "metadata": {},
   "outputs": [
    {
     "data": {
      "text/plain": [
       "group    58\n",
       "dtype: int64"
      ]
     },
     "execution_count": 22,
     "metadata": {},
     "output_type": "execute_result"
    }
   ],
   "source": [
    "#считаем сколько уникальных пользователей присутствуют в обеих группах\n",
    "orders.groupby('visitor_id').agg({'group':'nunique'}).query('group>1').count()\n"
   ]
  },
  {
   "cell_type": "code",
   "execution_count": 23,
   "metadata": {},
   "outputs": [
    {
     "data": {
      "text/plain": [
       "array([   8300375,  199603092,  232979603,  237748145,  276558944,\n",
       "        351125977,  393266494,  457167155,  471551937,  477780734,\n",
       "        818047933,  963407295, 1230306981, 1294878855, 1316129916,\n",
       "       1333886533, 1404934699, 1602967004, 1614305549, 1648269707,\n",
       "       1668030113, 1738359350, 1801183820, 1959144690, 2038680547,\n",
       "       2044997962, 2378935119, 2458001652, 2579882178, 2587333274,\n",
       "       2600415354, 2654030115, 2686716486, 2712142231, 2716752286,\n",
       "       2780786433, 2927087541, 2949041841, 2954449915, 3062433592,\n",
       "       3202540741, 3234906277, 3656415546, 3717692402, 3766097110,\n",
       "       3803269165, 3891541246, 3941795274, 3951559397, 3957174400,\n",
       "       3963646447, 3972127743, 3984495233, 4069496402, 4120364173,\n",
       "       4186807279, 4256040402, 4266935830])"
      ]
     },
     "execution_count": 23,
     "metadata": {},
     "output_type": "execute_result"
    }
   ],
   "source": [
    "#создаем список, в которую входят id пользователей , присутствующих в обеих группах\n",
    "duplicated_users = orders.groupby('visitor_id').agg({'group' : 'nunique'}).reset_index().query('group>1')['visitor_id'].unique()\n",
    "duplicated_users"
   ]
  },
  {
   "cell_type": "code",
   "execution_count": 24,
   "metadata": {},
   "outputs": [
    {
     "name": "stdout",
     "output_type": "stream",
     "text": [
      "<class 'pandas.core.frame.DataFrame'>\n",
      "Int64Index: 1016 entries, 0 to 1196\n",
      "Data columns (total 5 columns):\n",
      " #   Column          Non-Null Count  Dtype         \n",
      "---  ------          --------------  -----         \n",
      " 0   transaction_id  1016 non-null   int64         \n",
      " 1   visitor_id      1016 non-null   int64         \n",
      " 2   date            1016 non-null   datetime64[ns]\n",
      " 3   revenue         1016 non-null   int64         \n",
      " 4   group           1016 non-null   object        \n",
      "dtypes: datetime64[ns](1), int64(3), object(1)\n",
      "memory usage: 47.6+ KB\n"
     ]
    }
   ],
   "source": [
    "#удаляем из orders этих пользователей \n",
    "orders = orders.query('visitor_id not in @duplicated_users')\n",
    "orders.info()"
   ]
  },
  {
   "cell_type": "markdown",
   "metadata": {},
   "source": [
    "___Постройте график кумулятивной выручки по группам. Сделайте выводы и предположения.___  "
   ]
  },
  {
   "cell_type": "code",
   "execution_count": 25,
   "metadata": {},
   "outputs": [],
   "source": [
    "# создаем массив уникальных пар значений дат и групп теста\n",
    "datesGroups = orders[['date','group']].drop_duplicates()"
   ]
  },
  {
   "cell_type": "code",
   "execution_count": 26,
   "metadata": {},
   "outputs": [],
   "source": [
    "#Соберём агрегированные кумулятивные по дням данные о заказах и о посетителях\n",
    "ordersAggregated = datesGroups.apply(lambda x: orders[np.logical_and(orders['date'] <= x['date'], orders['group'] == x['group'])]\\\n",
    ".agg({'date' : 'max', 'group' : 'max', 'transaction_id' : 'nunique', 'visitor_id' : 'nunique', 'revenue' : 'sum'}), axis=1).sort_values(by=['date','group'])"
   ]
  },
  {
   "cell_type": "code",
   "execution_count": 27,
   "metadata": {},
   "outputs": [],
   "source": [
    "visitorsAggregated = datesGroups.apply(lambda x: visitors[np.logical_and(visitors['date'] <= x['date'], visitors['group'] == x['group'])].agg({'date' : 'max', 'group' : 'max', 'visitors' : 'sum'}), axis=1).sort_values(by=['date','group'])"
   ]
  },
  {
   "cell_type": "code",
   "execution_count": 28,
   "metadata": {},
   "outputs": [
    {
     "data": {
      "text/html": [
       "<div>\n",
       "<style scoped>\n",
       "    .dataframe tbody tr th:only-of-type {\n",
       "        vertical-align: middle;\n",
       "    }\n",
       "\n",
       "    .dataframe tbody tr th {\n",
       "        vertical-align: top;\n",
       "    }\n",
       "\n",
       "    .dataframe thead th {\n",
       "        text-align: right;\n",
       "    }\n",
       "</style>\n",
       "<table border=\"1\" class=\"dataframe\">\n",
       "  <thead>\n",
       "    <tr style=\"text-align: right;\">\n",
       "      <th></th>\n",
       "      <th>date</th>\n",
       "      <th>group</th>\n",
       "      <th>orders</th>\n",
       "      <th>buyers</th>\n",
       "      <th>revenue</th>\n",
       "      <th>visitors</th>\n",
       "    </tr>\n",
       "  </thead>\n",
       "  <tbody>\n",
       "    <tr>\n",
       "      <th>0</th>\n",
       "      <td>2019-08-01</td>\n",
       "      <td>A</td>\n",
       "      <td>23</td>\n",
       "      <td>19</td>\n",
       "      <td>142779</td>\n",
       "      <td>719</td>\n",
       "    </tr>\n",
       "    <tr>\n",
       "      <th>1</th>\n",
       "      <td>2019-08-01</td>\n",
       "      <td>B</td>\n",
       "      <td>17</td>\n",
       "      <td>17</td>\n",
       "      <td>59758</td>\n",
       "      <td>713</td>\n",
       "    </tr>\n",
       "    <tr>\n",
       "      <th>2</th>\n",
       "      <td>2019-08-02</td>\n",
       "      <td>A</td>\n",
       "      <td>42</td>\n",
       "      <td>36</td>\n",
       "      <td>234381</td>\n",
       "      <td>1338</td>\n",
       "    </tr>\n",
       "    <tr>\n",
       "      <th>3</th>\n",
       "      <td>2019-08-02</td>\n",
       "      <td>B</td>\n",
       "      <td>40</td>\n",
       "      <td>39</td>\n",
       "      <td>221801</td>\n",
       "      <td>1294</td>\n",
       "    </tr>\n",
       "    <tr>\n",
       "      <th>4</th>\n",
       "      <td>2019-08-03</td>\n",
       "      <td>A</td>\n",
       "      <td>66</td>\n",
       "      <td>60</td>\n",
       "      <td>346854</td>\n",
       "      <td>1845</td>\n",
       "    </tr>\n",
       "    <tr>\n",
       "      <th>...</th>\n",
       "      <td>...</td>\n",
       "      <td>...</td>\n",
       "      <td>...</td>\n",
       "      <td>...</td>\n",
       "      <td>...</td>\n",
       "      <td>...</td>\n",
       "    </tr>\n",
       "    <tr>\n",
       "      <th>57</th>\n",
       "      <td>2019-08-29</td>\n",
       "      <td>B</td>\n",
       "      <td>510</td>\n",
       "      <td>490</td>\n",
       "      <td>4746610</td>\n",
       "      <td>17708</td>\n",
       "    </tr>\n",
       "    <tr>\n",
       "      <th>58</th>\n",
       "      <td>2019-08-30</td>\n",
       "      <td>A</td>\n",
       "      <td>460</td>\n",
       "      <td>437</td>\n",
       "      <td>3311413</td>\n",
       "      <td>18037</td>\n",
       "    </tr>\n",
       "    <tr>\n",
       "      <th>59</th>\n",
       "      <td>2019-08-30</td>\n",
       "      <td>B</td>\n",
       "      <td>531</td>\n",
       "      <td>511</td>\n",
       "      <td>4955833</td>\n",
       "      <td>18198</td>\n",
       "    </tr>\n",
       "    <tr>\n",
       "      <th>60</th>\n",
       "      <td>2019-08-31</td>\n",
       "      <td>A</td>\n",
       "      <td>468</td>\n",
       "      <td>445</td>\n",
       "      <td>3364656</td>\n",
       "      <td>18736</td>\n",
       "    </tr>\n",
       "    <tr>\n",
       "      <th>61</th>\n",
       "      <td>2019-08-31</td>\n",
       "      <td>B</td>\n",
       "      <td>548</td>\n",
       "      <td>528</td>\n",
       "      <td>5068972</td>\n",
       "      <td>18916</td>\n",
       "    </tr>\n",
       "  </tbody>\n",
       "</table>\n",
       "<p>62 rows × 6 columns</p>\n",
       "</div>"
      ],
      "text/plain": [
       "         date group  orders  buyers  revenue  visitors\n",
       "0  2019-08-01  A     23      19      142779   719     \n",
       "1  2019-08-01  B     17      17      59758    713     \n",
       "2  2019-08-02  A     42      36      234381   1338    \n",
       "3  2019-08-02  B     40      39      221801   1294    \n",
       "4  2019-08-03  A     66      60      346854   1845    \n",
       "..        ... ..     ..      ..         ...    ...    \n",
       "57 2019-08-29  B     510     490     4746610  17708   \n",
       "58 2019-08-30  A     460     437     3311413  18037   \n",
       "59 2019-08-30  B     531     511     4955833  18198   \n",
       "60 2019-08-31  A     468     445     3364656  18736   \n",
       "61 2019-08-31  B     548     528     5068972  18916   \n",
       "\n",
       "[62 rows x 6 columns]"
      ]
     },
     "execution_count": 28,
     "metadata": {},
     "output_type": "execute_result"
    }
   ],
   "source": [
    "# объединяем кумулятивные данные в одной таблице и присваиваем ее столбцам понятные названия\n",
    "cumulativeData = ordersAggregated.merge(visitorsAggregated, left_on=['date', 'group'], right_on=['date', 'group'])\n",
    "cumulativeData.columns = ['date', 'group', 'orders', 'buyers', 'revenue', 'visitors']\n",
    "cumulativeData"
   ]
  },
  {
   "cell_type": "code",
   "execution_count": 29,
   "metadata": {},
   "outputs": [
    {
     "data": {
      "text/plain": [
       "Text(0, 0.5, 'Кумулятивная выручка')"
      ]
     },
     "execution_count": 29,
     "metadata": {},
     "output_type": "execute_result"
    },
    {
     "data": {
      "image/png": "[encoded data removed]",
      "text/plain": [
       "<Figure size 1080x360 with 1 Axes>"
      ]
     },
     "metadata": {
      "needs_background": "light"
     },
     "output_type": "display_data"
    }
   ],
   "source": [
    "# датафрейм с кумулятивным количеством заказов и кумулятивной выручкой по дням в группе А\n",
    "cumulativeRevenueA = cumulativeData[cumulativeData['group']=='A'][['date','revenue', 'orders']]\n",
    "\n",
    "# датафрейм с кумулятивным количеством заказов и кумулятивной выручкой по дням в группе B\n",
    "cumulativeRevenueB = cumulativeData[cumulativeData['group']=='B'][['date','revenue', 'orders']]\n",
    "\n",
    "plt.figure(figsize=(15,5))\n",
    "\n",
    "# Строим график выручки группы А\n",
    "plt.plot(cumulativeRevenueA['date'], cumulativeRevenueA['revenue'], label='A')\n",
    "\n",
    "# Строим график выручки группы B\n",
    "plt.plot(cumulativeRevenueB['date'], cumulativeRevenueB['revenue'], label='B')\n",
    "\n",
    "plt.legend()\n",
    "plt.title('График кумулятивной выручки по группам')\n",
    "plt.xlabel('Даты')\n",
    "plt.ylabel('Кумулятивная выручка')"
   ]
  },
  {
   "cell_type": "markdown",
   "metadata": {},
   "source": [
    "__Вывод:По графику кумулятивной выручки по дням ,по группам , видно что лидирует группа В , а так же у нее есть резкий подъем в районе 18-19 августа. Возможно в эти даты был совершен необычно дорогой заказ__"
   ]
  },
  {
   "cell_type": "markdown",
   "metadata": {},
   "source": [
    "___Постройте график кумулятивного среднего чека по группам. Сделайте выводы и предположения___"
   ]
  },
  {
   "cell_type": "code",
   "execution_count": 30,
   "metadata": {},
   "outputs": [
    {
     "data": {
      "text/plain": [
       "Text(0, 0.5, 'Кумулятивный средний чек')"
      ]
     },
     "execution_count": 30,
     "metadata": {},
     "output_type": "execute_result"
    },
    {
     "data": {
      "image/png": "[encoded data removed]",
      "text/plain": [
       "<Figure size 1080x360 with 1 Axes>"
      ]
     },
     "metadata": {
      "needs_background": "light"
     },
     "output_type": "display_data"
    }
   ],
   "source": [
    "plt.figure(figsize=(15,5))\n",
    "plt.plot(cumulativeRevenueA['date'], cumulativeRevenueA['revenue']/cumulativeRevenueA['orders'], label='A')\n",
    "plt.plot(cumulativeRevenueB['date'], cumulativeRevenueB['revenue']/cumulativeRevenueB['orders'], label='B')\n",
    "plt.legend()\n",
    "plt.title('График кумулятивного среднего чека по группам')\n",
    "plt.xlabel('Даты')\n",
    "plt.ylabel('Кумулятивный средний чек')"
   ]
  },
  {
   "cell_type": "markdown",
   "metadata": {},
   "source": [
    "__Вывод: По графику кумулятивного среднего чека по группам видно что большую часть времени так же лидирует группа В. Кроме периода примерно с 11.08 по 15.08 -здесь лидирует группа А. И так же виден сильный всплеск в районе 18-19 августа.Для интереса можно посмотреть на какие суммы были заказы в группе В в этот период__"
   ]
  },
  {
   "cell_type": "code",
   "execution_count": 31,
   "metadata": {},
   "outputs": [
    {
     "data": {
      "text/html": [
       "<div>\n",
       "<style scoped>\n",
       "    .dataframe tbody tr th:only-of-type {\n",
       "        vertical-align: middle;\n",
       "    }\n",
       "\n",
       "    .dataframe tbody tr th {\n",
       "        vertical-align: top;\n",
       "    }\n",
       "\n",
       "    .dataframe thead th {\n",
       "        text-align: right;\n",
       "    }\n",
       "</style>\n",
       "<table border=\"1\" class=\"dataframe\">\n",
       "  <thead>\n",
       "    <tr style=\"text-align: right;\">\n",
       "      <th></th>\n",
       "      <th>transaction_id</th>\n",
       "      <th>visitor_id</th>\n",
       "      <th>date</th>\n",
       "      <th>revenue</th>\n",
       "      <th>group</th>\n",
       "    </tr>\n",
       "  </thead>\n",
       "  <tbody>\n",
       "    <tr>\n",
       "      <th>425</th>\n",
       "      <td>590470918</td>\n",
       "      <td>1920142716</td>\n",
       "      <td>2019-08-19</td>\n",
       "      <td>1294500</td>\n",
       "      <td>B</td>\n",
       "    </tr>\n",
       "    <tr>\n",
       "      <th>530</th>\n",
       "      <td>3970235543</td>\n",
       "      <td>2912540959</td>\n",
       "      <td>2019-08-19</td>\n",
       "      <td>43990</td>\n",
       "      <td>A</td>\n",
       "    </tr>\n",
       "    <tr>\n",
       "      <th>527</th>\n",
       "      <td>1570513684</td>\n",
       "      <td>2837914161</td>\n",
       "      <td>2019-08-19</td>\n",
       "      <td>33405</td>\n",
       "      <td>B</td>\n",
       "    </tr>\n",
       "    <tr>\n",
       "      <th>421</th>\n",
       "      <td>3765974140</td>\n",
       "      <td>1357170471</td>\n",
       "      <td>2019-08-19</td>\n",
       "      <td>31680</td>\n",
       "      <td>A</td>\n",
       "    </tr>\n",
       "    <tr>\n",
       "      <th>461</th>\n",
       "      <td>2683113224</td>\n",
       "      <td>154576532</td>\n",
       "      <td>2019-08-19</td>\n",
       "      <td>26550</td>\n",
       "      <td>B</td>\n",
       "    </tr>\n",
       "  </tbody>\n",
       "</table>\n",
       "</div>"
      ],
      "text/plain": [
       "     transaction_id  visitor_id       date  revenue group\n",
       "425  590470918       1920142716 2019-08-19  1294500  B   \n",
       "530  3970235543      2912540959 2019-08-19  43990    A   \n",
       "527  1570513684      2837914161 2019-08-19  33405    B   \n",
       "421  3765974140      1357170471 2019-08-19  31680    A   \n",
       "461  2683113224      154576532  2019-08-19  26550    B   "
      ]
     },
     "execution_count": 31,
     "metadata": {},
     "output_type": "execute_result"
    }
   ],
   "source": [
    "orders.query('date==\"2019-08-18\" or date==\"2019-08-19\"').sort_values(by='revenue',ascending = False).head(5)\n"
   ]
  },
  {
   "cell_type": "markdown",
   "metadata": {},
   "source": [
    "_Действительно . 19.08 был заказ №425 на сумму 1294500 руб . Из-за него-то и резкие подъемы на графике_"
   ]
  },
  {
   "cell_type": "markdown",
   "metadata": {},
   "source": [
    "___Постройте график относительного изменения кумулятивного среднего чека группы B к группе A. Сделайте выводы и предположения___"
   ]
  },
  {
   "cell_type": "code",
   "execution_count": 32,
   "metadata": {},
   "outputs": [
    {
     "data": {
      "text/plain": [
       "Text(0, 0.5, 'отношение среднего чека группы В к группе А')"
      ]
     },
     "execution_count": 32,
     "metadata": {},
     "output_type": "execute_result"
    },
    {
     "data": {
      "image/png": "[encoded data removed]",
      "text/plain": [
       "<Figure size 1080x360 with 1 Axes>"
      ]
     },
     "metadata": {
      "needs_background": "light"
     },
     "output_type": "display_data"
    }
   ],
   "source": [
    "# собираем данные в одном датафрейме\n",
    "mergedCumulativeRevenue = cumulativeRevenueA.merge(cumulativeRevenueB, left_on='date', right_on='date', how='left', suffixes=['A', 'B'])\n",
    "plt.figure(figsize=(15,5))\n",
    "# cтроим отношение средних чеков\n",
    "plt.plot(mergedCumulativeRevenue['date'], (mergedCumulativeRevenue['revenueB']/mergedCumulativeRevenue['ordersB'])/(mergedCumulativeRevenue['revenueA']/mergedCumulativeRevenue['ordersA'])-1)\n",
    "\n",
    "# добавляем ось X\n",
    "plt.axhline(y=0, color='black', linestyle='--')\n",
    "plt.title('график относительного изменения кумулятивного среднего чека группы B к группе A')\n",
    "plt.xlabel('Даты')\n",
    "plt.ylabel('отношение среднего чека группы В к группе А')"
   ]
  },
  {
   "cell_type": "markdown",
   "metadata": {},
   "source": [
    "__Вывод: по графику относительно изменения кумулятивного среднего чека группы В к группе А видно, что средний чек почти весь анализируемый период был больше кум. среднего чека группы А , кроме периода примерно с 11 по 15 марта__"
   ]
  },
  {
   "cell_type": "markdown",
   "metadata": {},
   "source": [
    "___Постройте график кумулятивного среднего количества заказов на посетителя по группам. Сделайте выводы и предположения___"
   ]
  },
  {
   "cell_type": "code",
   "execution_count": 33,
   "metadata": {},
   "outputs": [
    {
     "data": {
      "text/plain": [
       "Text(0, 0.5, 'среднее кол-во заказов на посетителя')"
      ]
     },
     "execution_count": 33,
     "metadata": {},
     "output_type": "execute_result"
    },
    {
     "data": {
      "image/png": "[encoded data removed]",
      "text/plain": [
       "<Figure size 1080x360 with 1 Axes>"
      ]
     },
     "metadata": {
      "needs_background": "light"
     },
     "output_type": "display_data"
    }
   ],
   "source": [
    "# считаем кумулятивную конверсию\n",
    "cumulativeData['conversion'] = cumulativeData['orders']/cumulativeData['visitors']\n",
    "\n",
    "# отделяем данные по группе A\n",
    "cumulativeDataA = cumulativeData[cumulativeData['group']=='A']\n",
    "\n",
    "# отделяем данные по группе B\n",
    "cumulativeDataB = cumulativeData[cumulativeData['group']=='B']\n",
    "\n",
    "plt.figure(figsize=(15,5))\n",
    "# строим графики\n",
    "plt.plot(cumulativeDataA['date'], cumulativeDataA['conversion'], label='A')\n",
    "plt.plot(cumulativeDataB['date'], cumulativeDataB['conversion'], label='B')\n",
    "plt.legend()\n",
    "\n",
    "# задаем масштаб осей\n",
    "plt.axis([\"2019-08-01\", '2019-08-31', 0, 0.1])\n",
    "plt.title('График кумулятивного среднего количества заказов на посетителя')\n",
    "plt.xlabel('Даты')\n",
    "plt.ylabel('среднее кол-во заказов на посетителя')\n"
   ]
  },
  {
   "cell_type": "markdown",
   "metadata": {},
   "source": [
    "__Вывод: по графику кумулятивного среднего кол-ва заказов на посетителя видно , что начиная примерно с 6.08 группа В стабильно лидирует__  "
   ]
  },
  {
   "cell_type": "markdown",
   "metadata": {},
   "source": [
    "___Постройте график относительного изменения кумулятивного среднего количества заказов на посетителя группы B к группе A. Сделайте выводы и предположения___"
   ]
  },
  {
   "cell_type": "code",
   "execution_count": 34,
   "metadata": {},
   "outputs": [
    {
     "data": {
      "text/plain": [
       "Text(0, 0.5, 'Относительный прирост')"
      ]
     },
     "execution_count": 34,
     "metadata": {},
     "output_type": "execute_result"
    },
    {
     "data": {
      "image/png": "[encoded data removed]",
      "text/plain": [
       "<Figure size 1080x360 with 1 Axes>"
      ]
     },
     "metadata": {
      "needs_background": "light"
     },
     "output_type": "display_data"
    }
   ],
   "source": [
    "mergedCumulativeConversions = cumulativeDataA[['date','conversion']].merge(cumulativeDataB[['date','conversion']], left_on='date', right_on='date', how='left', suffixes=['A', 'B'])\n",
    "\n",
    "plt.figure(figsize=(15,5))\n",
    "plt.plot(mergedCumulativeConversions['date'], mergedCumulativeConversions['conversionB']/mergedCumulativeConversions['conversionA']-1, label=\"Относительный прирост среднего  количества заказов на посетителя  группы B относительно группы A\")\n",
    "plt.legend()\n",
    "\n",
    "plt.axhline(y=0, color='black', linestyle='--')\n",
    "plt.axis([\"2019-08-01\", '2019-08-31', -0.2, 0.4])\n",
    "plt.xlabel('Даты')\n",
    "plt.ylabel('Относительный прирост')"
   ]
  },
  {
   "cell_type": "markdown",
   "metadata": {},
   "source": [
    "__Вывод: по графику относительного прироста среднего кол-ва заказов на посетителя группы В относительно группы А ,как и на предыдущем графике видно , что начиная с 6.08 группа В стабильно лидирует__  "
   ]
  },
  {
   "cell_type": "markdown",
   "metadata": {},
   "source": [
    "___Постройте точечный график количества заказов по пользователям. Сделайте выводы и предположения.___ "
   ]
  },
  {
   "cell_type": "code",
   "execution_count": 35,
   "metadata": {},
   "outputs": [
    {
     "data": {
      "text/html": [
       "<div>\n",
       "<style scoped>\n",
       "    .dataframe tbody tr th:only-of-type {\n",
       "        vertical-align: middle;\n",
       "    }\n",
       "\n",
       "    .dataframe tbody tr th {\n",
       "        vertical-align: top;\n",
       "    }\n",
       "\n",
       "    .dataframe thead th {\n",
       "        text-align: right;\n",
       "    }\n",
       "</style>\n",
       "<table border=\"1\" class=\"dataframe\">\n",
       "  <thead>\n",
       "    <tr style=\"text-align: right;\">\n",
       "      <th></th>\n",
       "      <th>user_id</th>\n",
       "      <th>orders</th>\n",
       "    </tr>\n",
       "  </thead>\n",
       "  <tbody>\n",
       "    <tr>\n",
       "      <th>0</th>\n",
       "      <td>5114589</td>\n",
       "      <td>1</td>\n",
       "    </tr>\n",
       "    <tr>\n",
       "      <th>1</th>\n",
       "      <td>6958315</td>\n",
       "      <td>1</td>\n",
       "    </tr>\n",
       "    <tr>\n",
       "      <th>2</th>\n",
       "      <td>11685486</td>\n",
       "      <td>1</td>\n",
       "    </tr>\n",
       "    <tr>\n",
       "      <th>3</th>\n",
       "      <td>39475350</td>\n",
       "      <td>1</td>\n",
       "    </tr>\n",
       "    <tr>\n",
       "      <th>4</th>\n",
       "      <td>47206413</td>\n",
       "      <td>1</td>\n",
       "    </tr>\n",
       "    <tr>\n",
       "      <th>5</th>\n",
       "      <td>48147722</td>\n",
       "      <td>1</td>\n",
       "    </tr>\n",
       "    <tr>\n",
       "      <th>6</th>\n",
       "      <td>54447517</td>\n",
       "      <td>1</td>\n",
       "    </tr>\n",
       "    <tr>\n",
       "      <th>7</th>\n",
       "      <td>56960363</td>\n",
       "      <td>1</td>\n",
       "    </tr>\n",
       "    <tr>\n",
       "      <th>8</th>\n",
       "      <td>66685450</td>\n",
       "      <td>1</td>\n",
       "    </tr>\n",
       "    <tr>\n",
       "      <th>9</th>\n",
       "      <td>71018815</td>\n",
       "      <td>1</td>\n",
       "    </tr>\n",
       "  </tbody>\n",
       "</table>\n",
       "</div>"
      ],
      "text/plain": [
       "    user_id  orders\n",
       "0  5114589   1     \n",
       "1  6958315   1     \n",
       "2  11685486  1     \n",
       "3  39475350  1     \n",
       "4  47206413  1     \n",
       "5  48147722  1     \n",
       "6  54447517  1     \n",
       "7  56960363  1     \n",
       "8  66685450  1     \n",
       "9  71018815  1     "
      ]
     },
     "execution_count": 35,
     "metadata": {},
     "output_type": "execute_result"
    }
   ],
   "source": [
    "#сгруппируем таблицу :кол-во заказов по пользователям \n",
    "orders_by_user=orders[['visitor_id','transaction_id']].groupby('visitor_id',as_index=False).agg({'transaction_id':'nunique'})\n",
    "orders_by_user.columns=['user_id','orders']\n",
    "orders_by_user.head(10)\n"
   ]
  },
  {
   "cell_type": "code",
   "execution_count": 36,
   "metadata": {
    "scrolled": false
   },
   "outputs": [
    {
     "data": {
      "text/plain": [
       "Text(0, 0.5, 'заказы')"
      ]
     },
     "execution_count": 36,
     "metadata": {},
     "output_type": "execute_result"
    },
    {
     "data": {
      "image/png": "[encoded data removed]",
      "text/plain": [
       "<Figure size 1080x360 with 1 Axes>"
      ]
     },
     "metadata": {
      "needs_background": "light"
     },
     "output_type": "display_data"
    }
   ],
   "source": [
    "#зададим пременную x_values -столбец,содержащий последовательнось чисел от нуля до кол-ва строк в orders_by_user\n",
    "x_values = pd.Series(range(0,len(orders_by_user)))\n",
    "plt.figure(figsize=(15,5))\n",
    "plt.scatter(x_values,orders_by_user['orders'])\n",
    "plt.title('точечный график количества заказов по пользователям')\n",
    "plt.xlabel('посетители')\n",
    "plt.ylabel('заказы')\n"
   ]
  },
  {
   "cell_type": "markdown",
   "metadata": {},
   "source": [
    "__Вывод: По точечному графику видно , что большинство пользователей сделали по 1 или 2 заказа.__"
   ]
  },
  {
   "cell_type": "markdown",
   "metadata": {},
   "source": [
    "___Посчитайте 95-й и 99-й перцентили количества заказов на пользователя. Выберите границу для определения аномальных пользователей.___"
   ]
  },
  {
   "cell_type": "code",
   "execution_count": 37,
   "metadata": {},
   "outputs": [
    {
     "data": {
      "text/plain": [
       "array([1., 2.])"
      ]
     },
     "execution_count": 37,
     "metadata": {},
     "output_type": "execute_result"
    }
   ],
   "source": [
    "np.percentile(orders_by_user['orders'],[95,99])\n"
   ]
  },
  {
   "cell_type": "markdown",
   "metadata": {},
   "source": [
    "__Вывод: 95-ый перцентиль равен 2 , а 99-й равен 4. То есть не более 5 % пользователей сделали  2 заказа , и не более 1% пользователей сделали 4 заказа.Предварительно определим границу для аномальных пользователей-как сделавшие 2 заказа.__"
   ]
  },
  {
   "cell_type": "markdown",
   "metadata": {},
   "source": [
    "___Постройте точечный график стоимостей заказов. Сделайте выводы и предположения.___"
   ]
  },
  {
   "cell_type": "code",
   "execution_count": 38,
   "metadata": {},
   "outputs": [
    {
     "data": {
      "text/plain": [
       "Text(0, 0.5, 'стоимость заказа')"
      ]
     },
     "execution_count": 38,
     "metadata": {},
     "output_type": "execute_result"
    },
    {
     "data": {
      "image/png": "[encoded data removed]",
      "text/plain": [
       "<Figure size 1080x360 with 1 Axes>"
      ]
     },
     "metadata": {
      "needs_background": "light"
     },
     "output_type": "display_data"
    }
   ],
   "source": [
    "x_values = pd.Series(range(0,len(orders['revenue'])))\n",
    "plt.figure(figsize=(15,5))\n",
    "plt.scatter(x_values, orders['revenue'],alpha=0.5)\n",
    "orders['revenue'].median()\n",
    "plt.xlabel('посетители')\n",
    "plt.ylabel('стоимость заказа')"
   ]
  },
  {
   "cell_type": "markdown",
   "metadata": {},
   "source": [
    "_Построим точечный график стоимостей заказов без выбросов_"
   ]
  },
  {
   "cell_type": "code",
   "execution_count": 39,
   "metadata": {},
   "outputs": [
    {
     "data": {
      "text/plain": [
       "Text(0, 0.5, 'стоимость заказа')"
      ]
     },
     "execution_count": 39,
     "metadata": {},
     "output_type": "execute_result"
    },
    {
     "data": {
      "image/png": "[encoded data removed]",
      "text/plain": [
       "<Figure size 1080x360 with 1 Axes>"
      ]
     },
     "metadata": {
      "needs_background": "light"
     },
     "output_type": "display_data"
    }
   ],
   "source": [
    "x_values = pd.Series(range(0,len(orders.query('revenue<=53904')['revenue']))) #сделали срез стоимостей заказов по 99-му перценилю\n",
    "plt.figure(figsize=(15,5))\n",
    "plt.scatter(x_values, orders.query('revenue<=53904')['revenue'],alpha=0.5)\n",
    "plt.xlabel('посетители')\n",
    "plt.ylabel('стоимость заказа')"
   ]
  },
  {
   "cell_type": "markdown",
   "metadata": {},
   "source": [
    "__Вывод: по точечному графику стоимостей заказов(без выбросов) видно, что большинство заказов находятся до отметки примерно 30 тыс руб.Наибольшее кол-во заказов -до 10 тыс руб__"
   ]
  },
  {
   "cell_type": "markdown",
   "metadata": {},
   "source": [
    "___Посчитайте 95-й и 99-й перцентили стоимости заказов. Выберите границу для определения аномальных заказов.___"
   ]
  },
  {
   "cell_type": "code",
   "execution_count": 40,
   "metadata": {},
   "outputs": [
    {
     "data": {
      "text/plain": [
       "array([26785., 53904.])"
      ]
     },
     "execution_count": 40,
     "metadata": {},
     "output_type": "execute_result"
    }
   ],
   "source": [
    "np.percentile(orders['revenue'],[95,99])"
   ]
  },
  {
   "cell_type": "markdown",
   "metadata": {},
   "source": [
    "__Вывод: 95-ый перцентиль =28000 руб-то есть такая стоимость и выше  не более чем у 5% заказов. 99-ый перцентиль равен 58233 тыс , то есть такая стоимость и выше не более чем у 1 % заказов__"
   ]
  },
  {
   "cell_type": "code",
   "execution_count": 41,
   "metadata": {},
   "outputs": [
    {
     "data": {
      "text/plain": [
       "array([26785., 30649., 34792., 42353., 53904.])"
      ]
     },
     "execution_count": 41,
     "metadata": {},
     "output_type": "execute_result"
    }
   ],
   "source": [
    "np.percentile(orders['revenue'],[95,96,97,98,99])"
   ]
  },
  {
   "cell_type": "markdown",
   "metadata": {},
   "source": [
    "__Определим границу для аномальных поьзователей как сделавшие заказ на 42353 руб (98 перцентиль) и более__"
   ]
  },
  {
   "cell_type": "markdown",
   "metadata": {},
   "source": [
    "___Посчитайте статистическую значимость различий в среднем количестве заказов на посетителя между группами по «сырым» данным. Сделайте выводы и предположения.___"
   ]
  },
  {
   "cell_type": "code",
   "execution_count": 42,
   "metadata": {},
   "outputs": [
    {
     "data": {
      "text/plain": [
       "(        date group  visitors\n",
       " 0 2019-08-01  A     719     \n",
       " 1 2019-08-02  A     619     \n",
       " 2 2019-08-03  A     507     \n",
       " 3 2019-08-04  A     717     \n",
       " 4 2019-08-05  A     756     ,\n",
       "    transaction_id  visitor_id       date  revenue group\n",
       " 0  3667963787      3312258926 2019-08-15  1650     B   \n",
       " 1  2804400009      3642806036 2019-08-15  730      B   \n",
       " 3  3797467345      1196621759 2019-08-15  9759     B   \n",
       " 4  2282983706      2322279887 2019-08-15  2308     B   \n",
       " 5  182168103       935554773  2019-08-15  2210     B   )"
      ]
     },
     "execution_count": 42,
     "metadata": {},
     "output_type": "execute_result"
    }
   ],
   "source": [
    "visitors.head(), orders.head()"
   ]
  },
  {
   "cell_type": "code",
   "execution_count": 43,
   "metadata": {},
   "outputs": [
    {
     "data": {
      "text/html": [
       "<div>\n",
       "<style scoped>\n",
       "    .dataframe tbody tr th:only-of-type {\n",
       "        vertical-align: middle;\n",
       "    }\n",
       "\n",
       "    .dataframe tbody tr th {\n",
       "        vertical-align: top;\n",
       "    }\n",
       "\n",
       "    .dataframe thead th {\n",
       "        text-align: right;\n",
       "    }\n",
       "</style>\n",
       "<table border=\"1\" class=\"dataframe\">\n",
       "  <thead>\n",
       "    <tr style=\"text-align: right;\">\n",
       "      <th></th>\n",
       "      <th>date</th>\n",
       "      <th>ordersPerDateA</th>\n",
       "      <th>revenuePerDateA</th>\n",
       "      <th>ordersPerDateB</th>\n",
       "      <th>revenuePerDateB</th>\n",
       "      <th>ordersCummulativeA</th>\n",
       "      <th>revenueCummulativeA</th>\n",
       "      <th>ordersCummulativeB</th>\n",
       "      <th>revenueCummulativeB</th>\n",
       "      <th>visitorsPerDateA</th>\n",
       "      <th>visitorsPerDateB</th>\n",
       "      <th>visitorsCummulativeA</th>\n",
       "      <th>visitorsCummulativeB</th>\n",
       "    </tr>\n",
       "  </thead>\n",
       "  <tbody>\n",
       "    <tr>\n",
       "      <th>0</th>\n",
       "      <td>2019-08-01</td>\n",
       "      <td>23</td>\n",
       "      <td>142779</td>\n",
       "      <td>17</td>\n",
       "      <td>59758</td>\n",
       "      <td>23</td>\n",
       "      <td>142779</td>\n",
       "      <td>17</td>\n",
       "      <td>59758</td>\n",
       "      <td>719</td>\n",
       "      <td>713</td>\n",
       "      <td>719</td>\n",
       "      <td>713</td>\n",
       "    </tr>\n",
       "    <tr>\n",
       "      <th>1</th>\n",
       "      <td>2019-08-02</td>\n",
       "      <td>19</td>\n",
       "      <td>91602</td>\n",
       "      <td>23</td>\n",
       "      <td>162043</td>\n",
       "      <td>42</td>\n",
       "      <td>234381</td>\n",
       "      <td>40</td>\n",
       "      <td>221801</td>\n",
       "      <td>619</td>\n",
       "      <td>581</td>\n",
       "      <td>1338</td>\n",
       "      <td>1294</td>\n",
       "    </tr>\n",
       "    <tr>\n",
       "      <th>2</th>\n",
       "      <td>2019-08-03</td>\n",
       "      <td>24</td>\n",
       "      <td>112473</td>\n",
       "      <td>14</td>\n",
       "      <td>67049</td>\n",
       "      <td>66</td>\n",
       "      <td>346854</td>\n",
       "      <td>54</td>\n",
       "      <td>288850</td>\n",
       "      <td>507</td>\n",
       "      <td>509</td>\n",
       "      <td>1845</td>\n",
       "      <td>1803</td>\n",
       "    </tr>\n",
       "    <tr>\n",
       "      <th>3</th>\n",
       "      <td>2019-08-04</td>\n",
       "      <td>11</td>\n",
       "      <td>41176</td>\n",
       "      <td>14</td>\n",
       "      <td>96890</td>\n",
       "      <td>77</td>\n",
       "      <td>388030</td>\n",
       "      <td>68</td>\n",
       "      <td>385740</td>\n",
       "      <td>717</td>\n",
       "      <td>770</td>\n",
       "      <td>2562</td>\n",
       "      <td>2573</td>\n",
       "    </tr>\n",
       "    <tr>\n",
       "      <th>4</th>\n",
       "      <td>2019-08-05</td>\n",
       "      <td>22</td>\n",
       "      <td>86383</td>\n",
       "      <td>21</td>\n",
       "      <td>89908</td>\n",
       "      <td>99</td>\n",
       "      <td>474413</td>\n",
       "      <td>89</td>\n",
       "      <td>475648</td>\n",
       "      <td>756</td>\n",
       "      <td>707</td>\n",
       "      <td>3318</td>\n",
       "      <td>3280</td>\n",
       "    </tr>\n",
       "  </tbody>\n",
       "</table>\n",
       "</div>"
      ],
      "text/plain": [
       "        date  ordersPerDateA  revenuePerDateA  ordersPerDateB  \\\n",
       "0 2019-08-01  23              142779           17               \n",
       "1 2019-08-02  19              91602            23               \n",
       "2 2019-08-03  24              112473           14               \n",
       "3 2019-08-04  11              41176            14               \n",
       "4 2019-08-05  22              86383            21               \n",
       "\n",
       "   revenuePerDateB  ordersCummulativeA  revenueCummulativeA  \\\n",
       "0  59758            23                  142779                \n",
       "1  162043           42                  234381                \n",
       "2  67049            66                  346854                \n",
       "3  96890            77                  388030                \n",
       "4  89908            99                  474413                \n",
       "\n",
       "   ordersCummulativeB  revenueCummulativeB  visitorsPerDateA  \\\n",
       "0  17                  59758                719                \n",
       "1  40                  221801               619                \n",
       "2  54                  288850               507                \n",
       "3  68                  385740               717                \n",
       "4  89                  475648               756                \n",
       "\n",
       "   visitorsPerDateB  visitorsCummulativeA  visitorsCummulativeB  \n",
       "0  713               719                   713                   \n",
       "1  581               1338                  1294                  \n",
       "2  509               1845                  1803                  \n",
       "3  770               2562                  2573                  \n",
       "4  707               3318                  3280                  "
      ]
     },
     "execution_count": 43,
     "metadata": {},
     "output_type": "execute_result"
    }
   ],
   "source": [
    "#найдем кол-во посетителей для группы А по датам \n",
    "visitorsADaily = visitors[visitors['group'] == 'A'][['date', 'visitors']] \n",
    "visitorsADaily.columns = ['date', 'visitorsPerDateA']\n",
    "\n",
    "#для каждой даты,для группы А  найдем количество посетителей с накоплением \n",
    "visitorsACummulative = visitorsADaily.apply(\n",
    "    lambda x: visitorsADaily[visitorsADaily['date'] <= x['date']].agg(\n",
    "        {'date': 'max', 'visitorsPerDateA': 'sum'}\n",
    "    ),\n",
    "    axis=1,\n",
    ")\n",
    "visitorsACummulative.columns = ['date', 'visitorsCummulativeA']\n",
    "\n",
    "#найдем кол-во посетителей для группы В по датам \n",
    "visitorsBDaily = visitors[visitors['group'] == 'B'][['date', 'visitors']]\n",
    "visitorsBDaily.columns = ['date', 'visitorsPerDateB']\n",
    "\n",
    "#для каждой даты,для группы B  найдем количество посетителей с накоплением \n",
    "visitorsBCummulative = visitorsBDaily.apply(\n",
    "    lambda x: visitorsBDaily[visitorsBDaily['date'] <= x['date']].agg(\n",
    "        {'date': 'max', 'visitorsPerDateB': 'sum'}\n",
    "    ),\n",
    "    axis=1,\n",
    ")\n",
    "visitorsBCummulative.columns = ['date', 'visitorsCummulativeB']\n",
    "\n",
    "# с таблицей заказов так же находим кол-во заказов и выручку по датам ,для каждой группы , и затем кол-во закаов \n",
    "# и выручку с накоплением по датам \n",
    "ordersADaily = (\n",
    "    orders[orders['group'] == 'A'][['date', 'transaction_id', 'visitor_id', 'revenue']]\n",
    "    .groupby('date', as_index=False)\n",
    "    .agg({'transaction_id': pd.Series.nunique, 'revenue': 'sum'})\n",
    ")\n",
    "ordersADaily.columns = ['date', 'ordersPerDateA', 'revenuePerDateA']\n",
    "\n",
    "ordersACummulative = ordersADaily.apply(\n",
    "    lambda x: ordersADaily[ordersADaily['date'] <= x['date']].agg(\n",
    "        {'date': 'max', 'ordersPerDateA': 'sum', 'revenuePerDateA': 'sum'}\n",
    "    ),\n",
    "    axis=1,\n",
    ").sort_values(by=['date'])\n",
    "ordersACummulative.columns = [\n",
    "    'date',\n",
    "    'ordersCummulativeA',\n",
    "    'revenueCummulativeA',\n",
    "]\n",
    "\n",
    "ordersBDaily = (\n",
    "    orders[orders['group'] == 'B'][['date', 'transaction_id', 'visitor_id', 'revenue']]\n",
    "    .groupby('date', as_index=False)\n",
    "    .agg({'transaction_id': pd.Series.nunique, 'revenue': 'sum'})\n",
    ")\n",
    "ordersBDaily.columns = ['date', 'ordersPerDateB', 'revenuePerDateB']\n",
    "\n",
    "ordersBCummulative = ordersBDaily.apply(\n",
    "    lambda x: ordersBDaily[ordersBDaily['date'] <= x['date']].agg(\n",
    "        {'date': 'max', 'ordersPerDateB': 'sum', 'revenuePerDateB': 'sum'}\n",
    "    ),\n",
    "    axis=1,\n",
    ").sort_values(by=['date'])\n",
    "ordersBCummulative.columns = [\n",
    "    'date',\n",
    "    'ordersCummulativeB',\n",
    "    'revenueCummulativeB',\n",
    "]\n",
    "#объединяем полученные таблицы в одну \n",
    "data_new = (\n",
    "    ordersADaily.merge(\n",
    "        ordersBDaily, left_on='date', right_on='date', how='left'\n",
    "    )\n",
    "    .merge(ordersACummulative, left_on='date', right_on='date', how='left')\n",
    "    .merge(ordersBCummulative, left_on='date', right_on='date', how='left')\n",
    "    .merge(visitorsADaily, left_on='date', right_on='date', how='left')\n",
    "    .merge(visitorsBDaily, left_on='date', right_on='date', how='left')\n",
    "    .merge(visitorsACummulative, left_on='date', right_on='date', how='left')\n",
    "    .merge(visitorsBCummulative, left_on='date', right_on='date', how='left')\n",
    ")\n",
    "\n",
    "data_new.head()"
   ]
  },
  {
   "cell_type": "code",
   "execution_count": 44,
   "metadata": {},
   "outputs": [],
   "source": [
    "#создадим переменные , в которых соберем кол-во заказов по пользователям , для каждой группы\n",
    "\n",
    "ordersByUsersA = (\n",
    "    orders[orders['group'] == 'A']\n",
    "    .groupby('visitor_id', as_index=False)\n",
    "    .agg({'transaction_id': pd.Series.nunique})\n",
    ")\n",
    "ordersByUsersA.columns = ['user_id', 'orders']\n",
    "\n",
    "ordersByUsersB = (\n",
    "    orders[orders['group'] == 'B']\n",
    "    .groupby('visitor_id', as_index=False)\n",
    "    .agg({'transaction_id': pd.Series.nunique})\n",
    ")\n",
    "ordersByUsersB.columns = ['user_id', 'orders'] \n"
   ]
  },
  {
   "cell_type": "markdown",
   "metadata": {},
   "source": [
    "___Объявим переменные sampleA и sampleB, в которых пользователям из разных групп будет соответствовать количество заказов. Тем, кто ничего не заказал, будут соответствовать нули___"
   ]
  },
  {
   "cell_type": "code",
   "execution_count": 45,
   "metadata": {},
   "outputs": [],
   "source": [
    "sampleA = pd.concat([ordersByUsersA['orders'],pd.Series(0, index=np.arange(data_new['visitorsPerDateA'].sum() - len(ordersByUsersA['orders'])), name='orders')],axis=0)\n",
    "\n",
    "sampleB = pd.concat([ordersByUsersB['orders'],pd.Series(0, index=np.arange(data_new['visitorsPerDateB'].sum() - len(ordersByUsersB['orders'])), name='orders')],axis=0)"
   ]
  },
  {
   "cell_type": "markdown",
   "metadata": {},
   "source": [
    "___Применим критерий Манна Уитни для проверки гипотезы о наличии статистически значимых различий среднего числа заказов в группах. За нулевую гипотезу примем , что статистически значимых различий в числе заказов между группами нет , за альтернативную -что статистически значимые различия есть .Отформатируем p-value, округлив его до трёх знаков после запятой___  \n",
    "\n",
    "___Напомним, что в sampleA сохранили выборку, где каждый элемент — число заказов определённого пользователя, в том числе ноль. Значит, число элементов sampleA — это количество пользователей, сумма всех элементов — количество заказов. Чтобы получить среднее число заказов на пользователя, поделим сумму заказов на число пользователей — найдём среднее в выборке sampleA методом mean(). Аналогично найдём среднее группы B: SampleB.mean()___  \n",
    "\n",
    "___Выведем относительный прирост среднего числа заказов группы B: среднее число заказов группы B / среднее число заказов группы A - 1.  Округлим до трёх знаков после запятой___  \n"
   ]
  },
  {
   "cell_type": "code",
   "execution_count": 55,
   "metadata": {},
   "outputs": [
    {
     "name": "stdout",
     "output_type": "stream",
     "text": [
      "alpha= 0.05\n",
      "Значение p-value=0.011\n",
      "Отношение среднего числа заказов группы В к группе А=0.160\n"
     ]
    }
   ],
   "source": [
    "print('alpha=',0.05)\n",
    "print(\"Значение p-value=\"\"{0:.3f}\".format(stats.mannwhitneyu(sampleA, sampleB)[1]))\n",
    "\n",
    "print(\"Отношение среднего числа заказов группы В к группе А=\"\"{0:.3f}\".format(sampleB.mean() / sampleA.mean() - 1))"
   ]
  },
  {
   "cell_type": "markdown",
   "metadata": {},
   "source": [
    "__Вывод: По «сырым» данным есть различия в среднем числе заказов групп A и B__   \n",
    "\n",
    "__Первое число — p-value = 0.017 меньше 0.05. Значит, нулевую гипотезу о том, что статистически значимых различий в среднем числе заказов между группами нет,отвергаем. Относительный выигрыш группы B в исследуемой выборке равен 16% — второе число в выводе__ "
   ]
  },
  {
   "cell_type": "markdown",
   "metadata": {},
   "source": [
    "___Посчитайте статистическую значимость различий в среднем чеке заказа между группами по «сырым» данным. Сделайте выводы и предположения___"
   ]
  },
  {
   "cell_type": "markdown",
   "metadata": {},
   "source": [
    "_Применим критерий Манна Уитни для проверки гипотезы о наличии статистически значимых различий в среднем чеке между группами , за нулевую гипотезу примем -что различий в среднем чеке нет , за альтернативную -что различия есть_ "
   ]
  },
  {
   "cell_type": "code",
   "execution_count": 56,
   "metadata": {},
   "outputs": [
    {
     "name": "stdout",
     "output_type": "stream",
     "text": [
      "Значение p-value=0.829\n",
      "Отношение среднего чека группы В к группе А=0.287\n"
     ]
    }
   ],
   "source": [
    "print(\"Значение p-value=\"'{0:.3f}'.format(stats.mannwhitneyu(orders[orders['group']=='A']['revenue'], orders[orders['group']=='B']['revenue'])[1]))\n",
    "print(\"Отношение среднего чека группы В к группе А=\"'{0:.3f}'.format(orders[orders['group']=='B']['revenue'].mean()/orders[orders['group']=='A']['revenue'].mean()-1))"
   ]
  },
  {
   "cell_type": "markdown",
   "metadata": {},
   "source": [
    "__Вывод: p-value больше 0.05, следовательно, не можем отвергнуть нулевую гипотезу о том что различий в среднем чеке нет. Наблюдаемое превышение среднего чека группы В на 28,7% не является статистически значимым и получено случайно.__"
   ]
  },
  {
   "cell_type": "markdown",
   "metadata": {},
   "source": [
    "___Посчитайте статистическую значимость различий в среднем количестве заказов на посетителя между группами по «очищенным» данным. Сделайте выводы и предположения.___"
   ]
  },
  {
   "cell_type": "markdown",
   "metadata": {},
   "source": [
    "_Для начала посмотрим , сколько заказов и пользователей у нас выпадет из анализа . Найдем и посчитаем пользователей , сделавших слишком дорогие заказы и слишком много заказов. Ранее мы посчитали с помощью метеда np.percentile что не более 5% пользователей совершили 2 и более заказов, и стоимость не более 5% заказов равна или дороже 28000руб и не более 1% заказов -дороже 58 233руб_  \n",
    "_Посчиаем для ясности еще 96,97 и 98 перцентили , что бы определить верхнюю границу стоимости и количества заказов_"
   ]
  },
  {
   "cell_type": "code",
   "execution_count": 48,
   "metadata": {},
   "outputs": [
    {
     "data": {
      "text/plain": [
       "array([30649., 34792., 42353.])"
      ]
     },
     "execution_count": 48,
     "metadata": {},
     "output_type": "execute_result"
    }
   ],
   "source": [
    "np.percentile(orders['revenue'],[96,97,98])"
   ]
  },
  {
   "cell_type": "code",
   "execution_count": 49,
   "metadata": {},
   "outputs": [
    {
     "data": {
      "text/plain": [
       "array([1., 2., 2.])"
      ]
     },
     "execution_count": 49,
     "metadata": {},
     "output_type": "execute_result"
    }
   ],
   "source": [
    "np.percentile(orders_by_user['orders'],[96,97,98])"
   ]
  },
  {
   "cell_type": "markdown",
   "metadata": {},
   "source": [
    "_Таким образом , возьмем за верхнюю границу количество заказов на пользователя -два , а сумму заказа -не более 42353 руб_"
   ]
  },
  {
   "cell_type": "code",
   "execution_count": 50,
   "metadata": {},
   "outputs": [
    {
     "name": "stdout",
     "output_type": "stream",
     "text": [
      "1099    148427295\n",
      "33      249864742\n",
      "684     358944393\n",
      "648     382846391\n",
      "58      611059232\n",
      "dtype: int64\n",
      "28\n"
     ]
    }
   ],
   "source": [
    "# находим и считаем пользователей с аномально большим кол-ом заказов и с аномально дорогими заказами\n",
    "\n",
    "usersWithManyOrders = pd.concat(\n",
    "    [\n",
    "        ordersByUsersA[ordersByUsersA['orders'] > 2]['user_id'],\n",
    "        ordersByUsersB[ordersByUsersB['orders'] > 2]['user_id'],\n",
    "    ],\n",
    "    axis=0,\n",
    ")\n",
    "usersWithExpensiveOrders = orders[orders['revenue'] > 42353]['visitor_id']\n",
    "abnormalUsers = (\n",
    "    pd.concat([usersWithManyOrders, usersWithExpensiveOrders], axis=0)\n",
    "    .drop_duplicates()\n",
    "    .sort_values()\n",
    ")\n",
    "print(abnormalUsers.head(5))\n",
    "print(abnormalUsers.shape[0])"
   ]
  },
  {
   "cell_type": "markdown",
   "metadata": {},
   "source": [
    "_Посчитаем различие кол-ва заказов без 28 \"аномальных\" пользователей_"
   ]
  },
  {
   "cell_type": "code",
   "execution_count": 51,
   "metadata": {},
   "outputs": [],
   "source": [
    "sampleAFiltered = pd.concat(\n",
    "    [\n",
    "        ordersByUsersA[\n",
    "            np.logical_not(ordersByUsersA['user_id'].isin(abnormalUsers))\n",
    "        ]['orders'],\n",
    "        pd.Series(\n",
    "            0,\n",
    "            index=np.arange(\n",
    "                data_new['visitorsPerDateA'].sum() - len(ordersByUsersA['orders'])\n",
    "            ),\n",
    "            name='orders',\n",
    "        ),\n",
    "    ],\n",
    "    axis=0,\n",
    ")\n",
    "\n",
    "sampleBFiltered = pd.concat(\n",
    "    [\n",
    "        ordersByUsersB[\n",
    "            np.logical_not(ordersByUsersB['user_id'].isin(abnormalUsers))\n",
    "        ]['orders'],\n",
    "        pd.Series(\n",
    "            0,\n",
    "            index=np.arange(\n",
    "                data_new['visitorsPerDateB'].sum() - len(ordersByUsersB['orders'])\n",
    "            ),\n",
    "            name='orders',\n",
    "        ),\n",
    "    ],\n",
    "    axis=0,\n",
    ")"
   ]
  },
  {
   "cell_type": "markdown",
   "metadata": {},
   "source": [
    "_Применим статистический критерий Манна-Уитни к полученным выборкам. За нулевую гипотезу примем :различий в среднем количестве заказов на посетителя между группами нет, за альтернативную -различия в среднем количестве заказов есть_"
   ]
  },
  {
   "cell_type": "code",
   "execution_count": 57,
   "metadata": {},
   "outputs": [
    {
     "name": "stdout",
     "output_type": "stream",
     "text": [
      "Значение p-value=0.004\n",
      "Отношение кол-ва заказов на посетителя в группе В,относительно группы А=0.209\n"
     ]
    }
   ],
   "source": [
    "print(\"Значение p-value=\"'{0:.3f}'.format(stats.mannwhitneyu(sampleAFiltered, sampleBFiltered)[1]))\n",
    "print(\"Отношение кол-ва заказов на посетителя в группе В,относительно группы А=\"'{0:.3f}'.format(sampleBFiltered.mean()/sampleAFiltered.mean()-1))"
   ]
  },
  {
   "cell_type": "markdown",
   "metadata": {},
   "source": [
    "__Вывод: p_value намного меньше 0.05 , поэтому отвергаем нулевую гипотезу. Различия в среднем количестве заказов на посетителя между группами по \"очищенным\" данным есть. В исследуемой выборке в  группе B среднее  кол-во заказов больше на 20,9 %(по сырым данным группа В опережала на 16%)__"
   ]
  },
  {
   "cell_type": "markdown",
   "metadata": {},
   "source": [
    "___Посчитайте статистическую значимость различий в среднем чеке заказа между группами по «очищенным» данным. Сделайте выводы и предположения___"
   ]
  },
  {
   "cell_type": "markdown",
   "metadata": {},
   "source": [
    "_Применим критерий Манна-Уитни к \"очищенным данным\": за нулевую гипотезу примем , что различий в среднем чеке нет , за альтернативную-что различия есть. А так же посчитаем отношение среднего чека группы В к среднему чеку из группы А_"
   ]
  },
  {
   "cell_type": "code",
   "execution_count": 59,
   "metadata": {},
   "outputs": [
    {
     "name": "stdout",
     "output_type": "stream",
     "text": [
      "Значение p-value=0.858\n",
      "Отношение среднего чека группы В к среднему чеку группы А=0.079\n"
     ]
    }
   ],
   "source": [
    "print(\"Значение p-value=\"\n",
    "    '{0:.3f}'.format(\n",
    "        stats.mannwhitneyu(\n",
    "            orders[\n",
    "                np.logical_and(\n",
    "                    orders['group'] == 'A',\n",
    "                    np.logical_not(orders['visitor_id'].isin(abnormalUsers)),\n",
    "                )\n",
    "            ]['revenue'],\n",
    "            orders[\n",
    "                np.logical_and(\n",
    "                    orders['group'] == 'B',\n",
    "                    np.logical_not(orders['visitor_id'].isin(abnormalUsers)),\n",
    "                )\n",
    "            ]['revenue'],\n",
    "        )[1]\n",
    "    )\n",
    ")\n",
    "\n",
    "print(\"Отношение среднего чека группы В к среднему чеку группы А=\"\n",
    "    \"{0:.3f}\".format(\n",
    "        orders[\n",
    "            np.logical_and(\n",
    "                orders['group'] == 'B',\n",
    "                np.logical_not(orders['visitor_id'].isin(abnormalUsers)),\n",
    "            )\n",
    "        ]['revenue'].mean()\n",
    "        / orders[\n",
    "            np.logical_and(\n",
    "                orders['group'] == 'A',\n",
    "                np.logical_not(orders['visitor_id'].isin(abnormalUsers)),\n",
    "            )\n",
    "        ]['revenue'].mean()\n",
    "        - 1\n",
    "    )\n",
    ")"
   ]
  },
  {
   "cell_type": "markdown",
   "metadata": {},
   "source": [
    "__Вывод: p_value намного больше 0.05-значит , мы не можем отказаться от нулевой гипотезы -то есть статистической значимости между средними чеками групп нет. А так же средний чек группы В в исследуемой выборке по очищенным данным теперь всего на 7,9 % больше чем в группе А(по сырым данным он был больше на 28,7%)__"
   ]
  },
  {
   "cell_type": "markdown",
   "metadata": {},
   "source": [
    "___Примите решение по результатам теста и объясните его. Варианты решений:___  \n",
    "\n",
    "___1. Остановить тест, зафиксировать победу одной из групп.___  \n",
    "___2. Остановить тест, зафиксировать отсутствие различий между группами.___  \n",
    "___3. Продолжить тест.___  "
   ]
  },
  {
   "cell_type": "markdown",
   "metadata": {},
   "source": [
    "__Вывод:__  \n",
    "\n",
    "__В ходе теста я выявила следующие факты:__  \n",
    "\n",
    "__- Есть статистические значимые различия между группами  в среднем количестве заказов как по \"сырым\" данным,так и после фильтрации аномалий(в исследуемой выборке среднее количество заказов группы В по \"сырым\" даным больше на 16%,после \"филтрации\"-больше на 20,9%)__  \n",
    "\n",
    "__-Нет статистически значимого различия по среднему чеку между группами ни по «сырым», ни по данным после фильтрации аномалий(по сырым в исследуемой выборке данным разница среднего чека группы В к группе А составила 28,7%,после фильтрации аномалий-7,9%.Считаем ,что эта разница получена случайно и не является статистически значимой);__  \n",
    "\n",
    "__Исходя из обнаруженных фактов,думаю, тест следует остановить и признать его успешным. Сегмент данных группы B лучше сегмента данных группы А__  "
   ]
  }
 ],
 "metadata": {
  "ExecuteTimeLog": [
   {
    "duration": 413,
    "start_time": "2023-01-30T07:14:31.509Z"
   },
   {
    "duration": 61,
    "start_time": "2023-01-30T07:14:58.541Z"
   },
   {
    "duration": 17,
    "start_time": "2023-01-30T07:15:13.903Z"
   },
   {
    "duration": 12,
    "start_time": "2023-01-30T07:16:01.336Z"
   },
   {
    "duration": 9,
    "start_time": "2023-01-30T07:18:55.245Z"
   },
   {
    "duration": 85,
    "start_time": "2023-01-30T07:24:51.992Z"
   },
   {
    "duration": 12,
    "start_time": "2023-01-30T07:25:11.966Z"
   },
   {
    "duration": 12,
    "start_time": "2023-01-30T07:26:22.772Z"
   },
   {
    "duration": 13,
    "start_time": "2023-01-30T07:30:20.068Z"
   },
   {
    "duration": 87,
    "start_time": "2023-01-30T08:03:20.242Z"
   },
   {
    "duration": 12,
    "start_time": "2023-01-30T08:04:11.717Z"
   },
   {
    "duration": 13,
    "start_time": "2023-01-30T08:07:44.923Z"
   },
   {
    "duration": 77,
    "start_time": "2023-01-30T08:16:45.673Z"
   },
   {
    "duration": 12,
    "start_time": "2023-01-30T08:17:11.833Z"
   },
   {
    "duration": 445,
    "start_time": "2023-01-30T08:34:09.738Z"
   },
   {
    "duration": 54,
    "start_time": "2023-01-30T08:34:12.553Z"
   },
   {
    "duration": 12,
    "start_time": "2023-01-30T08:34:19.040Z"
   },
   {
    "duration": 21,
    "start_time": "2023-01-30T08:34:35.771Z"
   },
   {
    "duration": 11,
    "start_time": "2023-01-30T08:35:05.870Z"
   },
   {
    "duration": 4,
    "start_time": "2023-01-30T08:37:12.413Z"
   },
   {
    "duration": 11,
    "start_time": "2023-01-30T08:37:23.892Z"
   },
   {
    "duration": 8,
    "start_time": "2023-01-30T09:28:49.762Z"
   },
   {
    "duration": 176,
    "start_time": "2023-01-30T09:33:51.033Z"
   },
   {
    "duration": 149,
    "start_time": "2023-01-30T09:40:01.282Z"
   },
   {
    "duration": 12,
    "start_time": "2023-01-30T09:40:14.485Z"
   },
   {
    "duration": 19,
    "start_time": "2023-01-30T09:40:46.350Z"
   },
   {
    "duration": 296,
    "start_time": "2023-01-30T09:42:23.753Z"
   },
   {
    "duration": 200,
    "start_time": "2023-01-30T09:47:26.746Z"
   },
   {
    "duration": 271,
    "start_time": "2023-01-30T10:42:06.223Z"
   },
   {
    "duration": 365,
    "start_time": "2023-01-30T10:48:44.261Z"
   },
   {
    "duration": 286,
    "start_time": "2023-01-30T10:53:22.471Z"
   },
   {
    "duration": 279,
    "start_time": "2023-01-30T10:53:58.428Z"
   },
   {
    "duration": 14,
    "start_time": "2023-01-30T11:05:00.753Z"
   },
   {
    "duration": 13,
    "start_time": "2023-01-30T11:05:30.841Z"
   },
   {
    "duration": 18,
    "start_time": "2023-01-30T11:06:26.196Z"
   },
   {
    "duration": 14,
    "start_time": "2023-01-30T11:06:48.923Z"
   },
   {
    "duration": 183,
    "start_time": "2023-01-30T11:08:54.304Z"
   },
   {
    "duration": 176,
    "start_time": "2023-01-30T11:09:31.458Z"
   },
   {
    "duration": 180,
    "start_time": "2023-01-30T11:10:06.131Z"
   },
   {
    "duration": 182,
    "start_time": "2023-01-30T11:10:20.594Z"
   },
   {
    "duration": 209,
    "start_time": "2023-01-30T11:16:51.132Z"
   },
   {
    "duration": 328,
    "start_time": "2023-01-30T11:21:41.899Z"
   },
   {
    "duration": 345,
    "start_time": "2023-01-30T11:22:28.028Z"
   },
   {
    "duration": 398,
    "start_time": "2023-01-31T07:48:06.314Z"
   },
   {
    "duration": 107,
    "start_time": "2023-01-31T07:48:06.714Z"
   },
   {
    "duration": 14,
    "start_time": "2023-01-31T07:48:06.823Z"
   },
   {
    "duration": 11,
    "start_time": "2023-01-31T07:48:06.840Z"
   },
   {
    "duration": 17,
    "start_time": "2023-01-31T07:48:06.853Z"
   },
   {
    "duration": 38,
    "start_time": "2023-01-31T07:48:06.878Z"
   },
   {
    "duration": 11,
    "start_time": "2023-01-31T07:48:06.918Z"
   },
   {
    "duration": 477,
    "start_time": "2023-01-31T07:48:06.930Z"
   },
   {
    "duration": 120,
    "start_time": "2023-01-31T07:48:07.410Z"
   },
   {
    "duration": 10,
    "start_time": "2023-01-31T07:48:07.533Z"
   },
   {
    "duration": 40,
    "start_time": "2023-01-31T07:48:07.545Z"
   },
   {
    "duration": 49,
    "start_time": "2023-01-31T07:48:07.586Z"
   },
   {
    "duration": 97,
    "start_time": "2023-01-31T07:48:07.637Z"
   },
   {
    "duration": 9,
    "start_time": "2023-01-31T07:48:07.735Z"
   },
   {
    "duration": 22,
    "start_time": "2023-01-31T07:48:07.746Z"
   },
   {
    "duration": 55,
    "start_time": "2023-01-31T07:48:07.774Z"
   },
   {
    "duration": 24,
    "start_time": "2023-01-31T07:48:07.830Z"
   },
   {
    "duration": 234,
    "start_time": "2023-01-31T07:48:07.856Z"
   },
   {
    "duration": 138,
    "start_time": "2023-01-31T07:48:08.099Z"
   },
   {
    "duration": 16,
    "start_time": "2023-01-31T07:48:08.238Z"
   },
   {
    "duration": 352,
    "start_time": "2023-01-31T07:48:08.255Z"
   },
   {
    "duration": 214,
    "start_time": "2023-01-31T07:48:08.609Z"
   },
   {
    "duration": 369,
    "start_time": "2023-01-31T07:48:08.825Z"
   },
   {
    "duration": 219,
    "start_time": "2023-01-31T07:48:09.196Z"
   },
   {
    "duration": 292,
    "start_time": "2023-01-31T07:48:09.417Z"
   },
   {
    "duration": 207,
    "start_time": "2023-01-31T07:48:09.711Z"
   },
   {
    "duration": 173,
    "start_time": "2023-01-31T07:51:53.239Z"
   },
   {
    "duration": 221,
    "start_time": "2023-01-31T07:52:10.438Z"
   },
   {
    "duration": 81,
    "start_time": "2023-01-31T08:00:09.364Z"
   },
   {
    "duration": 5,
    "start_time": "2023-01-31T08:00:46.019Z"
   },
   {
    "duration": 6,
    "start_time": "2023-01-31T08:01:05.318Z"
   },
   {
    "duration": 8,
    "start_time": "2023-01-31T08:01:44.592Z"
   },
   {
    "duration": 5,
    "start_time": "2023-01-31T08:01:55.184Z"
   },
   {
    "duration": 206,
    "start_time": "2023-01-31T08:06:05.855Z"
   },
   {
    "duration": 168,
    "start_time": "2023-01-31T08:06:25.407Z"
   },
   {
    "duration": 201,
    "start_time": "2023-01-31T08:06:55.362Z"
   },
   {
    "duration": 290,
    "start_time": "2023-01-31T08:07:14.908Z"
   },
   {
    "duration": 215,
    "start_time": "2023-01-31T08:07:34.931Z"
   },
   {
    "duration": 391,
    "start_time": "2023-01-31T08:08:13.691Z"
   },
   {
    "duration": 189,
    "start_time": "2023-01-31T08:08:36.424Z"
   },
   {
    "duration": 335,
    "start_time": "2023-01-31T08:12:26.453Z"
   },
   {
    "duration": 10,
    "start_time": "2023-01-31T08:23:06.588Z"
   },
   {
    "duration": 8,
    "start_time": "2023-01-31T08:24:35.620Z"
   },
   {
    "duration": 13,
    "start_time": "2023-01-31T08:24:58.555Z"
   },
   {
    "duration": 11,
    "start_time": "2023-01-31T08:25:29.690Z"
   },
   {
    "duration": 13,
    "start_time": "2023-01-31T08:40:34.883Z"
   },
   {
    "duration": 141,
    "start_time": "2023-01-31T08:40:59.839Z"
   },
   {
    "duration": 163,
    "start_time": "2023-01-31T09:12:08.848Z"
   },
   {
    "duration": 5,
    "start_time": "2023-01-31T09:18:00.142Z"
   },
   {
    "duration": 160,
    "start_time": "2023-01-31T09:23:05.420Z"
   },
   {
    "duration": 5,
    "start_time": "2023-01-31T09:25:17.041Z"
   },
   {
    "duration": 405,
    "start_time": "2023-02-01T07:10:26.796Z"
   },
   {
    "duration": 85,
    "start_time": "2023-02-01T07:10:27.203Z"
   },
   {
    "duration": 14,
    "start_time": "2023-02-01T07:10:27.290Z"
   },
   {
    "duration": 11,
    "start_time": "2023-02-01T07:10:27.306Z"
   },
   {
    "duration": 13,
    "start_time": "2023-02-01T07:10:27.318Z"
   },
   {
    "duration": 13,
    "start_time": "2023-02-01T07:10:27.333Z"
   },
   {
    "duration": 11,
    "start_time": "2023-02-01T07:10:27.347Z"
   },
   {
    "duration": 421,
    "start_time": "2023-02-01T07:10:27.359Z"
   },
   {
    "duration": 160,
    "start_time": "2023-02-01T07:10:27.782Z"
   },
   {
    "duration": 10,
    "start_time": "2023-02-01T07:10:27.944Z"
   },
   {
    "duration": 19,
    "start_time": "2023-02-01T07:10:27.956Z"
   },
   {
    "duration": 15,
    "start_time": "2023-02-01T07:10:27.977Z"
   },
   {
    "duration": 9,
    "start_time": "2023-02-01T07:10:27.994Z"
   },
   {
    "duration": 76,
    "start_time": "2023-02-01T07:10:28.004Z"
   },
   {
    "duration": 9,
    "start_time": "2023-02-01T07:10:28.081Z"
   },
   {
    "duration": 10,
    "start_time": "2023-02-01T07:10:28.092Z"
   },
   {
    "duration": 15,
    "start_time": "2023-02-01T07:10:28.104Z"
   },
   {
    "duration": 14,
    "start_time": "2023-02-01T07:10:28.121Z"
   },
   {
    "duration": 7,
    "start_time": "2023-02-01T07:10:28.136Z"
   },
   {
    "duration": 171,
    "start_time": "2023-02-01T07:10:28.145Z"
   },
   {
    "duration": 126,
    "start_time": "2023-02-01T07:10:28.317Z"
   },
   {
    "duration": 17,
    "start_time": "2023-02-01T07:10:28.445Z"
   },
   {
    "duration": 307,
    "start_time": "2023-02-01T07:10:28.463Z"
   },
   {
    "duration": 217,
    "start_time": "2023-02-01T07:10:28.772Z"
   },
   {
    "duration": 444,
    "start_time": "2023-02-01T07:10:28.991Z"
   },
   {
    "duration": 201,
    "start_time": "2023-02-01T07:10:29.436Z"
   },
   {
    "duration": 301,
    "start_time": "2023-02-01T07:10:29.639Z"
   },
   {
    "duration": 13,
    "start_time": "2023-02-01T07:10:29.944Z"
   },
   {
    "duration": 170,
    "start_time": "2023-02-01T07:10:29.958Z"
   },
   {
    "duration": 5,
    "start_time": "2023-02-01T07:10:30.130Z"
   },
   {
    "duration": 185,
    "start_time": "2023-02-01T07:10:30.137Z"
   },
   {
    "duration": 5,
    "start_time": "2023-02-01T07:10:30.323Z"
   },
   {
    "duration": 180,
    "start_time": "2023-02-01T07:10:30.330Z"
   },
   {
    "duration": 8,
    "start_time": "2023-02-01T07:14:19.321Z"
   },
   {
    "duration": 9,
    "start_time": "2023-02-01T07:14:48.108Z"
   },
   {
    "duration": 113,
    "start_time": "2023-02-01T07:16:47.164Z"
   },
   {
    "duration": 222,
    "start_time": "2023-02-01T07:17:53.718Z"
   },
   {
    "duration": 9,
    "start_time": "2023-02-01T07:22:02.746Z"
   },
   {
    "duration": 144,
    "start_time": "2023-02-01T07:40:46.848Z"
   },
   {
    "duration": 157,
    "start_time": "2023-02-01T07:48:42.457Z"
   },
   {
    "duration": 746,
    "start_time": "2023-02-01T07:48:47.539Z"
   },
   {
    "duration": 233,
    "start_time": "2023-02-01T07:52:59.273Z"
   },
   {
    "duration": 7,
    "start_time": "2023-02-01T07:53:44.910Z"
   },
   {
    "duration": 8,
    "start_time": "2023-02-01T07:56:30.983Z"
   },
   {
    "duration": 496,
    "start_time": "2023-02-01T08:03:36.283Z"
   },
   {
    "duration": 6,
    "start_time": "2023-02-01T08:04:05.510Z"
   },
   {
    "duration": 23,
    "start_time": "2023-02-01T08:04:09.572Z"
   },
   {
    "duration": 21,
    "start_time": "2023-02-01T08:59:43.764Z"
   },
   {
    "duration": 13,
    "start_time": "2023-02-01T09:18:12.980Z"
   },
   {
    "duration": 6,
    "start_time": "2023-02-01T10:00:51.933Z"
   },
   {
    "duration": 781,
    "start_time": "2023-02-01T10:09:10.764Z"
   },
   {
    "duration": 786,
    "start_time": "2023-02-01T10:10:19.977Z"
   },
   {
    "duration": 135,
    "start_time": "2023-02-01T10:12:15.547Z"
   },
   {
    "duration": 11,
    "start_time": "2023-02-01T10:13:15.573Z"
   },
   {
    "duration": 62,
    "start_time": "2023-02-01T11:29:32.299Z"
   },
   {
    "duration": 4,
    "start_time": "2023-02-01T11:29:47.710Z"
   },
   {
    "duration": 6,
    "start_time": "2023-02-01T11:30:03.613Z"
   },
   {
    "duration": 10,
    "start_time": "2023-02-01T11:30:48.807Z"
   },
   {
    "duration": 1331,
    "start_time": "2023-02-01T11:38:09.878Z"
   },
   {
    "duration": 7,
    "start_time": "2023-02-01T11:38:47.700Z"
   },
   {
    "duration": 23,
    "start_time": "2023-02-01T11:40:35.628Z"
   },
   {
    "duration": 13,
    "start_time": "2023-02-01T12:15:38.911Z"
   },
   {
    "duration": 441,
    "start_time": "2023-02-02T08:53:48.703Z"
   },
   {
    "duration": 77,
    "start_time": "2023-02-02T08:53:49.147Z"
   },
   {
    "duration": 15,
    "start_time": "2023-02-02T08:53:49.226Z"
   },
   {
    "duration": 30,
    "start_time": "2023-02-02T08:53:49.243Z"
   },
   {
    "duration": 23,
    "start_time": "2023-02-02T08:53:49.275Z"
   },
   {
    "duration": 48,
    "start_time": "2023-02-02T08:53:49.301Z"
   },
   {
    "duration": 29,
    "start_time": "2023-02-02T08:53:49.352Z"
   },
   {
    "duration": 950,
    "start_time": "2023-02-02T08:53:49.383Z"
   },
   {
    "duration": 123,
    "start_time": "2023-02-02T08:53:50.334Z"
   },
   {
    "duration": 12,
    "start_time": "2023-02-02T08:53:50.460Z"
   },
   {
    "duration": 39,
    "start_time": "2023-02-02T08:53:50.473Z"
   },
   {
    "duration": 30,
    "start_time": "2023-02-02T08:53:50.514Z"
   },
   {
    "duration": 36,
    "start_time": "2023-02-02T08:53:50.545Z"
   },
   {
    "duration": 79,
    "start_time": "2023-02-02T08:53:50.583Z"
   },
   {
    "duration": 11,
    "start_time": "2023-02-02T08:53:50.663Z"
   },
   {
    "duration": 16,
    "start_time": "2023-02-02T08:53:50.676Z"
   },
   {
    "duration": 43,
    "start_time": "2023-02-02T08:53:50.694Z"
   },
   {
    "duration": 22,
    "start_time": "2023-02-02T08:53:50.739Z"
   },
   {
    "duration": 33,
    "start_time": "2023-02-02T08:53:50.763Z"
   },
   {
    "duration": 193,
    "start_time": "2023-02-02T08:53:50.797Z"
   },
   {
    "duration": 126,
    "start_time": "2023-02-02T08:53:50.992Z"
   },
   {
    "duration": 27,
    "start_time": "2023-02-02T08:53:51.120Z"
   },
   {
    "duration": 347,
    "start_time": "2023-02-02T08:53:51.148Z"
   },
   {
    "duration": 223,
    "start_time": "2023-02-02T08:53:51.497Z"
   },
   {
    "duration": 16,
    "start_time": "2023-02-02T08:53:51.722Z"
   },
   {
    "duration": 359,
    "start_time": "2023-02-02T08:53:51.740Z"
   },
   {
    "duration": 217,
    "start_time": "2023-02-02T08:53:52.101Z"
   },
   {
    "duration": 338,
    "start_time": "2023-02-02T08:53:52.322Z"
   },
   {
    "duration": 12,
    "start_time": "2023-02-02T08:53:52.662Z"
   },
   {
    "duration": 162,
    "start_time": "2023-02-02T08:53:52.676Z"
   },
   {
    "duration": 5,
    "start_time": "2023-02-02T08:53:52.841Z"
   },
   {
    "duration": 190,
    "start_time": "2023-02-02T08:53:52.848Z"
   },
   {
    "duration": 6,
    "start_time": "2023-02-02T08:53:53.040Z"
   },
   {
    "duration": 22,
    "start_time": "2023-02-02T08:53:53.047Z"
   },
   {
    "duration": 270,
    "start_time": "2023-02-02T08:53:53.071Z"
   },
   {
    "duration": 173,
    "start_time": "2023-02-02T08:53:53.343Z"
   },
   {
    "duration": 18,
    "start_time": "2023-02-02T08:53:53.518Z"
   },
   {
    "duration": 28,
    "start_time": "2023-02-02T08:53:53.539Z"
   },
   {
    "duration": 12,
    "start_time": "2023-02-02T08:53:53.568Z"
   },
   {
    "duration": 7,
    "start_time": "2023-02-02T08:53:53.582Z"
   },
   {
    "duration": 10,
    "start_time": "2023-02-02T08:53:53.591Z"
   },
   {
    "duration": 40,
    "start_time": "2023-02-02T08:53:53.602Z"
   },
   {
    "duration": 13,
    "start_time": "2023-02-02T08:53:53.643Z"
   },
   {
    "duration": 27,
    "start_time": "2023-02-02T08:53:53.658Z"
   },
   {
    "duration": 14,
    "start_time": "2023-02-02T08:53:53.687Z"
   },
   {
    "duration": 8,
    "start_time": "2023-02-02T08:55:23.494Z"
   },
   {
    "duration": 13,
    "start_time": "2023-02-02T08:56:24.762Z"
   },
   {
    "duration": 58,
    "start_time": "2023-02-02T08:57:52.352Z"
   },
   {
    "duration": 55,
    "start_time": "2023-02-02T08:58:41.111Z"
   },
   {
    "duration": 75,
    "start_time": "2023-02-02T09:01:19.982Z"
   },
   {
    "duration": 22,
    "start_time": "2023-02-02T09:03:08.456Z"
   },
   {
    "duration": 13,
    "start_time": "2023-02-02T09:03:41.500Z"
   },
   {
    "duration": 323,
    "start_time": "2023-02-02T09:29:03.938Z"
   },
   {
    "duration": 276,
    "start_time": "2023-02-02T09:41:26.031Z"
   },
   {
    "duration": 103,
    "start_time": "2023-02-02T10:00:44.311Z"
   },
   {
    "duration": 11,
    "start_time": "2023-02-02T10:00:56.439Z"
   },
   {
    "duration": 14,
    "start_time": "2023-02-02T10:01:16.770Z"
   },
   {
    "duration": 6,
    "start_time": "2023-02-02T10:01:56.783Z"
   },
   {
    "duration": 164,
    "start_time": "2023-02-02T10:05:04.171Z"
   },
   {
    "duration": 170,
    "start_time": "2023-02-02T10:05:15.307Z"
   },
   {
    "duration": 14,
    "start_time": "2023-02-02T11:15:14.716Z"
   },
   {
    "duration": 13,
    "start_time": "2023-02-02T11:15:23.554Z"
   },
   {
    "duration": 420,
    "start_time": "2023-02-06T06:26:08.268Z"
   },
   {
    "duration": 80,
    "start_time": "2023-02-06T06:26:08.690Z"
   },
   {
    "duration": 21,
    "start_time": "2023-02-06T06:26:08.772Z"
   },
   {
    "duration": 13,
    "start_time": "2023-02-06T06:26:08.795Z"
   },
   {
    "duration": 66,
    "start_time": "2023-02-06T06:26:08.809Z"
   },
   {
    "duration": 0,
    "start_time": "2023-02-06T06:26:08.878Z"
   },
   {
    "duration": 0,
    "start_time": "2023-02-06T06:26:08.879Z"
   },
   {
    "duration": 0,
    "start_time": "2023-02-06T06:26:08.881Z"
   },
   {
    "duration": 0,
    "start_time": "2023-02-06T06:26:08.882Z"
   },
   {
    "duration": 0,
    "start_time": "2023-02-06T06:26:08.884Z"
   },
   {
    "duration": 0,
    "start_time": "2023-02-06T06:26:08.903Z"
   },
   {
    "duration": 0,
    "start_time": "2023-02-06T06:26:08.905Z"
   },
   {
    "duration": 0,
    "start_time": "2023-02-06T06:26:08.906Z"
   },
   {
    "duration": 0,
    "start_time": "2023-02-06T06:26:08.907Z"
   },
   {
    "duration": 0,
    "start_time": "2023-02-06T06:26:08.909Z"
   },
   {
    "duration": 0,
    "start_time": "2023-02-06T06:26:08.910Z"
   },
   {
    "duration": 0,
    "start_time": "2023-02-06T06:26:08.911Z"
   },
   {
    "duration": 0,
    "start_time": "2023-02-06T06:26:08.913Z"
   },
   {
    "duration": 0,
    "start_time": "2023-02-06T06:26:08.914Z"
   },
   {
    "duration": 0,
    "start_time": "2023-02-06T06:26:08.915Z"
   },
   {
    "duration": 0,
    "start_time": "2023-02-06T06:26:08.916Z"
   },
   {
    "duration": 0,
    "start_time": "2023-02-06T06:26:08.919Z"
   },
   {
    "duration": 0,
    "start_time": "2023-02-06T06:26:08.920Z"
   },
   {
    "duration": 0,
    "start_time": "2023-02-06T06:26:08.921Z"
   },
   {
    "duration": 0,
    "start_time": "2023-02-06T06:26:08.922Z"
   },
   {
    "duration": 0,
    "start_time": "2023-02-06T06:26:08.923Z"
   },
   {
    "duration": 0,
    "start_time": "2023-02-06T06:26:08.925Z"
   },
   {
    "duration": 0,
    "start_time": "2023-02-06T06:26:08.926Z"
   },
   {
    "duration": 0,
    "start_time": "2023-02-06T06:26:08.927Z"
   },
   {
    "duration": 0,
    "start_time": "2023-02-06T06:26:08.928Z"
   },
   {
    "duration": 0,
    "start_time": "2023-02-06T06:26:08.929Z"
   },
   {
    "duration": 0,
    "start_time": "2023-02-06T06:26:08.931Z"
   },
   {
    "duration": 0,
    "start_time": "2023-02-06T06:26:08.932Z"
   },
   {
    "duration": 0,
    "start_time": "2023-02-06T06:26:08.933Z"
   },
   {
    "duration": 0,
    "start_time": "2023-02-06T06:26:08.935Z"
   },
   {
    "duration": 0,
    "start_time": "2023-02-06T06:26:08.936Z"
   },
   {
    "duration": 0,
    "start_time": "2023-02-06T06:26:08.938Z"
   },
   {
    "duration": 0,
    "start_time": "2023-02-06T06:26:08.939Z"
   },
   {
    "duration": 0,
    "start_time": "2023-02-06T06:26:08.941Z"
   },
   {
    "duration": 0,
    "start_time": "2023-02-06T06:26:08.942Z"
   },
   {
    "duration": 0,
    "start_time": "2023-02-06T06:26:09.004Z"
   },
   {
    "duration": 0,
    "start_time": "2023-02-06T06:26:09.005Z"
   },
   {
    "duration": 0,
    "start_time": "2023-02-06T06:26:09.007Z"
   },
   {
    "duration": 0,
    "start_time": "2023-02-06T06:26:09.009Z"
   },
   {
    "duration": 0,
    "start_time": "2023-02-06T06:26:09.010Z"
   },
   {
    "duration": 10,
    "start_time": "2023-02-06T06:26:39.202Z"
   },
   {
    "duration": 8,
    "start_time": "2023-02-06T06:26:59.141Z"
   },
   {
    "duration": 16,
    "start_time": "2023-02-06T06:28:04.701Z"
   },
   {
    "duration": 18,
    "start_time": "2023-02-06T06:29:04.575Z"
   },
   {
    "duration": 7,
    "start_time": "2023-02-06T07:00:54.813Z"
   },
   {
    "duration": 25,
    "start_time": "2023-02-06T07:00:54.827Z"
   },
   {
    "duration": 8,
    "start_time": "2023-02-06T07:00:54.854Z"
   },
   {
    "duration": 14,
    "start_time": "2023-02-06T07:00:54.863Z"
   },
   {
    "duration": 9,
    "start_time": "2023-02-06T07:00:54.880Z"
   },
   {
    "duration": 14,
    "start_time": "2023-02-06T07:00:54.890Z"
   },
   {
    "duration": 29,
    "start_time": "2023-02-06T07:00:54.906Z"
   },
   {
    "duration": 982,
    "start_time": "2023-02-06T07:00:54.938Z"
   },
   {
    "duration": 114,
    "start_time": "2023-02-06T07:00:55.922Z"
   },
   {
    "duration": 11,
    "start_time": "2023-02-06T07:00:56.038Z"
   },
   {
    "duration": 22,
    "start_time": "2023-02-06T07:00:56.053Z"
   },
   {
    "duration": 16,
    "start_time": "2023-02-06T07:00:56.077Z"
   },
   {
    "duration": 12,
    "start_time": "2023-02-06T07:00:56.096Z"
   },
   {
    "duration": 71,
    "start_time": "2023-02-06T07:00:56.110Z"
   },
   {
    "duration": 10,
    "start_time": "2023-02-06T07:00:56.182Z"
   },
   {
    "duration": 9,
    "start_time": "2023-02-06T07:00:56.196Z"
   },
   {
    "duration": 17,
    "start_time": "2023-02-06T07:00:56.207Z"
   },
   {
    "duration": 9,
    "start_time": "2023-02-06T07:00:56.227Z"
   },
   {
    "duration": 901,
    "start_time": "2023-02-06T07:00:56.238Z"
   },
   {
    "duration": 0,
    "start_time": "2023-02-06T07:00:57.141Z"
   },
   {
    "duration": 0,
    "start_time": "2023-02-06T07:00:57.143Z"
   },
   {
    "duration": 0,
    "start_time": "2023-02-06T07:00:57.144Z"
   },
   {
    "duration": 0,
    "start_time": "2023-02-06T07:00:57.145Z"
   },
   {
    "duration": 0,
    "start_time": "2023-02-06T07:00:57.147Z"
   },
   {
    "duration": 0,
    "start_time": "2023-02-06T07:00:57.148Z"
   },
   {
    "duration": 0,
    "start_time": "2023-02-06T07:00:57.149Z"
   },
   {
    "duration": 0,
    "start_time": "2023-02-06T07:00:57.150Z"
   },
   {
    "duration": 0,
    "start_time": "2023-02-06T07:00:57.151Z"
   },
   {
    "duration": 0,
    "start_time": "2023-02-06T07:00:57.152Z"
   },
   {
    "duration": 0,
    "start_time": "2023-02-06T07:00:57.153Z"
   },
   {
    "duration": 0,
    "start_time": "2023-02-06T07:00:57.154Z"
   },
   {
    "duration": 0,
    "start_time": "2023-02-06T07:00:57.155Z"
   },
   {
    "duration": 0,
    "start_time": "2023-02-06T07:00:57.156Z"
   },
   {
    "duration": 0,
    "start_time": "2023-02-06T07:00:57.157Z"
   },
   {
    "duration": 0,
    "start_time": "2023-02-06T07:00:57.159Z"
   },
   {
    "duration": 0,
    "start_time": "2023-02-06T07:00:57.160Z"
   },
   {
    "duration": 0,
    "start_time": "2023-02-06T07:00:57.161Z"
   },
   {
    "duration": 0,
    "start_time": "2023-02-06T07:00:57.162Z"
   },
   {
    "duration": 0,
    "start_time": "2023-02-06T07:00:57.163Z"
   },
   {
    "duration": 0,
    "start_time": "2023-02-06T07:00:57.164Z"
   },
   {
    "duration": 0,
    "start_time": "2023-02-06T07:00:57.165Z"
   },
   {
    "duration": 0,
    "start_time": "2023-02-06T07:00:57.166Z"
   },
   {
    "duration": 0,
    "start_time": "2023-02-06T07:00:57.167Z"
   },
   {
    "duration": 0,
    "start_time": "2023-02-06T07:00:57.168Z"
   },
   {
    "duration": 0,
    "start_time": "2023-02-06T07:00:57.169Z"
   },
   {
    "duration": 0,
    "start_time": "2023-02-06T07:00:57.170Z"
   },
   {
    "duration": 10,
    "start_time": "2023-02-06T07:02:48.577Z"
   },
   {
    "duration": 32,
    "start_time": "2023-02-06T07:03:56.349Z"
   },
   {
    "duration": 8,
    "start_time": "2023-02-06T07:04:31.172Z"
   },
   {
    "duration": 20,
    "start_time": "2023-02-06T07:04:41.691Z"
   },
   {
    "duration": 12,
    "start_time": "2023-02-06T07:05:54.054Z"
   },
   {
    "duration": 11,
    "start_time": "2023-02-06T07:12:54.737Z"
   },
   {
    "duration": 6,
    "start_time": "2023-02-06T07:15:46.294Z"
   },
   {
    "duration": 9,
    "start_time": "2023-02-06T07:20:50.817Z"
   },
   {
    "duration": 11,
    "start_time": "2023-02-06T07:24:46.920Z"
   },
   {
    "duration": 14,
    "start_time": "2023-02-06T07:25:41.242Z"
   },
   {
    "duration": 10,
    "start_time": "2023-02-06T07:26:05.662Z"
   },
   {
    "duration": 11,
    "start_time": "2023-02-06T07:26:51.536Z"
   },
   {
    "duration": 10,
    "start_time": "2023-02-06T07:27:14.034Z"
   },
   {
    "duration": 15,
    "start_time": "2023-02-06T07:29:02.900Z"
   },
   {
    "duration": 6,
    "start_time": "2023-02-06T07:30:05.931Z"
   },
   {
    "duration": 4,
    "start_time": "2023-02-06T07:32:02.198Z"
   },
   {
    "duration": 10,
    "start_time": "2023-02-06T07:36:07.126Z"
   },
   {
    "duration": 5,
    "start_time": "2023-02-06T07:36:10.556Z"
   },
   {
    "duration": 11,
    "start_time": "2023-02-06T07:36:12.230Z"
   },
   {
    "duration": 24,
    "start_time": "2023-02-06T07:43:06.776Z"
   },
   {
    "duration": 15,
    "start_time": "2023-02-06T08:12:55.941Z"
   },
   {
    "duration": 20,
    "start_time": "2023-02-06T08:15:00.937Z"
   },
   {
    "duration": 10,
    "start_time": "2023-02-06T08:17:35.891Z"
   },
   {
    "duration": 6,
    "start_time": "2023-02-06T08:18:27.344Z"
   },
   {
    "duration": 6,
    "start_time": "2023-02-06T08:18:52.249Z"
   },
   {
    "duration": 6,
    "start_time": "2023-02-06T08:18:57.547Z"
   },
   {
    "duration": 10,
    "start_time": "2023-02-06T08:19:20.930Z"
   },
   {
    "duration": 14,
    "start_time": "2023-02-06T08:55:04.045Z"
   },
   {
    "duration": 10,
    "start_time": "2023-02-06T08:55:12.084Z"
   },
   {
    "duration": 9,
    "start_time": "2023-02-06T09:03:33.413Z"
   },
   {
    "duration": 12,
    "start_time": "2023-02-06T09:25:22.699Z"
   },
   {
    "duration": 69,
    "start_time": "2023-02-06T09:27:15.329Z"
   },
   {
    "duration": 16,
    "start_time": "2023-02-06T09:27:50.143Z"
   },
   {
    "duration": 13,
    "start_time": "2023-02-06T09:31:51.170Z"
   },
   {
    "duration": 61,
    "start_time": "2023-02-06T09:33:12.885Z"
   },
   {
    "duration": 53,
    "start_time": "2023-02-06T09:33:20.748Z"
   },
   {
    "duration": 10,
    "start_time": "2023-02-06T09:33:55.997Z"
   },
   {
    "duration": 25,
    "start_time": "2023-02-06T09:36:46.591Z"
   },
   {
    "duration": 11,
    "start_time": "2023-02-06T09:37:03.882Z"
   },
   {
    "duration": 12,
    "start_time": "2023-02-06T09:37:06.271Z"
   },
   {
    "duration": 13,
    "start_time": "2023-02-06T09:37:59.140Z"
   },
   {
    "duration": 3,
    "start_time": "2023-02-06T09:38:18.779Z"
   },
   {
    "duration": 32,
    "start_time": "2023-02-06T09:38:18.787Z"
   },
   {
    "duration": 7,
    "start_time": "2023-02-06T09:38:18.821Z"
   },
   {
    "duration": 10,
    "start_time": "2023-02-06T09:38:18.838Z"
   },
   {
    "duration": 10,
    "start_time": "2023-02-06T09:38:18.850Z"
   },
   {
    "duration": 11,
    "start_time": "2023-02-06T09:38:18.861Z"
   },
   {
    "duration": 13,
    "start_time": "2023-02-06T09:38:18.874Z"
   },
   {
    "duration": 15,
    "start_time": "2023-02-06T09:38:18.889Z"
   },
   {
    "duration": 43,
    "start_time": "2023-02-06T09:38:18.905Z"
   },
   {
    "duration": 9,
    "start_time": "2023-02-06T09:38:18.950Z"
   },
   {
    "duration": 17,
    "start_time": "2023-02-06T09:38:18.960Z"
   },
   {
    "duration": 12,
    "start_time": "2023-02-06T09:38:18.979Z"
   },
   {
    "duration": 5,
    "start_time": "2023-02-06T09:38:18.992Z"
   },
   {
    "duration": 20,
    "start_time": "2023-02-06T09:38:18.998Z"
   },
   {
    "duration": 8,
    "start_time": "2023-02-06T09:38:19.019Z"
   },
   {
    "duration": 7,
    "start_time": "2023-02-06T09:38:19.028Z"
   },
   {
    "duration": 12,
    "start_time": "2023-02-06T09:38:19.036Z"
   },
   {
    "duration": 6,
    "start_time": "2023-02-06T09:38:19.049Z"
   },
   {
    "duration": 9,
    "start_time": "2023-02-06T09:38:19.057Z"
   },
   {
    "duration": 4,
    "start_time": "2023-02-06T09:38:19.067Z"
   },
   {
    "duration": 33,
    "start_time": "2023-02-06T09:38:19.072Z"
   },
   {
    "duration": 13,
    "start_time": "2023-02-06T09:38:19.107Z"
   },
   {
    "duration": 8,
    "start_time": "2023-02-06T09:38:19.122Z"
   },
   {
    "duration": 11,
    "start_time": "2023-02-06T09:38:19.131Z"
   },
   {
    "duration": 4,
    "start_time": "2023-02-06T09:38:19.144Z"
   },
   {
    "duration": 188,
    "start_time": "2023-02-06T09:38:19.151Z"
   },
   {
    "duration": 123,
    "start_time": "2023-02-06T09:38:19.341Z"
   },
   {
    "duration": 13,
    "start_time": "2023-02-06T09:38:19.466Z"
   },
   {
    "duration": 279,
    "start_time": "2023-02-06T09:38:19.480Z"
   },
   {
    "duration": 192,
    "start_time": "2023-02-06T09:38:19.760Z"
   },
   {
    "duration": 11,
    "start_time": "2023-02-06T09:38:19.954Z"
   },
   {
    "duration": 381,
    "start_time": "2023-02-06T09:38:19.966Z"
   },
   {
    "duration": 191,
    "start_time": "2023-02-06T09:38:20.349Z"
   },
   {
    "duration": 276,
    "start_time": "2023-02-06T09:38:20.543Z"
   },
   {
    "duration": 10,
    "start_time": "2023-02-06T09:38:20.822Z"
   },
   {
    "duration": 165,
    "start_time": "2023-02-06T09:38:20.834Z"
   },
   {
    "duration": 5,
    "start_time": "2023-02-06T09:38:21.003Z"
   },
   {
    "duration": 173,
    "start_time": "2023-02-06T09:38:21.009Z"
   },
   {
    "duration": 4,
    "start_time": "2023-02-06T09:38:21.183Z"
   },
   {
    "duration": 27,
    "start_time": "2023-02-06T09:38:21.189Z"
   },
   {
    "duration": 271,
    "start_time": "2023-02-06T09:38:21.217Z"
   },
   {
    "duration": 133,
    "start_time": "2023-02-06T09:38:21.489Z"
   },
   {
    "duration": 6,
    "start_time": "2023-02-06T09:38:21.623Z"
   },
   {
    "duration": 51,
    "start_time": "2023-02-06T09:38:21.630Z"
   },
   {
    "duration": 10,
    "start_time": "2023-02-06T09:38:21.682Z"
   },
   {
    "duration": 6,
    "start_time": "2023-02-06T09:38:21.693Z"
   },
   {
    "duration": 23,
    "start_time": "2023-02-06T09:38:21.700Z"
   },
   {
    "duration": 20,
    "start_time": "2023-02-06T09:38:21.725Z"
   },
   {
    "duration": 10,
    "start_time": "2023-02-06T09:38:21.746Z"
   },
   {
    "duration": 32,
    "start_time": "2023-02-06T09:38:21.757Z"
   },
   {
    "duration": 15,
    "start_time": "2023-02-06T09:38:21.791Z"
   },
   {
    "duration": 222,
    "start_time": "2023-02-06T10:11:08.252Z"
   },
   {
    "duration": 210,
    "start_time": "2023-02-06T10:13:41.938Z"
   },
   {
    "duration": 313,
    "start_time": "2023-02-06T10:16:15.631Z"
   },
   {
    "duration": 13,
    "start_time": "2023-02-06T10:18:52.680Z"
   },
   {
    "duration": 196,
    "start_time": "2023-02-06T10:21:35.752Z"
   },
   {
    "duration": 51,
    "start_time": "2023-02-07T15:34:53.658Z"
   },
   {
    "duration": 374,
    "start_time": "2023-02-07T15:34:58.352Z"
   },
   {
    "duration": 62,
    "start_time": "2023-02-07T15:34:58.728Z"
   },
   {
    "duration": 13,
    "start_time": "2023-02-07T15:34:58.791Z"
   },
   {
    "duration": 12,
    "start_time": "2023-02-07T15:34:58.806Z"
   },
   {
    "duration": 10,
    "start_time": "2023-02-07T15:34:58.820Z"
   },
   {
    "duration": 12,
    "start_time": "2023-02-07T15:34:58.832Z"
   },
   {
    "duration": 14,
    "start_time": "2023-02-07T15:34:58.846Z"
   },
   {
    "duration": 856,
    "start_time": "2023-02-07T15:34:58.861Z"
   },
   {
    "duration": 79,
    "start_time": "2023-02-07T15:34:59.719Z"
   },
   {
    "duration": 9,
    "start_time": "2023-02-07T15:34:59.800Z"
   },
   {
    "duration": 21,
    "start_time": "2023-02-07T15:34:59.810Z"
   },
   {
    "duration": 12,
    "start_time": "2023-02-07T15:34:59.832Z"
   },
   {
    "duration": 7,
    "start_time": "2023-02-07T15:34:59.845Z"
   },
   {
    "duration": 75,
    "start_time": "2023-02-07T15:34:59.853Z"
   },
   {
    "duration": 9,
    "start_time": "2023-02-07T15:34:59.930Z"
   },
   {
    "duration": 12,
    "start_time": "2023-02-07T15:34:59.941Z"
   },
   {
    "duration": 38,
    "start_time": "2023-02-07T15:34:59.955Z"
   },
   {
    "duration": 25,
    "start_time": "2023-02-07T15:34:59.995Z"
   },
   {
    "duration": 33,
    "start_time": "2023-02-07T15:35:00.022Z"
   },
   {
    "duration": 20,
    "start_time": "2023-02-07T15:35:00.057Z"
   },
   {
    "duration": 7,
    "start_time": "2023-02-07T15:35:00.079Z"
   },
   {
    "duration": 18,
    "start_time": "2023-02-07T15:35:00.088Z"
   },
   {
    "duration": 21,
    "start_time": "2023-02-07T15:35:00.108Z"
   },
   {
    "duration": 26,
    "start_time": "2023-02-07T15:35:00.131Z"
   },
   {
    "duration": 15,
    "start_time": "2023-02-07T15:35:00.158Z"
   },
   {
    "duration": 168,
    "start_time": "2023-02-07T15:35:00.175Z"
   },
   {
    "duration": 122,
    "start_time": "2023-02-07T15:35:00.345Z"
   },
   {
    "duration": 24,
    "start_time": "2023-02-07T15:35:00.470Z"
   },
   {
    "duration": 314,
    "start_time": "2023-02-07T15:35:00.497Z"
   },
   {
    "duration": 231,
    "start_time": "2023-02-07T15:35:00.813Z"
   },
   {
    "duration": 13,
    "start_time": "2023-02-07T15:35:01.047Z"
   },
   {
    "duration": 393,
    "start_time": "2023-02-07T15:35:01.061Z"
   },
   {
    "duration": 205,
    "start_time": "2023-02-07T15:35:01.456Z"
   },
   {
    "duration": 355,
    "start_time": "2023-02-07T15:35:01.663Z"
   },
   {
    "duration": 12,
    "start_time": "2023-02-07T15:35:02.019Z"
   },
   {
    "duration": 177,
    "start_time": "2023-02-07T15:35:02.032Z"
   },
   {
    "duration": 4,
    "start_time": "2023-02-07T15:35:02.211Z"
   },
   {
    "duration": 170,
    "start_time": "2023-02-07T15:35:02.216Z"
   },
   {
    "duration": 11,
    "start_time": "2023-02-07T15:35:02.388Z"
   },
   {
    "duration": 30,
    "start_time": "2023-02-07T15:35:02.401Z"
   },
   {
    "duration": 279,
    "start_time": "2023-02-07T15:35:02.433Z"
   },
   {
    "duration": 130,
    "start_time": "2023-02-07T15:35:02.714Z"
   },
   {
    "duration": 7,
    "start_time": "2023-02-07T15:35:02.846Z"
   },
   {
    "duration": 41,
    "start_time": "2023-02-07T15:35:02.855Z"
   },
   {
    "duration": 12,
    "start_time": "2023-02-07T15:35:02.898Z"
   },
   {
    "duration": 10,
    "start_time": "2023-02-07T15:35:02.911Z"
   },
   {
    "duration": 12,
    "start_time": "2023-02-07T15:35:02.922Z"
   },
   {
    "duration": 20,
    "start_time": "2023-02-07T15:35:02.936Z"
   },
   {
    "duration": 13,
    "start_time": "2023-02-07T15:35:02.958Z"
   },
   {
    "duration": 32,
    "start_time": "2023-02-07T15:35:02.973Z"
   },
   {
    "duration": 12,
    "start_time": "2023-02-07T15:35:03.007Z"
   },
   {
    "duration": 269,
    "start_time": "2023-02-07T15:36:54.531Z"
   },
   {
    "duration": 13,
    "start_time": "2023-02-07T15:43:58.996Z"
   },
   {
    "duration": 154,
    "start_time": "2023-02-07T15:44:50.587Z"
   },
   {
    "duration": 147,
    "start_time": "2023-02-07T15:46:32.444Z"
   },
   {
    "duration": 195,
    "start_time": "2023-02-07T15:50:37.770Z"
   },
   {
    "duration": 81,
    "start_time": "2023-02-07T15:52:11.595Z"
   },
   {
    "duration": 153,
    "start_time": "2023-02-07T15:52:38.673Z"
   },
   {
    "duration": 4,
    "start_time": "2023-02-07T15:58:02.249Z"
   },
   {
    "duration": 9,
    "start_time": "2023-02-07T16:05:32.598Z"
   },
   {
    "duration": 438,
    "start_time": "2023-02-08T06:33:49.109Z"
   },
   {
    "duration": 58,
    "start_time": "2023-02-08T06:33:49.549Z"
   },
   {
    "duration": 13,
    "start_time": "2023-02-08T06:33:49.609Z"
   },
   {
    "duration": 10,
    "start_time": "2023-02-08T06:33:49.624Z"
   },
   {
    "duration": 8,
    "start_time": "2023-02-08T06:33:49.635Z"
   },
   {
    "duration": 13,
    "start_time": "2023-02-08T06:33:49.645Z"
   },
   {
    "duration": 13,
    "start_time": "2023-02-08T06:33:49.659Z"
   },
   {
    "duration": 922,
    "start_time": "2023-02-08T06:33:49.673Z"
   },
   {
    "duration": 84,
    "start_time": "2023-02-08T06:33:50.597Z"
   },
   {
    "duration": 10,
    "start_time": "2023-02-08T06:33:50.683Z"
   },
   {
    "duration": 27,
    "start_time": "2023-02-08T06:33:50.694Z"
   },
   {
    "duration": 11,
    "start_time": "2023-02-08T06:33:50.723Z"
   },
   {
    "duration": 6,
    "start_time": "2023-02-08T06:33:50.736Z"
   },
   {
    "duration": 60,
    "start_time": "2023-02-08T06:33:50.743Z"
   },
   {
    "duration": 9,
    "start_time": "2023-02-08T06:33:50.804Z"
   },
   {
    "duration": 6,
    "start_time": "2023-02-08T06:33:50.814Z"
   },
   {
    "duration": 21,
    "start_time": "2023-02-08T06:33:50.821Z"
   },
   {
    "duration": 6,
    "start_time": "2023-02-08T06:33:50.844Z"
   },
   {
    "duration": 13,
    "start_time": "2023-02-08T06:33:50.851Z"
   },
   {
    "duration": 4,
    "start_time": "2023-02-08T06:33:50.865Z"
   },
   {
    "duration": 11,
    "start_time": "2023-02-08T06:33:50.870Z"
   },
   {
    "duration": 12,
    "start_time": "2023-02-08T06:33:50.882Z"
   },
   {
    "duration": 9,
    "start_time": "2023-02-08T06:33:50.896Z"
   },
   {
    "duration": 12,
    "start_time": "2023-02-08T06:33:50.934Z"
   },
   {
    "duration": 31,
    "start_time": "2023-02-08T06:33:50.948Z"
   },
   {
    "duration": 164,
    "start_time": "2023-02-08T06:33:50.980Z"
   },
   {
    "duration": 130,
    "start_time": "2023-02-08T06:33:51.146Z"
   },
   {
    "duration": 15,
    "start_time": "2023-02-08T06:33:51.280Z"
   },
   {
    "duration": 319,
    "start_time": "2023-02-08T06:33:51.297Z"
   },
   {
    "duration": 240,
    "start_time": "2023-02-08T06:33:51.618Z"
   },
   {
    "duration": 12,
    "start_time": "2023-02-08T06:33:51.860Z"
   },
   {
    "duration": 343,
    "start_time": "2023-02-08T06:33:51.873Z"
   },
   {
    "duration": 215,
    "start_time": "2023-02-08T06:33:52.218Z"
   },
   {
    "duration": 353,
    "start_time": "2023-02-08T06:33:52.435Z"
   },
   {
    "duration": 10,
    "start_time": "2023-02-08T06:33:52.790Z"
   },
   {
    "duration": 212,
    "start_time": "2023-02-08T06:33:52.802Z"
   },
   {
    "duration": 6,
    "start_time": "2023-02-08T06:33:53.016Z"
   },
   {
    "duration": 200,
    "start_time": "2023-02-08T06:33:53.033Z"
   },
   {
    "duration": 232,
    "start_time": "2023-02-08T06:33:53.234Z"
   },
   {
    "duration": 5,
    "start_time": "2023-02-08T06:33:53.468Z"
   },
   {
    "duration": 18,
    "start_time": "2023-02-08T06:33:53.474Z"
   },
   {
    "duration": 15,
    "start_time": "2023-02-08T06:33:53.494Z"
   },
   {
    "duration": 216,
    "start_time": "2023-02-08T06:33:53.511Z"
   },
   {
    "duration": 136,
    "start_time": "2023-02-08T06:33:53.728Z"
   },
   {
    "duration": 6,
    "start_time": "2023-02-08T06:33:53.865Z"
   },
   {
    "duration": 42,
    "start_time": "2023-02-08T06:33:53.873Z"
   },
   {
    "duration": 11,
    "start_time": "2023-02-08T06:33:53.917Z"
   },
   {
    "duration": 7,
    "start_time": "2023-02-08T06:33:53.933Z"
   },
   {
    "duration": 8,
    "start_time": "2023-02-08T06:33:53.942Z"
   },
   {
    "duration": 12,
    "start_time": "2023-02-08T06:33:53.952Z"
   },
   {
    "duration": 12,
    "start_time": "2023-02-08T06:33:53.965Z"
   },
   {
    "duration": 32,
    "start_time": "2023-02-08T06:33:53.978Z"
   },
   {
    "duration": 13,
    "start_time": "2023-02-08T06:33:54.012Z"
   },
   {
    "duration": 25,
    "start_time": "2023-02-08T06:40:31.892Z"
   },
   {
    "duration": 24,
    "start_time": "2023-02-08T06:41:55.396Z"
   },
   {
    "duration": 10,
    "start_time": "2023-02-08T06:46:28.033Z"
   },
   {
    "duration": 24,
    "start_time": "2023-02-08T06:54:04.108Z"
   },
   {
    "duration": 13,
    "start_time": "2023-02-08T07:04:31.981Z"
   },
   {
    "duration": 12,
    "start_time": "2023-02-08T07:04:49.028Z"
   }
  ],
  "kernelspec": {
   "display_name": "Python 3 (ipykernel)",
   "language": "python",
   "name": "python3"
  },
  "language_info": {
   "codemirror_mode": {
    "name": "ipython",
    "version": 3
   },
   "file_extension": ".py",
   "mimetype": "text/x-python",
   "name": "python",
   "nbconvert_exporter": "python",
   "pygments_lexer": "ipython3",
   "version": "3.9.5"
  },
  "toc": {
   "base_numbering": 1,
   "nav_menu": {},
   "number_sections": true,
   "sideBar": true,
   "skip_h1_title": true,
   "title_cell": "Table of Contents",
   "title_sidebar": "Contents",
   "toc_cell": false,
   "toc_position": {},
   "toc_section_display": true,
   "toc_window_display": false
  }
 },
 "nbformat": 4,
 "nbformat_minor": 2
}
